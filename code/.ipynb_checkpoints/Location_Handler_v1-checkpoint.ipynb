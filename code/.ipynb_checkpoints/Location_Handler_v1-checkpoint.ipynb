{
 "cells": [
  {
   "cell_type": "code",
   "execution_count": 11,
   "metadata": {
    "colab": {
     "base_uri": "https://localhost:8080/",
     "height": 1000
    },
    "colab_type": "code",
    "executionInfo": {
     "elapsed": 2051,
     "status": "ok",
     "timestamp": 1595180800730,
     "user": {
      "displayName": "Darshan Arvind Solanki",
      "photoUrl": "",
      "userId": "14688075179300985444"
     },
     "user_tz": 240
    },
    "id": "JUEPF9mudusM",
    "outputId": "510778b6-d4c9-4362-b526-d99d3fc1ec3a"
   },
   "outputs": [
    {
     "name": "stdout",
     "output_type": "stream",
     "text": [
      "Archive:  /content/drive/My Drive/datasets_full (1).zip\n",
      "   creating: datasets_full/\n",
      "  inflating: __MACOSX/._datasets_full  \n",
      "  inflating: datasets_full/.DS_Store  \n",
      "  inflating: __MACOSX/datasets_full/._.DS_Store  \n",
      "   creating: datasets_full/Rio/\n",
      "  inflating: __MACOSX/datasets_full/._Rio  \n",
      "   creating: datasets_full/Vancouver/\n",
      "  inflating: __MACOSX/datasets_full/._Vancouver  \n",
      "   creating: datasets_full/London/\n",
      "  inflating: __MACOSX/datasets_full/._London  \n",
      "  inflating: datasets_full/Rio/brazil_gdp.csv  \n",
      "  inflating: __MACOSX/datasets_full/Rio/._brazil_gdp.csv  \n",
      "  inflating: datasets_full/Rio/brazil_tourism_jobs.csv  \n",
      "  inflating: __MACOSX/datasets_full/Rio/._brazil_tourism_jobs.csv  \n",
      "  inflating: datasets_full/Rio/brazil_monthly_income.csv  \n",
      "  inflating: __MACOSX/datasets_full/Rio/._brazil_monthly_income.csv  \n",
      "  inflating: datasets_full/Rio/brazil_international_arrivals.csv  \n",
      "  inflating: __MACOSX/datasets_full/Rio/._brazil_international_arrivals.csv  \n",
      "  inflating: datasets_full/Rio/brazil_unemployment.csv  \n",
      "  inflating: __MACOSX/datasets_full/Rio/._brazil_unemployment.csv  \n",
      "  inflating: datasets_full/Vancouver/region_codes.csv  \n",
      "  inflating: __MACOSX/datasets_full/Vancouver/._region_codes.csv  \n",
      "  inflating: datasets_full/Vancouver/vancouver_visits.csv  \n",
      "  inflating: __MACOSX/datasets_full/Vancouver/._vancouver_visits.csv  \n",
      "  inflating: datasets_full/Vancouver/vancouver_employment_by_industry.csv  \n",
      "  inflating: __MACOSX/datasets_full/Vancouver/._vancouver_employment_by_industry.csv  \n",
      "  inflating: datasets_full/Vancouver/vancouver_employment_by_industry_legend.csv  \n",
      "  inflating: __MACOSX/datasets_full/Vancouver/._vancouver_employment_by_industry_legend.csv  \n",
      "  inflating: datasets_full/Vancouver/vancouver_room_revenues_2000_2010.csv  \n",
      "  inflating: __MACOSX/datasets_full/Vancouver/._vancouver_room_revenues_2000_2010.csv  \n",
      "  inflating: datasets_full/Vancouver/vancouver_business_size.csv  \n",
      "  inflating: __MACOSX/datasets_full/Vancouver/._vancouver_business_size.csv  \n",
      "  inflating: datasets_full/Vancouver/vancouver_small_business_by_region.csv  \n",
      "  inflating: __MACOSX/datasets_full/Vancouver/._vancouver_small_business_by_region.csv  \n",
      "  inflating: datasets_full/Vancouver/vancouver_turism_indicators.csv  \n",
      "  inflating: __MACOSX/datasets_full/Vancouver/._vancouver_turism_indicators.csv  \n",
      "  inflating: datasets_full/Vancouver/vancouver_room_revenues_2010_2019.csv  \n",
      "  inflating: __MACOSX/datasets_full/Vancouver/._vancouver_room_revenues_2010_2019.csv  \n",
      "  inflating: datasets_full/London/london_earnings_by_borough.csv  \n",
      "  inflating: __MACOSX/datasets_full/London/._london_earnings_by_borough.csv  \n",
      "  inflating: datasets_full/London/UK_international-visits.csv  \n",
      "  inflating: __MACOSX/datasets_full/London/._UK_international-visits.csv  \n",
      "  inflating: datasets_full/London/london_underground_station_info.csv  \n",
      "  inflating: __MACOSX/datasets_full/London/._london_underground_station_info.csv  \n",
      "  inflating: datasets_full/London/UK_inflation.csv  \n",
      "  inflating: __MACOSX/datasets_full/London/._UK_inflation.csv  \n",
      "  inflating: datasets_full/London/london_infrastructure_spending.csv  \n",
      "  inflating: __MACOSX/datasets_full/London/._london_infrastructure_spending.csv  \n",
      "  inflating: datasets_full/London/london_ticket_sales.csv  \n",
      "  inflating: __MACOSX/datasets_full/London/._london_ticket_sales.csv  \n",
      "  inflating: datasets_full/London/london_taxpayer_income.csv  \n",
      "  inflating: __MACOSX/datasets_full/London/._london_taxpayer_income.csv  \n",
      "  inflating: datasets_full/London/london_underground_activity.csv  \n",
      "  inflating: __MACOSX/datasets_full/London/._london_underground_activity.csv  \n",
      "  inflating: datasets_full/London/london_economic_activity.csv  \n",
      "  inflating: __MACOSX/datasets_full/London/._london_economic_activity.csv  \n",
      "  inflating: datasets_full/London/london_tickets_for_sale.csv  \n",
      "  inflating: __MACOSX/datasets_full/London/._london_tickets_for_sale.csv  \n",
      "  inflating: datasets_full/London/london_sports_participation.csv  \n",
      "  inflating: __MACOSX/datasets_full/London/._london_sports_participation.csv  \n"
     ]
    }
   ],
   "source": [
    "!unzip '/content/drive/My Drive/datasets_full (1).zip'\n",
    "#!unzip -q '/content/drive/My Drive/Datathon/citadel/datasets_full.zip'"
   ]
  },
  {
   "cell_type": "code",
   "execution_count": 12,
   "metadata": {
    "colab": {},
    "colab_type": "code",
    "executionInfo": {
     "elapsed": 318,
     "status": "ok",
     "timestamp": 1595180803821,
     "user": {
      "displayName": "Darshan Arvind Solanki",
      "photoUrl": "",
      "userId": "14688075179300985444"
     },
     "user_tz": 240
    },
    "id": "j2EDHdErb_hc"
   },
   "outputs": [],
   "source": [
    "import pandas as pd"
   ]
  },
  {
   "cell_type": "code",
   "execution_count": null,
   "metadata": {
    "colab": {
     "base_uri": "https://localhost:8080/",
     "height": 86
    },
    "colab_type": "code",
    "id": "fQq2cGsjdJuZ",
    "outputId": "42806e0a-1b80-4acc-b3e0-93a78b057d8d"
   },
   "outputs": [
    {
     "data": {
      "application/vnd.google.colaboratory.intrinsic": {
       "type": "string"
      },
      "text/plain": [
       "\"\\nuk_inflation_df = pd.read_csv('/content/datasets_full/London/UK_inflation.csv')\\nlondon_underground_activity_df = pd.read_csv('/content/datasets_full/London/london_underground_activity.csv')\\nlondon_underground_station_df = pd.read_csv('/content/datasets_full/London/london_underground_station_info.csv')\\nlondon_ticket_sales_df = pd.read_csv('/content/datasets_full/London/london_ticket_sales.csv')\\nlondon_earnings_by_borough_df = pd.read_csv('/content/datasets_full/London/london_earnings_by_borough.csv')\\nuk_international_visits_df = pd.read_csv('/content/datasets_full/London/UK_international-visits.csv')\\n\""
      ]
     },
     "execution_count": 201,
     "metadata": {
      "tags": []
     },
     "output_type": "execute_result"
    }
   ],
   "source": [
    "'''\n",
    "uk_inflation_df = pd.read_csv('/content/datasets_full/London/UK_inflation.csv')\n",
    "london_underground_activity_df = pd.read_csv('/content/datasets_full/London/london_underground_activity.csv')\n",
    "london_underground_station_df = pd.read_csv('/content/datasets_full/London/london_underground_station_info.csv')\n",
    "london_ticket_sales_df = pd.read_csv('/content/datasets_full/London/london_ticket_sales.csv')\n",
    "london_earnings_by_borough_df = pd.read_csv('/content/datasets_full/London/london_earnings_by_borough.csv')\n",
    "uk_international_visits_df = pd.read_csv('/content/datasets_full/London/UK_international-visits.csv')\n",
    "'''"
   ]
  },
  {
   "cell_type": "code",
   "execution_count": 13,
   "metadata": {
    "colab": {},
    "colab_type": "code",
    "executionInfo": {
     "elapsed": 308,
     "status": "ok",
     "timestamp": 1595180806803,
     "user": {
      "displayName": "Darshan Arvind Solanki",
      "photoUrl": "",
      "userId": "14688075179300985444"
     },
     "user_tz": 240
    },
    "id": "K7GtCk1JnKlR"
   },
   "outputs": [],
   "source": [
    "london_tickets_for_sale_df = pd.read_csv('/content/datasets_full/London/london_tickets_for_sale.csv',encoding='unicode_escape')\n",
    "df_events = london_tickets_for_sale_df[['date','time','venue','event','code']]"
   ]
  },
  {
   "cell_type": "code",
   "execution_count": 14,
   "metadata": {
    "colab": {
     "base_uri": "https://localhost:8080/",
     "height": 195
    },
    "colab_type": "code",
    "executionInfo": {
     "elapsed": 689,
     "status": "ok",
     "timestamp": 1595180808191,
     "user": {
      "displayName": "Darshan Arvind Solanki",
      "photoUrl": "",
      "userId": "14688075179300985444"
     },
     "user_tz": 240
    },
    "id": "dlQaaGKxn8UV",
    "outputId": "b224ee22-084e-431b-8152-5aa23dacaae7"
   },
   "outputs": [
    {
     "data": {
      "text/html": [
       "<div>\n",
       "<style scoped>\n",
       "    .dataframe tbody tr th:only-of-type {\n",
       "        vertical-align: middle;\n",
       "    }\n",
       "\n",
       "    .dataframe tbody tr th {\n",
       "        vertical-align: top;\n",
       "    }\n",
       "\n",
       "    .dataframe thead th {\n",
       "        text-align: right;\n",
       "    }\n",
       "</style>\n",
       "<table border=\"1\" class=\"dataframe\">\n",
       "  <thead>\n",
       "    <tr style=\"text-align: right;\">\n",
       "      <th></th>\n",
       "      <th>date</th>\n",
       "      <th>time</th>\n",
       "      <th>venue</th>\n",
       "      <th>event</th>\n",
       "      <th>code</th>\n",
       "    </tr>\n",
       "  </thead>\n",
       "  <tbody>\n",
       "    <tr>\n",
       "      <th>0</th>\n",
       "      <td>03-Aug</td>\n",
       "      <td>10:0013:45</td>\n",
       "      <td>Olympic Park - Olympic Stadium</td>\n",
       "      <td>Athletics</td>\n",
       "      <td>AT001</td>\n",
       "    </tr>\n",
       "    <tr>\n",
       "      <th>1</th>\n",
       "      <td>03-Aug</td>\n",
       "      <td>10:0013:45</td>\n",
       "      <td>Olympic Park - Olympic Stadium</td>\n",
       "      <td>Athletics</td>\n",
       "      <td>AT001</td>\n",
       "    </tr>\n",
       "    <tr>\n",
       "      <th>2</th>\n",
       "      <td>03-Aug</td>\n",
       "      <td>10:0013:45</td>\n",
       "      <td>Olympic Park - Olympic Stadium</td>\n",
       "      <td>Athletics</td>\n",
       "      <td>AT001</td>\n",
       "    </tr>\n",
       "    <tr>\n",
       "      <th>3</th>\n",
       "      <td>03-Aug</td>\n",
       "      <td>10:0013:45</td>\n",
       "      <td>Olympic Park - Olympic Stadium</td>\n",
       "      <td>Athletics</td>\n",
       "      <td>AT001</td>\n",
       "    </tr>\n",
       "    <tr>\n",
       "      <th>4</th>\n",
       "      <td>03-Aug</td>\n",
       "      <td>10:0013:45</td>\n",
       "      <td>Olympic Park - Olympic Stadium</td>\n",
       "      <td>Athletics</td>\n",
       "      <td>AT001</td>\n",
       "    </tr>\n",
       "  </tbody>\n",
       "</table>\n",
       "</div>"
      ],
      "text/plain": [
       "     date         time                           venue      event   code\n",
       "0  03-Aug  10:0013:45  Olympic Park - Olympic Stadium  Athletics  AT001\n",
       "1  03-Aug  10:0013:45  Olympic Park - Olympic Stadium  Athletics  AT001\n",
       "2  03-Aug  10:0013:45  Olympic Park - Olympic Stadium  Athletics  AT001\n",
       "3  03-Aug  10:0013:45  Olympic Park - Olympic Stadium  Athletics  AT001\n",
       "4  03-Aug  10:0013:45  Olympic Park - Olympic Stadium  Athletics  AT001"
      ]
     },
     "execution_count": 14,
     "metadata": {
      "tags": []
     },
     "output_type": "execute_result"
    }
   ],
   "source": [
    "df_events.head(5)"
   ]
  },
  {
   "cell_type": "code",
   "execution_count": 15,
   "metadata": {
    "colab": {
     "base_uri": "https://localhost:8080/",
     "height": 319
    },
    "colab_type": "code",
    "executionInfo": {
     "elapsed": 306,
     "status": "ok",
     "timestamp": 1595180811267,
     "user": {
      "displayName": "Darshan Arvind Solanki",
      "photoUrl": "",
      "userId": "14688075179300985444"
     },
     "user_tz": 240
    },
    "id": "y2XtLGnnHYOX",
    "outputId": "b664d97d-0212-4594-e0ac-5cc983a225d6"
   },
   "outputs": [
    {
     "data": {
      "text/plain": [
       "array(['Olympic Park - Olympic Stadium', 'The Mall', 'Wembley Arena',\n",
       "       \"Lord's Cricket Ground\", 'Horse Guards Parade', 'ExCeL',\n",
       "       'Lee Valley White Water Centre; Hertfordshire',\n",
       "       'Eton Dorney; Buckinghamshire', 'Olympic Park - BMX Circuit',\n",
       "       'Hadleigh Farm; Essex', 'Olympic Park \\x96 Velodrome',\n",
       "       'Olympic Park \\x96 Aquatics Centre', 'Greenwich Park',\n",
       "       'North Greenwich Arena', 'Olympic Park \\x96 Hockey Centre',\n",
       "       'Weymouth and Portland; Dorset',\n",
       "       'Olympic Park \\x96 Handball Arena: Fencing; Olympic Park \\x96 Aquatics Centre: Swimming; Greenwich Park: Riding; combined event',\n",
       "       'Hyde Park', 'Earls Court', 'Olympic Park \\x96 Water Polo Arena',\n",
       "       'Olympic Park - Basketball Arena', 'Millennium Stadium; Cardiff',\n",
       "       'City of Coventry Stadium; Coventry', 'Hampden Park; Glasgow',\n",
       "       'St James\\x92 Park; Newcastle', 'Old Trafford; Manchester',\n",
       "       'Wembley Stadium', 'Olympic Park - Handball Arena',\n",
       "       'Royal Artillery Barracks - Finals Hall & Ground Pass',\n",
       "       'Royal Artillery Barracks - Ground Pass',\n",
       "       'Wimbledon - Centre Court', 'Wimbledon - No.1 Court',\n",
       "       'Wimbledon - Ground Pass'], dtype=object)"
      ]
     },
     "execution_count": 15,
     "metadata": {
      "tags": []
     },
     "output_type": "execute_result"
    }
   ],
   "source": [
    "df_events['venue'].unique()"
   ]
  },
  {
   "cell_type": "code",
   "execution_count": 16,
   "metadata": {
    "colab": {},
    "colab_type": "code",
    "executionInfo": {
     "elapsed": 282,
     "status": "ok",
     "timestamp": 1595180813174,
     "user": {
      "displayName": "Darshan Arvind Solanki",
      "photoUrl": "",
      "userId": "14688075179300985444"
     },
     "user_tz": 240
    },
    "id": "WJMZhxATFpGB"
   },
   "outputs": [],
   "source": [
    "lat_lon = {'Olympic Park':[51.543430, -0.016627],'The Mall':[51.504581,-0.134360],\"Lord's\":[51.529934, -0.172178],'Horse Guards Parade':[51.504798, -0.128380],\n",
    "'ExCeL':[51.507218, 0.030504],'Hyde Park':[51.508196, -0.165699],'Lee Valley White Water Centre':[51.688963, -0.017208],'Eton Dorney':[51.493908, -0.663455],\n",
    "'Hadleigh Farm':[51.552378, 0.597948],'Greenwich Park':[51.476958, 0.001483],'North Greenwich Arena':[51.503126, 0.003191],'Weymouth and Portland':[50.570570, -2.455909],\n",
    "'Millennium Stadium':[51.478335, -3.182677],'City of Coventry Stadium':[52.443525, -1.501737],'Hampden Park':[55.825993, -4.252091],\n",
    "'St James':[54.975667, -1.621667],'Old Trafford':[53.463194, -2.276437],'Wembley Stadium':[51.556067, -0.279519],'Royal Artillery Barracks':[51.487557, 0.059606],\n",
    "'Wimbledon':[51.419528, -0.220417],'Earls Court':[51.492483, -0.199686],'Wembley Arena':[51.558196, -0.282597]}\n",
    "\n",
    "venues = list(lat_lon.keys())\n"
   ]
  },
  {
   "cell_type": "code",
   "execution_count": 17,
   "metadata": {
    "colab": {
     "base_uri": "https://localhost:8080/",
     "height": 118
    },
    "colab_type": "code",
    "executionInfo": {
     "elapsed": 249,
     "status": "ok",
     "timestamp": 1595180814939,
     "user": {
      "displayName": "Darshan Arvind Solanki",
      "photoUrl": "",
      "userId": "14688075179300985444"
     },
     "user_tz": 240
    },
    "id": "9greaRvmPm0M",
    "outputId": "2fcf5c35-e6fa-4383-9e70-14b2029a9840"
   },
   "outputs": [
    {
     "name": "stderr",
     "output_type": "stream",
     "text": [
      "/usr/local/lib/python3.6/dist-packages/ipykernel_launcher.py:3: SettingWithCopyWarning: \n",
      "A value is trying to be set on a copy of a slice from a DataFrame.\n",
      "Try using .loc[row_indexer,col_indexer] = value instead\n",
      "\n",
      "See the caveats in the documentation: https://pandas.pydata.org/pandas-docs/stable/user_guide/indexing.html#returning-a-view-versus-a-copy\n",
      "  This is separate from the ipykernel package so we can avoid doing imports until\n"
     ]
    }
   ],
   "source": [
    "#getting keys of dict as lower dict and cleaning pandas venue column\n",
    "\n",
    "df_events['venue_cleaned'] = df_events['venue'].apply(lambda x: [i.lower() for i in venues if x.startswith(i)])\n",
    "\n",
    "venues = [v.lower() for v in venues]\n",
    "\n",
    "lat_lon_modified = {}\n",
    "for k,v in lat_lon.items():\n",
    "  lat_lon_modified[k.lower()] = v\n"
   ]
  },
  {
   "cell_type": "markdown",
   "metadata": {
    "colab_type": "text",
    "id": "DVnS2lI9qRsu"
   },
   "source": [
    "## Convert Venues of Olympic events with their geo location"
   ]
  },
  {
   "cell_type": "code",
   "execution_count": 18,
   "metadata": {
    "colab": {
     "base_uri": "https://localhost:8080/",
     "height": 687
    },
    "colab_type": "code",
    "executionInfo": {
     "elapsed": 225,
     "status": "ok",
     "timestamp": 1595180817057,
     "user": {
      "displayName": "Darshan Arvind Solanki",
      "photoUrl": "",
      "userId": "14688075179300985444"
     },
     "user_tz": 240
    },
    "id": "DYGW3VORYmTv",
    "outputId": "0dd13823-44f3-4f4e-bc04-ad5d7912ffe4"
   },
   "outputs": [
    {
     "name": "stderr",
     "output_type": "stream",
     "text": [
      "/usr/local/lib/python3.6/dist-packages/ipykernel_launcher.py:1: SettingWithCopyWarning: \n",
      "A value is trying to be set on a copy of a slice from a DataFrame.\n",
      "Try using .loc[row_indexer,col_indexer] = value instead\n",
      "\n",
      "See the caveats in the documentation: https://pandas.pydata.org/pandas-docs/stable/user_guide/indexing.html#returning-a-view-versus-a-copy\n",
      "  \"\"\"Entry point for launching an IPython kernel.\n",
      "/usr/local/lib/python3.6/dist-packages/pandas/core/frame.py:3997: SettingWithCopyWarning: \n",
      "A value is trying to be set on a copy of a slice from a DataFrame\n",
      "\n",
      "See the caveats in the documentation: https://pandas.pydata.org/pandas-docs/stable/user_guide/indexing.html#returning-a-view-versus-a-copy\n",
      "  errors=errors,\n",
      "/usr/local/lib/python3.6/dist-packages/ipykernel_launcher.py:3: SettingWithCopyWarning: \n",
      "A value is trying to be set on a copy of a slice from a DataFrame.\n",
      "Try using .loc[row_indexer,col_indexer] = value instead\n",
      "\n",
      "See the caveats in the documentation: https://pandas.pydata.org/pandas-docs/stable/user_guide/indexing.html#returning-a-view-versus-a-copy\n",
      "  This is separate from the ipykernel package so we can avoid doing imports until\n"
     ]
    },
    {
     "data": {
      "text/html": [
       "<div>\n",
       "<style scoped>\n",
       "    .dataframe tbody tr th:only-of-type {\n",
       "        vertical-align: middle;\n",
       "    }\n",
       "\n",
       "    .dataframe tbody tr th {\n",
       "        vertical-align: top;\n",
       "    }\n",
       "\n",
       "    .dataframe thead th {\n",
       "        text-align: right;\n",
       "    }\n",
       "</style>\n",
       "<table border=\"1\" class=\"dataframe\">\n",
       "  <thead>\n",
       "    <tr style=\"text-align: right;\">\n",
       "      <th></th>\n",
       "      <th>date</th>\n",
       "      <th>time</th>\n",
       "      <th>event</th>\n",
       "      <th>code</th>\n",
       "      <th>venue</th>\n",
       "      <th>venue_loc</th>\n",
       "    </tr>\n",
       "  </thead>\n",
       "  <tbody>\n",
       "    <tr>\n",
       "      <th>0</th>\n",
       "      <td>03-Aug</td>\n",
       "      <td>10:0013:45</td>\n",
       "      <td>Athletics</td>\n",
       "      <td>AT001</td>\n",
       "      <td>olympic park</td>\n",
       "      <td>[51.54343, -0.016627]</td>\n",
       "    </tr>\n",
       "    <tr>\n",
       "      <th>1</th>\n",
       "      <td>03-Aug</td>\n",
       "      <td>10:0013:45</td>\n",
       "      <td>Athletics</td>\n",
       "      <td>AT001</td>\n",
       "      <td>olympic park</td>\n",
       "      <td>[51.54343, -0.016627]</td>\n",
       "    </tr>\n",
       "    <tr>\n",
       "      <th>2</th>\n",
       "      <td>03-Aug</td>\n",
       "      <td>10:0013:45</td>\n",
       "      <td>Athletics</td>\n",
       "      <td>AT001</td>\n",
       "      <td>olympic park</td>\n",
       "      <td>[51.54343, -0.016627]</td>\n",
       "    </tr>\n",
       "    <tr>\n",
       "      <th>3</th>\n",
       "      <td>03-Aug</td>\n",
       "      <td>10:0013:45</td>\n",
       "      <td>Athletics</td>\n",
       "      <td>AT001</td>\n",
       "      <td>olympic park</td>\n",
       "      <td>[51.54343, -0.016627]</td>\n",
       "    </tr>\n",
       "    <tr>\n",
       "      <th>4</th>\n",
       "      <td>03-Aug</td>\n",
       "      <td>10:0013:45</td>\n",
       "      <td>Athletics</td>\n",
       "      <td>AT001</td>\n",
       "      <td>olympic park</td>\n",
       "      <td>[51.54343, -0.016627]</td>\n",
       "    </tr>\n",
       "    <tr>\n",
       "      <th>...</th>\n",
       "      <td>...</td>\n",
       "      <td>...</td>\n",
       "      <td>...</td>\n",
       "      <td>...</td>\n",
       "      <td>...</td>\n",
       "      <td>...</td>\n",
       "    </tr>\n",
       "    <tr>\n",
       "      <th>1123</th>\n",
       "      <td>05-Aug</td>\n",
       "      <td>12:0020:30</td>\n",
       "      <td>Tennis</td>\n",
       "      <td>TE023</td>\n",
       "      <td>wimbledon</td>\n",
       "      <td>[51.419528, -0.220417]</td>\n",
       "    </tr>\n",
       "    <tr>\n",
       "      <th>1124</th>\n",
       "      <td>05-Aug</td>\n",
       "      <td>12:0020:30</td>\n",
       "      <td>Tennis</td>\n",
       "      <td>TE023</td>\n",
       "      <td>wimbledon</td>\n",
       "      <td>[51.419528, -0.220417]</td>\n",
       "    </tr>\n",
       "    <tr>\n",
       "      <th>1125</th>\n",
       "      <td>05-Aug</td>\n",
       "      <td>12:0020:30</td>\n",
       "      <td>Tennis</td>\n",
       "      <td>TE023</td>\n",
       "      <td>wimbledon</td>\n",
       "      <td>[51.419528, -0.220417]</td>\n",
       "    </tr>\n",
       "    <tr>\n",
       "      <th>1126</th>\n",
       "      <td>05-Aug</td>\n",
       "      <td>12:0020:30</td>\n",
       "      <td>Tennis</td>\n",
       "      <td>TE024</td>\n",
       "      <td>wimbledon</td>\n",
       "      <td>[51.419528, -0.220417]</td>\n",
       "    </tr>\n",
       "    <tr>\n",
       "      <th>1127</th>\n",
       "      <td>05-Aug</td>\n",
       "      <td>12:0020:30</td>\n",
       "      <td>Tennis</td>\n",
       "      <td>TE024</td>\n",
       "      <td>wimbledon</td>\n",
       "      <td>[51.419528, -0.220417]</td>\n",
       "    </tr>\n",
       "  </tbody>\n",
       "</table>\n",
       "<p>1128 rows × 6 columns</p>\n",
       "</div>"
      ],
      "text/plain": [
       "        date         time  ...         venue               venue_loc\n",
       "0     03-Aug  10:0013:45  ...  olympic park   [51.54343, -0.016627]\n",
       "1     03-Aug  10:0013:45  ...  olympic park   [51.54343, -0.016627]\n",
       "2     03-Aug  10:0013:45  ...  olympic park   [51.54343, -0.016627]\n",
       "3     03-Aug  10:0013:45  ...  olympic park   [51.54343, -0.016627]\n",
       "4     03-Aug  10:0013:45  ...  olympic park   [51.54343, -0.016627]\n",
       "...      ...          ...  ...           ...                     ...\n",
       "1123  05-Aug  12:0020:30  ...     wimbledon  [51.419528, -0.220417]\n",
       "1124  05-Aug  12:0020:30  ...     wimbledon  [51.419528, -0.220417]\n",
       "1125  05-Aug  12:0020:30  ...     wimbledon  [51.419528, -0.220417]\n",
       "1126  05-Aug  12:0020:30  ...     wimbledon  [51.419528, -0.220417]\n",
       "1127  05-Aug  12:0020:30  ...     wimbledon  [51.419528, -0.220417]\n",
       "\n",
       "[1128 rows x 6 columns]"
      ]
     },
     "execution_count": 18,
     "metadata": {
      "tags": []
     },
     "output_type": "execute_result"
    }
   ],
   "source": [
    "df_events['venue_cleaned'] = df_events['venue_cleaned'].apply(lambda x: x[0])\n",
    "df_events.drop('venue',axis=1,inplace=True)\n",
    "df_events['venue_loc'] = df_events['venue_cleaned'].apply(lambda x: lat_lon_modified[x])\n",
    "df_events.rename({'venue_cleaned': 'venue'}, axis=1)"
   ]
  },
  {
   "cell_type": "markdown",
   "metadata": {
    "colab_type": "text",
    "id": "ydWnQsVxs2BR"
   },
   "source": [
    "#Cal aerial distance given lat lon"
   ]
  },
  {
   "cell_type": "code",
   "execution_count": 19,
   "metadata": {
    "colab": {
     "base_uri": "https://localhost:8080/",
     "height": 35
    },
    "colab_type": "code",
    "executionInfo": {
     "elapsed": 267,
     "status": "ok",
     "timestamp": 1595180819401,
     "user": {
      "displayName": "Darshan Arvind Solanki",
      "photoUrl": "",
      "userId": "14688075179300985444"
     },
     "user_tz": 240
    },
    "id": "wdSqBluOD2_K",
    "outputId": "e33534da-4580-4b07-8711-edab552e6ab1"
   },
   "outputs": [
    {
     "data": {
      "application/vnd.google.colaboratory.intrinsic": {
       "type": "string"
      },
      "text/plain": [
       "'\\nlat1 = 51.419528\\nlon1 = -0.220417\\nlat2 = 51.513592\\nlon2 = -0.077236\\naerialDist(lat1,lon1,lat2,lon2)\\n'"
      ]
     },
     "execution_count": 19,
     "metadata": {
      "tags": []
     },
     "output_type": "execute_result"
    }
   ],
   "source": [
    "\n",
    "import math\n",
    "\n",
    "def aerialDist(lat1,lon1,lat2,lon2):\n",
    "\n",
    "  r = 6371e3\n",
    "  theta1 = lat1 * math.pi/180\n",
    "  theta2 = lat2 * math.pi/180\n",
    "\n",
    "  delta = (lon2 - lon1) * math.pi/180\n",
    "  d = math.acos(math.sin(theta1) * math.sin(theta2)  + math.cos(theta1) * math.cos(theta2) * math.cos(delta)) * r\n",
    "  \n",
    "  return round(d/1000,2)\n",
    "\n",
    "'''\n",
    "lat1 = 51.419528\n",
    "lon1 = -0.220417\n",
    "lat2 = 51.513592\n",
    "lon2 = -0.077236\n",
    "aerialDist(lat1,lon1,lat2,lon2)\n",
    "'''"
   ]
  },
  {
   "cell_type": "code",
   "execution_count": null,
   "metadata": {
    "colab": {
     "base_uri": "https://localhost:8080/",
     "height": 34
    },
    "colab_type": "code",
    "id": "yn7_CB3ZWacs",
    "outputId": "9b59ddab-fc4c-4618-b7cd-287e4b31f608"
   },
   "outputs": [
    {
     "name": "stdout",
     "output_type": "stream",
     "text": [
      "0\n"
     ]
    }
   ],
   "source": [
    "#Sanity Check\n",
    "'''\n",
    "count = 0\n",
    "for v in df_events['venue_cleaned']:\n",
    "  if(len(v) == 0):\n",
    "    count +=1\n",
    "\n",
    "print(count)\n",
    "'''"
   ]
  },
  {
   "cell_type": "code",
   "execution_count": 20,
   "metadata": {
    "colab": {
     "base_uri": "https://localhost:8080/",
     "height": 84
    },
    "colab_type": "code",
    "executionInfo": {
     "elapsed": 1472,
     "status": "ok",
     "timestamp": 1595180824747,
     "user": {
      "displayName": "Darshan Arvind Solanki",
      "photoUrl": "",
      "userId": "14688075179300985444"
     },
     "user_tz": 240
    },
    "id": "tQWyVmDb5Uxh",
    "outputId": "bf930bb2-7e04-4920-9c5a-cc0224c179e3"
   },
   "outputs": [
    {
     "name": "stdout",
     "output_type": "stream",
     "text": [
      "Archive:  /content/drive/My Drive/foursq_data.zip\n",
      "  inflating: foursq_data/cities.csv  \n",
      "  inflating: foursq_data/venues.csv  \n",
      "  inflating: foursq_data/checkin.csv  \n"
     ]
    }
   ],
   "source": [
    "!unzip '/content/drive/My Drive/foursq_data.zip'"
   ]
  },
  {
   "cell_type": "code",
   "execution_count": null,
   "metadata": {
    "colab": {},
    "colab_type": "code",
    "id": "aHulNeqq7GEY"
   },
   "outputs": [],
   "source": [
    "import pandas as pd"
   ]
  },
  {
   "cell_type": "code",
   "execution_count": 21,
   "metadata": {
    "colab": {},
    "colab_type": "code",
    "executionInfo": {
     "elapsed": 993,
     "status": "ok",
     "timestamp": 1595180828660,
     "user": {
      "displayName": "Darshan Arvind Solanki",
      "photoUrl": "",
      "userId": "14688075179300985444"
     },
     "user_tz": 240
    },
    "id": "AiQfNaXu7PQE"
   },
   "outputs": [],
   "source": [
    "cities_df = pd.read_csv('/content/foursq_data/cities.csv',index_col=0)  \n",
    "checkin_df = pd.read_csv('/content/foursq_data/checkin.csv',index_col=0)  \n",
    "venues_df = pd.read_csv('/content/foursq_data/venues.csv',index_col=0)  \n",
    "\n",
    "checkin_df.reset_index(inplace=True,drop=True)\n",
    "venues_df.reset_index(inplace=True,drop=True)\n",
    "cities_df.reset_index(inplace=True,drop=True)"
   ]
  },
  {
   "cell_type": "code",
   "execution_count": 27,
   "metadata": {
    "colab": {
     "base_uri": "https://localhost:8080/",
     "height": 195
    },
    "colab_type": "code",
    "executionInfo": {
     "elapsed": 304,
     "status": "ok",
     "timestamp": 1595180883815,
     "user": {
      "displayName": "Darshan Arvind Solanki",
      "photoUrl": "",
      "userId": "14688075179300985444"
     },
     "user_tz": 240
    },
    "id": "Lm42N5m47cuY",
    "outputId": "893ecd24-6f1f-4e16-eff7-fadd1d051f61"
   },
   "outputs": [
    {
     "data": {
      "text/html": [
       "<div>\n",
       "<style scoped>\n",
       "    .dataframe tbody tr th:only-of-type {\n",
       "        vertical-align: middle;\n",
       "    }\n",
       "\n",
       "    .dataframe tbody tr th {\n",
       "        vertical-align: top;\n",
       "    }\n",
       "\n",
       "    .dataframe thead th {\n",
       "        text-align: right;\n",
       "    }\n",
       "</style>\n",
       "<table border=\"1\" class=\"dataframe\">\n",
       "  <thead>\n",
       "    <tr style=\"text-align: right;\">\n",
       "      <th></th>\n",
       "      <th>User ID</th>\n",
       "      <th>Venue ID</th>\n",
       "      <th>UTC time</th>\n",
       "      <th>Timezone offset</th>\n",
       "    </tr>\n",
       "  </thead>\n",
       "  <tbody>\n",
       "    <tr>\n",
       "      <th>0</th>\n",
       "      <td>262915</td>\n",
       "      <td>4aec9f4bf964a52091c921e3</td>\n",
       "      <td>Tue Apr 03 18:00:39 +0000 2012</td>\n",
       "      <td>60</td>\n",
       "    </tr>\n",
       "    <tr>\n",
       "      <th>1</th>\n",
       "      <td>180959</td>\n",
       "      <td>4d655c81072a6ea89d8cfc4d</td>\n",
       "      <td>Tue Apr 03 18:00:52 +0000 2012</td>\n",
       "      <td>60</td>\n",
       "    </tr>\n",
       "    <tr>\n",
       "      <th>2</th>\n",
       "      <td>153974</td>\n",
       "      <td>4f60cb95e4b0f16f2908764c</td>\n",
       "      <td>Tue Apr 03 18:01:19 +0000 2012</td>\n",
       "      <td>60</td>\n",
       "    </tr>\n",
       "    <tr>\n",
       "      <th>3</th>\n",
       "      <td>113201</td>\n",
       "      <td>4f1d528ee4b01d7c607b9b1a</td>\n",
       "      <td>Tue Apr 03 18:01:22 +0000 2012</td>\n",
       "      <td>60</td>\n",
       "    </tr>\n",
       "    <tr>\n",
       "      <th>4</th>\n",
       "      <td>20337</td>\n",
       "      <td>4d1281140ad2f04d46b8ac54</td>\n",
       "      <td>Tue Apr 03 18:01:46 +0000 2012</td>\n",
       "      <td>60</td>\n",
       "    </tr>\n",
       "  </tbody>\n",
       "</table>\n",
       "</div>"
      ],
      "text/plain": [
       "   User ID  ... Timezone offset\n",
       "0   262915  ...              60\n",
       "1   180959  ...              60\n",
       "2   153974  ...              60\n",
       "3   113201  ...              60\n",
       "4    20337  ...              60\n",
       "\n",
       "[5 rows x 4 columns]"
      ]
     },
     "execution_count": 27,
     "metadata": {
      "tags": []
     },
     "output_type": "execute_result"
    }
   ],
   "source": [
    "checkin_df.head(5)"
   ]
  },
  {
   "cell_type": "code",
   "execution_count": 23,
   "metadata": {
    "colab": {
     "base_uri": "https://localhost:8080/",
     "height": 195
    },
    "colab_type": "code",
    "executionInfo": {
     "elapsed": 236,
     "status": "ok",
     "timestamp": 1595180856494,
     "user": {
      "displayName": "Darshan Arvind Solanki",
      "photoUrl": "",
      "userId": "14688075179300985444"
     },
     "user_tz": 240
    },
    "id": "OByrtmCr7qIr",
    "outputId": "8dfb7814-0e7e-4f36-f35d-5cfdc50ef324"
   },
   "outputs": [
    {
     "data": {
      "text/html": [
       "<div>\n",
       "<style scoped>\n",
       "    .dataframe tbody tr th:only-of-type {\n",
       "        vertical-align: middle;\n",
       "    }\n",
       "\n",
       "    .dataframe tbody tr th {\n",
       "        vertical-align: top;\n",
       "    }\n",
       "\n",
       "    .dataframe thead th {\n",
       "        text-align: right;\n",
       "    }\n",
       "</style>\n",
       "<table border=\"1\" class=\"dataframe\">\n",
       "  <thead>\n",
       "    <tr style=\"text-align: right;\">\n",
       "      <th></th>\n",
       "      <th>Venue ID</th>\n",
       "      <th>Latitude</th>\n",
       "      <th>Longitude</th>\n",
       "      <th>Category</th>\n",
       "    </tr>\n",
       "  </thead>\n",
       "  <tbody>\n",
       "    <tr>\n",
       "      <th>0</th>\n",
       "      <td>4a5f9446f964a520e0bf1fe3</td>\n",
       "      <td>51.494770</td>\n",
       "      <td>-0.182719</td>\n",
       "      <td>Burger Joint</td>\n",
       "    </tr>\n",
       "    <tr>\n",
       "      <th>1</th>\n",
       "      <td>4aa37fb3f964a520f64320e3</td>\n",
       "      <td>55.948431</td>\n",
       "      <td>-3.199811</td>\n",
       "      <td>Castle</td>\n",
       "    </tr>\n",
       "    <tr>\n",
       "      <th>2</th>\n",
       "      <td>4abcec53f964a520b98720e3</td>\n",
       "      <td>51.508207</td>\n",
       "      <td>-0.131414</td>\n",
       "      <td>Hotel</td>\n",
       "    </tr>\n",
       "    <tr>\n",
       "      <th>3</th>\n",
       "      <td>4abdc1c7f964a5206d8b20e3</td>\n",
       "      <td>51.523150</td>\n",
       "      <td>-0.105242</td>\n",
       "      <td>Pub</td>\n",
       "    </tr>\n",
       "    <tr>\n",
       "      <th>4</th>\n",
       "      <td>4abe4502f964a520558c20e3</td>\n",
       "      <td>51.501303</td>\n",
       "      <td>-0.142103</td>\n",
       "      <td>Castle</td>\n",
       "    </tr>\n",
       "  </tbody>\n",
       "</table>\n",
       "</div>"
      ],
      "text/plain": [
       "                   Venue ID   Latitude  Longitude      Category\n",
       "0  4a5f9446f964a520e0bf1fe3  51.494770  -0.182719  Burger Joint\n",
       "1  4aa37fb3f964a520f64320e3  55.948431  -3.199811        Castle\n",
       "2  4abcec53f964a520b98720e3  51.508207  -0.131414         Hotel\n",
       "3  4abdc1c7f964a5206d8b20e3  51.523150  -0.105242           Pub\n",
       "4  4abe4502f964a520558c20e3  51.501303  -0.142103        Castle"
      ]
     },
     "execution_count": 23,
     "metadata": {
      "tags": []
     },
     "output_type": "execute_result"
    }
   ],
   "source": [
    "venues_df.head(5)"
   ]
  },
  {
   "cell_type": "code",
   "execution_count": 24,
   "metadata": {
    "colab": {
     "base_uri": "https://localhost:8080/",
     "height": 314
    },
    "colab_type": "code",
    "executionInfo": {
     "elapsed": 277,
     "status": "ok",
     "timestamp": 1595180859859,
     "user": {
      "displayName": "Darshan Arvind Solanki",
      "photoUrl": "",
      "userId": "14688075179300985444"
     },
     "user_tz": 240
    },
    "id": "pkMCiXeBkltq",
    "outputId": "1e3391c6-c7f5-48a0-db69-376edf61b1c0"
   },
   "outputs": [
    {
     "data": {
      "text/html": [
       "<div>\n",
       "<style scoped>\n",
       "    .dataframe tbody tr th:only-of-type {\n",
       "        vertical-align: middle;\n",
       "    }\n",
       "\n",
       "    .dataframe tbody tr th {\n",
       "        vertical-align: top;\n",
       "    }\n",
       "\n",
       "    .dataframe thead th {\n",
       "        text-align: right;\n",
       "    }\n",
       "</style>\n",
       "<table border=\"1\" class=\"dataframe\">\n",
       "  <thead>\n",
       "    <tr style=\"text-align: right;\">\n",
       "      <th></th>\n",
       "      <th>City name</th>\n",
       "      <th>Latitude</th>\n",
       "      <th>Longitude</th>\n",
       "      <th>City type</th>\n",
       "    </tr>\n",
       "  </thead>\n",
       "  <tbody>\n",
       "    <tr>\n",
       "      <th>0</th>\n",
       "      <td>Fawley</td>\n",
       "      <td>50.816700</td>\n",
       "      <td>-1.333295</td>\n",
       "      <td>Other</td>\n",
       "    </tr>\n",
       "    <tr>\n",
       "      <th>1</th>\n",
       "      <td>Sheffield</td>\n",
       "      <td>53.374041</td>\n",
       "      <td>-1.462995</td>\n",
       "      <td>Other</td>\n",
       "    </tr>\n",
       "    <tr>\n",
       "      <th>2</th>\n",
       "      <td>Birmingham</td>\n",
       "      <td>52.492752</td>\n",
       "      <td>-1.863342</td>\n",
       "      <td>Other</td>\n",
       "    </tr>\n",
       "    <tr>\n",
       "      <th>3</th>\n",
       "      <td>London</td>\n",
       "      <td>51.487911</td>\n",
       "      <td>-0.178002</td>\n",
       "      <td>National and provincial capital</td>\n",
       "    </tr>\n",
       "    <tr>\n",
       "      <th>4</th>\n",
       "      <td>Edinburgh</td>\n",
       "      <td>55.924002</td>\n",
       "      <td>-3.249998</td>\n",
       "      <td>Provincial capital</td>\n",
       "    </tr>\n",
       "    <tr>\n",
       "      <th>5</th>\n",
       "      <td>Glasgow</td>\n",
       "      <td>55.862811</td>\n",
       "      <td>-4.269941</td>\n",
       "      <td>Other</td>\n",
       "    </tr>\n",
       "    <tr>\n",
       "      <th>6</th>\n",
       "      <td>Leeds</td>\n",
       "      <td>53.808705</td>\n",
       "      <td>-1.497528</td>\n",
       "      <td>Other</td>\n",
       "    </tr>\n",
       "    <tr>\n",
       "      <th>7</th>\n",
       "      <td>Manchester</td>\n",
       "      <td>53.479665</td>\n",
       "      <td>-2.261781</td>\n",
       "      <td>Other</td>\n",
       "    </tr>\n",
       "    <tr>\n",
       "      <th>8</th>\n",
       "      <td>Liverpool</td>\n",
       "      <td>53.423001</td>\n",
       "      <td>-2.970998</td>\n",
       "      <td>Other</td>\n",
       "    </tr>\n",
       "  </tbody>\n",
       "</table>\n",
       "</div>"
      ],
      "text/plain": [
       "    City name   Latitude  Longitude                        City type\n",
       "0      Fawley  50.816700  -1.333295                            Other\n",
       "1   Sheffield  53.374041  -1.462995                            Other\n",
       "2  Birmingham  52.492752  -1.863342                            Other\n",
       "3      London  51.487911  -0.178002  National and provincial capital\n",
       "4   Edinburgh  55.924002  -3.249998               Provincial capital\n",
       "5     Glasgow  55.862811  -4.269941                            Other\n",
       "6       Leeds  53.808705  -1.497528                            Other\n",
       "7  Manchester  53.479665  -2.261781                            Other\n",
       "8   Liverpool  53.423001  -2.970998                            Other"
      ]
     },
     "execution_count": 24,
     "metadata": {
      "tags": []
     },
     "output_type": "execute_result"
    }
   ],
   "source": [
    "cities_df.head(10)"
   ]
  },
  {
   "cell_type": "code",
   "execution_count": 25,
   "metadata": {
    "colab": {},
    "colab_type": "code",
    "executionInfo": {
     "elapsed": 400,
     "status": "ok",
     "timestamp": 1595180862708,
     "user": {
      "displayName": "Darshan Arvind Solanki",
      "photoUrl": "",
      "userId": "14688075179300985444"
     },
     "user_tz": 240
    },
    "id": "eMjRRdDf7ztM"
   },
   "outputs": [],
   "source": [
    "combine_check_venue_df = checkin_df.merge(venues_df,on=['Venue ID'],how='inner')"
   ]
  },
  {
   "cell_type": "code",
   "execution_count": 26,
   "metadata": {
    "colab": {
     "base_uri": "https://localhost:8080/",
     "height": 195
    },
    "colab_type": "code",
    "executionInfo": {
     "elapsed": 276,
     "status": "ok",
     "timestamp": 1595180864428,
     "user": {
      "displayName": "Darshan Arvind Solanki",
      "photoUrl": "",
      "userId": "14688075179300985444"
     },
     "user_tz": 240
    },
    "id": "agC2Pi8R9zRx",
    "outputId": "f1afbe6e-91ac-44d9-a415-85ad0116a137"
   },
   "outputs": [
    {
     "data": {
      "text/html": [
       "<div>\n",
       "<style scoped>\n",
       "    .dataframe tbody tr th:only-of-type {\n",
       "        vertical-align: middle;\n",
       "    }\n",
       "\n",
       "    .dataframe tbody tr th {\n",
       "        vertical-align: top;\n",
       "    }\n",
       "\n",
       "    .dataframe thead th {\n",
       "        text-align: right;\n",
       "    }\n",
       "</style>\n",
       "<table border=\"1\" class=\"dataframe\">\n",
       "  <thead>\n",
       "    <tr style=\"text-align: right;\">\n",
       "      <th></th>\n",
       "      <th>User ID</th>\n",
       "      <th>Venue ID</th>\n",
       "      <th>UTC time</th>\n",
       "      <th>Timezone offset</th>\n",
       "      <th>Latitude</th>\n",
       "      <th>Longitude</th>\n",
       "      <th>Category</th>\n",
       "    </tr>\n",
       "  </thead>\n",
       "  <tbody>\n",
       "    <tr>\n",
       "      <th>0</th>\n",
       "      <td>262915</td>\n",
       "      <td>4aec9f4bf964a52091c921e3</td>\n",
       "      <td>Tue Apr 03 18:00:39 +0000 2012</td>\n",
       "      <td>60</td>\n",
       "      <td>51.498044</td>\n",
       "      <td>-0.090546</td>\n",
       "      <td>Pub</td>\n",
       "    </tr>\n",
       "    <tr>\n",
       "      <th>1</th>\n",
       "      <td>129494</td>\n",
       "      <td>4aec9f4bf964a52091c921e3</td>\n",
       "      <td>Sun Apr 08 18:18:30 +0000 2012</td>\n",
       "      <td>60</td>\n",
       "      <td>51.498044</td>\n",
       "      <td>-0.090546</td>\n",
       "      <td>Pub</td>\n",
       "    </tr>\n",
       "    <tr>\n",
       "      <th>2</th>\n",
       "      <td>262915</td>\n",
       "      <td>4aec9f4bf964a52091c921e3</td>\n",
       "      <td>Tue Apr 10 18:16:59 +0000 2012</td>\n",
       "      <td>60</td>\n",
       "      <td>51.498044</td>\n",
       "      <td>-0.090546</td>\n",
       "      <td>Pub</td>\n",
       "    </tr>\n",
       "    <tr>\n",
       "      <th>3</th>\n",
       "      <td>129494</td>\n",
       "      <td>4aec9f4bf964a52091c921e3</td>\n",
       "      <td>Wed Apr 11 20:56:49 +0000 2012</td>\n",
       "      <td>60</td>\n",
       "      <td>51.498044</td>\n",
       "      <td>-0.090546</td>\n",
       "      <td>Pub</td>\n",
       "    </tr>\n",
       "    <tr>\n",
       "      <th>4</th>\n",
       "      <td>129494</td>\n",
       "      <td>4aec9f4bf964a52091c921e3</td>\n",
       "      <td>Sat Apr 14 20:29:13 +0000 2012</td>\n",
       "      <td>60</td>\n",
       "      <td>51.498044</td>\n",
       "      <td>-0.090546</td>\n",
       "      <td>Pub</td>\n",
       "    </tr>\n",
       "  </tbody>\n",
       "</table>\n",
       "</div>"
      ],
      "text/plain": [
       "   User ID                  Venue ID  ... Longitude  Category\n",
       "0   262915  4aec9f4bf964a52091c921e3  ... -0.090546       Pub\n",
       "1   129494  4aec9f4bf964a52091c921e3  ... -0.090546       Pub\n",
       "2   262915  4aec9f4bf964a52091c921e3  ... -0.090546       Pub\n",
       "3   129494  4aec9f4bf964a52091c921e3  ... -0.090546       Pub\n",
       "4   129494  4aec9f4bf964a52091c921e3  ... -0.090546       Pub\n",
       "\n",
       "[5 rows x 7 columns]"
      ]
     },
     "execution_count": 26,
     "metadata": {
      "tags": []
     },
     "output_type": "execute_result"
    }
   ],
   "source": [
    "combine_check_venue_df.head(5)"
   ]
  },
  {
   "cell_type": "markdown",
   "metadata": {
    "colab_type": "text",
    "id": "Un0sVsuQquM2"
   },
   "source": [
    "##Using Cities.csv map check-in events as well as olympic events to the City is belonged"
   ]
  },
  {
   "cell_type": "code",
   "execution_count": 28,
   "metadata": {
    "colab": {
     "base_uri": "https://localhost:8080/",
     "height": 101
    },
    "colab_type": "code",
    "executionInfo": {
     "elapsed": 99315,
     "status": "ok",
     "timestamp": 1595181022333,
     "user": {
      "displayName": "Darshan Arvind Solanki",
      "photoUrl": "",
      "userId": "14688075179300985444"
     },
     "user_tz": 240
    },
    "id": "ymS4kA8o90z5",
    "outputId": "80a3d88c-3883-43b0-b5e9-e4e11f75f196"
   },
   "outputs": [
    {
     "name": "stderr",
     "output_type": "stream",
     "text": [
      "/usr/local/lib/python3.6/dist-packages/ipykernel_launcher.py:29: SettingWithCopyWarning: \n",
      "A value is trying to be set on a copy of a slice from a DataFrame.\n",
      "Try using .loc[row_indexer,col_indexer] = value instead\n",
      "\n",
      "See the caveats in the documentation: https://pandas.pydata.org/pandas-docs/stable/user_guide/indexing.html#returning-a-view-versus-a-copy\n"
     ]
    }
   ],
   "source": [
    "def getCityNames(lat1,lon1):\n",
    "\n",
    "  min_ = float('inf')\n",
    "  for i in range(len(cities_df)):\n",
    "    lat2,lon2 = cities_df['Latitude'].iloc[i],cities_df['Longitude'].iloc[i]\n",
    "    dist = aerialDist(lat1,lon1,lat2,lon2)\n",
    "    if(dist < min_):\n",
    "      min_ = dist\n",
    "      city = cities_df['City name'].iloc[i]\n",
    "\n",
    "  return city\n",
    "\n",
    "\n",
    "cities = []\n",
    "\n",
    "for i in range(len(combine_check_venue_df)):\n",
    "  lat1,lon1 = combine_check_venue_df['Latitude'].iloc[i],combine_check_venue_df['Longitude'].iloc[i]\n",
    "  cities.append(getCityNames(lat1,lon1))\n",
    "\n",
    "combine_check_venue_df['City'] = cities\n",
    "\n",
    "events_cities = []\n",
    "\n",
    "for i in range(len(df_events)):\n",
    "  loc = df_events['venue_loc'].iloc[i]\n",
    "  lat1,lon1 = loc[0],loc[1]\n",
    "  events_cities.append(getCityNames(lat1,lon1))\n",
    "\n",
    "df_events['City'] = events_cities"
   ]
  },
  {
   "cell_type": "code",
   "execution_count": 29,
   "metadata": {
    "colab": {
     "base_uri": "https://localhost:8080/",
     "height": 195
    },
    "colab_type": "code",
    "executionInfo": {
     "elapsed": 429,
     "status": "ok",
     "timestamp": 1595181099329,
     "user": {
      "displayName": "Darshan Arvind Solanki",
      "photoUrl": "",
      "userId": "14688075179300985444"
     },
     "user_tz": 240
    },
    "id": "Zg-6jWV198oU",
    "outputId": "f94f657f-6b2c-42af-cc7b-ce49462d7ab9"
   },
   "outputs": [
    {
     "data": {
      "text/html": [
       "<div>\n",
       "<style scoped>\n",
       "    .dataframe tbody tr th:only-of-type {\n",
       "        vertical-align: middle;\n",
       "    }\n",
       "\n",
       "    .dataframe tbody tr th {\n",
       "        vertical-align: top;\n",
       "    }\n",
       "\n",
       "    .dataframe thead th {\n",
       "        text-align: right;\n",
       "    }\n",
       "</style>\n",
       "<table border=\"1\" class=\"dataframe\">\n",
       "  <thead>\n",
       "    <tr style=\"text-align: right;\">\n",
       "      <th></th>\n",
       "      <th>User ID</th>\n",
       "      <th>Venue ID</th>\n",
       "      <th>UTC time</th>\n",
       "      <th>Timezone offset</th>\n",
       "      <th>Latitude</th>\n",
       "      <th>Longitude</th>\n",
       "      <th>Category</th>\n",
       "      <th>City</th>\n",
       "    </tr>\n",
       "  </thead>\n",
       "  <tbody>\n",
       "    <tr>\n",
       "      <th>0</th>\n",
       "      <td>262915</td>\n",
       "      <td>4aec9f4bf964a52091c921e3</td>\n",
       "      <td>Tue Apr 03 18:00:39 +0000 2012</td>\n",
       "      <td>60</td>\n",
       "      <td>51.498044</td>\n",
       "      <td>-0.090546</td>\n",
       "      <td>Pub</td>\n",
       "      <td>London</td>\n",
       "    </tr>\n",
       "    <tr>\n",
       "      <th>1</th>\n",
       "      <td>129494</td>\n",
       "      <td>4aec9f4bf964a52091c921e3</td>\n",
       "      <td>Sun Apr 08 18:18:30 +0000 2012</td>\n",
       "      <td>60</td>\n",
       "      <td>51.498044</td>\n",
       "      <td>-0.090546</td>\n",
       "      <td>Pub</td>\n",
       "      <td>London</td>\n",
       "    </tr>\n",
       "    <tr>\n",
       "      <th>2</th>\n",
       "      <td>262915</td>\n",
       "      <td>4aec9f4bf964a52091c921e3</td>\n",
       "      <td>Tue Apr 10 18:16:59 +0000 2012</td>\n",
       "      <td>60</td>\n",
       "      <td>51.498044</td>\n",
       "      <td>-0.090546</td>\n",
       "      <td>Pub</td>\n",
       "      <td>London</td>\n",
       "    </tr>\n",
       "    <tr>\n",
       "      <th>3</th>\n",
       "      <td>129494</td>\n",
       "      <td>4aec9f4bf964a52091c921e3</td>\n",
       "      <td>Wed Apr 11 20:56:49 +0000 2012</td>\n",
       "      <td>60</td>\n",
       "      <td>51.498044</td>\n",
       "      <td>-0.090546</td>\n",
       "      <td>Pub</td>\n",
       "      <td>London</td>\n",
       "    </tr>\n",
       "    <tr>\n",
       "      <th>4</th>\n",
       "      <td>129494</td>\n",
       "      <td>4aec9f4bf964a52091c921e3</td>\n",
       "      <td>Sat Apr 14 20:29:13 +0000 2012</td>\n",
       "      <td>60</td>\n",
       "      <td>51.498044</td>\n",
       "      <td>-0.090546</td>\n",
       "      <td>Pub</td>\n",
       "      <td>London</td>\n",
       "    </tr>\n",
       "  </tbody>\n",
       "</table>\n",
       "</div>"
      ],
      "text/plain": [
       "   User ID                  Venue ID  ... Category    City\n",
       "0   262915  4aec9f4bf964a52091c921e3  ...      Pub  London\n",
       "1   129494  4aec9f4bf964a52091c921e3  ...      Pub  London\n",
       "2   262915  4aec9f4bf964a52091c921e3  ...      Pub  London\n",
       "3   129494  4aec9f4bf964a52091c921e3  ...      Pub  London\n",
       "4   129494  4aec9f4bf964a52091c921e3  ...      Pub  London\n",
       "\n",
       "[5 rows x 8 columns]"
      ]
     },
     "execution_count": 29,
     "metadata": {
      "tags": []
     },
     "output_type": "execute_result"
    }
   ],
   "source": [
    "combine_check_venue_df.head(5)"
   ]
  },
  {
   "cell_type": "code",
   "execution_count": 30,
   "metadata": {
    "colab": {
     "base_uri": "https://localhost:8080/",
     "height": 195
    },
    "colab_type": "code",
    "executionInfo": {
     "elapsed": 330,
     "status": "ok",
     "timestamp": 1595181104215,
     "user": {
      "displayName": "Darshan Arvind Solanki",
      "photoUrl": "",
      "userId": "14688075179300985444"
     },
     "user_tz": 240
    },
    "id": "c2ajlZ4ICON_",
    "outputId": "f27d658a-bb2f-4a37-c57a-0922e77d3d29"
   },
   "outputs": [
    {
     "data": {
      "text/html": [
       "<div>\n",
       "<style scoped>\n",
       "    .dataframe tbody tr th:only-of-type {\n",
       "        vertical-align: middle;\n",
       "    }\n",
       "\n",
       "    .dataframe tbody tr th {\n",
       "        vertical-align: top;\n",
       "    }\n",
       "\n",
       "    .dataframe thead th {\n",
       "        text-align: right;\n",
       "    }\n",
       "</style>\n",
       "<table border=\"1\" class=\"dataframe\">\n",
       "  <thead>\n",
       "    <tr style=\"text-align: right;\">\n",
       "      <th></th>\n",
       "      <th>date</th>\n",
       "      <th>time</th>\n",
       "      <th>event</th>\n",
       "      <th>code</th>\n",
       "      <th>venue_cleaned</th>\n",
       "      <th>venue_loc</th>\n",
       "      <th>City</th>\n",
       "    </tr>\n",
       "  </thead>\n",
       "  <tbody>\n",
       "    <tr>\n",
       "      <th>0</th>\n",
       "      <td>03-Aug</td>\n",
       "      <td>10:0013:45</td>\n",
       "      <td>Athletics</td>\n",
       "      <td>AT001</td>\n",
       "      <td>olympic park</td>\n",
       "      <td>[51.54343, -0.016627]</td>\n",
       "      <td>London</td>\n",
       "    </tr>\n",
       "    <tr>\n",
       "      <th>1</th>\n",
       "      <td>03-Aug</td>\n",
       "      <td>10:0013:45</td>\n",
       "      <td>Athletics</td>\n",
       "      <td>AT001</td>\n",
       "      <td>olympic park</td>\n",
       "      <td>[51.54343, -0.016627]</td>\n",
       "      <td>London</td>\n",
       "    </tr>\n",
       "    <tr>\n",
       "      <th>2</th>\n",
       "      <td>03-Aug</td>\n",
       "      <td>10:0013:45</td>\n",
       "      <td>Athletics</td>\n",
       "      <td>AT001</td>\n",
       "      <td>olympic park</td>\n",
       "      <td>[51.54343, -0.016627]</td>\n",
       "      <td>London</td>\n",
       "    </tr>\n",
       "    <tr>\n",
       "      <th>3</th>\n",
       "      <td>03-Aug</td>\n",
       "      <td>10:0013:45</td>\n",
       "      <td>Athletics</td>\n",
       "      <td>AT001</td>\n",
       "      <td>olympic park</td>\n",
       "      <td>[51.54343, -0.016627]</td>\n",
       "      <td>London</td>\n",
       "    </tr>\n",
       "    <tr>\n",
       "      <th>4</th>\n",
       "      <td>03-Aug</td>\n",
       "      <td>10:0013:45</td>\n",
       "      <td>Athletics</td>\n",
       "      <td>AT001</td>\n",
       "      <td>olympic park</td>\n",
       "      <td>[51.54343, -0.016627]</td>\n",
       "      <td>London</td>\n",
       "    </tr>\n",
       "  </tbody>\n",
       "</table>\n",
       "</div>"
      ],
      "text/plain": [
       "     date         time      event  ... venue_cleaned              venue_loc    City\n",
       "0  03-Aug  10:0013:45  Athletics  ...  olympic park  [51.54343, -0.016627]  London\n",
       "1  03-Aug  10:0013:45  Athletics  ...  olympic park  [51.54343, -0.016627]  London\n",
       "2  03-Aug  10:0013:45  Athletics  ...  olympic park  [51.54343, -0.016627]  London\n",
       "3  03-Aug  10:0013:45  Athletics  ...  olympic park  [51.54343, -0.016627]  London\n",
       "4  03-Aug  10:0013:45  Athletics  ...  olympic park  [51.54343, -0.016627]  London\n",
       "\n",
       "[5 rows x 7 columns]"
      ]
     },
     "execution_count": 30,
     "metadata": {
      "tags": []
     },
     "output_type": "execute_result"
    }
   ],
   "source": [
    "df_events.head(5)"
   ]
  },
  {
   "cell_type": "code",
   "execution_count": 31,
   "metadata": {
    "colab": {
     "base_uri": "https://localhost:8080/",
     "height": 314
    },
    "colab_type": "code",
    "executionInfo": {
     "elapsed": 359,
     "status": "ok",
     "timestamp": 1595181113335,
     "user": {
      "displayName": "Darshan Arvind Solanki",
      "photoUrl": "",
      "userId": "14688075179300985444"
     },
     "user_tz": 240
    },
    "id": "-Cmyi76j_9Gh",
    "outputId": "b6babc57-c678-4214-d80f-996b45df442c"
   },
   "outputs": [
    {
     "data": {
      "text/html": [
       "<div>\n",
       "<style scoped>\n",
       "    .dataframe tbody tr th:only-of-type {\n",
       "        vertical-align: middle;\n",
       "    }\n",
       "\n",
       "    .dataframe tbody tr th {\n",
       "        vertical-align: top;\n",
       "    }\n",
       "\n",
       "    .dataframe thead th {\n",
       "        text-align: right;\n",
       "    }\n",
       "</style>\n",
       "<table border=\"1\" class=\"dataframe\">\n",
       "  <thead>\n",
       "    <tr style=\"text-align: right;\">\n",
       "      <th></th>\n",
       "      <th>City name</th>\n",
       "      <th>Latitude</th>\n",
       "      <th>Longitude</th>\n",
       "      <th>City type</th>\n",
       "    </tr>\n",
       "  </thead>\n",
       "  <tbody>\n",
       "    <tr>\n",
       "      <th>0</th>\n",
       "      <td>Fawley</td>\n",
       "      <td>50.816700</td>\n",
       "      <td>-1.333295</td>\n",
       "      <td>Other</td>\n",
       "    </tr>\n",
       "    <tr>\n",
       "      <th>1</th>\n",
       "      <td>Sheffield</td>\n",
       "      <td>53.374041</td>\n",
       "      <td>-1.462995</td>\n",
       "      <td>Other</td>\n",
       "    </tr>\n",
       "    <tr>\n",
       "      <th>2</th>\n",
       "      <td>Birmingham</td>\n",
       "      <td>52.492752</td>\n",
       "      <td>-1.863342</td>\n",
       "      <td>Other</td>\n",
       "    </tr>\n",
       "    <tr>\n",
       "      <th>3</th>\n",
       "      <td>London</td>\n",
       "      <td>51.487911</td>\n",
       "      <td>-0.178002</td>\n",
       "      <td>National and provincial capital</td>\n",
       "    </tr>\n",
       "    <tr>\n",
       "      <th>4</th>\n",
       "      <td>Edinburgh</td>\n",
       "      <td>55.924002</td>\n",
       "      <td>-3.249998</td>\n",
       "      <td>Provincial capital</td>\n",
       "    </tr>\n",
       "    <tr>\n",
       "      <th>5</th>\n",
       "      <td>Glasgow</td>\n",
       "      <td>55.862811</td>\n",
       "      <td>-4.269941</td>\n",
       "      <td>Other</td>\n",
       "    </tr>\n",
       "    <tr>\n",
       "      <th>6</th>\n",
       "      <td>Leeds</td>\n",
       "      <td>53.808705</td>\n",
       "      <td>-1.497528</td>\n",
       "      <td>Other</td>\n",
       "    </tr>\n",
       "    <tr>\n",
       "      <th>7</th>\n",
       "      <td>Manchester</td>\n",
       "      <td>53.479665</td>\n",
       "      <td>-2.261781</td>\n",
       "      <td>Other</td>\n",
       "    </tr>\n",
       "    <tr>\n",
       "      <th>8</th>\n",
       "      <td>Liverpool</td>\n",
       "      <td>53.423001</td>\n",
       "      <td>-2.970998</td>\n",
       "      <td>Other</td>\n",
       "    </tr>\n",
       "  </tbody>\n",
       "</table>\n",
       "</div>"
      ],
      "text/plain": [
       "    City name   Latitude  Longitude                        City type\n",
       "0      Fawley  50.816700  -1.333295                            Other\n",
       "1   Sheffield  53.374041  -1.462995                            Other\n",
       "2  Birmingham  52.492752  -1.863342                            Other\n",
       "3      London  51.487911  -0.178002  National and provincial capital\n",
       "4   Edinburgh  55.924002  -3.249998               Provincial capital\n",
       "5     Glasgow  55.862811  -4.269941                            Other\n",
       "6       Leeds  53.808705  -1.497528                            Other\n",
       "7  Manchester  53.479665  -2.261781                            Other\n",
       "8   Liverpool  53.423001  -2.970998                            Other"
      ]
     },
     "execution_count": 31,
     "metadata": {
      "tags": []
     },
     "output_type": "execute_result"
    }
   ],
   "source": [
    "cities_df"
   ]
  },
  {
   "cell_type": "code",
   "execution_count": 32,
   "metadata": {
    "colab": {},
    "colab_type": "code",
    "executionInfo": {
     "elapsed": 332,
     "status": "ok",
     "timestamp": 1595181116698,
     "user": {
      "displayName": "Darshan Arvind Solanki",
      "photoUrl": "",
      "userId": "14688075179300985444"
     },
     "user_tz": 240
    },
    "id": "qUSmENh2bTAj"
   },
   "outputs": [],
   "source": [
    "\n",
    "from datetime import datetime\n",
    "from datetime import timezone\n",
    "\n",
    "def getDateTimeStamp(d,filter_,format):\n",
    "\n",
    "  \n",
    "  try:\n",
    "    tokens = d.lower().replace('+0000','').split()\n",
    "    day,lst = tokens[0], [tokens[1],tokens[2], tokens[-1],tokens[-2]]\n",
    "    written_date = ' '.join(lst)\n",
    "\n",
    "  except Exception as e:\n",
    "      written_date = d\n",
    "    \n",
    "  dt = datetime.strptime(written_date, format)\n",
    "  timestamp = dt.replace(tzinfo=timezone.utc).timestamp()\n",
    "\n",
    "  if(filter_ == 'timestamp'):\n",
    "    return timestamp\n",
    "\n",
    "  return dt\n",
    "\n"
   ]
  },
  {
   "cell_type": "markdown",
   "metadata": {
    "colab_type": "text",
    "id": "CdvwP9btpJ_3"
   },
   "source": [
    "##Same thing - Cleaning for df_events (London Citadel )"
   ]
  },
  {
   "cell_type": "code",
   "execution_count": 33,
   "metadata": {
    "colab": {
     "base_uri": "https://localhost:8080/",
     "height": 1000
    },
    "colab_type": "code",
    "executionInfo": {
     "elapsed": 516,
     "status": "ok",
     "timestamp": 1595181122074,
     "user": {
      "displayName": "Darshan Arvind Solanki",
      "photoUrl": "",
      "userId": "14688075179300985444"
     },
     "user_tz": 240
    },
    "id": "u1r-kw54djyx",
    "outputId": "dbda0162-4897-4200-9f71-213fa89ff3e4"
   },
   "outputs": [
    {
     "name": "stderr",
     "output_type": "stream",
     "text": [
      "/usr/local/lib/python3.6/dist-packages/ipykernel_launcher.py:8: SettingWithCopyWarning: \n",
      "A value is trying to be set on a copy of a slice from a DataFrame.\n",
      "Try using .loc[row_indexer,col_indexer] = value instead\n",
      "\n",
      "See the caveats in the documentation: https://pandas.pydata.org/pandas-docs/stable/user_guide/indexing.html#returning-a-view-versus-a-copy\n",
      "  \n",
      "/usr/local/lib/python3.6/dist-packages/ipykernel_launcher.py:9: SettingWithCopyWarning: \n",
      "A value is trying to be set on a copy of a slice from a DataFrame.\n",
      "Try using .loc[row_indexer,col_indexer] = value instead\n",
      "\n",
      "See the caveats in the documentation: https://pandas.pydata.org/pandas-docs/stable/user_guide/indexing.html#returning-a-view-versus-a-copy\n",
      "  if __name__ == '__main__':\n",
      "/usr/local/lib/python3.6/dist-packages/ipykernel_launcher.py:10: SettingWithCopyWarning: \n",
      "A value is trying to be set on a copy of a slice from a DataFrame.\n",
      "Try using .loc[row_indexer,col_indexer] = value instead\n",
      "\n",
      "See the caveats in the documentation: https://pandas.pydata.org/pandas-docs/stable/user_guide/indexing.html#returning-a-view-versus-a-copy\n",
      "  # Remove the CWD from sys.path while we load stuff.\n",
      "/usr/local/lib/python3.6/dist-packages/ipykernel_launcher.py:11: SettingWithCopyWarning: \n",
      "A value is trying to be set on a copy of a slice from a DataFrame.\n",
      "Try using .loc[row_indexer,col_indexer] = value instead\n",
      "\n",
      "See the caveats in the documentation: https://pandas.pydata.org/pandas-docs/stable/user_guide/indexing.html#returning-a-view-versus-a-copy\n",
      "  # This is added back by InteractiveShellApp.init_path()\n",
      "/usr/local/lib/python3.6/dist-packages/ipykernel_launcher.py:14: SettingWithCopyWarning: \n",
      "A value is trying to be set on a copy of a slice from a DataFrame.\n",
      "Try using .loc[row_indexer,col_indexer] = value instead\n",
      "\n",
      "See the caveats in the documentation: https://pandas.pydata.org/pandas-docs/stable/user_guide/indexing.html#returning-a-view-versus-a-copy\n",
      "  \n",
      "/usr/local/lib/python3.6/dist-packages/ipykernel_launcher.py:15: SettingWithCopyWarning: \n",
      "A value is trying to be set on a copy of a slice from a DataFrame.\n",
      "Try using .loc[row_indexer,col_indexer] = value instead\n",
      "\n",
      "See the caveats in the documentation: https://pandas.pydata.org/pandas-docs/stable/user_guide/indexing.html#returning-a-view-versus-a-copy\n",
      "  from ipykernel import kernelapp as app\n",
      "/usr/local/lib/python3.6/dist-packages/ipykernel_launcher.py:19: SettingWithCopyWarning: \n",
      "A value is trying to be set on a copy of a slice from a DataFrame.\n",
      "Try using .loc[row_indexer,col_indexer] = value instead\n",
      "\n",
      "See the caveats in the documentation: https://pandas.pydata.org/pandas-docs/stable/user_guide/indexing.html#returning-a-view-versus-a-copy\n",
      "/usr/local/lib/python3.6/dist-packages/ipykernel_launcher.py:20: SettingWithCopyWarning: \n",
      "A value is trying to be set on a copy of a slice from a DataFrame.\n",
      "Try using .loc[row_indexer,col_indexer] = value instead\n",
      "\n",
      "See the caveats in the documentation: https://pandas.pydata.org/pandas-docs/stable/user_guide/indexing.html#returning-a-view-versus-a-copy\n",
      "/usr/local/lib/python3.6/dist-packages/ipykernel_launcher.py:22: SettingWithCopyWarning: \n",
      "A value is trying to be set on a copy of a slice from a DataFrame.\n",
      "Try using .loc[row_indexer,col_indexer] = value instead\n",
      "\n",
      "See the caveats in the documentation: https://pandas.pydata.org/pandas-docs/stable/user_guide/indexing.html#returning-a-view-versus-a-copy\n",
      "/usr/local/lib/python3.6/dist-packages/ipykernel_launcher.py:23: SettingWithCopyWarning: \n",
      "A value is trying to be set on a copy of a slice from a DataFrame.\n",
      "Try using .loc[row_indexer,col_indexer] = value instead\n",
      "\n",
      "See the caveats in the documentation: https://pandas.pydata.org/pandas-docs/stable/user_guide/indexing.html#returning-a-view-versus-a-copy\n",
      "/usr/local/lib/python3.6/dist-packages/pandas/core/frame.py:3997: SettingWithCopyWarning: \n",
      "A value is trying to be set on a copy of a slice from a DataFrame\n",
      "\n",
      "See the caveats in the documentation: https://pandas.pydata.org/pandas-docs/stable/user_guide/indexing.html#returning-a-view-versus-a-copy\n",
      "  errors=errors,\n"
     ]
    }
   ],
   "source": [
    "import re\n",
    "\n",
    "\n",
    "def transformation():\n",
    "\n",
    "  #Cleaning date and time, combining them to convert to datetime and timestamp as separate columns\n",
    "  \n",
    "  df_events['time'] = df_events['time'].apply(lambda x: re.sub('\\x96',' ',x))\n",
    "  df_events['start_time'] = df_events['time'].apply(lambda x: re.split('-|\\s',x)[0]+':00')\n",
    "  df_events['end_time'] = df_events['time'].apply(lambda x: re.split('-|\\s',x)[1]+':00')\n",
    "  df_events['date'] = df_events['date'] + '-2012'\n",
    "\n",
    "\n",
    "  df_events['start_datetime'] = df_events['date'] + ' ' + df_events['start_time']\n",
    "  df_events['end_datetime'] = df_events['date'] + ' ' + df_events['end_time']\n",
    "\n",
    "  format = '%d-%b-%Y %H:%M:%S'\n",
    "\n",
    "  df_events['start_timestamp'] = df_events['start_datetime'].apply(lambda x: getDateTimeStamp(x.lower(),'timestamp',format))\n",
    "  df_events['start_datetime'] = df_events['start_datetime'].apply(lambda x: getDateTimeStamp(x.lower(),'date',format))\n",
    "\n",
    "  df_events['end_timestamp'] = df_events['end_datetime'].apply(lambda x: getDateTimeStamp(x.lower(),'timestamp',format))\n",
    "  df_events['end_datetime'] = df_events['end_datetime'].apply(lambda x: getDateTimeStamp(x.lower(),'date',format))\n",
    "\n",
    "  #Dropping existing irrelevant column\n",
    "  df_events.drop(['date','time','start_time','end_time'],axis=1,inplace=True)\n",
    "\n",
    "\n",
    "transformation()\n",
    "\n"
   ]
  },
  {
   "cell_type": "code",
   "execution_count": 34,
   "metadata": {
    "colab": {
     "base_uri": "https://localhost:8080/",
     "height": 195
    },
    "colab_type": "code",
    "executionInfo": {
     "elapsed": 348,
     "status": "ok",
     "timestamp": 1595181124258,
     "user": {
      "displayName": "Darshan Arvind Solanki",
      "photoUrl": "",
      "userId": "14688075179300985444"
     },
     "user_tz": 240
    },
    "id": "vufQf9Exn6vz",
    "outputId": "b16dbf9c-6e83-4aa6-ff99-73ab599d4f89"
   },
   "outputs": [
    {
     "data": {
      "text/html": [
       "<div>\n",
       "<style scoped>\n",
       "    .dataframe tbody tr th:only-of-type {\n",
       "        vertical-align: middle;\n",
       "    }\n",
       "\n",
       "    .dataframe tbody tr th {\n",
       "        vertical-align: top;\n",
       "    }\n",
       "\n",
       "    .dataframe thead th {\n",
       "        text-align: right;\n",
       "    }\n",
       "</style>\n",
       "<table border=\"1\" class=\"dataframe\">\n",
       "  <thead>\n",
       "    <tr style=\"text-align: right;\">\n",
       "      <th></th>\n",
       "      <th>event</th>\n",
       "      <th>code</th>\n",
       "      <th>venue_cleaned</th>\n",
       "      <th>venue_loc</th>\n",
       "      <th>City</th>\n",
       "      <th>start_datetime</th>\n",
       "      <th>end_datetime</th>\n",
       "      <th>start_timestamp</th>\n",
       "      <th>end_timestamp</th>\n",
       "    </tr>\n",
       "  </thead>\n",
       "  <tbody>\n",
       "    <tr>\n",
       "      <th>0</th>\n",
       "      <td>Athletics</td>\n",
       "      <td>AT001</td>\n",
       "      <td>olympic park</td>\n",
       "      <td>[51.54343, -0.016627]</td>\n",
       "      <td>London</td>\n",
       "      <td>2012-08-03 10:00:00</td>\n",
       "      <td>2012-08-03 13:45:00</td>\n",
       "      <td>1.343988e+09</td>\n",
       "      <td>1.344002e+09</td>\n",
       "    </tr>\n",
       "    <tr>\n",
       "      <th>1</th>\n",
       "      <td>Athletics</td>\n",
       "      <td>AT001</td>\n",
       "      <td>olympic park</td>\n",
       "      <td>[51.54343, -0.016627]</td>\n",
       "      <td>London</td>\n",
       "      <td>2012-08-03 10:00:00</td>\n",
       "      <td>2012-08-03 13:45:00</td>\n",
       "      <td>1.343988e+09</td>\n",
       "      <td>1.344002e+09</td>\n",
       "    </tr>\n",
       "    <tr>\n",
       "      <th>2</th>\n",
       "      <td>Athletics</td>\n",
       "      <td>AT001</td>\n",
       "      <td>olympic park</td>\n",
       "      <td>[51.54343, -0.016627]</td>\n",
       "      <td>London</td>\n",
       "      <td>2012-08-03 10:00:00</td>\n",
       "      <td>2012-08-03 13:45:00</td>\n",
       "      <td>1.343988e+09</td>\n",
       "      <td>1.344002e+09</td>\n",
       "    </tr>\n",
       "    <tr>\n",
       "      <th>3</th>\n",
       "      <td>Athletics</td>\n",
       "      <td>AT001</td>\n",
       "      <td>olympic park</td>\n",
       "      <td>[51.54343, -0.016627]</td>\n",
       "      <td>London</td>\n",
       "      <td>2012-08-03 10:00:00</td>\n",
       "      <td>2012-08-03 13:45:00</td>\n",
       "      <td>1.343988e+09</td>\n",
       "      <td>1.344002e+09</td>\n",
       "    </tr>\n",
       "    <tr>\n",
       "      <th>4</th>\n",
       "      <td>Athletics</td>\n",
       "      <td>AT001</td>\n",
       "      <td>olympic park</td>\n",
       "      <td>[51.54343, -0.016627]</td>\n",
       "      <td>London</td>\n",
       "      <td>2012-08-03 10:00:00</td>\n",
       "      <td>2012-08-03 13:45:00</td>\n",
       "      <td>1.343988e+09</td>\n",
       "      <td>1.344002e+09</td>\n",
       "    </tr>\n",
       "  </tbody>\n",
       "</table>\n",
       "</div>"
      ],
      "text/plain": [
       "       event   code  ... start_timestamp end_timestamp\n",
       "0  Athletics  AT001  ...    1.343988e+09  1.344002e+09\n",
       "1  Athletics  AT001  ...    1.343988e+09  1.344002e+09\n",
       "2  Athletics  AT001  ...    1.343988e+09  1.344002e+09\n",
       "3  Athletics  AT001  ...    1.343988e+09  1.344002e+09\n",
       "4  Athletics  AT001  ...    1.343988e+09  1.344002e+09\n",
       "\n",
       "[5 rows x 9 columns]"
      ]
     },
     "execution_count": 34,
     "metadata": {
      "tags": []
     },
     "output_type": "execute_result"
    }
   ],
   "source": [
    "df_events.head(5)"
   ]
  },
  {
   "cell_type": "markdown",
   "metadata": {
    "colab_type": "text",
    "id": "skTQg-lRrcUq"
   },
   "source": [
    "#Cleaning and making string object of combined_df to datetime and also calculate the timestamp for furture scope"
   ]
  },
  {
   "cell_type": "code",
   "execution_count": 35,
   "metadata": {
    "colab": {},
    "colab_type": "code",
    "executionInfo": {
     "elapsed": 9081,
     "status": "ok",
     "timestamp": 1595181138662,
     "user": {
      "displayName": "Darshan Arvind Solanki",
      "photoUrl": "",
      "userId": "14688075179300985444"
     },
     "user_tz": 240
    },
    "id": "HLato_LiovhQ"
   },
   "outputs": [],
   "source": [
    "\n",
    "format = '%b %d %Y %H:%M:%S'\n",
    "combine_check_venue_df['TimeStamp'] = combine_check_venue_df['UTC time'].apply(lambda x: getDateTimeStamp(x,'timestamp',format))\n",
    "combine_check_venue_df['Date'] = combine_check_venue_df['UTC time'].apply(lambda x: getDateTimeStamp(x,'date',format))\n"
   ]
  },
  {
   "cell_type": "code",
   "execution_count": null,
   "metadata": {
    "colab": {
     "base_uri": "https://localhost:8080/",
     "height": 296
    },
    "colab_type": "code",
    "id": "XXyLzvZ0r54X",
    "outputId": "864dd937-fafa-4a60-c857-a08b514068c3"
   },
   "outputs": [
    {
     "data": {
      "text/html": [
       "<div>\n",
       "<style scoped>\n",
       "    .dataframe tbody tr th:only-of-type {\n",
       "        vertical-align: middle;\n",
       "    }\n",
       "\n",
       "    .dataframe tbody tr th {\n",
       "        vertical-align: top;\n",
       "    }\n",
       "\n",
       "    .dataframe thead th {\n",
       "        text-align: right;\n",
       "    }\n",
       "</style>\n",
       "<table border=\"1\" class=\"dataframe\">\n",
       "  <thead>\n",
       "    <tr style=\"text-align: right;\">\n",
       "      <th></th>\n",
       "      <th>User ID</th>\n",
       "      <th>Venue ID</th>\n",
       "      <th>UTC time</th>\n",
       "      <th>Timezone offset</th>\n",
       "      <th>Latitude</th>\n",
       "      <th>Longitude</th>\n",
       "      <th>Category</th>\n",
       "      <th>City</th>\n",
       "      <th>TimeStamp</th>\n",
       "      <th>Date</th>\n",
       "    </tr>\n",
       "  </thead>\n",
       "  <tbody>\n",
       "    <tr>\n",
       "      <th>0</th>\n",
       "      <td>262915</td>\n",
       "      <td>4aec9f4bf964a52091c921e3</td>\n",
       "      <td>Tue Apr 03 18:00:39 +0000 2012</td>\n",
       "      <td>60</td>\n",
       "      <td>51.498044</td>\n",
       "      <td>-0.090546</td>\n",
       "      <td>Pub</td>\n",
       "      <td>London</td>\n",
       "      <td>1.333476e+09</td>\n",
       "      <td>2012-04-03 18:00:39</td>\n",
       "    </tr>\n",
       "    <tr>\n",
       "      <th>1</th>\n",
       "      <td>129494</td>\n",
       "      <td>4aec9f4bf964a52091c921e3</td>\n",
       "      <td>Sun Apr 08 18:18:30 +0000 2012</td>\n",
       "      <td>60</td>\n",
       "      <td>51.498044</td>\n",
       "      <td>-0.090546</td>\n",
       "      <td>Pub</td>\n",
       "      <td>London</td>\n",
       "      <td>1.333909e+09</td>\n",
       "      <td>2012-04-08 18:18:30</td>\n",
       "    </tr>\n",
       "    <tr>\n",
       "      <th>2</th>\n",
       "      <td>262915</td>\n",
       "      <td>4aec9f4bf964a52091c921e3</td>\n",
       "      <td>Tue Apr 10 18:16:59 +0000 2012</td>\n",
       "      <td>60</td>\n",
       "      <td>51.498044</td>\n",
       "      <td>-0.090546</td>\n",
       "      <td>Pub</td>\n",
       "      <td>London</td>\n",
       "      <td>1.334082e+09</td>\n",
       "      <td>2012-04-10 18:16:59</td>\n",
       "    </tr>\n",
       "    <tr>\n",
       "      <th>3</th>\n",
       "      <td>129494</td>\n",
       "      <td>4aec9f4bf964a52091c921e3</td>\n",
       "      <td>Wed Apr 11 20:56:49 +0000 2012</td>\n",
       "      <td>60</td>\n",
       "      <td>51.498044</td>\n",
       "      <td>-0.090546</td>\n",
       "      <td>Pub</td>\n",
       "      <td>London</td>\n",
       "      <td>1.334178e+09</td>\n",
       "      <td>2012-04-11 20:56:49</td>\n",
       "    </tr>\n",
       "    <tr>\n",
       "      <th>4</th>\n",
       "      <td>129494</td>\n",
       "      <td>4aec9f4bf964a52091c921e3</td>\n",
       "      <td>Sat Apr 14 20:29:13 +0000 2012</td>\n",
       "      <td>60</td>\n",
       "      <td>51.498044</td>\n",
       "      <td>-0.090546</td>\n",
       "      <td>Pub</td>\n",
       "      <td>London</td>\n",
       "      <td>1.334435e+09</td>\n",
       "      <td>2012-04-14 20:29:13</td>\n",
       "    </tr>\n",
       "  </tbody>\n",
       "</table>\n",
       "</div>"
      ],
      "text/plain": [
       "   User ID                  Venue ID  ...     TimeStamp                Date\n",
       "0   262915  4aec9f4bf964a52091c921e3  ...  1.333476e+09 2012-04-03 18:00:39\n",
       "1   129494  4aec9f4bf964a52091c921e3  ...  1.333909e+09 2012-04-08 18:18:30\n",
       "2   262915  4aec9f4bf964a52091c921e3  ...  1.334082e+09 2012-04-10 18:16:59\n",
       "3   129494  4aec9f4bf964a52091c921e3  ...  1.334178e+09 2012-04-11 20:56:49\n",
       "4   129494  4aec9f4bf964a52091c921e3  ...  1.334435e+09 2012-04-14 20:29:13\n",
       "\n",
       "[5 rows x 10 columns]"
      ]
     },
     "execution_count": 37,
     "metadata": {
      "tags": []
     },
     "output_type": "execute_result"
    }
   ],
   "source": [
    "combine_check_venue_df.head(5)"
   ]
  },
  {
   "cell_type": "markdown",
   "metadata": {
    "colab_type": "text",
    "id": "D-2-FGdcp650"
   },
   "source": [
    "##Given event Location and City compute nearby checked in places"
   ]
  },
  {
   "cell_type": "code",
   "execution_count": null,
   "metadata": {
    "colab": {},
    "colab_type": "code",
    "id": "z1MYtDuAEITB"
   },
   "outputs": [],
   "source": [
    "def getNearbyPlaces(lat1,lon1,city):\n",
    "\n",
    "  proximity = 3\n",
    "  sub_df = combine_check_venue_df[combine_check_venue_df['City'] == city]\n",
    "  get_places = []\n",
    "\n",
    "  for i in range(len(sub_df)):\n",
    "    lat2,lon2 = sub_df['Latitude'].iloc[i],sub_df['Longitude'].iloc[i]\n",
    "\n",
    "    #print(aerialDist(lat1,lon1,lat2,lon2))\n",
    "    if(aerialDist(lat1,lon1,lat2,lon2) <= proximity):\n",
    "      get_places.append(sub_df.iloc[i])\n",
    "\n",
    "  return get_places\n",
    "\n",
    "get_places_df = pd.DataFrame(getNearbyPlaces(51.54343, -0.016627,'London'),columns = combine_check_venue_df.columns)\n"
   ]
  },
  {
   "cell_type": "code",
   "execution_count": null,
   "metadata": {
    "colab": {
     "base_uri": "https://localhost:8080/",
     "height": 70
    },
    "colab_type": "code",
    "id": "qOJvAIteWYAA",
    "outputId": "986e4a37-f1ce-4fe7-a995-8c1235573fc0"
   },
   "outputs": [
    {
     "name": "stderr",
     "output_type": "stream",
     "text": [
      "/usr/local/lib/python3.6/dist-packages/statsmodels/tools/_testing.py:19: FutureWarning: pandas.util.testing is deprecated. Use the functions in the public API at pandas.testing instead.\n",
      "  import pandas.util.testing as tm\n"
     ]
    }
   ],
   "source": [
    "import matplotlib.pyplot as plt\n",
    "import seaborn as sns\n"
   ]
  },
  {
   "cell_type": "code",
   "execution_count": null,
   "metadata": {
    "colab": {
     "base_uri": "https://localhost:8080/",
     "height": 195
    },
    "colab_type": "code",
    "id": "fK-x_vzvaEaY",
    "outputId": "262977ea-4cff-4ca6-ca25-e5a31cee6569"
   },
   "outputs": [
    {
     "data": {
      "text/html": [
       "<div>\n",
       "<style scoped>\n",
       "    .dataframe tbody tr th:only-of-type {\n",
       "        vertical-align: middle;\n",
       "    }\n",
       "\n",
       "    .dataframe tbody tr th {\n",
       "        vertical-align: top;\n",
       "    }\n",
       "\n",
       "    .dataframe thead th {\n",
       "        text-align: right;\n",
       "    }\n",
       "</style>\n",
       "<table border=\"1\" class=\"dataframe\">\n",
       "  <thead>\n",
       "    <tr style=\"text-align: right;\">\n",
       "      <th></th>\n",
       "      <th>event</th>\n",
       "      <th>venue_cleaned</th>\n",
       "      <th>venue_loc</th>\n",
       "      <th>City</th>\n",
       "      <th>start_datetime</th>\n",
       "      <th>end_datetime</th>\n",
       "      <th>start_timestamp</th>\n",
       "      <th>end_timestamp</th>\n",
       "    </tr>\n",
       "  </thead>\n",
       "  <tbody>\n",
       "    <tr>\n",
       "      <th>0</th>\n",
       "      <td>Athletics</td>\n",
       "      <td>olympic park</td>\n",
       "      <td>[51.54343, -0.016627]</td>\n",
       "      <td>London</td>\n",
       "      <td>2012-08-03 10:00:00</td>\n",
       "      <td>2012-08-03 13:45:00</td>\n",
       "      <td>1.343988e+09</td>\n",
       "      <td>1.344002e+09</td>\n",
       "    </tr>\n",
       "    <tr>\n",
       "      <th>1</th>\n",
       "      <td>Athletics</td>\n",
       "      <td>olympic park</td>\n",
       "      <td>[51.54343, -0.016627]</td>\n",
       "      <td>London</td>\n",
       "      <td>2012-08-03 10:00:00</td>\n",
       "      <td>2012-08-03 13:45:00</td>\n",
       "      <td>1.343988e+09</td>\n",
       "      <td>1.344002e+09</td>\n",
       "    </tr>\n",
       "    <tr>\n",
       "      <th>2</th>\n",
       "      <td>Athletics</td>\n",
       "      <td>olympic park</td>\n",
       "      <td>[51.54343, -0.016627]</td>\n",
       "      <td>London</td>\n",
       "      <td>2012-08-03 10:00:00</td>\n",
       "      <td>2012-08-03 13:45:00</td>\n",
       "      <td>1.343988e+09</td>\n",
       "      <td>1.344002e+09</td>\n",
       "    </tr>\n",
       "    <tr>\n",
       "      <th>3</th>\n",
       "      <td>Athletics</td>\n",
       "      <td>olympic park</td>\n",
       "      <td>[51.54343, -0.016627]</td>\n",
       "      <td>London</td>\n",
       "      <td>2012-08-03 10:00:00</td>\n",
       "      <td>2012-08-03 13:45:00</td>\n",
       "      <td>1.343988e+09</td>\n",
       "      <td>1.344002e+09</td>\n",
       "    </tr>\n",
       "    <tr>\n",
       "      <th>4</th>\n",
       "      <td>Athletics</td>\n",
       "      <td>olympic park</td>\n",
       "      <td>[51.54343, -0.016627]</td>\n",
       "      <td>London</td>\n",
       "      <td>2012-08-03 10:00:00</td>\n",
       "      <td>2012-08-03 13:45:00</td>\n",
       "      <td>1.343988e+09</td>\n",
       "      <td>1.344002e+09</td>\n",
       "    </tr>\n",
       "  </tbody>\n",
       "</table>\n",
       "</div>"
      ],
      "text/plain": [
       "       event venue_cleaned  ... start_timestamp end_timestamp\n",
       "0  Athletics  olympic park  ...    1.343988e+09  1.344002e+09\n",
       "1  Athletics  olympic park  ...    1.343988e+09  1.344002e+09\n",
       "2  Athletics  olympic park  ...    1.343988e+09  1.344002e+09\n",
       "3  Athletics  olympic park  ...    1.343988e+09  1.344002e+09\n",
       "4  Athletics  olympic park  ...    1.343988e+09  1.344002e+09\n",
       "\n",
       "[5 rows x 8 columns]"
      ]
     },
     "execution_count": 263,
     "metadata": {
      "tags": []
     },
     "output_type": "execute_result"
    }
   ],
   "source": [
    "df_events.head(5)"
   ]
  },
  {
   "cell_type": "code",
   "execution_count": 37,
   "metadata": {
    "colab": {
     "base_uri": "https://localhost:8080/",
     "height": 34
    },
    "colab_type": "code",
    "executionInfo": {
     "elapsed": 312,
     "status": "ok",
     "timestamp": 1595184702684,
     "user": {
      "displayName": "Darshan Arvind Solanki",
      "photoUrl": "",
      "userId": "14688075179300985444"
     },
     "user_tz": 240
    },
    "id": "ZPdJTu1--jbn",
    "outputId": "b7043691-82e0-4702-8a8f-04b44e658e3a"
   },
   "outputs": [
    {
     "data": {
      "text/plain": [
       "11220"
      ]
     },
     "execution_count": 37,
     "metadata": {
      "tags": []
     },
     "output_type": "execute_result"
    }
   ],
   "source": [
    "len(combine_check_venue_df['User ID'].unique())"
   ]
  },
  {
   "cell_type": "markdown",
   "metadata": {
    "colab_type": "text",
    "id": "btIKrnTAmlQ5"
   },
   "source": [
    "#Saving Required Data files "
   ]
  },
  {
   "cell_type": "markdown",
   "metadata": {
    "colab_type": "text",
    "id": "6j3WaLs3Z9bF"
   },
   "source": [
    "##All check-ins across the country"
   ]
  },
  {
   "cell_type": "code",
   "execution_count": null,
   "metadata": {
    "colab": {},
    "colab_type": "code",
    "id": "qjybDcmw2Jx-"
   },
   "outputs": [],
   "source": [
    "combine_check_venue_df.to_csv('/content/All-Check-ins.csv',header=True)"
   ]
  },
  {
   "cell_type": "markdown",
   "metadata": {
    "colab_type": "text",
    "id": "TsswztMwZszp"
   },
   "source": [
    "##All check-ins took place in London During Olympics"
   ]
  },
  {
   "cell_type": "code",
   "execution_count": null,
   "metadata": {
    "colab": {
     "base_uri": "https://localhost:8080/",
     "height": 101
    },
    "colab_type": "code",
    "id": "dGGGGaPZnrtZ",
    "outputId": "91a3c484-c726-4777-b819-162e8d0b28ac"
   },
   "outputs": [
    {
     "name": "stderr",
     "output_type": "stream",
     "text": [
      "/usr/local/lib/python3.6/dist-packages/ipykernel_launcher.py:1: SettingWithCopyWarning: \n",
      "A value is trying to be set on a copy of a slice from a DataFrame\n",
      "\n",
      "See the caveats in the documentation: https://pandas.pydata.org/pandas-docs/stable/user_guide/indexing.html#returning-a-view-versus-a-copy\n",
      "  \"\"\"Entry point for launching an IPython kernel.\n"
     ]
    }
   ],
   "source": [
    "\n",
    "df_lon = #call getSpecifiedPeriodFunc\n",
    "df_lon.sort_values(by='TimeStamp',inplace=True)\n",
    "df_lon.to_csv('/content/London_Olympics_Checkin.csv',header=True)"
   ]
  },
  {
   "cell_type": "markdown",
   "metadata": {
    "colab_type": "text",
    "id": "nyZ9AeuQZkMM"
   },
   "source": [
    "##Data of Olympic events held in London"
   ]
  },
  {
   "cell_type": "code",
   "execution_count": null,
   "metadata": {
    "colab": {},
    "colab_type": "code",
    "id": "GJcpVExFomNN"
   },
   "outputs": [],
   "source": [
    "df_events_lon = df_events[df_events['City'] == 'London']\n",
    "df_events_lon.sort_values(by='start_timestamp',inplace=True)\n",
    "df_events_lon.to_csv('London_Citadel_Olympic_Events.csv',header=True)"
   ]
  },
  {
   "cell_type": "markdown",
   "metadata": {
    "colab_type": "text",
    "id": "cFgi99l1Zca0"
   },
   "source": [
    "##It denotes all the check-in events took place in London"
   ]
  },
  {
   "cell_type": "code",
   "execution_count": null,
   "metadata": {
    "colab": {},
    "colab_type": "code",
    "id": "8pYurc5upT0Y"
   },
   "outputs": [],
   "source": [
    "total_london_checkins = combine_check_venue_df[combine_check_venue_df['City'] == 'London']\n",
    "total_london_checkins.to_csv('/content/Total_London_Checkins.csv',header=True)"
   ]
  },
  {
   "cell_type": "markdown",
   "metadata": {
    "colab_type": "text",
    "id": "gVnL-SMNaP_n"
   },
   "source": [
    "#Func"
   ]
  },
  {
   "cell_type": "code",
   "execution_count": null,
   "metadata": {
    "colab": {},
    "colab_type": "code",
    "id": "7sxtCpKZb-8g"
   },
   "outputs": [],
   "source": [
    "check_unique_loncheck = total_london_checkins[['Venue ID','Latitude','Longitude','Category']].drop_duplicates().reset_index()\n",
    "\n",
    "def getSpecificTrends(df,type_,days_before=None,days_after=None):\n",
    "\n",
    "  #during olympics check for UK or London checkin trends\n",
    "\n",
    "  if(days_after == None and days_before == None):\n",
    "     masks = (1343988000.0 - 3600*(24*7) <= df['TimeStamp']) &  (df['TimeStamp'] <= 1343988000.0+3600*(24*9))\n",
    "     df_target = df[masks]\n",
    "\n",
    "  #After Olympics trends\n",
    "  elif(days_after != None):\n",
    "\n",
    "      masks = (1343988000.0 + 3600*(24*10) <= df['TimeStamp']) & (df['TimeStamp'] <= 1343988000.0+3600*(24*(9+days_after)))\n",
    "      df_target = df[masks]\n",
    "\n",
    "  #Before Olympics Trends\n",
    "  else:\n",
    "    masks = (1343988000.0 - 3600*(24*(7 + days_before)) <= df['TimeStamp']) &  (df['TimeStamp'] <= 1343988000.0-3600*24*7)\n",
    "    df_target = df[masks]\n",
    "\n",
    "  if(len(df_target)!=0):\n",
    "\n",
    "    target = df_target['Category'].value_counts().reset_index().rename(columns={'index':'Category','Category':'Check-in'})\n",
    "    target.sort_values(by='Check-in',ascending=False)\n",
    "    target['p_score'] = target['Check-in']/target['Check-in'].sum()\n",
    "    target_df = target.iloc[0:10]\n",
    "\n",
    "\n",
    "    ax = sns.barplot(x='p_score', y='Category', data=target_df)\n",
    "    ax.set_xlabel('Popularity Score')\n",
    "    ax.figure.savefig('/content/'+type_+'.png')\n",
    "\n",
    "  else:\n",
    "    print('No Data Found')\n",
    "\n",
    "  #calculate each venue how many check-ins made\n",
    "  total_lon_venue_checkin = df_target['Venue ID'].value_counts().reset_index().rename(columns = {'index':'Venue ID','Venue ID':'Count'})\n",
    "\n",
    "  #for each venue also map the category for it\n",
    "  merge_category_df = total_lon_venue_checkin.merge(check_unique_loncheck,on='Venue ID',how='inner').drop('index',axis=1)\n",
    "\n",
    "  #for each category get total number of check-ins\n",
    "  df_group_category  = pd.DataFrame(merge_category_df.groupby('Category')['Count'].sum())\n",
    "\n",
    "  #sort the each category total check-ins in descending order\n",
    "  df_group_category.sort_values(by='Count',ascending=False,inplace=True)\n",
    "\n",
    "  #calculate the importance of each venue belonging to same category\n",
    "  df_merge_indi_to_total = merge_category_df.merge(df_group_category,on='Category',how = 'inner')\n",
    "\n",
    "  return target,df_group_category,df_merge_indi_to_total\n"
   ]
  },
  {
   "cell_type": "code",
   "execution_count": null,
   "metadata": {
    "colab": {
     "base_uri": "https://localhost:8080/",
     "height": 279
    },
    "colab_type": "code",
    "id": "SHid-GxscRbU",
    "outputId": "30d5eebb-01bc-4652-920b-a006775ab17e"
   },
   "outputs": [
    {
     "data": {
      "image/png": "[encoded data removed]",
      "text/plain": [
       "<Figure size 432x288 with 1 Axes>"
      ]
     },
     "metadata": {
      "needs_background": "light",
      "tags": []
     },
     "output_type": "display_data"
    }
   ],
   "source": [
    "df_pre_target,pre_olympics,pre_olympics_venue_pscore = getSpecificTrends(total_london_checkins,'pre',90)"
   ]
  },
  {
   "cell_type": "code",
   "execution_count": null,
   "metadata": {
    "colab": {
     "base_uri": "https://localhost:8080/",
     "height": 279
    },
    "colab_type": "code",
    "id": "CXpp4J6ZzFbe",
    "outputId": "f10a75ee-b496-478d-e8ac-e2b27f519e41"
   },
   "outputs": [
    {
     "data": {
      "image/png": "[encoded data removed]",
      "text/plain": [
       "<Figure size 432x288 with 1 Axes>"
      ]
     },
     "metadata": {
      "needs_background": "light",
      "tags": []
     },
     "output_type": "display_data"
    }
   ],
   "source": [
    "df_during_target,during_olympics,during_olympics_venue_pscore = getSpecificTrends(total_london_checkins,'during')"
   ]
  },
  {
   "cell_type": "code",
   "execution_count": null,
   "metadata": {
    "colab": {
     "base_uri": "https://localhost:8080/",
     "height": 346
    },
    "colab_type": "code",
    "id": "Oc5T8yOFzJ8M",
    "outputId": "a1a4eb83-43f3-4335-afd5-d7b2e2f4f69b"
   },
   "outputs": [
    {
     "name": "stderr",
     "output_type": "stream",
     "text": [
      "/usr/local/lib/python3.6/dist-packages/matplotlib/backends/backend_agg.py:214: RuntimeWarning: Glyph 26 missing from current font.\n",
      "  font.set_text(s, 0.0, flags=flags)\n",
      "/usr/local/lib/python3.6/dist-packages/matplotlib/backends/backend_agg.py:183: RuntimeWarning: Glyph 26 missing from current font.\n",
      "  font.set_text(s, 0, flags=flags)\n"
     ]
    },
    {
     "data": {
      "image/png": "[encoded data removed]",
      "text/plain": [
       "<Figure size 432x288 with 1 Axes>"
      ]
     },
     "metadata": {
      "needs_background": "light",
      "tags": []
     },
     "output_type": "display_data"
    }
   ],
   "source": [
    "df_pos_target,post_olympics,post_olympics_venue_pscore = getSpecificTrends(total_london_checkins,'post',None,90)"
   ]
  },
  {
   "cell_type": "code",
   "execution_count": null,
   "metadata": {
    "colab": {},
    "colab_type": "code",
    "id": "cKzjWYa-pjvL"
   },
   "outputs": [],
   "source": [
    "#Use pscore df for getting importance for each venue\n",
    "df_final_1 = df_final[df_final['Count_y'] > df_final['Count_y'].median()]\n",
    "df_final_1['p_score'] = df_final_1['Count_x'] / df_final_1['Count_y']"
   ]
  },
  {
   "cell_type": "code",
   "execution_count": null,
   "metadata": {
    "colab": {},
    "colab_type": "code",
    "id": "dhrNVv5b75T6"
   },
   "outputs": [],
   "source": [
    "#change the return type for during call to return target and not target_df, ----Important to get the graph\n",
    "sub_category = df_during_target['Category'].to_list()\n",
    "sub_category"
   ]
  },
  {
   "cell_type": "code",
   "execution_count": null,
   "metadata": {
    "colab": {},
    "colab_type": "code",
    "id": "fcl4xXFS8UIi"
   },
   "outputs": [],
   "source": [
    "#Outdated\n",
    "\n",
    "'''\n",
    "def sameSubCategoryAnalysis(df):\n",
    "\n",
    "  print(len(df))\n",
    "  df.sort_values(by='Check-in',ascending=False)\n",
    "  ax = sns.barplot(x='p_score', y='Category', data=df)\n",
    "  ax.set_xlabel('Popularity Score')\n",
    "  \n",
    "\n",
    "  return df\n",
    "\n",
    "'''"
   ]
  },
  {
   "cell_type": "code",
   "execution_count": null,
   "metadata": {
    "colab": {
     "base_uri": "https://localhost:8080/",
     "height": 547
    },
    "colab_type": "code",
    "id": "ibA3KXiqcHvh",
    "outputId": "3e38d191-2d28-48cd-8b86-bc1be24ac1c4"
   },
   "outputs": [
    {
     "data": {
      "image/png": "[encoded data removed]",
      "text/plain": [
       "<Figure size 720x504 with 1 Axes>"
      ]
     },
     "metadata": {
      "needs_background": "light",
      "tags": []
     },
     "output_type": "display_data"
    }
   ],
   "source": [
    "\n",
    "def sameSubCategoryAnalysis():\n",
    "\n",
    "  same_cat_pos_df = df_pos_target[df_pos_target['Category'].isin(sub_category)]\n",
    "  same_cat_pre_df = df_pre_target[df_pre_target['Category'].isin(sub_category)]\n",
    "  same_cat_dur_df = df_during_target.copy()\n",
    "  same_cat_all_df = pd.concat([same_cat_dur_df,same_cat_pre_df,same_cat_pos_df], ignore_index=True)\n",
    "  same_cat_all_df['period'] = ['dur']*10 + ['pre']*10 + ['pos']*10 \n",
    "\n",
    "  pivot_df = same_cat_all_df.pivot(index='Category', columns='period', values='p_score')\n",
    "  colors = [\"#006D2C\", \"#31A354\",\"#74C476\"]\n",
    "  pivot_df.loc[:,:].plot.bar(stacked=True,color = colors,figsize=(10,7))\n",
    "\n",
    "\n",
    "sameSubCategoryAnalysis()"
   ]
  }
 ],
 "metadata": {
  "colab": {
   "collapsed_sections": [],
   "name": "Location_Handler_new.ipynb",
   "provenance": [],
   "toc_visible": true
  },
  "kernelspec": {
   "display_name": "Python 3",
   "language": "python",
   "name": "python3"
  },
  "language_info": {
   "codemirror_mode": {
    "name": "ipython",
    "version": 3
   },
   "file_extension": ".py",
   "mimetype": "text/x-python",
   "name": "python",
   "nbconvert_exporter": "python",
   "pygments_lexer": "ipython3",
   "version": "3.6.3"
  }
 },
 "nbformat": 4,
 "nbformat_minor": 1
}
