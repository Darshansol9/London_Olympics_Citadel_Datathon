{
 "cells": [
  {
   "cell_type": "code",
   "execution_count": 2,
   "metadata": {
    "colab": {},
    "colab_type": "code",
    "executionInfo": {
     "elapsed": 415,
     "status": "ok",
     "timestamp": 1595131788889,
     "user": {
      "displayName": "Vivek Gupta",
      "photoUrl": "",
      "userId": "04741807658388914317"
     },
     "user_tz": 240
    },
    "id": "rNMNaONtkVZ7"
   },
   "outputs": [],
   "source": [
    "import pandas as pd\n",
    "import math\n",
    "import matplotlib.pyplot as plt\n",
    "from tqdm import tqdm\n",
    "\n",
    "%matplotlib inline"
   ]
  },
  {
   "cell_type": "markdown",
   "metadata": {
    "colab_type": "text",
    "id": "54mxnYGvQ5PJ"
   },
   "source": [
    "# Generating final table"
   ]
  },
  {
   "cell_type": "code",
   "execution_count": 4,
   "metadata": {
    "colab": {},
    "colab_type": "code",
    "executionInfo": {
     "elapsed": 441,
     "status": "ok",
     "timestamp": 1595131940698,
     "user": {
      "displayName": "Vivek Gupta",
      "photoUrl": "",
      "userId": "04741807658388914317"
     },
     "user_tz": 240
    },
    "id": "kGp9LqEvQ8mI"
   },
   "outputs": [],
   "source": [
    "import math\n",
    "from heapq import heappush, heappop\n",
    "\n",
    "olympics_locations_dict = {'earls court': [51.492483, -0.199686],\n",
    "        'eton dorney': [51.493908, -0.663455],\n",
    "        'excel': [51.507218, 0.030504],\n",
    "        'greenwich park': [51.476958, 0.001483],\n",
    "        'hadleigh farm': [51.552378, 0.597948],\n",
    "        'horse guards parade': [51.504798, -0.12838],\n",
    "        'hyde park': [51.508196, -0.165699],\n",
    "        'lee valley white water centre': [51.688963, -0.017208],\n",
    "        \"lord's\": [51.529934, -0.172178],\n",
    "        'north greenwich arena': [51.503126, 0.003191],\n",
    "        'olympic park': [51.54343, -0.016627],\n",
    "        'royal artillery barracks': [51.487557, 0.059606],\n",
    "        'the mall': [51.504581, -0.13436],\n",
    "        'wembley arena': [51.558196, -0.282597],\n",
    "        'wembley stadium': [51.556067, -0.279519],\n",
    "        'wimbledon': [51.419528, -0.220417]}\n",
    "\n",
    "def aerialDist(lat1,lon1,lat2,lon2):\n",
    "\n",
    "  r = 6371e3\n",
    "  theta1 = lat1 * math.pi/180\n",
    "  theta2 = lat2 * math.pi/180\n",
    "\n",
    "  delta = (lon2 - lon1) * math.pi/180\n",
    "  d = math.acos(math.sin(theta1) * math.sin(theta2)  + math.cos(theta1) * math.cos(theta2) * math.cos(delta)) * r\n",
    "  \n",
    "  return round(d/1000,2)\n",
    "\n",
    "\n",
    "def findKNN(venue_coords, k):\n",
    "  heap = []\n",
    "  latitude, longitude = venue_coords\n",
    "\n",
    "  for venue in olympics_locations_dict.keys():\n",
    "    venue_lat = olympics_locations_dict[venue][0]\n",
    "    venue_long = olympics_locations_dict[venue][1]\n",
    "    distance = aerialDist(latitude, longitude, venue_lat, venue_long)\n",
    "\n",
    "    if len(heap) == k:\n",
    "      if -distance >= heap[0][0]:\n",
    "        heappop(heap)\n",
    "        heappush(heap, (-distance, [venue_lat, venue_long]))\n",
    "    else:\n",
    "      heappush(heap, (-distance, [venue_lat, venue_long]))\n",
    "  \n",
    "  return [-distance for distance, coords in heap]\n",
    "\n",
    "\n",
    "def getOlympicDistance(row, k):\n",
    "  latitude = row['Latitude']\n",
    "  longitude = row['Longitude']\n",
    "\n",
    "  NN = findKNN([latitude, longitude], k)\n",
    "\n",
    "  return sum(NN) / k"
   ]
  },
  {
   "cell_type": "code",
   "execution_count": 13,
   "metadata": {
    "colab": {
     "base_uri": "https://localhost:8080/",
     "height": 219
    },
    "colab_type": "code",
    "executionInfo": {
     "elapsed": 252,
     "status": "ok",
     "timestamp": 1595132171931,
     "user": {
      "displayName": "Vivek Gupta",
      "photoUrl": "",
      "userId": "04741807658388914317"
     },
     "user_tz": 240
    },
    "id": "uFjBJ7gEReF0",
    "outputId": "4fe897d3-2bb1-4879-a186-68c16b5991d8"
   },
   "outputs": [
    {
     "name": "stdout",
     "output_type": "stream",
     "text": [
      "1605\n"
     ]
    },
    {
     "data": {
      "text/html": [
       "<div>\n",
       "<style scoped>\n",
       "    .dataframe tbody tr th:only-of-type {\n",
       "        vertical-align: middle;\n",
       "    }\n",
       "\n",
       "    .dataframe tbody tr th {\n",
       "        vertical-align: top;\n",
       "    }\n",
       "\n",
       "    .dataframe thead th {\n",
       "        text-align: right;\n",
       "    }\n",
       "</style>\n",
       "<table border=\"1\" class=\"dataframe\">\n",
       "  <thead>\n",
       "    <tr style=\"text-align: right;\">\n",
       "      <th></th>\n",
       "      <th>Unnamed: 0</th>\n",
       "      <th>Venue ID</th>\n",
       "      <th>#checkin_before</th>\n",
       "      <th>#checkin_after</th>\n",
       "      <th>checkin_increase</th>\n",
       "    </tr>\n",
       "  </thead>\n",
       "  <tbody>\n",
       "    <tr>\n",
       "      <th>0</th>\n",
       "      <td>0</td>\n",
       "      <td>4a5f9446f964a520e0bf1fe3</td>\n",
       "      <td>1</td>\n",
       "      <td>1</td>\n",
       "      <td>0</td>\n",
       "    </tr>\n",
       "    <tr>\n",
       "      <th>1</th>\n",
       "      <td>1</td>\n",
       "      <td>4abe4502f964a520558c20e3</td>\n",
       "      <td>33</td>\n",
       "      <td>31</td>\n",
       "      <td>0</td>\n",
       "    </tr>\n",
       "    <tr>\n",
       "      <th>2</th>\n",
       "      <td>2</td>\n",
       "      <td>4abf8c03f964a520079120e3</td>\n",
       "      <td>57</td>\n",
       "      <td>24</td>\n",
       "      <td>0</td>\n",
       "    </tr>\n",
       "    <tr>\n",
       "      <th>3</th>\n",
       "      <td>3</td>\n",
       "      <td>4ac51183f964a52048a020e3</td>\n",
       "      <td>6</td>\n",
       "      <td>6</td>\n",
       "      <td>0</td>\n",
       "    </tr>\n",
       "    <tr>\n",
       "      <th>4</th>\n",
       "      <td>4</td>\n",
       "      <td>4ac51183f964a52049a020e3</td>\n",
       "      <td>2</td>\n",
       "      <td>6</td>\n",
       "      <td>1</td>\n",
       "    </tr>\n",
       "  </tbody>\n",
       "</table>\n",
       "</div>"
      ],
      "text/plain": [
       "   Unnamed: 0                  Venue ID  ...  #checkin_after  checkin_increase\n",
       "0           0  4a5f9446f964a520e0bf1fe3  ...               1                 0\n",
       "1           1  4abe4502f964a520558c20e3  ...              31                 0\n",
       "2           2  4abf8c03f964a520079120e3  ...              24                 0\n",
       "3           3  4ac51183f964a52048a020e3  ...               6                 0\n",
       "4           4  4ac51183f964a52049a020e3  ...               6                 1\n",
       "\n",
       "[5 rows x 5 columns]"
      ]
     },
     "execution_count": 13,
     "metadata": {
      "tags": []
     },
     "output_type": "execute_result"
    }
   ],
   "source": [
    "# checkin_df = pd.read_csv('/content/drive/My Drive/Datathon/processed_data/checkin_london_3week_before_after.csv')\n",
    "# entropy_df = pd.read_csv('/content/drive/My Drive/Datathon/processed_data/select_venue_location_df.csv')\n",
    "# subway_df = pd.read_csv('/content/drive/My Drive/Datathon/processed_data/closest_station_to_venue.csv')\n",
    "print(len(checkin_df))\n",
    "checkin_df.head()"
   ]
  },
  {
   "cell_type": "code",
   "execution_count": 12,
   "metadata": {
    "colab": {
     "base_uri": "https://localhost:8080/",
     "height": 271
    },
    "colab_type": "code",
    "executionInfo": {
     "elapsed": 374,
     "status": "ok",
     "timestamp": 1595132161068,
     "user": {
      "displayName": "Vivek Gupta",
      "photoUrl": "",
      "userId": "04741807658388914317"
     },
     "user_tz": 240
    },
    "id": "HxgOfbr5R8iC",
    "outputId": "a4be917b-e058-42b7-e085-c4745918d1c9"
   },
   "outputs": [
    {
     "name": "stdout",
     "output_type": "stream",
     "text": [
      "455\n"
     ]
    },
    {
     "data": {
      "text/html": [
       "<div>\n",
       "<style scoped>\n",
       "    .dataframe tbody tr th:only-of-type {\n",
       "        vertical-align: middle;\n",
       "    }\n",
       "\n",
       "    .dataframe tbody tr th {\n",
       "        vertical-align: top;\n",
       "    }\n",
       "\n",
       "    .dataframe thead th {\n",
       "        text-align: right;\n",
       "    }\n",
       "</style>\n",
       "<table border=\"1\" class=\"dataframe\">\n",
       "  <thead>\n",
       "    <tr style=\"text-align: right;\">\n",
       "      <th></th>\n",
       "      <th>Unnamed: 0</th>\n",
       "      <th>Venue ID</th>\n",
       "      <th>Latitude</th>\n",
       "      <th>Longitude</th>\n",
       "      <th>Category</th>\n",
       "      <th>MainCategory</th>\n",
       "      <th>NearPlaceEntropy</th>\n",
       "    </tr>\n",
       "  </thead>\n",
       "  <tbody>\n",
       "    <tr>\n",
       "      <th>0</th>\n",
       "      <td>0</td>\n",
       "      <td>4c18fe2d6a21c9b670d6c997</td>\n",
       "      <td>51.470664</td>\n",
       "      <td>-0.457907</td>\n",
       "      <td>Airport Terminal</td>\n",
       "      <td>Travel &amp; Transport</td>\n",
       "      <td>0.188163</td>\n",
       "    </tr>\n",
       "    <tr>\n",
       "      <th>1</th>\n",
       "      <td>1</td>\n",
       "      <td>4ac518cef964a520f5a520e3</td>\n",
       "      <td>51.513684</td>\n",
       "      <td>-0.099435</td>\n",
       "      <td>Church</td>\n",
       "      <td>Professional &amp; Other Places</td>\n",
       "      <td>0.127212</td>\n",
       "    </tr>\n",
       "    <tr>\n",
       "      <th>2</th>\n",
       "      <td>2</td>\n",
       "      <td>4badfc5af964a5202e783be3</td>\n",
       "      <td>51.516835</td>\n",
       "      <td>-0.404166</td>\n",
       "      <td>Coffee Shop</td>\n",
       "      <td>Food</td>\n",
       "      <td>0.889921</td>\n",
       "    </tr>\n",
       "    <tr>\n",
       "      <th>3</th>\n",
       "      <td>3</td>\n",
       "      <td>4b409606f964a52025b925e3</td>\n",
       "      <td>51.536139</td>\n",
       "      <td>-0.103168</td>\n",
       "      <td>Park</td>\n",
       "      <td>Outdoors &amp; Recreation</td>\n",
       "      <td>0.142123</td>\n",
       "    </tr>\n",
       "    <tr>\n",
       "      <th>4</th>\n",
       "      <td>4</td>\n",
       "      <td>4ac518d1f964a520e0a620e3</td>\n",
       "      <td>51.508182</td>\n",
       "      <td>-0.087547</td>\n",
       "      <td>Bridge</td>\n",
       "      <td>Outdoors &amp; Recreation</td>\n",
       "      <td>0.099387</td>\n",
       "    </tr>\n",
       "  </tbody>\n",
       "</table>\n",
       "</div>"
      ],
      "text/plain": [
       "   Unnamed: 0  ... NearPlaceEntropy\n",
       "0           0  ...         0.188163\n",
       "1           1  ...         0.127212\n",
       "2           2  ...         0.889921\n",
       "3           3  ...         0.142123\n",
       "4           4  ...         0.099387\n",
       "\n",
       "[5 rows x 7 columns]"
      ]
     },
     "execution_count": 12,
     "metadata": {
      "tags": []
     },
     "output_type": "execute_result"
    }
   ],
   "source": [
    "print(len(entropy_df))\n",
    "entropy_df.head()"
   ]
  },
  {
   "cell_type": "code",
   "execution_count": 11,
   "metadata": {
    "colab": {
     "base_uri": "https://localhost:8080/",
     "height": 219
    },
    "colab_type": "code",
    "executionInfo": {
     "elapsed": 266,
     "status": "ok",
     "timestamp": 1595132144200,
     "user": {
      "displayName": "Vivek Gupta",
      "photoUrl": "",
      "userId": "04741807658388914317"
     },
     "user_tz": 240
    },
    "id": "M8aAdCVWSFZL",
    "outputId": "3d12f054-859e-4ec1-b4ef-f80b9a186f56"
   },
   "outputs": [
    {
     "name": "stdout",
     "output_type": "stream",
     "text": [
      "28687\n"
     ]
    },
    {
     "data": {
      "text/html": [
       "<div>\n",
       "<style scoped>\n",
       "    .dataframe tbody tr th:only-of-type {\n",
       "        vertical-align: middle;\n",
       "    }\n",
       "\n",
       "    .dataframe tbody tr th {\n",
       "        vertical-align: top;\n",
       "    }\n",
       "\n",
       "    .dataframe thead th {\n",
       "        text-align: right;\n",
       "    }\n",
       "</style>\n",
       "<table border=\"1\" class=\"dataframe\">\n",
       "  <thead>\n",
       "    <tr style=\"text-align: right;\">\n",
       "      <th></th>\n",
       "      <th>Unnamed: 0</th>\n",
       "      <th>Venue ID</th>\n",
       "      <th>Station_name</th>\n",
       "      <th>distance</th>\n",
       "      <th>pagerank</th>\n",
       "    </tr>\n",
       "  </thead>\n",
       "  <tbody>\n",
       "    <tr>\n",
       "      <th>0</th>\n",
       "      <td>0</td>\n",
       "      <td>4aec9f4bf964a52091c921e3</td>\n",
       "      <td>Borough</td>\n",
       "      <td>0.43</td>\n",
       "      <td>0.002441</td>\n",
       "    </tr>\n",
       "    <tr>\n",
       "      <th>1</th>\n",
       "      <td>1</td>\n",
       "      <td>4b9024ccf964a5204a7833e3</td>\n",
       "      <td>Ealing Broadway</td>\n",
       "      <td>0.05</td>\n",
       "      <td>0.002909</td>\n",
       "    </tr>\n",
       "    <tr>\n",
       "      <th>2</th>\n",
       "      <td>2</td>\n",
       "      <td>4bd9dff02a3a0f4726a7a8b6</td>\n",
       "      <td>Aldgate East</td>\n",
       "      <td>0.24</td>\n",
       "      <td>0.003402</td>\n",
       "    </tr>\n",
       "    <tr>\n",
       "      <th>3</th>\n",
       "      <td>3</td>\n",
       "      <td>4b044900f964a520e05222e3</td>\n",
       "      <td>Shepherd's Bush (C)</td>\n",
       "      <td>0.36</td>\n",
       "      <td>0.002998</td>\n",
       "    </tr>\n",
       "    <tr>\n",
       "      <th>4</th>\n",
       "      <td>4</td>\n",
       "      <td>4f6880ce6b74aa26bb61f7ac</td>\n",
       "      <td>Old Street</td>\n",
       "      <td>0.42</td>\n",
       "      <td>0.002501</td>\n",
       "    </tr>\n",
       "  </tbody>\n",
       "</table>\n",
       "</div>"
      ],
      "text/plain": [
       "   Unnamed: 0                  Venue ID  ... distance  pagerank\n",
       "0           0  4aec9f4bf964a52091c921e3  ...     0.43  0.002441\n",
       "1           1  4b9024ccf964a5204a7833e3  ...     0.05  0.002909\n",
       "2           2  4bd9dff02a3a0f4726a7a8b6  ...     0.24  0.003402\n",
       "3           3  4b044900f964a520e05222e3  ...     0.36  0.002998\n",
       "4           4  4f6880ce6b74aa26bb61f7ac  ...     0.42  0.002501\n",
       "\n",
       "[5 rows x 5 columns]"
      ]
     },
     "execution_count": 11,
     "metadata": {
      "tags": []
     },
     "output_type": "execute_result"
    }
   ],
   "source": [
    "print(len(subway_df))\n",
    "subway_df.head()"
   ]
  },
  {
   "cell_type": "code",
   "execution_count": 19,
   "metadata": {
    "colab": {
     "base_uri": "https://localhost:8080/",
     "height": 222
    },
    "colab_type": "code",
    "executionInfo": {
     "elapsed": 361,
     "status": "ok",
     "timestamp": 1595132888573,
     "user": {
      "displayName": "Vivek Gupta",
      "photoUrl": "",
      "userId": "04741807658388914317"
     },
     "user_tz": 240
    },
    "id": "iQophRa7SZZ-",
    "outputId": "863d8bd7-a568-48b1-e5f5-27783328a23d"
   },
   "outputs": [
    {
     "data": {
      "text/html": [
       "<div>\n",
       "<style scoped>\n",
       "    .dataframe tbody tr th:only-of-type {\n",
       "        vertical-align: middle;\n",
       "    }\n",
       "\n",
       "    .dataframe tbody tr th {\n",
       "        vertical-align: top;\n",
       "    }\n",
       "\n",
       "    .dataframe thead th {\n",
       "        text-align: right;\n",
       "    }\n",
       "</style>\n",
       "<table border=\"1\" class=\"dataframe\">\n",
       "  <thead>\n",
       "    <tr style=\"text-align: right;\">\n",
       "      <th></th>\n",
       "      <th>Venue ID</th>\n",
       "      <th>#checkin_before</th>\n",
       "      <th>#checkin_after</th>\n",
       "      <th>Latitude</th>\n",
       "      <th>Longitude</th>\n",
       "      <th>NearPlaceEntropy</th>\n",
       "      <th>OlympicDistance</th>\n",
       "    </tr>\n",
       "  </thead>\n",
       "  <tbody>\n",
       "    <tr>\n",
       "      <th>0</th>\n",
       "      <td>4abe4502f964a520558c20e3</td>\n",
       "      <td>33</td>\n",
       "      <td>31</td>\n",
       "      <td>51.501303</td>\n",
       "      <td>-0.142103</td>\n",
       "      <td>0.238129</td>\n",
       "      <td>1.160000</td>\n",
       "    </tr>\n",
       "    <tr>\n",
       "      <th>1</th>\n",
       "      <td>4abf8c03f964a520079120e3</td>\n",
       "      <td>57</td>\n",
       "      <td>24</td>\n",
       "      <td>51.499166</td>\n",
       "      <td>-0.162885</td>\n",
       "      <td>0.115433</td>\n",
       "      <td>1.850000</td>\n",
       "    </tr>\n",
       "    <tr>\n",
       "      <th>2</th>\n",
       "      <td>4ac51183f964a52048a020e3</td>\n",
       "      <td>6</td>\n",
       "      <td>6</td>\n",
       "      <td>51.535645</td>\n",
       "      <td>-0.155740</td>\n",
       "      <td>1.133732</td>\n",
       "      <td>2.730000</td>\n",
       "    </tr>\n",
       "    <tr>\n",
       "      <th>3</th>\n",
       "      <td>4ac51183f964a52049a020e3</td>\n",
       "      <td>2</td>\n",
       "      <td>6</td>\n",
       "      <td>51.491043</td>\n",
       "      <td>-0.127888</td>\n",
       "      <td>0.256612</td>\n",
       "      <td>2.113333</td>\n",
       "    </tr>\n",
       "    <tr>\n",
       "      <th>4</th>\n",
       "      <td>4ac518b4f964a52072a020e3</td>\n",
       "      <td>4</td>\n",
       "      <td>4</td>\n",
       "      <td>51.505323</td>\n",
       "      <td>-0.150719</td>\n",
       "      <td>0.171440</td>\n",
       "      <td>1.256667</td>\n",
       "    </tr>\n",
       "  </tbody>\n",
       "</table>\n",
       "</div>"
      ],
      "text/plain": [
       "                   Venue ID  #checkin_before  ...  NearPlaceEntropy  OlympicDistance\n",
       "0  4abe4502f964a520558c20e3               33  ...          0.238129         1.160000\n",
       "1  4abf8c03f964a520079120e3               57  ...          0.115433         1.850000\n",
       "2  4ac51183f964a52048a020e3                6  ...          1.133732         2.730000\n",
       "3  4ac51183f964a52049a020e3                2  ...          0.256612         2.113333\n",
       "4  4ac518b4f964a52072a020e3                4  ...          0.171440         1.256667\n",
       "\n",
       "[5 rows x 7 columns]"
      ]
     },
     "execution_count": 19,
     "metadata": {
      "tags": []
     },
     "output_type": "execute_result"
    }
   ],
   "source": [
    "filter_df = checkin_df.merge(entropy_df, on='Venue ID')[['Venue ID','#checkin_before', '#checkin_after','Latitude', 'Longitude', 'NearPlaceEntropy']]\n",
    "filter_df['OlympicDistance'] = filter_df.apply(lambda row: getOlympicDistance(row, 3), axis=1)\n",
    "filter_df.head()"
   ]
  },
  {
   "cell_type": "code",
   "execution_count": 23,
   "metadata": {
    "colab": {},
    "colab_type": "code",
    "executionInfo": {
     "elapsed": 344,
     "status": "ok",
     "timestamp": 1595133185534,
     "user": {
      "displayName": "Vivek Gupta",
      "photoUrl": "",
      "userId": "04741807658388914317"
     },
     "user_tz": 240
    },
    "id": "_FAUFLHjU4WP"
   },
   "outputs": [],
   "source": [
    "final_df = filter_df.merge(subway_df, on='Venue ID')[['Venue ID','#checkin_before', '#checkin_after', 'NearPlaceEntropy', 'OlympicDistance', 'distance', 'pagerank']].rename(columns={'distance': 'NearestStationDistance', 'pagerank': 'StationPagerank', 'Venue ID': 'VenueID', '#checkin_before': 'CheckinBefore', '#checkin_after': 'CheckinAfter'})\n",
    "final_df.to_csv('/content/drive/My Drive/Datathon/processed_data/final_data.csv')"
   ]
  },
  {
   "cell_type": "markdown",
   "metadata": {
    "colab_type": "text",
    "id": "js_u5cUX4rUN"
   },
   "source": [
    "\n",
    "\n",
    "---\n",
    "# Creating Target Column\n"
   ]
  },
  {
   "cell_type": "code",
   "execution_count": 22,
   "metadata": {
    "colab": {
     "base_uri": "https://localhost:8080/",
     "height": 586
    },
    "colab_type": "code",
    "executionInfo": {
     "elapsed": 3065,
     "status": "ok",
     "timestamp": 1595110513303,
     "user": {
      "displayName": "Vivek Gupta",
      "photoUrl": "",
      "userId": "04741807658388914317"
     },
     "user_tz": 240
    },
    "id": "qGp4WLe-4vhf",
    "outputId": "2f445c0e-ba4b-4be1-ae63-a22a34786ca7"
   },
   "outputs": [
    {
     "data": {
      "text/html": [
       "<div>\n",
       "<style scoped>\n",
       "    .dataframe tbody tr th:only-of-type {\n",
       "        vertical-align: middle;\n",
       "    }\n",
       "\n",
       "    .dataframe tbody tr th {\n",
       "        vertical-align: top;\n",
       "    }\n",
       "\n",
       "    .dataframe thead th {\n",
       "        text-align: right;\n",
       "    }\n",
       "</style>\n",
       "<table border=\"1\" class=\"dataframe\">\n",
       "  <thead>\n",
       "    <tr style=\"text-align: right;\">\n",
       "      <th></th>\n",
       "      <th>Unnamed: 0</th>\n",
       "      <th>User ID</th>\n",
       "      <th>Venue ID</th>\n",
       "      <th>UTC time</th>\n",
       "      <th>Timezone offset</th>\n",
       "      <th>Latitude</th>\n",
       "      <th>Longitude</th>\n",
       "      <th>Category</th>\n",
       "      <th>City</th>\n",
       "      <th>TimeStamp</th>\n",
       "      <th>Date</th>\n",
       "      <th>datetime</th>\n",
       "    </tr>\n",
       "  </thead>\n",
       "  <tbody>\n",
       "    <tr>\n",
       "      <th>0</th>\n",
       "      <td>0</td>\n",
       "      <td>262915</td>\n",
       "      <td>4aec9f4bf964a52091c921e3</td>\n",
       "      <td>Tue Apr 03 18:00:39 +0000 2012</td>\n",
       "      <td>60</td>\n",
       "      <td>51.498044</td>\n",
       "      <td>-0.090546</td>\n",
       "      <td>Pub</td>\n",
       "      <td>London</td>\n",
       "      <td>1.333476e+09</td>\n",
       "      <td>2012-04-03 18:00:39</td>\n",
       "      <td>2012-04-03 18:00:39</td>\n",
       "    </tr>\n",
       "    <tr>\n",
       "      <th>1</th>\n",
       "      <td>1</td>\n",
       "      <td>129494</td>\n",
       "      <td>4aec9f4bf964a52091c921e3</td>\n",
       "      <td>Sun Apr 08 18:18:30 +0000 2012</td>\n",
       "      <td>60</td>\n",
       "      <td>51.498044</td>\n",
       "      <td>-0.090546</td>\n",
       "      <td>Pub</td>\n",
       "      <td>London</td>\n",
       "      <td>1.333909e+09</td>\n",
       "      <td>2012-04-08 18:18:30</td>\n",
       "      <td>2012-04-08 18:18:30</td>\n",
       "    </tr>\n",
       "    <tr>\n",
       "      <th>2</th>\n",
       "      <td>2</td>\n",
       "      <td>262915</td>\n",
       "      <td>4aec9f4bf964a52091c921e3</td>\n",
       "      <td>Tue Apr 10 18:16:59 +0000 2012</td>\n",
       "      <td>60</td>\n",
       "      <td>51.498044</td>\n",
       "      <td>-0.090546</td>\n",
       "      <td>Pub</td>\n",
       "      <td>London</td>\n",
       "      <td>1.334082e+09</td>\n",
       "      <td>2012-04-10 18:16:59</td>\n",
       "      <td>2012-04-10 18:16:59</td>\n",
       "    </tr>\n",
       "    <tr>\n",
       "      <th>3</th>\n",
       "      <td>3</td>\n",
       "      <td>129494</td>\n",
       "      <td>4aec9f4bf964a52091c921e3</td>\n",
       "      <td>Wed Apr 11 20:56:49 +0000 2012</td>\n",
       "      <td>60</td>\n",
       "      <td>51.498044</td>\n",
       "      <td>-0.090546</td>\n",
       "      <td>Pub</td>\n",
       "      <td>London</td>\n",
       "      <td>1.334178e+09</td>\n",
       "      <td>2012-04-11 20:56:49</td>\n",
       "      <td>2012-04-11 20:56:49</td>\n",
       "    </tr>\n",
       "    <tr>\n",
       "      <th>4</th>\n",
       "      <td>4</td>\n",
       "      <td>129494</td>\n",
       "      <td>4aec9f4bf964a52091c921e3</td>\n",
       "      <td>Sat Apr 14 20:29:13 +0000 2012</td>\n",
       "      <td>60</td>\n",
       "      <td>51.498044</td>\n",
       "      <td>-0.090546</td>\n",
       "      <td>Pub</td>\n",
       "      <td>London</td>\n",
       "      <td>1.334435e+09</td>\n",
       "      <td>2012-04-14 20:29:13</td>\n",
       "      <td>2012-04-14 20:29:13</td>\n",
       "    </tr>\n",
       "  </tbody>\n",
       "</table>\n",
       "</div>"
      ],
      "text/plain": [
       "   Unnamed: 0  User ID  ...                 Date            datetime\n",
       "0           0   262915  ...  2012-04-03 18:00:39 2012-04-03 18:00:39\n",
       "1           1   129494  ...  2012-04-08 18:18:30 2012-04-08 18:18:30\n",
       "2           2   262915  ...  2012-04-10 18:16:59 2012-04-10 18:16:59\n",
       "3           3   129494  ...  2012-04-11 20:56:49 2012-04-11 20:56:49\n",
       "4           4   129494  ...  2012-04-14 20:29:13 2012-04-14 20:29:13\n",
       "\n",
       "[5 rows x 12 columns]"
      ]
     },
     "execution_count": 22,
     "metadata": {
      "tags": []
     },
     "output_type": "execute_result"
    }
   ],
   "source": [
    "from datetime import datetime\n",
    "# checkin_london_complete_df = pd.read_csv('/content/drive/My Drive/Datathon/processed_data/checkin_london_complete.csv')\n",
    "checkin_london_complete_df['datetime'] = checkin_london_complete_df.apply(lambda row: datetime.fromtimestamp(row['TimeStamp']), axis=1)\n",
    "checkin_london_complete_df.head()"
   ]
  },
  {
   "cell_type": "code",
   "execution_count": 29,
   "metadata": {
    "colab": {},
    "colab_type": "code",
    "executionInfo": {
     "elapsed": 332,
     "status": "ok",
     "timestamp": 1595110808223,
     "user": {
      "displayName": "Vivek Gupta",
      "photoUrl": "",
      "userId": "04741807658388914317"
     },
     "user_tz": 240
    },
    "id": "wPqX4gJv82h0"
   },
   "outputs": [],
   "source": [
    "def time_filter(df, start, end):\n",
    "  return df[(df['datetime'] >= start) & (df['datetime'] <= end)]"
   ]
  },
  {
   "cell_type": "code",
   "execution_count": 41,
   "metadata": {
    "colab": {},
    "colab_type": "code",
    "executionInfo": {
     "elapsed": 401,
     "status": "ok",
     "timestamp": 1595111494637,
     "user": {
      "displayName": "Vivek Gupta",
      "photoUrl": "",
      "userId": "04741807658388914317"
     },
     "user_tz": 240
    },
    "id": "VlRCbkI_9b7h"
   },
   "outputs": [],
   "source": [
    "london_checkin_25july_14aug_df = time_filter(checkin_london_complete_df, datetime(2012, 7, 25), datetime(2012, 8, 15))\n",
    "london_checkin_4july_24july_df = time_filter(checkin_london_complete_df, datetime(2012, 7, 4), datetime(2012, 7, 25))\n",
    "\n",
    "# min(london_checkin_25july_14aug_df['datetime']), max(london_checkin_25july_14aug_df['datetime'])"
   ]
  },
  {
   "cell_type": "code",
   "execution_count": 61,
   "metadata": {
    "colab": {
     "base_uri": "https://localhost:8080/",
     "height": 202
    },
    "colab_type": "code",
    "executionInfo": {
     "elapsed": 417,
     "status": "ok",
     "timestamp": 1595112780775,
     "user": {
      "displayName": "Vivek Gupta",
      "photoUrl": "",
      "userId": "04741807658388914317"
     },
     "user_tz": 240
    },
    "id": "uNX_KAAABmc5",
    "outputId": "110c0c68-2f54-4b86-8631-3ab30020ef76"
   },
   "outputs": [
    {
     "data": {
      "text/html": [
       "<div>\n",
       "<style scoped>\n",
       "    .dataframe tbody tr th:only-of-type {\n",
       "        vertical-align: middle;\n",
       "    }\n",
       "\n",
       "    .dataframe tbody tr th {\n",
       "        vertical-align: top;\n",
       "    }\n",
       "\n",
       "    .dataframe thead th {\n",
       "        text-align: right;\n",
       "    }\n",
       "</style>\n",
       "<table border=\"1\" class=\"dataframe\">\n",
       "  <thead>\n",
       "    <tr style=\"text-align: right;\">\n",
       "      <th></th>\n",
       "      <th>Venue ID</th>\n",
       "      <th>#checkin_before</th>\n",
       "      <th>#checkin_after</th>\n",
       "      <th>checkin_increase</th>\n",
       "    </tr>\n",
       "  </thead>\n",
       "  <tbody>\n",
       "    <tr>\n",
       "      <th>1</th>\n",
       "      <td>4abe4502f964a520558c20e3</td>\n",
       "      <td>33</td>\n",
       "      <td>31</td>\n",
       "      <td>0</td>\n",
       "    </tr>\n",
       "    <tr>\n",
       "      <th>2</th>\n",
       "      <td>4abf8c03f964a520079120e3</td>\n",
       "      <td>57</td>\n",
       "      <td>24</td>\n",
       "      <td>0</td>\n",
       "    </tr>\n",
       "    <tr>\n",
       "      <th>3</th>\n",
       "      <td>4ac51183f964a52048a020e3</td>\n",
       "      <td>6</td>\n",
       "      <td>6</td>\n",
       "      <td>0</td>\n",
       "    </tr>\n",
       "    <tr>\n",
       "      <th>4</th>\n",
       "      <td>4ac51183f964a52049a020e3</td>\n",
       "      <td>2</td>\n",
       "      <td>6</td>\n",
       "      <td>1</td>\n",
       "    </tr>\n",
       "    <tr>\n",
       "      <th>28</th>\n",
       "      <td>4ac518b9f964a520b0a120e3</td>\n",
       "      <td>15</td>\n",
       "      <td>5</td>\n",
       "      <td>0</td>\n",
       "    </tr>\n",
       "  </tbody>\n",
       "</table>\n",
       "</div>"
      ],
      "text/plain": [
       "                    Venue ID  #checkin_before  #checkin_after  checkin_increase\n",
       "1   4abe4502f964a520558c20e3               33              31                 0\n",
       "2   4abf8c03f964a520079120e3               57              24                 0\n",
       "3   4ac51183f964a52048a020e3                6               6                 0\n",
       "4   4ac51183f964a52049a020e3                2               6                 1\n",
       "28  4ac518b9f964a520b0a120e3               15               5                 0"
      ]
     },
     "execution_count": 61,
     "metadata": {
      "tags": []
     },
     "output_type": "execute_result"
    }
   ],
   "source": [
    "london_checkin_after = london_checkin_25july_14aug_df[['Venue ID', 'datetime']].groupby('Venue ID', as_index=False).count().rename(columns={'datetime': '#checkin_after'})\n",
    "london_checkin_before = london_checkin_4july_24july_df[['Venue ID', 'datetime']].groupby('Venue ID', as_index=False).count().rename(columns={'datetime': '#checkin_before'})\n",
    "london_checkin_before_after_df = london_checkin_before.merge(london_checkin_after, how='inner', on='Venue ID')\n",
    "london_checkin_before_after_df['checkin_increase'] = london_checkin_before_after_df['#checkin_after'] > london_checkin_before_after_df['#checkin_before']\n",
    "london_checkin_before_after_df['checkin_increase'] = london_checkin_before_after_df['checkin_increase'].astype(int)\n",
    "london_checkin_before_after_df = london_checkin_before_after_df[london_checkin_before_after_df['#checkin_after'] >= 5]\n",
    "london_checkin_before_after_df.head()"
   ]
  },
  {
   "cell_type": "code",
   "execution_count": 62,
   "metadata": {
    "colab": {
     "base_uri": "https://localhost:8080/",
     "height": 35
    },
    "colab_type": "code",
    "executionInfo": {
     "elapsed": 2137,
     "status": "ok",
     "timestamp": 1595112791069,
     "user": {
      "displayName": "Vivek Gupta",
      "photoUrl": "",
      "userId": "04741807658388914317"
     },
     "user_tz": 240
    },
    "id": "4jtJOorDF3nq",
    "outputId": "934c2790-578c-4e7e-958e-10a177a3a736"
   },
   "outputs": [
    {
     "data": {
      "text/plain": [
       "173"
      ]
     },
     "execution_count": 62,
     "metadata": {
      "tags": []
     },
     "output_type": "execute_result"
    }
   ],
   "source": [
    "# london_checkin_before_after_df.to_csv('/content/drive/My Drive/Datathon/processed_data/checkin_london_3week_before_after.csv')\n",
    "london_checkin_before_after_df['checkin_increase'].count()"
   ]
  },
  {
   "cell_type": "markdown",
   "metadata": {
    "colab_type": "text",
    "id": "rp_ItaaonGcq"
   },
   "source": [
    "\n",
    "\n",
    "---\n",
    "\n",
    "# Correlating Station Pagerank and Annual entry-exit"
   ]
  },
  {
   "cell_type": "code",
   "execution_count": null,
   "metadata": {
    "colab": {
     "base_uri": "https://localhost:8080/",
     "height": 260
    },
    "colab_type": "code",
    "executionInfo": {
     "elapsed": 1281,
     "status": "ok",
     "timestamp": 1595051202262,
     "user": {
      "displayName": "Vivek Gupta",
      "photoUrl": "",
      "userId": "04741807658388914317"
     },
     "user_tz": 240
    },
    "id": "GGHfj1u0cmkr",
    "outputId": "66e15287-9fda-45b7-becc-80975c98c074"
   },
   "outputs": [
    {
     "name": "stdout",
     "output_type": "stream",
     "text": [
      "   id  latitude  longitude          name  zone  total_lines  rail  pagerank\n",
      "0   1   51.5028    -0.2801    Acton Town   3.0            2     0  0.005002\n",
      "1   2   51.5143    -0.0755       Aldgate   1.0            2     0  0.002376\n",
      "2   3   51.5154    -0.0726  Aldgate East   1.0            2     0  0.003402\n",
      "3   4   51.5107    -0.0130    All Saints   2.0            1     0  0.002764\n",
      "4   5   51.5407    -0.2997      Alperton   4.0            1     0  0.003172\n",
      "   year  nlc       station  ... sunday_entry  sunday_exit  annual_entry_and_exit\n",
      "0  2007  500    Acton Town  ...         4427         4304                   5.77\n",
      "1  2007  502       Aldgate  ...         1484         1772                   5.57\n",
      "2  2007  503  Aldgate East  ...         5505         5000                   7.66\n",
      "3  2007  505      Alperton  ...         2433         2503                   3.01\n",
      "4  2007  506      Amersham  ...         1004          957                   2.34\n",
      "\n",
      "[5 rows x 11 columns]\n"
     ]
    }
   ],
   "source": [
    "# !unzip -q '/content/drive/My Drive/Datathon/citadel/datasets_full.zip'\n",
    "station_pagerank_df = pd.read_csv('/content/drive/My Drive/Datathon/london_tube_graph/pagerank_basic.csv')\n",
    "london_ug_activity_df = pd.read_csv('/content/datasets_full/London/london_underground_activity.csv')\n",
    "print(station_pagerank_df.head())\n",
    "print(london_ug_activity_df.head())"
   ]
  },
  {
   "cell_type": "code",
   "execution_count": null,
   "metadata": {
    "colab": {
     "base_uri": "https://localhost:8080/",
     "height": 202
    },
    "colab_type": "code",
    "executionInfo": {
     "elapsed": 675,
     "status": "ok",
     "timestamp": 1595053486910,
     "user": {
      "displayName": "Vivek Gupta",
      "photoUrl": "",
      "userId": "04741807658388914317"
     },
     "user_tz": 240
    },
    "id": "G8WIrCmldlIX",
    "outputId": "60748d88-4fda-4e1a-dcc8-f39a0163d902"
   },
   "outputs": [
    {
     "data": {
      "text/html": [
       "<div>\n",
       "<style scoped>\n",
       "    .dataframe tbody tr th:only-of-type {\n",
       "        vertical-align: middle;\n",
       "    }\n",
       "\n",
       "    .dataframe tbody tr th {\n",
       "        vertical-align: top;\n",
       "    }\n",
       "\n",
       "    .dataframe thead th {\n",
       "        text-align: right;\n",
       "    }\n",
       "</style>\n",
       "<table border=\"1\" class=\"dataframe\">\n",
       "  <thead>\n",
       "    <tr style=\"text-align: right;\">\n",
       "      <th></th>\n",
       "      <th>station</th>\n",
       "      <th>annual_entry_and_exit</th>\n",
       "      <th>pagerank</th>\n",
       "    </tr>\n",
       "  </thead>\n",
       "  <tbody>\n",
       "    <tr>\n",
       "      <th>0</th>\n",
       "      <td>Acton Town</td>\n",
       "      <td>6.04</td>\n",
       "      <td>0.005002</td>\n",
       "    </tr>\n",
       "    <tr>\n",
       "      <th>1</th>\n",
       "      <td>Aldgate</td>\n",
       "      <td>8.85</td>\n",
       "      <td>0.002376</td>\n",
       "    </tr>\n",
       "    <tr>\n",
       "      <th>2</th>\n",
       "      <td>Aldgate East</td>\n",
       "      <td>14.00</td>\n",
       "      <td>0.003402</td>\n",
       "    </tr>\n",
       "    <tr>\n",
       "      <th>3</th>\n",
       "      <td>Alperton</td>\n",
       "      <td>3.05</td>\n",
       "      <td>0.003172</td>\n",
       "    </tr>\n",
       "    <tr>\n",
       "      <th>4</th>\n",
       "      <td>Amersham</td>\n",
       "      <td>2.32</td>\n",
       "      <td>0.002028</td>\n",
       "    </tr>\n",
       "  </tbody>\n",
       "</table>\n",
       "</div>"
      ],
      "text/plain": [
       "        station  annual_entry_and_exit  pagerank\n",
       "0    Acton Town                   6.04  0.005002\n",
       "1       Aldgate                   8.85  0.002376\n",
       "2  Aldgate East                  14.00  0.003402\n",
       "3      Alperton                   3.05  0.003172\n",
       "4      Amersham                   2.32  0.002028"
      ]
     },
     "execution_count": 100,
     "metadata": {
      "tags": []
     },
     "output_type": "execute_result"
    }
   ],
   "source": [
    "# 2007 - 2017\n",
    "ug_activity_2017_df = london_ug_activity_df[london_ug_activity_df['year'] == 2017][['station','annual_entry_and_exit']]\n",
    "ug_activity_avg_df = london_ug_activity_df[['station','annual_entry_and_exit']].groupby('station', as_index=False).mean()\n",
    "merged_df = ug_activity_2017_df.merge(station_pagerank_df, left_on='station', right_on='name')[['station','annual_entry_and_exit','pagerank']]\n",
    "merged_df.head()"
   ]
  },
  {
   "cell_type": "code",
   "execution_count": null,
   "metadata": {
    "colab": {
     "base_uri": "https://localhost:8080/",
     "height": 110
    },
    "colab_type": "code",
    "executionInfo": {
     "elapsed": 658,
     "status": "ok",
     "timestamp": 1595053488443,
     "user": {
      "displayName": "Vivek Gupta",
      "photoUrl": "",
      "userId": "04741807658388914317"
     },
     "user_tz": 240
    },
    "id": "CSoYN_8YjNyV",
    "outputId": "93b363a8-4c8c-4cc2-a2ed-71f2ccef7690"
   },
   "outputs": [
    {
     "data": {
      "text/html": [
       "<div>\n",
       "<style scoped>\n",
       "    .dataframe tbody tr th:only-of-type {\n",
       "        vertical-align: middle;\n",
       "    }\n",
       "\n",
       "    .dataframe tbody tr th {\n",
       "        vertical-align: top;\n",
       "    }\n",
       "\n",
       "    .dataframe thead th {\n",
       "        text-align: right;\n",
       "    }\n",
       "</style>\n",
       "<table border=\"1\" class=\"dataframe\">\n",
       "  <thead>\n",
       "    <tr style=\"text-align: right;\">\n",
       "      <th></th>\n",
       "      <th>annual_entry_and_exit</th>\n",
       "      <th>pagerank</th>\n",
       "    </tr>\n",
       "  </thead>\n",
       "  <tbody>\n",
       "    <tr>\n",
       "      <th>annual_entry_and_exit</th>\n",
       "      <td>1.000000</td>\n",
       "      <td>0.500959</td>\n",
       "    </tr>\n",
       "    <tr>\n",
       "      <th>pagerank</th>\n",
       "      <td>0.500959</td>\n",
       "      <td>1.000000</td>\n",
       "    </tr>\n",
       "  </tbody>\n",
       "</table>\n",
       "</div>"
      ],
      "text/plain": [
       "                       annual_entry_and_exit  pagerank\n",
       "annual_entry_and_exit               1.000000  0.500959\n",
       "pagerank                            0.500959  1.000000"
      ]
     },
     "execution_count": 101,
     "metadata": {
      "tags": []
     },
     "output_type": "execute_result"
    }
   ],
   "source": [
    "merged_df.corr()"
   ]
  },
  {
   "cell_type": "code",
   "execution_count": null,
   "metadata": {
    "colab": {
     "base_uri": "https://localhost:8080/",
     "height": 295
    },
    "colab_type": "code",
    "executionInfo": {
     "elapsed": 949,
     "status": "ok",
     "timestamp": 1595052470487,
     "user": {
      "displayName": "Vivek Gupta",
      "photoUrl": "",
      "userId": "04741807658388914317"
     },
     "user_tz": 240
    },
    "id": "qWrwkyX9fr1b",
    "outputId": "ad6c99de-05c6-4bec-a11d-0bc53615cd92"
   },
   "outputs": [
    {
     "data": {
      "image/png": "[encoded data removed]",
      "text/plain": [
       "<Figure size 432x288 with 1 Axes>"
      ]
     },
     "metadata": {
      "needs_background": "light",
      "tags": []
     },
     "output_type": "display_data"
    }
   ],
   "source": [
    "plt.scatter(merged_df['pagerank'], merged_df['annual_entry_and_exit'], s=10, c='red',alpha=0.5)\n",
    "plt.xlabel('pagerank')\n",
    "plt.ylabel('annual_entry_exit (million)')\n",
    "plt.title('Correlation b/w Station pagerank & 2017 annual_entry_exit')\n",
    "plt.savefig('/content/drive/My Drive/Datathon/plots/corr_pagerank_entry_exit.png')"
   ]
  },
  {
   "cell_type": "markdown",
   "metadata": {
    "colab_type": "text",
    "id": "yWxI7JRX08Eo"
   },
   "source": [
    "# Finding nearest Tube station for every London Checkin venue"
   ]
  },
  {
   "cell_type": "code",
   "execution_count": null,
   "metadata": {
    "colab": {
     "base_uri": "https://localhost:8080/",
     "height": 225
    },
    "colab_type": "code",
    "executionInfo": {
     "elapsed": 2055,
     "status": "ok",
     "timestamp": 1595046520693,
     "user": {
      "displayName": "Vivek Gupta",
      "photoUrl": "",
      "userId": "04741807658388914317"
     },
     "user_tz": 240
    },
    "id": "9BlD9cBgk_97",
    "outputId": "33dbd228-78f5-47ff-fe1c-6c94f5c49ec9"
   },
   "outputs": [
    {
     "data": {
      "text/plain": [
       "(                    Venue ID   Latitude  Longitude\n",
       " 0   4aec9f4bf964a52091c921e3  51.498044  -0.090546\n",
       " 13  4b9024ccf964a5204a7833e3  51.514978  -0.302248\n",
       " 14  4bd9dff02a3a0f4726a7a8b6  51.516956  -0.070255\n",
       " 16  4b044900f964a520e05222e3  51.507220  -0.221701\n",
       " 40  4f6880ce6b74aa26bb61f7ac  51.522703  -0.085487,\n",
       "    id  latitude  longitude          name  zone  total_lines  rail  pagerank\n",
       " 0   1   51.5028    -0.2801    Acton Town   3.0            2     0  0.005002\n",
       " 1   2   51.5143    -0.0755       Aldgate   1.0            2     0  0.002376\n",
       " 2   3   51.5154    -0.0726  Aldgate East   1.0            2     0  0.003402\n",
       " 3   4   51.5107    -0.0130    All Saints   2.0            1     0  0.002764\n",
       " 4   5   51.5407    -0.2997      Alperton   4.0            1     0  0.003172)"
      ]
     },
     "execution_count": 56,
     "metadata": {
      "tags": []
     },
     "output_type": "execute_result"
    }
   ],
   "source": [
    "london_checkin_df = pd.read_csv('/content/drive/My Drive/Datathon/Total_London_Checkin.csv', usecols=['Venue ID', 'Latitude', 'Longitude'])\n",
    "london_checkin_df.drop_duplicates(subset='Venue ID', keep='first', inplace=True)\n",
    "\n",
    "station_pagerank_df = pd.read_csv('/content/drive/My Drive/Datathon/london_tube_graph/pagerank_basic.csv')\n",
    "london_checkin_df.head(), station_pagerank_df.head()"
   ]
  },
  {
   "cell_type": "code",
   "execution_count": null,
   "metadata": {
    "colab": {},
    "colab_type": "code",
    "id": "eJSqOUANrZ_b"
   },
   "outputs": [],
   "source": [
    "def aerialDist(lat1,lon1,lat2,lon2):\n",
    "\n",
    "  r = 6371e3\n",
    "  theta1 = lat1 * math.pi/180\n",
    "  theta2 = lat2 * math.pi/180\n",
    "\n",
    "  delta = (lon2 - lon1) * math.pi/180\n",
    "  d = math.acos(math.sin(theta1) * math.sin(theta2)  + math.cos(theta1) * math.cos(theta2) * math.cos(delta)) * r\n",
    "  \n",
    "  return round(d/1000,2)"
   ]
  },
  {
   "cell_type": "code",
   "execution_count": null,
   "metadata": {
    "colab": {},
    "colab_type": "code",
    "id": "FD9R4refrlUs"
   },
   "outputs": [],
   "source": [
    "venue_station = {'Venue ID': [], 'Station_name':[], 'distance': [], 'pagerank': []}\n",
    "for i, checkin in tqdm(london_checkin_df.iterrows(), total=london_checkin_df.shape[0]):\n",
    "  D = float(\"inf\")\n",
    "  closest_station = None\n",
    "  for j, station in station_pagerank_df.iterrows():\n",
    "    dist = aerialDist(checkin['Latitude'], checkin['Longitude'], station['latitude'], station['longitude'])\n",
    "    if dist<D:\n",
    "      D = dist\n",
    "      closest_station = [station['name'], D, station['pagerank']]\n",
    "  venue_station['Venue ID'].append(checkin['Venue ID'])\n",
    "  venue_station['Station_name'].append(closest_station[0])\n",
    "  venue_station['distance'].append(closest_station[1])\n",
    "  venue_station['pagerank'].append(closest_station[2])"
   ]
  },
  {
   "cell_type": "code",
   "execution_count": null,
   "metadata": {
    "colab": {},
    "colab_type": "code",
    "id": "4kHYYcfXwHMP"
   },
   "outputs": [],
   "source": [
    "venue_station_df = pd.DataFrame(venue_station)\n",
    "venue_station_df.to_csv('/content/drive/My Drive/Datathon/closest_station_to_venue.csv')"
   ]
  },
  {
   "cell_type": "code",
   "execution_count": null,
   "metadata": {
    "colab": {
     "base_uri": "https://localhost:8080/"
    },
    "colab_type": "code",
    "executionInfo": {
     "elapsed": 694,
     "status": "ok",
     "timestamp": 1595050145159,
     "user": {
      "displayName": "Vivek Gupta",
      "photoUrl": "",
      "userId": "04741807658388914317"
     },
     "user_tz": 240
    },
    "id": "Mpv3QGteZTi6",
    "outputId": "91cd7101-0e5d-4b76-fba8-6b44c5c8b2ee"
   },
   "outputs": [
    {
     "data": {
      "text/html": [
       "<div>\n",
       "<style scoped>\n",
       "    .dataframe tbody tr th:only-of-type {\n",
       "        vertical-align: middle;\n",
       "    }\n",
       "\n",
       "    .dataframe tbody tr th {\n",
       "        vertical-align: top;\n",
       "    }\n",
       "\n",
       "    .dataframe thead th {\n",
       "        text-align: right;\n",
       "    }\n",
       "</style>\n",
       "<table border=\"1\" class=\"dataframe\">\n",
       "  <thead>\n",
       "    <tr style=\"text-align: right;\">\n",
       "      <th></th>\n",
       "      <th>Venue ID</th>\n",
       "      <th>Station_name</th>\n",
       "      <th>distance</th>\n",
       "      <th>pagerank</th>\n",
       "    </tr>\n",
       "  </thead>\n",
       "  <tbody>\n",
       "    <tr>\n",
       "      <th>0</th>\n",
       "      <td>4aec9f4bf964a52091c921e3</td>\n",
       "      <td>Borough</td>\n",
       "      <td>0.43</td>\n",
       "      <td>0.002441</td>\n",
       "    </tr>\n",
       "    <tr>\n",
       "      <th>1</th>\n",
       "      <td>4b9024ccf964a5204a7833e3</td>\n",
       "      <td>Ealing Broadway</td>\n",
       "      <td>0.05</td>\n",
       "      <td>0.002909</td>\n",
       "    </tr>\n",
       "    <tr>\n",
       "      <th>2</th>\n",
       "      <td>4bd9dff02a3a0f4726a7a8b6</td>\n",
       "      <td>Aldgate East</td>\n",
       "      <td>0.24</td>\n",
       "      <td>0.003402</td>\n",
       "    </tr>\n",
       "    <tr>\n",
       "      <th>3</th>\n",
       "      <td>4b044900f964a520e05222e3</td>\n",
       "      <td>Shepherd's Bush (C)</td>\n",
       "      <td>0.36</td>\n",
       "      <td>0.002998</td>\n",
       "    </tr>\n",
       "    <tr>\n",
       "      <th>4</th>\n",
       "      <td>4f6880ce6b74aa26bb61f7ac</td>\n",
       "      <td>Old Street</td>\n",
       "      <td>0.42</td>\n",
       "      <td>0.002501</td>\n",
       "    </tr>\n",
       "  </tbody>\n",
       "</table>\n",
       "</div>"
      ],
      "text/plain": [
       "                   Venue ID         Station_name  distance  pagerank\n",
       "0  4aec9f4bf964a52091c921e3              Borough      0.43  0.002441\n",
       "1  4b9024ccf964a5204a7833e3      Ealing Broadway      0.05  0.002909\n",
       "2  4bd9dff02a3a0f4726a7a8b6         Aldgate East      0.24  0.003402\n",
       "3  4b044900f964a520e05222e3  Shepherd's Bush (C)      0.36  0.002998\n",
       "4  4f6880ce6b74aa26bb61f7ac           Old Street      0.42  0.002501"
      ]
     },
     "execution_count": 68,
     "metadata": {
      "tags": []
     },
     "output_type": "execute_result"
    }
   ],
   "source": [
    "venue_station_df.head()"
   ]
  },
  {
   "cell_type": "markdown",
   "metadata": {
    "colab_type": "text",
    "id": "NMWhbtpJ01Bn"
   },
   "source": [
    "\n",
    "\n",
    "---\n",
    "\n",
    "# Filter London venues from UK checkin data"
   ]
  },
  {
   "cell_type": "code",
   "execution_count": null,
   "metadata": {
    "colab": {},
    "colab_type": "code",
    "id": "9XN61aT52WUH"
   },
   "outputs": [],
   "source": [
    "from geopy.geocoders import Nominatim\n",
    "from tqdm import tqdm"
   ]
  },
  {
   "cell_type": "code",
   "execution_count": null,
   "metadata": {
    "colab": {
     "base_uri": "https://localhost:8080/",
     "height": 35
    },
    "colab_type": "code",
    "executionInfo": {
     "elapsed": 852,
     "status": "ok",
     "timestamp": 1595047259038,
     "user": {
      "displayName": "Vivek Gupta",
      "photoUrl": "",
      "userId": "04741807658388914317"
     },
     "user_tz": 240
    },
    "id": "RpBE3nsq2-Rp",
    "outputId": "11a21771-cd84-4777-f949-8185e9402ad6"
   },
   "outputs": [
    {
     "data": {
      "text/plain": [
       "(28687, 3)"
      ]
     },
     "execution_count": 58,
     "metadata": {
      "tags": []
     },
     "output_type": "execute_result"
    }
   ],
   "source": [
    "london_checkin_df.shape"
   ]
  },
  {
   "cell_type": "code",
   "execution_count": null,
   "metadata": {
    "colab": {},
    "colab_type": "code",
    "id": "AeVc_u2f2cwB"
   },
   "outputs": [],
   "source": [
    "locator = Nominatim(user_agent='myGeocoder')\n",
    "tqdm.pandas()\n",
    "\n",
    "def get_state_district(latitude, longitude):\n",
    "  return locator.reverse('{},{}'.format(latitude, longitude)).raw['address']['state_district']"
   ]
  },
  {
   "cell_type": "code",
   "execution_count": null,
   "metadata": {
    "colab": {},
    "colab_type": "code",
    "id": "kNkDfc4O5PHx"
   },
   "outputs": [],
   "source": [
    "london_checkin_df['District'] = london_checkin_df.progress_apply(lambda row: get_state_district(row['Latitude'], row['Longitude']), axis=1)"
   ]
  },
  {
   "cell_type": "code",
   "execution_count": null,
   "metadata": {
    "colab": {
     "base_uri": "https://localhost:8080/",
     "height": 35
    },
    "colab_type": "code",
    "executionInfo": {
     "elapsed": 713,
     "status": "ok",
     "timestamp": 1595045007521,
     "user": {
      "displayName": "Vivek Gupta",
      "photoUrl": "",
      "userId": "04741807658388914317"
     },
     "user_tz": 240
    },
    "id": "VrNMf_o-Fc2q",
    "outputId": "b53acda2-1f83-4ab7-c0a2-2c616d1ebfab"
   },
   "outputs": [
    {
     "data": {
      "text/plain": [
       "(3125, 4)"
      ]
     },
     "execution_count": 54,
     "metadata": {
      "tags": []
     },
     "output_type": "execute_result"
    }
   ],
   "source": [
    "london_checkin_df[london_checkin_df['District'] == 'Greater London']"
   ]
  },
  {
   "cell_type": "markdown",
   "metadata": {
    "colab_type": "text",
    "id": "Rek4b_UQcCXq"
   },
   "source": [
    "\n",
    "\n",
    "---\n",
    "# Filtering UK data from FourSquare\n"
   ]
  },
  {
   "cell_type": "code",
   "execution_count": null,
   "metadata": {
    "colab": {
     "base_uri": "https://localhost:8080/",
     "height": 139
    },
    "colab_type": "code",
    "executionInfo": {
     "elapsed": 37996,
     "status": "ok",
     "timestamp": 1594868834932,
     "user": {
      "displayName": "Vivek Gupta",
      "photoUrl": "",
      "userId": "04741807658388914317"
     },
     "user_tz": 240
    },
    "id": "G6kMLViflmt-",
    "outputId": "8a5d8d34-5fe6-449e-f06e-9b9677e063ea"
   },
   "outputs": [
    {
     "name": "stdout",
     "output_type": "stream",
     "text": [
      "Archive:  /content/drive/My Drive/Datathon/dataset_TIST2015.zip\n",
      "  inflating: dataset_TIST2015_Checkins.txt  \n",
      "  inflating: dataset_TIST2015_Cities.txt  \n",
      "  inflating: dataset_TIST2015_POIs.txt  \n",
      "  inflating: dataset_TIST2015_readme.txt  \n",
      "   creating: __MACOSX/\n",
      "  inflating: __MACOSX/._dataset_TIST2015_readme.txt  \n"
     ]
    }
   ],
   "source": [
    "!unzip '/content/drive/My Drive/Datathon/dataset_TIST2015.zip'"
   ]
  },
  {
   "cell_type": "code",
   "execution_count": null,
   "metadata": {
    "colab": {},
    "colab_type": "code",
    "id": "tevjXgZ3mDBA"
   },
   "outputs": [],
   "source": [
    "checkin_df = pd.read_csv('dataset_TIST2015_Checkins.txt', sep='\\t', names=['User ID', 'Venue ID', 'UTC time', 'Timezone offset'])\n",
    "checkin_df = checkin_df[checkin_df['Venue ID'].isin(venues_df['Venue ID'])]\n",
    "checkin_df.to_csv('/content/drive/My Drive/Datathon/foursq_data/checkin.csv')"
   ]
  },
  {
   "cell_type": "code",
   "execution_count": null,
   "metadata": {
    "colab": {},
    "colab_type": "code",
    "id": "0pNsRhawrGmx"
   },
   "outputs": [],
   "source": [
    "venues_df = pd.read_csv('dataset_TIST2015_POIs.txt', sep='\\t', header=None)\n",
    "venues_df = venues_df[venues_df[4] == 'GB'].drop([4], axis=1)\n",
    "venues_df.rename(columns={0: 'Venue ID',\n",
    "                          1: 'Latitude',\n",
    "                          2: 'Longitude',\n",
    "                          3: 'Category'}, inplace=True)\n",
    "venues_df.to_csv('/content/drive/My Drive/Datathon/foursq_data/venues.csv')"
   ]
  },
  {
   "cell_type": "code",
   "execution_count": null,
   "metadata": {
    "colab": {},
    "colab_type": "code",
    "id": "HF6UefCbn3oB"
   },
   "outputs": [],
   "source": [
    "cities_df = pd.read_csv('dataset_TIST2015_Cities.txt', sep='\\t', header=None)\n",
    "cities_df = cities_df[cities_df[4] == 'United Kingdom']\n",
    "cities_df.drop([3,4], axis=1, inplace=True)\n",
    "cities_df.rename(columns={0:'City name',\n",
    "                          1:'Latitude',\n",
    "                          2:'Longitude',\n",
    "                          5:'City type'}, inplace=True)\n",
    "cities_df.to_csv('/content/drive/My Drive/Datathon/foursq_data/cities.csv')"
   ]
  },
  {
   "cell_type": "markdown",
   "metadata": {
    "colab_type": "text",
    "id": "CwXO3TXacVs_"
   },
   "source": [
    "\n",
    "\n",
    "---\n",
    "# Exploring London Dataset from Citadel\n"
   ]
  },
  {
   "cell_type": "code",
   "execution_count": null,
   "metadata": {
    "colab": {},
    "colab_type": "code",
    "id": "ix4YyWWkEC7h"
   },
   "outputs": [],
   "source": [
    "!unzip '/content/drive/My Drive/Datathon/datasets_table_heads.zip'"
   ]
  },
  {
   "cell_type": "code",
   "execution_count": null,
   "metadata": {
    "colab": {},
    "colab_type": "code",
    "id": "Z183CIOCEyP-"
   },
   "outputs": [],
   "source": [
    "uk_inflation_df = pd.read_csv('/content/datasets_table_heads/London/UK_inflation.csv')\n",
    "london_underground_activity_df = pd.read_csv('/content/datasets_table_heads/London/london_underground_activity.csv')\n",
    "london_underground_station_df = pd.read_csv('/content/datasets_table_heads/London/london_underground_station_info.csv')\n",
    "london_tickets_for_sale_df = pd.read_csv('/content/datasets_table_heads/London/london_tickets_for_sale.csv')\n",
    "london_ticket_sales_df = pd.read_csv('/content/datasets_table_heads/London/london_ticket_sales.csv')\n",
    "london_taxpayer_income_df = pd.read_csv('/content/datasets_table_heads/London/london_taxpayer_income.csv')\n",
    "london_sports_participation_df = pd.read_csv('/content/datasets_table_heads/London/london_sports_participation.csv')\n",
    "london_infrastructure_spending_df = pd.read_csv('/content/datasets_table_heads/London/london_infrastructure_spending.csv')\n",
    "london_economic_activity_df = pd.read_csv('/content/datasets_table_heads/London/london_economic_activity.csv')\n",
    "london_earnings_by_borough_df = pd.read_csv('/content/datasets_table_heads/London/london_earnings_by_borough.csv')\n",
    "uk_international_visits_df = pd.read_csv('/content/datasets_table_heads/London/UK_international-visits.csv')"
   ]
  },
  {
   "cell_type": "code",
   "execution_count": null,
   "metadata": {
    "colab": {
     "base_uri": "https://localhost:8080/",
     "height": 202
    },
    "colab_type": "code",
    "executionInfo": {
     "elapsed": 455,
     "status": "ok",
     "timestamp": 1594765268627,
     "user": {
      "displayName": "Vivek Gupta",
      "photoUrl": "",
      "userId": "04741807658388914317"
     },
     "user_tz": 240
    },
    "id": "2FSIzRrmE6RU",
    "outputId": "2c5515ac-562b-478f-9491-f29ec71294dd"
   },
   "outputs": [
    {
     "data": {
      "text/html": [
       "<div>\n",
       "<style scoped>\n",
       "    .dataframe tbody tr th:only-of-type {\n",
       "        vertical-align: middle;\n",
       "    }\n",
       "\n",
       "    .dataframe tbody tr th {\n",
       "        vertical-align: top;\n",
       "    }\n",
       "\n",
       "    .dataframe thead th {\n",
       "        text-align: right;\n",
       "    }\n",
       "</style>\n",
       "<table border=\"1\" class=\"dataframe\">\n",
       "  <thead>\n",
       "    <tr style=\"text-align: right;\">\n",
       "      <th></th>\n",
       "      <th>year</th>\n",
       "      <th>inflation</th>\n",
       "      <th>multiplier</th>\n",
       "    </tr>\n",
       "  </thead>\n",
       "  <tbody>\n",
       "    <tr>\n",
       "      <th>0</th>\n",
       "      <td>2018</td>\n",
       "      <td>NaN</td>\n",
       "      <td>1.00</td>\n",
       "    </tr>\n",
       "    <tr>\n",
       "      <th>1</th>\n",
       "      <td>2017</td>\n",
       "      <td>0.036</td>\n",
       "      <td>1.04</td>\n",
       "    </tr>\n",
       "    <tr>\n",
       "      <th>2</th>\n",
       "      <td>2016</td>\n",
       "      <td>0.018</td>\n",
       "      <td>1.05</td>\n",
       "    </tr>\n",
       "    <tr>\n",
       "      <th>3</th>\n",
       "      <td>2015</td>\n",
       "      <td>0.010</td>\n",
       "      <td>1.07</td>\n",
       "    </tr>\n",
       "    <tr>\n",
       "      <th>4</th>\n",
       "      <td>2014</td>\n",
       "      <td>0.024</td>\n",
       "      <td>1.09</td>\n",
       "    </tr>\n",
       "  </tbody>\n",
       "</table>\n",
       "</div>"
      ],
      "text/plain": [
       "   year  inflation  multiplier\n",
       "0  2018        NaN        1.00\n",
       "1  2017      0.036        1.04\n",
       "2  2016      0.018        1.05\n",
       "3  2015      0.010        1.07\n",
       "4  2014      0.024        1.09"
      ]
     },
     "execution_count": 5,
     "metadata": {
      "tags": []
     },
     "output_type": "execute_result"
    }
   ],
   "source": [
    "uk_inflation_df.head()"
   ]
  },
  {
   "cell_type": "code",
   "execution_count": null,
   "metadata": {
    "colab": {
     "base_uri": "https://localhost:8080/",
     "height": 274
    },
    "colab_type": "code",
    "executionInfo": {
     "elapsed": 641,
     "status": "ok",
     "timestamp": 1594749742124,
     "user": {
      "displayName": "Vivek Gupta",
      "photoUrl": "",
      "userId": "04741807658388914317"
     },
     "user_tz": 240
    },
    "id": "KKfx4n02X_84",
    "outputId": "6d89b990-f904-4414-fc81-7f8302f584f4"
   },
   "outputs": [
    {
     "data": {
      "text/html": [
       "<div>\n",
       "<style scoped>\n",
       "    .dataframe tbody tr th:only-of-type {\n",
       "        vertical-align: middle;\n",
       "    }\n",
       "\n",
       "    .dataframe tbody tr th {\n",
       "        vertical-align: top;\n",
       "    }\n",
       "\n",
       "    .dataframe thead th {\n",
       "        text-align: right;\n",
       "    }\n",
       "</style>\n",
       "<table border=\"1\" class=\"dataframe\">\n",
       "  <thead>\n",
       "    <tr style=\"text-align: right;\">\n",
       "      <th></th>\n",
       "      <th>year</th>\n",
       "      <th>nlc</th>\n",
       "      <th>station</th>\n",
       "      <th>area</th>\n",
       "      <th>weekday_entry</th>\n",
       "      <th>weekday_exit</th>\n",
       "      <th>saturday_entry</th>\n",
       "      <th>saturday_exit</th>\n",
       "      <th>sunday_entry</th>\n",
       "      <th>sunday_exit</th>\n",
       "      <th>annual_entry_and_exit</th>\n",
       "    </tr>\n",
       "  </thead>\n",
       "  <tbody>\n",
       "    <tr>\n",
       "      <th>0</th>\n",
       "      <td>2007</td>\n",
       "      <td>500</td>\n",
       "      <td>Acton Town</td>\n",
       "      <td>Ealing</td>\n",
       "      <td>9205</td>\n",
       "      <td>8899</td>\n",
       "      <td>6722</td>\n",
       "      <td>6320</td>\n",
       "      <td>4427</td>\n",
       "      <td>4304</td>\n",
       "      <td>5.77</td>\n",
       "    </tr>\n",
       "    <tr>\n",
       "      <th>1</th>\n",
       "      <td>2007</td>\n",
       "      <td>502</td>\n",
       "      <td>Aldgate</td>\n",
       "      <td>City of London</td>\n",
       "      <td>9887</td>\n",
       "      <td>10397</td>\n",
       "      <td>2191</td>\n",
       "      <td>2587</td>\n",
       "      <td>1484</td>\n",
       "      <td>1772</td>\n",
       "      <td>5.57</td>\n",
       "    </tr>\n",
       "    <tr>\n",
       "      <th>2</th>\n",
       "      <td>2007</td>\n",
       "      <td>503</td>\n",
       "      <td>Aldgate East</td>\n",
       "      <td>Tower Hamlets</td>\n",
       "      <td>12820</td>\n",
       "      <td>12271</td>\n",
       "      <td>7040</td>\n",
       "      <td>6220</td>\n",
       "      <td>5505</td>\n",
       "      <td>5000</td>\n",
       "      <td>7.66</td>\n",
       "    </tr>\n",
       "    <tr>\n",
       "      <th>3</th>\n",
       "      <td>2007</td>\n",
       "      <td>505</td>\n",
       "      <td>Alperton</td>\n",
       "      <td>Brent</td>\n",
       "      <td>4611</td>\n",
       "      <td>4719</td>\n",
       "      <td>3354</td>\n",
       "      <td>3450</td>\n",
       "      <td>2433</td>\n",
       "      <td>2503</td>\n",
       "      <td>3.01</td>\n",
       "    </tr>\n",
       "    <tr>\n",
       "      <th>4</th>\n",
       "      <td>2007</td>\n",
       "      <td>506</td>\n",
       "      <td>Amersham</td>\n",
       "      <td>Chiltern</td>\n",
       "      <td>4182</td>\n",
       "      <td>3938</td>\n",
       "      <td>1709</td>\n",
       "      <td>1585</td>\n",
       "      <td>1004</td>\n",
       "      <td>957</td>\n",
       "      <td>2.34</td>\n",
       "    </tr>\n",
       "  </tbody>\n",
       "</table>\n",
       "</div>"
      ],
      "text/plain": [
       "   year  nlc       station  ... sunday_entry  sunday_exit  annual_entry_and_exit\n",
       "0  2007  500    Acton Town  ...         4427         4304                   5.77\n",
       "1  2007  502       Aldgate  ...         1484         1772                   5.57\n",
       "2  2007  503  Aldgate East  ...         5505         5000                   7.66\n",
       "3  2007  505      Alperton  ...         2433         2503                   3.01\n",
       "4  2007  506      Amersham  ...         1004          957                   2.34\n",
       "\n",
       "[5 rows x 11 columns]"
      ]
     },
     "execution_count": 10,
     "metadata": {
      "tags": []
     },
     "output_type": "execute_result"
    }
   ],
   "source": [
    "london_underground_activity_df.head()"
   ]
  },
  {
   "cell_type": "code",
   "execution_count": null,
   "metadata": {
    "colab": {
     "base_uri": "https://localhost:8080/",
     "height": 202
    },
    "colab_type": "code",
    "executionInfo": {
     "elapsed": 573,
     "status": "ok",
     "timestamp": 1594765275099,
     "user": {
      "displayName": "Vivek Gupta",
      "photoUrl": "",
      "userId": "04741807658388914317"
     },
     "user_tz": 240
    },
    "id": "hyBNGr0hYZZ7",
    "outputId": "b96ad477-f62c-44d1-972d-68af6fdb4d66"
   },
   "outputs": [
    {
     "data": {
      "text/html": [
       "<div>\n",
       "<style scoped>\n",
       "    .dataframe tbody tr th:only-of-type {\n",
       "        vertical-align: middle;\n",
       "    }\n",
       "\n",
       "    .dataframe tbody tr th {\n",
       "        vertical-align: top;\n",
       "    }\n",
       "\n",
       "    .dataframe thead th {\n",
       "        text-align: right;\n",
       "    }\n",
       "</style>\n",
       "<table border=\"1\" class=\"dataframe\">\n",
       "  <thead>\n",
       "    <tr style=\"text-align: right;\">\n",
       "      <th></th>\n",
       "      <th>station</th>\n",
       "      <th>line</th>\n",
       "      <th>local_authority</th>\n",
       "      <th>zone</th>\n",
       "      <th>opened</th>\n",
       "    </tr>\n",
       "  </thead>\n",
       "  <tbody>\n",
       "    <tr>\n",
       "      <th>0</th>\n",
       "      <td>Acton Town</td>\n",
       "      <td>District</td>\n",
       "      <td>Ealing</td>\n",
       "      <td>3</td>\n",
       "      <td>1879-07-01</td>\n",
       "    </tr>\n",
       "    <tr>\n",
       "      <th>1</th>\n",
       "      <td>Aldgate</td>\n",
       "      <td>Metropolitan[a]</td>\n",
       "      <td>City of London</td>\n",
       "      <td>1</td>\n",
       "      <td>1876-11-18</td>\n",
       "    </tr>\n",
       "    <tr>\n",
       "      <th>2</th>\n",
       "      <td>Aldgate East</td>\n",
       "      <td>Hammersmith &amp; City[d]</td>\n",
       "      <td>Tower Hamlets</td>\n",
       "      <td>1</td>\n",
       "      <td>1884-10-06</td>\n",
       "    </tr>\n",
       "    <tr>\n",
       "      <th>3</th>\n",
       "      <td>Alperton</td>\n",
       "      <td>Piccadilly[h]</td>\n",
       "      <td>Brent</td>\n",
       "      <td>4</td>\n",
       "      <td>1903-06-28</td>\n",
       "    </tr>\n",
       "    <tr>\n",
       "      <th>4</th>\n",
       "      <td>Amersham</td>\n",
       "      <td>Metropolitan</td>\n",
       "      <td>Chiltern</td>\n",
       "      <td>9</td>\n",
       "      <td>1892-09-01</td>\n",
       "    </tr>\n",
       "  </tbody>\n",
       "</table>\n",
       "</div>"
      ],
      "text/plain": [
       "        station                   line local_authority zone      opened\n",
       "0    Acton Town               District          Ealing    3  1879-07-01\n",
       "1       Aldgate        Metropolitan[a]  City of London    1  1876-11-18\n",
       "2  Aldgate East  Hammersmith & City[d]   Tower Hamlets    1  1884-10-06\n",
       "3      Alperton          Piccadilly[h]           Brent    4  1903-06-28\n",
       "4      Amersham           Metropolitan        Chiltern    9  1892-09-01"
      ]
     },
     "execution_count": 6,
     "metadata": {
      "tags": []
     },
     "output_type": "execute_result"
    }
   ],
   "source": [
    "london_underground_station_df.head()"
   ]
  },
  {
   "cell_type": "code",
   "execution_count": null,
   "metadata": {
    "colab": {
     "base_uri": "https://localhost:8080/",
     "height": 202
    },
    "colab_type": "code",
    "executionInfo": {
     "elapsed": 729,
     "status": "ok",
     "timestamp": 1594765283285,
     "user": {
      "displayName": "Vivek Gupta",
      "photoUrl": "",
      "userId": "04741807658388914317"
     },
     "user_tz": 240
    },
    "id": "Rh7vkWJHauyw",
    "outputId": "ebb93cf3-e5e0-4461-f314-41d7d8fad7e0"
   },
   "outputs": [
    {
     "data": {
      "text/html": [
       "<div>\n",
       "<style scoped>\n",
       "    .dataframe tbody tr th:only-of-type {\n",
       "        vertical-align: middle;\n",
       "    }\n",
       "\n",
       "    .dataframe tbody tr th {\n",
       "        vertical-align: top;\n",
       "    }\n",
       "\n",
       "    .dataframe thead th {\n",
       "        text-align: right;\n",
       "    }\n",
       "</style>\n",
       "<table border=\"1\" class=\"dataframe\">\n",
       "  <thead>\n",
       "    <tr style=\"text-align: right;\">\n",
       "      <th></th>\n",
       "      <th>session</th>\n",
       "      <th>price</th>\n",
       "      <th>number_sold</th>\n",
       "      <th>total_public_sold</th>\n",
       "      <th>percent_sold_to_public</th>\n",
       "    </tr>\n",
       "  </thead>\n",
       "  <tbody>\n",
       "    <tr>\n",
       "      <th>0</th>\n",
       "      <td>AT001</td>\n",
       "      <td>150</td>\n",
       "      <td>16704</td>\n",
       "      <td>46425</td>\n",
       "      <td>73.155166</td>\n",
       "    </tr>\n",
       "    <tr>\n",
       "      <th>1</th>\n",
       "      <td>AT001</td>\n",
       "      <td>95</td>\n",
       "      <td>7193</td>\n",
       "      <td>46425</td>\n",
       "      <td>73.155166</td>\n",
       "    </tr>\n",
       "    <tr>\n",
       "      <th>2</th>\n",
       "      <td>AT001</td>\n",
       "      <td>65</td>\n",
       "      <td>6721</td>\n",
       "      <td>46425</td>\n",
       "      <td>73.155166</td>\n",
       "    </tr>\n",
       "    <tr>\n",
       "      <th>3</th>\n",
       "      <td>AT001</td>\n",
       "      <td>40</td>\n",
       "      <td>4434</td>\n",
       "      <td>46425</td>\n",
       "      <td>73.155166</td>\n",
       "    </tr>\n",
       "    <tr>\n",
       "      <th>4</th>\n",
       "      <td>AT001</td>\n",
       "      <td>20</td>\n",
       "      <td>5336</td>\n",
       "      <td>46425</td>\n",
       "      <td>73.155166</td>\n",
       "    </tr>\n",
       "  </tbody>\n",
       "</table>\n",
       "</div>"
      ],
      "text/plain": [
       "  session price  number_sold  total_public_sold  percent_sold_to_public\n",
       "0   AT001   150        16704              46425               73.155166\n",
       "1   AT001    95         7193              46425               73.155166\n",
       "2   AT001    65         6721              46425               73.155166\n",
       "3   AT001    40         4434              46425               73.155166\n",
       "4   AT001    20         5336              46425               73.155166"
      ]
     },
     "execution_count": 7,
     "metadata": {
      "tags": []
     },
     "output_type": "execute_result"
    }
   ],
   "source": [
    "london_ticket_sales_df.head()"
   ]
  },
  {
   "cell_type": "code",
   "execution_count": null,
   "metadata": {
    "colab": {
     "base_uri": "https://localhost:8080/",
     "height": 499
    },
    "colab_type": "code",
    "executionInfo": {
     "elapsed": 346,
     "status": "ok",
     "timestamp": 1594765435767,
     "user": {
      "displayName": "Vivek Gupta",
      "photoUrl": "",
      "userId": "04741807658388914317"
     },
     "user_tz": 240
    },
    "id": "FQGU4R1cbRRH",
    "outputId": "d49245d6-b131-4f5a-d96c-66df2c21da4a"
   },
   "outputs": [
    {
     "data": {
      "text/html": [
       "<div>\n",
       "<style scoped>\n",
       "    .dataframe tbody tr th:only-of-type {\n",
       "        vertical-align: middle;\n",
       "    }\n",
       "\n",
       "    .dataframe tbody tr th {\n",
       "        vertical-align: top;\n",
       "    }\n",
       "\n",
       "    .dataframe thead th {\n",
       "        text-align: right;\n",
       "    }\n",
       "</style>\n",
       "<table border=\"1\" class=\"dataframe\">\n",
       "  <thead>\n",
       "    <tr style=\"text-align: right;\">\n",
       "      <th></th>\n",
       "      <th>date</th>\n",
       "      <th>time</th>\n",
       "      <th>gender</th>\n",
       "      <th>session</th>\n",
       "      <th>medal_ceremony</th>\n",
       "      <th>code</th>\n",
       "      <th>AA</th>\n",
       "      <th>A</th>\n",
       "      <th>B</th>\n",
       "      <th>C</th>\n",
       "      <th>D</th>\n",
       "      <th>E</th>\n",
       "      <th>limit</th>\n",
       "      <th>venue</th>\n",
       "      <th>event</th>\n",
       "      <th>Unnamed: 15</th>\n",
       "    </tr>\n",
       "  </thead>\n",
       "  <tbody>\n",
       "    <tr>\n",
       "      <th>0</th>\n",
       "      <td>03-Aug</td>\n",
       "      <td>10:00�13:45</td>\n",
       "      <td>M</td>\n",
       "      <td>400m Hurdles: round 1</td>\n",
       "      <td>NaN</td>\n",
       "      <td>AT001</td>\n",
       "      <td>�</td>\n",
       "      <td>150</td>\n",
       "      <td>95</td>\n",
       "      <td>65</td>\n",
       "      <td>40</td>\n",
       "      <td>20</td>\n",
       "      <td>20</td>\n",
       "      <td>Olympic Park - Olympic Stadium</td>\n",
       "      <td>Athletics</td>\n",
       "      <td>NaN</td>\n",
       "    </tr>\n",
       "    <tr>\n",
       "      <th>1</th>\n",
       "      <td>03-Aug</td>\n",
       "      <td>10:00�13:45</td>\n",
       "      <td>M</td>\n",
       "      <td>3000m Steeplechase: round 1</td>\n",
       "      <td>NaN</td>\n",
       "      <td>AT001</td>\n",
       "      <td>�</td>\n",
       "      <td>150</td>\n",
       "      <td>95</td>\n",
       "      <td>65</td>\n",
       "      <td>40</td>\n",
       "      <td>20</td>\n",
       "      <td>20</td>\n",
       "      <td>Olympic Park - Olympic Stadium</td>\n",
       "      <td>Athletics</td>\n",
       "      <td>NaN</td>\n",
       "    </tr>\n",
       "    <tr>\n",
       "      <th>2</th>\n",
       "      <td>03-Aug</td>\n",
       "      <td>10:00�13:45</td>\n",
       "      <td>M</td>\n",
       "      <td>Hammer: qualifying</td>\n",
       "      <td>NaN</td>\n",
       "      <td>AT001</td>\n",
       "      <td>�</td>\n",
       "      <td>150</td>\n",
       "      <td>95</td>\n",
       "      <td>65</td>\n",
       "      <td>40</td>\n",
       "      <td>20</td>\n",
       "      <td>20</td>\n",
       "      <td>Olympic Park - Olympic Stadium</td>\n",
       "      <td>Athletics</td>\n",
       "      <td>NaN</td>\n",
       "    </tr>\n",
       "    <tr>\n",
       "      <th>3</th>\n",
       "      <td>03-Aug</td>\n",
       "      <td>10:00�13:45</td>\n",
       "      <td>M</td>\n",
       "      <td>Shot Put: qualifying</td>\n",
       "      <td>NaN</td>\n",
       "      <td>AT001</td>\n",
       "      <td>�</td>\n",
       "      <td>150</td>\n",
       "      <td>95</td>\n",
       "      <td>65</td>\n",
       "      <td>40</td>\n",
       "      <td>20</td>\n",
       "      <td>20</td>\n",
       "      <td>Olympic Park - Olympic Stadium</td>\n",
       "      <td>Athletics</td>\n",
       "      <td>NaN</td>\n",
       "    </tr>\n",
       "    <tr>\n",
       "      <th>4</th>\n",
       "      <td>03-Aug</td>\n",
       "      <td>10:00�13:45</td>\n",
       "      <td>W</td>\n",
       "      <td>100m: classification heats</td>\n",
       "      <td>NaN</td>\n",
       "      <td>AT001</td>\n",
       "      <td>�</td>\n",
       "      <td>150</td>\n",
       "      <td>95</td>\n",
       "      <td>65</td>\n",
       "      <td>40</td>\n",
       "      <td>20</td>\n",
       "      <td>20</td>\n",
       "      <td>Olympic Park - Olympic Stadium</td>\n",
       "      <td>Athletics</td>\n",
       "      <td>NaN</td>\n",
       "    </tr>\n",
       "  </tbody>\n",
       "</table>\n",
       "</div>"
      ],
      "text/plain": [
       "     date         time  ...      event Unnamed: 15\n",
       "0  03-Aug  10:00�13:45  ...  Athletics         NaN\n",
       "1  03-Aug  10:00�13:45  ...  Athletics         NaN\n",
       "2  03-Aug  10:00�13:45  ...  Athletics         NaN\n",
       "3  03-Aug  10:00�13:45  ...  Athletics         NaN\n",
       "4  03-Aug  10:00�13:45  ...  Athletics         NaN\n",
       "\n",
       "[5 rows x 16 columns]"
      ]
     },
     "execution_count": 8,
     "metadata": {
      "tags": []
     },
     "output_type": "execute_result"
    }
   ],
   "source": [
    "london_tickets_for_sale_df.head()"
   ]
  },
  {
   "cell_type": "code",
   "execution_count": null,
   "metadata": {
    "colab": {
     "base_uri": "https://localhost:8080/",
     "height": 202
    },
    "colab_type": "code",
    "executionInfo": {
     "elapsed": 335,
     "status": "ok",
     "timestamp": 1594765617506,
     "user": {
      "displayName": "Vivek Gupta",
      "photoUrl": "",
      "userId": "04741807658388914317"
     },
     "user_tz": 240
    },
    "id": "DnM-AD2zcArB",
    "outputId": "c7423958-1782-4fc2-c99f-f4203c9e0690"
   },
   "outputs": [
    {
     "data": {
      "text/html": [
       "<div>\n",
       "<style scoped>\n",
       "    .dataframe tbody tr th:only-of-type {\n",
       "        vertical-align: middle;\n",
       "    }\n",
       "\n",
       "    .dataframe tbody tr th {\n",
       "        vertical-align: top;\n",
       "    }\n",
       "\n",
       "    .dataframe thead th {\n",
       "        text-align: right;\n",
       "    }\n",
       "</style>\n",
       "<table border=\"1\" class=\"dataframe\">\n",
       "  <thead>\n",
       "    <tr style=\"text-align: right;\">\n",
       "      <th></th>\n",
       "      <th>year</th>\n",
       "      <th>area_code</th>\n",
       "      <th>area</th>\n",
       "      <th>population</th>\n",
       "      <th>mean_income</th>\n",
       "      <th>median_income</th>\n",
       "    </tr>\n",
       "  </thead>\n",
       "  <tbody>\n",
       "    <tr>\n",
       "      <th>0</th>\n",
       "      <td>1999-2000</td>\n",
       "      <td>00AA</td>\n",
       "      <td>City of London</td>\n",
       "      <td>10000</td>\n",
       "      <td>109800</td>\n",
       "      <td>40400</td>\n",
       "    </tr>\n",
       "    <tr>\n",
       "      <th>1</th>\n",
       "      <td>2000-2001</td>\n",
       "      <td>00AA</td>\n",
       "      <td>City of London</td>\n",
       "      <td>10000</td>\n",
       "      <td>137000</td>\n",
       "      <td>65000</td>\n",
       "    </tr>\n",
       "    <tr>\n",
       "      <th>2</th>\n",
       "      <td>2001-2002</td>\n",
       "      <td>00AA</td>\n",
       "      <td>City of London</td>\n",
       "      <td>12000</td>\n",
       "      <td>92900</td>\n",
       "      <td>38300</td>\n",
       "    </tr>\n",
       "    <tr>\n",
       "      <th>3</th>\n",
       "      <td>2002-2003</td>\n",
       "      <td>00AA</td>\n",
       "      <td>City of London</td>\n",
       "      <td>11000</td>\n",
       "      <td>78700</td>\n",
       "      <td>37000</td>\n",
       "    </tr>\n",
       "    <tr>\n",
       "      <th>4</th>\n",
       "      <td>2003-2004</td>\n",
       "      <td>00AA</td>\n",
       "      <td>City of London</td>\n",
       "      <td>10000</td>\n",
       "      <td>85800</td>\n",
       "      <td>39200</td>\n",
       "    </tr>\n",
       "  </tbody>\n",
       "</table>\n",
       "</div>"
      ],
      "text/plain": [
       "        year area_code            area  population  mean_income  median_income\n",
       "0  1999-2000      00AA  City of London       10000       109800          40400\n",
       "1  2000-2001      00AA  City of London       10000       137000          65000\n",
       "2  2001-2002      00AA  City of London       12000        92900          38300\n",
       "3  2002-2003      00AA  City of London       11000        78700          37000\n",
       "4  2003-2004      00AA  City of London       10000        85800          39200"
      ]
     },
     "execution_count": 9,
     "metadata": {
      "tags": []
     },
     "output_type": "execute_result"
    }
   ],
   "source": [
    "london_taxpayer_income_df.head()"
   ]
  },
  {
   "cell_type": "code",
   "execution_count": null,
   "metadata": {
    "colab": {
     "base_uri": "https://localhost:8080/",
     "height": 202
    },
    "colab_type": "code",
    "executionInfo": {
     "elapsed": 387,
     "status": "ok",
     "timestamp": 1594766056813,
     "user": {
      "displayName": "Vivek Gupta",
      "photoUrl": "",
      "userId": "04741807658388914317"
     },
     "user_tz": 240
    },
    "id": "DEZTbTuXcpx9",
    "outputId": "9c83935c-39aa-4d7f-81d6-5b208ff6f336"
   },
   "outputs": [
    {
     "data": {
      "text/html": [
       "<div>\n",
       "<style scoped>\n",
       "    .dataframe tbody tr th:only-of-type {\n",
       "        vertical-align: middle;\n",
       "    }\n",
       "\n",
       "    .dataframe tbody tr th {\n",
       "        vertical-align: top;\n",
       "    }\n",
       "\n",
       "    .dataframe thead th {\n",
       "        text-align: right;\n",
       "    }\n",
       "</style>\n",
       "<table border=\"1\" class=\"dataframe\">\n",
       "  <thead>\n",
       "    <tr style=\"text-align: right;\">\n",
       "      <th></th>\n",
       "      <th>year</th>\n",
       "      <th>area_code</th>\n",
       "      <th>area</th>\n",
       "      <th>sports_participation</th>\n",
       "      <th>percentage</th>\n",
       "      <th>population</th>\n",
       "    </tr>\n",
       "  </thead>\n",
       "  <tbody>\n",
       "    <tr>\n",
       "      <th>0</th>\n",
       "      <td>2005-2006</td>\n",
       "      <td>A</td>\n",
       "      <td>North East</td>\n",
       "      <td>one+</td>\n",
       "      <td>0.329</td>\n",
       "      <td>687000</td>\n",
       "    </tr>\n",
       "    <tr>\n",
       "      <th>1</th>\n",
       "      <td>2007-2008</td>\n",
       "      <td>A</td>\n",
       "      <td>North East</td>\n",
       "      <td>one+</td>\n",
       "      <td>0.348</td>\n",
       "      <td>730300</td>\n",
       "    </tr>\n",
       "    <tr>\n",
       "      <th>2</th>\n",
       "      <td>2008-2009</td>\n",
       "      <td>A</td>\n",
       "      <td>North East</td>\n",
       "      <td>one+</td>\n",
       "      <td>0.354</td>\n",
       "      <td>748600</td>\n",
       "    </tr>\n",
       "    <tr>\n",
       "      <th>3</th>\n",
       "      <td>2009-2010</td>\n",
       "      <td>A</td>\n",
       "      <td>North East</td>\n",
       "      <td>one+</td>\n",
       "      <td>0.358</td>\n",
       "      <td>760100</td>\n",
       "    </tr>\n",
       "    <tr>\n",
       "      <th>4</th>\n",
       "      <td>2010-2011</td>\n",
       "      <td>A</td>\n",
       "      <td>North East</td>\n",
       "      <td>one+</td>\n",
       "      <td>0.335</td>\n",
       "      <td>719300</td>\n",
       "    </tr>\n",
       "  </tbody>\n",
       "</table>\n",
       "</div>"
      ],
      "text/plain": [
       "        year area_code        area sports_participation  percentage  population\n",
       "0  2005-2006         A  North East                 one+       0.329      687000\n",
       "1  2007-2008         A  North East                 one+       0.348      730300\n",
       "2  2008-2009         A  North East                 one+       0.354      748600\n",
       "3  2009-2010         A  North East                 one+       0.358      760100\n",
       "4  2010-2011         A  North East                 one+       0.335      719300"
      ]
     },
     "execution_count": 12,
     "metadata": {
      "tags": []
     },
     "output_type": "execute_result"
    }
   ],
   "source": [
    "london_sports_participation_df.head()"
   ]
  },
  {
   "cell_type": "code",
   "execution_count": null,
   "metadata": {
    "colab": {
     "base_uri": "https://localhost:8080/",
     "height": 289
    },
    "colab_type": "code",
    "executionInfo": {
     "elapsed": 349,
     "status": "ok",
     "timestamp": 1594766169584,
     "user": {
      "displayName": "Vivek Gupta",
      "photoUrl": "",
      "userId": "04741807658388914317"
     },
     "user_tz": 240
    },
    "id": "0ATX08E8eGRH",
    "outputId": "8c2e8556-a735-4cd5-faa2-d1d83ffe3fb7"
   },
   "outputs": [
    {
     "data": {
      "text/html": [
       "<div>\n",
       "<style scoped>\n",
       "    .dataframe tbody tr th:only-of-type {\n",
       "        vertical-align: middle;\n",
       "    }\n",
       "\n",
       "    .dataframe tbody tr th {\n",
       "        vertical-align: top;\n",
       "    }\n",
       "\n",
       "    .dataframe thead th {\n",
       "        text-align: right;\n",
       "    }\n",
       "</style>\n",
       "<table border=\"1\" class=\"dataframe\">\n",
       "  <thead>\n",
       "    <tr style=\"text-align: right;\">\n",
       "      <th></th>\n",
       "      <th>expense_category</th>\n",
       "      <th>breakdown</th>\n",
       "      <th>baseline_budget</th>\n",
       "      <th>31/12/2011_forecast</th>\n",
       "      <th>31/03/2012_forecast</th>\n",
       "      <th>variance</th>\n",
       "    </tr>\n",
       "  </thead>\n",
       "  <tbody>\n",
       "    <tr>\n",
       "      <th>0</th>\n",
       "      <td>Site Preparation and Infrastructure</td>\n",
       "      <td>Powerlines</td>\n",
       "      <td>282</td>\n",
       "      <td>286</td>\n",
       "      <td>287</td>\n",
       "      <td>1</td>\n",
       "    </tr>\n",
       "    <tr>\n",
       "      <th>1</th>\n",
       "      <td>Site Preparation and Infrastructure</td>\n",
       "      <td>Utilities</td>\n",
       "      <td>256</td>\n",
       "      <td>238</td>\n",
       "      <td>235</td>\n",
       "      <td>-3</td>\n",
       "    </tr>\n",
       "    <tr>\n",
       "      <th>2</th>\n",
       "      <td>Site Preparation and Infrastructure</td>\n",
       "      <td>Enabling Works</td>\n",
       "      <td>364</td>\n",
       "      <td>386</td>\n",
       "      <td>386</td>\n",
       "      <td>0</td>\n",
       "    </tr>\n",
       "    <tr>\n",
       "      <th>3</th>\n",
       "      <td>Site Preparation and Infrastructure</td>\n",
       "      <td>F10 Bridge</td>\n",
       "      <td>89</td>\n",
       "      <td>56</td>\n",
       "      <td>55</td>\n",
       "      <td>-1</td>\n",
       "    </tr>\n",
       "    <tr>\n",
       "      <th>4</th>\n",
       "      <td>Site Preparation and Infrastructure</td>\n",
       "      <td>Other Structures, Bridges and Highways</td>\n",
       "      <td>740</td>\n",
       "      <td>553</td>\n",
       "      <td>565</td>\n",
       "      <td>12</td>\n",
       "    </tr>\n",
       "  </tbody>\n",
       "</table>\n",
       "</div>"
      ],
      "text/plain": [
       "                      expense_category  ... variance\n",
       "0  Site Preparation and Infrastructure  ...        1\n",
       "1  Site Preparation and Infrastructure  ...       -3\n",
       "2  Site Preparation and Infrastructure  ...        0\n",
       "3  Site Preparation and Infrastructure  ...       -1\n",
       "4  Site Preparation and Infrastructure  ...       12\n",
       "\n",
       "[5 rows x 6 columns]"
      ]
     },
     "execution_count": 13,
     "metadata": {
      "tags": []
     },
     "output_type": "execute_result"
    }
   ],
   "source": [
    "london_infrastructure_spending_df.head()"
   ]
  },
  {
   "cell_type": "code",
   "execution_count": null,
   "metadata": {
    "colab": {
     "base_uri": "https://localhost:8080/",
     "height": 202
    },
    "colab_type": "code",
    "executionInfo": {
     "elapsed": 377,
     "status": "ok",
     "timestamp": 1594766607731,
     "user": {
      "displayName": "Vivek Gupta",
      "photoUrl": "",
      "userId": "04741807658388914317"
     },
     "user_tz": 240
    },
    "id": "-4l1GWwcehzx",
    "outputId": "8cd7e194-2d4d-49d9-c58c-b45764084097"
   },
   "outputs": [
    {
     "data": {
      "text/html": [
       "<div>\n",
       "<style scoped>\n",
       "    .dataframe tbody tr th:only-of-type {\n",
       "        vertical-align: middle;\n",
       "    }\n",
       "\n",
       "    .dataframe tbody tr th {\n",
       "        vertical-align: top;\n",
       "    }\n",
       "\n",
       "    .dataframe thead th {\n",
       "        text-align: right;\n",
       "    }\n",
       "</style>\n",
       "<table border=\"1\" class=\"dataframe\">\n",
       "  <thead>\n",
       "    <tr style=\"text-align: right;\">\n",
       "      <th></th>\n",
       "      <th>year</th>\n",
       "      <th>area_code</th>\n",
       "      <th>area</th>\n",
       "      <th>gender</th>\n",
       "      <th>economically_active</th>\n",
       "      <th>working_age</th>\n",
       "      <th>percent</th>\n",
       "      <th>confidence</th>\n",
       "    </tr>\n",
       "  </thead>\n",
       "  <tbody>\n",
       "    <tr>\n",
       "      <th>0</th>\n",
       "      <td>Jan 2005-Dec 2005</td>\n",
       "      <td>00AA</td>\n",
       "      <td>City of London</td>\n",
       "      <td>F</td>\n",
       "      <td>2400.0</td>\n",
       "      <td>3600.0</td>\n",
       "      <td>64.4</td>\n",
       "      <td>NaN</td>\n",
       "    </tr>\n",
       "    <tr>\n",
       "      <th>1</th>\n",
       "      <td>Jan 2006-Dec 2006</td>\n",
       "      <td>00AA</td>\n",
       "      <td>City of London</td>\n",
       "      <td>F</td>\n",
       "      <td>NaN</td>\n",
       "      <td>NaN</td>\n",
       "      <td>NaN</td>\n",
       "      <td>NaN</td>\n",
       "    </tr>\n",
       "    <tr>\n",
       "      <th>2</th>\n",
       "      <td>Jan 2007-Dec 2007</td>\n",
       "      <td>00AA</td>\n",
       "      <td>City of London</td>\n",
       "      <td>F</td>\n",
       "      <td>NaN</td>\n",
       "      <td>1400.0</td>\n",
       "      <td>NaN</td>\n",
       "      <td>NaN</td>\n",
       "    </tr>\n",
       "    <tr>\n",
       "      <th>3</th>\n",
       "      <td>Jan 2008-Dec 2008</td>\n",
       "      <td>00AA</td>\n",
       "      <td>City of London</td>\n",
       "      <td>F</td>\n",
       "      <td>1200.0</td>\n",
       "      <td>1200.0</td>\n",
       "      <td>100.0</td>\n",
       "      <td>NaN</td>\n",
       "    </tr>\n",
       "    <tr>\n",
       "      <th>4</th>\n",
       "      <td>Jan 2009-Dec 2009</td>\n",
       "      <td>00AA</td>\n",
       "      <td>City of London</td>\n",
       "      <td>F</td>\n",
       "      <td>NaN</td>\n",
       "      <td>NaN</td>\n",
       "      <td>NaN</td>\n",
       "      <td>NaN</td>\n",
       "    </tr>\n",
       "  </tbody>\n",
       "</table>\n",
       "</div>"
      ],
      "text/plain": [
       "                year area_code  ... percent confidence\n",
       "0  Jan 2005-Dec 2005      00AA  ...    64.4        NaN\n",
       "1  Jan 2006-Dec 2006      00AA  ...     NaN        NaN\n",
       "2  Jan 2007-Dec 2007      00AA  ...     NaN        NaN\n",
       "3  Jan 2008-Dec 2008      00AA  ...   100.0        NaN\n",
       "4  Jan 2009-Dec 2009      00AA  ...     NaN        NaN\n",
       "\n",
       "[5 rows x 8 columns]"
      ]
     },
     "execution_count": 18,
     "metadata": {
      "tags": []
     },
     "output_type": "execute_result"
    }
   ],
   "source": [
    "london_economic_activity_df.head()"
   ]
  },
  {
   "cell_type": "code",
   "execution_count": null,
   "metadata": {
    "colab": {
     "base_uri": "https://localhost:8080/",
     "height": 202
    },
    "colab_type": "code",
    "executionInfo": {
     "elapsed": 470,
     "status": "ok",
     "timestamp": 1594766463955,
     "user": {
      "displayName": "Vivek Gupta",
      "photoUrl": "",
      "userId": "04741807658388914317"
     },
     "user_tz": 240
    },
    "id": "TT3Gp9ngfPGO",
    "outputId": "d2dac9bd-68ca-484e-9523-673d8da13ea2"
   },
   "outputs": [
    {
     "data": {
      "text/html": [
       "<div>\n",
       "<style scoped>\n",
       "    .dataframe tbody tr th:only-of-type {\n",
       "        vertical-align: middle;\n",
       "    }\n",
       "\n",
       "    .dataframe tbody tr th {\n",
       "        vertical-align: top;\n",
       "    }\n",
       "\n",
       "    .dataframe thead th {\n",
       "        text-align: right;\n",
       "    }\n",
       "</style>\n",
       "<table border=\"1\" class=\"dataframe\">\n",
       "  <thead>\n",
       "    <tr style=\"text-align: right;\">\n",
       "      <th></th>\n",
       "      <th>year</th>\n",
       "      <th>area_code</th>\n",
       "      <th>area</th>\n",
       "      <th>identity</th>\n",
       "      <th>pay_type</th>\n",
       "      <th>pay</th>\n",
       "      <th>confidence</th>\n",
       "    </tr>\n",
       "  </thead>\n",
       "  <tbody>\n",
       "    <tr>\n",
       "      <th>0</th>\n",
       "      <td>2002</td>\n",
       "      <td>00AA</td>\n",
       "      <td>City of London</td>\n",
       "      <td>Female</td>\n",
       "      <td>Hourly</td>\n",
       "      <td>NaN</td>\n",
       "      <td>NaN</td>\n",
       "    </tr>\n",
       "    <tr>\n",
       "      <th>1</th>\n",
       "      <td>2003</td>\n",
       "      <td>00AA</td>\n",
       "      <td>City of London</td>\n",
       "      <td>Female</td>\n",
       "      <td>Hourly</td>\n",
       "      <td>NaN</td>\n",
       "      <td>NaN</td>\n",
       "    </tr>\n",
       "    <tr>\n",
       "      <th>2</th>\n",
       "      <td>2004</td>\n",
       "      <td>00AA</td>\n",
       "      <td>City of London</td>\n",
       "      <td>Female</td>\n",
       "      <td>Hourly</td>\n",
       "      <td>NaN</td>\n",
       "      <td>NaN</td>\n",
       "    </tr>\n",
       "    <tr>\n",
       "      <th>3</th>\n",
       "      <td>2005</td>\n",
       "      <td>00AA</td>\n",
       "      <td>City of London</td>\n",
       "      <td>Female</td>\n",
       "      <td>Hourly</td>\n",
       "      <td>NaN</td>\n",
       "      <td>NaN</td>\n",
       "    </tr>\n",
       "    <tr>\n",
       "      <th>4</th>\n",
       "      <td>2006</td>\n",
       "      <td>00AA</td>\n",
       "      <td>City of London</td>\n",
       "      <td>Female</td>\n",
       "      <td>Hourly</td>\n",
       "      <td>NaN</td>\n",
       "      <td>NaN</td>\n",
       "    </tr>\n",
       "  </tbody>\n",
       "</table>\n",
       "</div>"
      ],
      "text/plain": [
       "   year area_code            area identity pay_type  pay  confidence\n",
       "0  2002      00AA  City of London   Female   Hourly  NaN         NaN\n",
       "1  2003      00AA  City of London   Female   Hourly  NaN         NaN\n",
       "2  2004      00AA  City of London   Female   Hourly  NaN         NaN\n",
       "3  2005      00AA  City of London   Female   Hourly  NaN         NaN\n",
       "4  2006      00AA  City of London   Female   Hourly  NaN         NaN"
      ]
     },
     "execution_count": 15,
     "metadata": {
      "tags": []
     },
     "output_type": "execute_result"
    }
   ],
   "source": [
    "london_earnings_by_borough_df.head()"
   ]
  },
  {
   "cell_type": "code",
   "execution_count": null,
   "metadata": {
    "colab": {
     "base_uri": "https://localhost:8080/",
     "height": 202
    },
    "colab_type": "code",
    "executionInfo": {
     "elapsed": 484,
     "status": "ok",
     "timestamp": 1594766499910,
     "user": {
      "displayName": "Vivek Gupta",
      "photoUrl": "",
      "userId": "04741807658388914317"
     },
     "user_tz": 240
    },
    "id": "oNiUi6X3fRFL",
    "outputId": "3f4b301e-2178-47bb-b90c-c595ffccd24d"
   },
   "outputs": [
    {
     "data": {
      "text/html": [
       "<div>\n",
       "<style scoped>\n",
       "    .dataframe tbody tr th:only-of-type {\n",
       "        vertical-align: middle;\n",
       "    }\n",
       "\n",
       "    .dataframe tbody tr th {\n",
       "        vertical-align: top;\n",
       "    }\n",
       "\n",
       "    .dataframe thead th {\n",
       "        text-align: right;\n",
       "    }\n",
       "</style>\n",
       "<table border=\"1\" class=\"dataframe\">\n",
       "  <thead>\n",
       "    <tr style=\"text-align: right;\">\n",
       "      <th></th>\n",
       "      <th>year</th>\n",
       "      <th>quarter</th>\n",
       "      <th>market</th>\n",
       "      <th>dur_stay</th>\n",
       "      <th>mode</th>\n",
       "      <th>purpose</th>\n",
       "      <th>area</th>\n",
       "      <th>visits</th>\n",
       "      <th>spend</th>\n",
       "      <th>nights</th>\n",
       "      <th>sample</th>\n",
       "    </tr>\n",
       "  </thead>\n",
       "  <tbody>\n",
       "    <tr>\n",
       "      <th>0</th>\n",
       "      <td>2002</td>\n",
       "      <td>January-March</td>\n",
       "      <td>Belgium</td>\n",
       "      <td>1-3 nights</td>\n",
       "      <td>Air</td>\n",
       "      <td>Holiday</td>\n",
       "      <td>TOTAL ENGLAND</td>\n",
       "      <td>4.431616</td>\n",
       "      <td>1.013484</td>\n",
       "      <td>9.530416</td>\n",
       "      <td>6</td>\n",
       "    </tr>\n",
       "    <tr>\n",
       "      <th>1</th>\n",
       "      <td>2002</td>\n",
       "      <td>January-March</td>\n",
       "      <td>Belgium</td>\n",
       "      <td>1-3 nights</td>\n",
       "      <td>Air</td>\n",
       "      <td>Holiday</td>\n",
       "      <td>LONDON</td>\n",
       "      <td>3.572186</td>\n",
       "      <td>0.969138</td>\n",
       "      <td>6.954456</td>\n",
       "      <td>5</td>\n",
       "    </tr>\n",
       "    <tr>\n",
       "      <th>2</th>\n",
       "      <td>2002</td>\n",
       "      <td>January-March</td>\n",
       "      <td>Belgium</td>\n",
       "      <td>1-3 nights</td>\n",
       "      <td>Air</td>\n",
       "      <td>Holiday</td>\n",
       "      <td>REST OF ENGLAND</td>\n",
       "      <td>0.859430</td>\n",
       "      <td>0.044346</td>\n",
       "      <td>2.575960</td>\n",
       "      <td>1</td>\n",
       "    </tr>\n",
       "    <tr>\n",
       "      <th>3</th>\n",
       "      <td>2002</td>\n",
       "      <td>January-March</td>\n",
       "      <td>Belgium</td>\n",
       "      <td>1-3 nights</td>\n",
       "      <td>Air</td>\n",
       "      <td>Holiday</td>\n",
       "      <td>SOUTHERN ENGLAND</td>\n",
       "      <td>0.859430</td>\n",
       "      <td>0.044346</td>\n",
       "      <td>2.575960</td>\n",
       "      <td>1</td>\n",
       "    </tr>\n",
       "    <tr>\n",
       "      <th>4</th>\n",
       "      <td>2002</td>\n",
       "      <td>January-March</td>\n",
       "      <td>Belgium</td>\n",
       "      <td>1-3 nights</td>\n",
       "      <td>Air</td>\n",
       "      <td>Holiday</td>\n",
       "      <td>SOUTH EAST</td>\n",
       "      <td>0.859430</td>\n",
       "      <td>0.044346</td>\n",
       "      <td>2.575960</td>\n",
       "      <td>1</td>\n",
       "    </tr>\n",
       "  </tbody>\n",
       "</table>\n",
       "</div>"
      ],
      "text/plain": [
       "   year        quarter   market  ...     spend    nights sample\n",
       "0  2002  January-March  Belgium  ...  1.013484  9.530416      6\n",
       "1  2002  January-March  Belgium  ...  0.969138  6.954456      5\n",
       "2  2002  January-March  Belgium  ...  0.044346  2.575960      1\n",
       "3  2002  January-March  Belgium  ...  0.044346  2.575960      1\n",
       "4  2002  January-March  Belgium  ...  0.044346  2.575960      1\n",
       "\n",
       "[5 rows x 11 columns]"
      ]
     },
     "execution_count": 16,
     "metadata": {
      "tags": []
     },
     "output_type": "execute_result"
    }
   ],
   "source": [
    "uk_international_visits_df['purpose'].unqiue()"
   ]
  }
 ],
 "metadata": {
  "colab": {
   "collapsed_sections": [
    "rp_ItaaonGcq",
    "yWxI7JRX08Eo",
    "NMWhbtpJ01Bn",
    "Rek4b_UQcCXq",
    "CwXO3TXacVs_"
   ],
   "name": "vivek_datathon.ipynb",
   "provenance": [],
   "toc_visible": true
  },
  "kernelspec": {
   "display_name": "Python 3",
   "language": "python",
   "name": "python3"
  },
  "language_info": {
   "codemirror_mode": {
    "name": "ipython",
    "version": 3
   },
   "file_extension": ".py",
   "mimetype": "text/x-python",
   "name": "python",
   "nbconvert_exporter": "python",
   "pygments_lexer": "ipython3",
   "version": "3.6.3"
  }
 },
 "nbformat": 4,
 "nbformat_minor": 1
}
