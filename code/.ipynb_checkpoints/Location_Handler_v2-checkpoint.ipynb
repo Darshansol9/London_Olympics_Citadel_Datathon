{
 "cells": [
  {
   "cell_type": "code",
   "execution_count": null,
   "metadata": {
    "colab": {},
    "colab_type": "code",
    "id": "j2EDHdErb_hc"
   },
   "outputs": [],
   "source": [
    "import pandas as pd\n",
    "import numpy as np"
   ]
  },
  {
   "cell_type": "code",
   "execution_count": null,
   "metadata": {
    "colab": {},
    "colab_type": "code",
    "id": "K7GtCk1JnKlR"
   },
   "outputs": [],
   "source": [
    "london_tickets_for_sale_df = pd.read_csv('/content/drive/My Drive/Datathon/London/london_tickets_for_sale.csv',encoding='unicode_escape')\n",
    "df_events = london_tickets_for_sale_df[['date','time','venue','event']]"
   ]
  },
  {
   "cell_type": "code",
   "execution_count": null,
   "metadata": {
    "colab": {
     "base_uri": "https://localhost:8080/",
     "height": 195
    },
    "colab_type": "code",
    "executionInfo": {
     "elapsed": 807,
     "status": "ok",
     "timestamp": 1594937177892,
     "user": {
      "displayName": "Darshan Solanki",
      "photoUrl": "",
      "userId": "08453583935790106968"
     },
     "user_tz": 240
    },
    "id": "dlQaaGKxn8UV",
    "outputId": "4a303d00-1c49-44c0-aa2a-a61f82968448"
   },
   "outputs": [
    {
     "data": {
      "text/html": [
       "<div>\n",
       "<style scoped>\n",
       "    .dataframe tbody tr th:only-of-type {\n",
       "        vertical-align: middle;\n",
       "    }\n",
       "\n",
       "    .dataframe tbody tr th {\n",
       "        vertical-align: top;\n",
       "    }\n",
       "\n",
       "    .dataframe thead th {\n",
       "        text-align: right;\n",
       "    }\n",
       "</style>\n",
       "<table border=\"1\" class=\"dataframe\">\n",
       "  <thead>\n",
       "    <tr style=\"text-align: right;\">\n",
       "      <th></th>\n",
       "      <th>date</th>\n",
       "      <th>time</th>\n",
       "      <th>venue</th>\n",
       "      <th>event</th>\n",
       "    </tr>\n",
       "  </thead>\n",
       "  <tbody>\n",
       "    <tr>\n",
       "      <th>0</th>\n",
       "      <td>03-Aug</td>\n",
       "      <td>10:0013:45</td>\n",
       "      <td>Olympic Park - Olympic Stadium</td>\n",
       "      <td>Athletics</td>\n",
       "    </tr>\n",
       "    <tr>\n",
       "      <th>1</th>\n",
       "      <td>03-Aug</td>\n",
       "      <td>10:0013:45</td>\n",
       "      <td>Olympic Park - Olympic Stadium</td>\n",
       "      <td>Athletics</td>\n",
       "    </tr>\n",
       "    <tr>\n",
       "      <th>2</th>\n",
       "      <td>03-Aug</td>\n",
       "      <td>10:0013:45</td>\n",
       "      <td>Olympic Park - Olympic Stadium</td>\n",
       "      <td>Athletics</td>\n",
       "    </tr>\n",
       "    <tr>\n",
       "      <th>3</th>\n",
       "      <td>03-Aug</td>\n",
       "      <td>10:0013:45</td>\n",
       "      <td>Olympic Park - Olympic Stadium</td>\n",
       "      <td>Athletics</td>\n",
       "    </tr>\n",
       "    <tr>\n",
       "      <th>4</th>\n",
       "      <td>03-Aug</td>\n",
       "      <td>10:0013:45</td>\n",
       "      <td>Olympic Park - Olympic Stadium</td>\n",
       "      <td>Athletics</td>\n",
       "    </tr>\n",
       "  </tbody>\n",
       "</table>\n",
       "</div>"
      ],
      "text/plain": [
       "     date         time                           venue      event\n",
       "0  03-Aug  10:0013:45  Olympic Park - Olympic Stadium  Athletics\n",
       "1  03-Aug  10:0013:45  Olympic Park - Olympic Stadium  Athletics\n",
       "2  03-Aug  10:0013:45  Olympic Park - Olympic Stadium  Athletics\n",
       "3  03-Aug  10:0013:45  Olympic Park - Olympic Stadium  Athletics\n",
       "4  03-Aug  10:0013:45  Olympic Park - Olympic Stadium  Athletics"
      ]
     },
     "execution_count": 203,
     "metadata": {
      "tags": []
     },
     "output_type": "execute_result"
    }
   ],
   "source": [
    "df_events.head(5)"
   ]
  },
  {
   "cell_type": "code",
   "execution_count": null,
   "metadata": {
    "colab": {
     "base_uri": "https://localhost:8080/",
     "height": 319
    },
    "colab_type": "code",
    "executionInfo": {
     "elapsed": 741,
     "status": "ok",
     "timestamp": 1594937180312,
     "user": {
      "displayName": "Darshan Solanki",
      "photoUrl": "",
      "userId": "08453583935790106968"
     },
     "user_tz": 240
    },
    "id": "y2XtLGnnHYOX",
    "outputId": "e441ad96-32fc-42aa-e7b2-a16891dcee90"
   },
   "outputs": [
    {
     "data": {
      "text/plain": [
       "array(['Olympic Park - Olympic Stadium', 'The Mall', 'Wembley Arena',\n",
       "       \"Lord's Cricket Ground\", 'Horse Guards Parade', 'ExCeL',\n",
       "       'Lee Valley White Water Centre; Hertfordshire',\n",
       "       'Eton Dorney; Buckinghamshire', 'Olympic Park - BMX Circuit',\n",
       "       'Hadleigh Farm; Essex', 'Olympic Park \\x96 Velodrome',\n",
       "       'Olympic Park \\x96 Aquatics Centre', 'Greenwich Park',\n",
       "       'North Greenwich Arena', 'Olympic Park \\x96 Hockey Centre',\n",
       "       'Weymouth and Portland; Dorset',\n",
       "       'Olympic Park \\x96 Handball Arena: Fencing; Olympic Park \\x96 Aquatics Centre: Swimming; Greenwich Park: Riding; combined event',\n",
       "       'Hyde Park', 'Earls Court', 'Olympic Park \\x96 Water Polo Arena',\n",
       "       'Olympic Park - Basketball Arena', 'Millennium Stadium; Cardiff',\n",
       "       'City of Coventry Stadium; Coventry', 'Hampden Park; Glasgow',\n",
       "       'St James\\x92 Park; Newcastle', 'Old Trafford; Manchester',\n",
       "       'Wembley Stadium', 'Olympic Park - Handball Arena',\n",
       "       'Royal Artillery Barracks - Finals Hall & Ground Pass',\n",
       "       'Royal Artillery Barracks - Ground Pass',\n",
       "       'Wimbledon - Centre Court', 'Wimbledon - No.1 Court',\n",
       "       'Wimbledon - Ground Pass'], dtype=object)"
      ]
     },
     "execution_count": 204,
     "metadata": {
      "tags": []
     },
     "output_type": "execute_result"
    }
   ],
   "source": [
    "df_events['venue'].unique()"
   ]
  },
  {
   "cell_type": "code",
   "execution_count": null,
   "metadata": {
    "colab": {},
    "colab_type": "code",
    "id": "WJMZhxATFpGB"
   },
   "outputs": [],
   "source": [
    "lat_lon = {'Olympic Park':[51.543430, -0.016627],'The Mall':[51.504581,-0.134360],\"Lord's\":[51.529934, -0.172178],'Horse Guards Parade':[51.504798, -0.128380],\n",
    "'ExCeL':[51.507218, 0.030504],'Hyde Park':[51.508196, -0.165699],'Lee Valley White Water Centre':[51.688963, -0.017208],'Eton Dorney':[51.493908, -0.663455],\n",
    "'Hadleigh Farm':[51.552378, 0.597948],'Greenwich Park':[51.476958, 0.001483],'North Greenwich Arena':[51.503126, 0.003191],'Weymouth and Portland':[50.570570, -2.455909],\n",
    "'Millennium Stadium':[51.478335, -3.182677],'City of Coventry Stadium':[52.443525, -1.501737],'Hampden Park':[55.825993, -4.252091],\n",
    "'St James':[54.975667, -1.621667],'Old Trafford':[53.463194, -2.276437],'Wembley Stadium':[51.556067, -0.279519],'Royal Artillery Barracks':[51.487557, 0.059606],\n",
    "'Wimbledon':[51.419528, -0.220417],'Earls Court':[51.492483, -0.199686],'Wembley Arena':[51.558196, -0.282597]}\n",
    "\n",
    "venues = list(lat_lon.keys())\n"
   ]
  },
  {
   "cell_type": "code",
   "execution_count": null,
   "metadata": {
    "colab": {
     "base_uri": "https://localhost:8080/",
     "height": 159
    },
    "colab_type": "code",
    "executionInfo": {
     "elapsed": 276,
     "status": "ok",
     "timestamp": 1595086044700,
     "user": {
      "displayName": "Xu Han",
      "photoUrl": "https://lh3.googleusercontent.com/a-/AOh14GhnaeWxWjTZU6jRiU5WxUCfOe9oYT4iCl8N64zT=s64",
      "userId": "00026251251072489171"
     },
     "user_tz": 240
    },
    "id": "9greaRvmPm0M",
    "outputId": "9106d7f5-72b6-4d5d-9f24-451e8ab8ad1a"
   },
   "outputs": [
    {
     "name": "stderr",
     "output_type": "stream",
     "text": [
      "/usr/local/lib/python3.6/dist-packages/ipykernel_launcher.py:3: SettingWithCopyWarning: \n",
      "A value is trying to be set on a copy of a slice from a DataFrame.\n",
      "Try using .loc[row_indexer,col_indexer] = value instead\n",
      "\n",
      "See the caveats in the documentation: https://pandas.pydata.org/pandas-docs/stable/user_guide/indexing.html#returning-a-view-versus-a-copy\n",
      "  This is separate from the ipykernel package so we can avoid doing imports until\n"
     ]
    }
   ],
   "source": [
    "#getting keys of dict as lower dict and cleaning pandas venue column\n",
    "\n",
    "df_events['venue_cleaned'] = df_events['venue'].apply(lambda x: [i.lower() for i in venues if x.startswith(i)])\n",
    "\n",
    "venues = [v.lower() for v in venues]\n",
    "\n",
    "lat_lon_modified = {}\n",
    "for k,v in lat_lon.items():\n",
    "  lat_lon_modified[k.lower()] = v\n"
   ]
  },
  {
   "cell_type": "markdown",
   "metadata": {
    "colab_type": "text",
    "id": "DVnS2lI9qRsu"
   },
   "source": [
    "## Convert Venues of Olympic events with their geo location"
   ]
  },
  {
   "cell_type": "code",
   "execution_count": null,
   "metadata": {
    "colab": {
     "base_uri": "https://localhost:8080/",
     "height": 748
    },
    "colab_type": "code",
    "executionInfo": {
     "elapsed": 378,
     "status": "ok",
     "timestamp": 1595086047124,
     "user": {
      "displayName": "Xu Han",
      "photoUrl": "https://lh3.googleusercontent.com/a-/AOh14GhnaeWxWjTZU6jRiU5WxUCfOe9oYT4iCl8N64zT=s64",
      "userId": "00026251251072489171"
     },
     "user_tz": 240
    },
    "id": "DYGW3VORYmTv",
    "outputId": "b42adac4-e090-44f6-8f4f-42d089cda5ae"
   },
   "outputs": [
    {
     "name": "stderr",
     "output_type": "stream",
     "text": [
      "/usr/local/lib/python3.6/dist-packages/ipykernel_launcher.py:1: SettingWithCopyWarning: \n",
      "A value is trying to be set on a copy of a slice from a DataFrame.\n",
      "Try using .loc[row_indexer,col_indexer] = value instead\n",
      "\n",
      "See the caveats in the documentation: https://pandas.pydata.org/pandas-docs/stable/user_guide/indexing.html#returning-a-view-versus-a-copy\n",
      "  \"\"\"Entry point for launching an IPython kernel.\n",
      "/usr/local/lib/python3.6/dist-packages/pandas/core/frame.py:3997: SettingWithCopyWarning: \n",
      "A value is trying to be set on a copy of a slice from a DataFrame\n",
      "\n",
      "See the caveats in the documentation: https://pandas.pydata.org/pandas-docs/stable/user_guide/indexing.html#returning-a-view-versus-a-copy\n",
      "  errors=errors,\n",
      "/usr/local/lib/python3.6/dist-packages/ipykernel_launcher.py:3: SettingWithCopyWarning: \n",
      "A value is trying to be set on a copy of a slice from a DataFrame.\n",
      "Try using .loc[row_indexer,col_indexer] = value instead\n",
      "\n",
      "See the caveats in the documentation: https://pandas.pydata.org/pandas-docs/stable/user_guide/indexing.html#returning-a-view-versus-a-copy\n",
      "  This is separate from the ipykernel package so we can avoid doing imports until\n"
     ]
    },
    {
     "data": {
      "text/html": [
       "<div>\n",
       "<style scoped>\n",
       "    .dataframe tbody tr th:only-of-type {\n",
       "        vertical-align: middle;\n",
       "    }\n",
       "\n",
       "    .dataframe tbody tr th {\n",
       "        vertical-align: top;\n",
       "    }\n",
       "\n",
       "    .dataframe thead th {\n",
       "        text-align: right;\n",
       "    }\n",
       "</style>\n",
       "<table border=\"1\" class=\"dataframe\">\n",
       "  <thead>\n",
       "    <tr style=\"text-align: right;\">\n",
       "      <th></th>\n",
       "      <th>date</th>\n",
       "      <th>time</th>\n",
       "      <th>event</th>\n",
       "      <th>venue</th>\n",
       "      <th>venue_loc</th>\n",
       "    </tr>\n",
       "  </thead>\n",
       "  <tbody>\n",
       "    <tr>\n",
       "      <th>0</th>\n",
       "      <td>03-Aug</td>\n",
       "      <td>10:0013:45</td>\n",
       "      <td>Athletics</td>\n",
       "      <td>olympic park</td>\n",
       "      <td>[51.54343, -0.016627]</td>\n",
       "    </tr>\n",
       "    <tr>\n",
       "      <th>1</th>\n",
       "      <td>03-Aug</td>\n",
       "      <td>10:0013:45</td>\n",
       "      <td>Athletics</td>\n",
       "      <td>olympic park</td>\n",
       "      <td>[51.54343, -0.016627]</td>\n",
       "    </tr>\n",
       "    <tr>\n",
       "      <th>2</th>\n",
       "      <td>03-Aug</td>\n",
       "      <td>10:0013:45</td>\n",
       "      <td>Athletics</td>\n",
       "      <td>olympic park</td>\n",
       "      <td>[51.54343, -0.016627]</td>\n",
       "    </tr>\n",
       "    <tr>\n",
       "      <th>3</th>\n",
       "      <td>03-Aug</td>\n",
       "      <td>10:0013:45</td>\n",
       "      <td>Athletics</td>\n",
       "      <td>olympic park</td>\n",
       "      <td>[51.54343, -0.016627]</td>\n",
       "    </tr>\n",
       "    <tr>\n",
       "      <th>4</th>\n",
       "      <td>03-Aug</td>\n",
       "      <td>10:0013:45</td>\n",
       "      <td>Athletics</td>\n",
       "      <td>olympic park</td>\n",
       "      <td>[51.54343, -0.016627]</td>\n",
       "    </tr>\n",
       "    <tr>\n",
       "      <th>...</th>\n",
       "      <td>...</td>\n",
       "      <td>...</td>\n",
       "      <td>...</td>\n",
       "      <td>...</td>\n",
       "      <td>...</td>\n",
       "    </tr>\n",
       "    <tr>\n",
       "      <th>1123</th>\n",
       "      <td>05-Aug</td>\n",
       "      <td>12:0020:30</td>\n",
       "      <td>Tennis</td>\n",
       "      <td>wimbledon</td>\n",
       "      <td>[51.419528, -0.220417]</td>\n",
       "    </tr>\n",
       "    <tr>\n",
       "      <th>1124</th>\n",
       "      <td>05-Aug</td>\n",
       "      <td>12:0020:30</td>\n",
       "      <td>Tennis</td>\n",
       "      <td>wimbledon</td>\n",
       "      <td>[51.419528, -0.220417]</td>\n",
       "    </tr>\n",
       "    <tr>\n",
       "      <th>1125</th>\n",
       "      <td>05-Aug</td>\n",
       "      <td>12:0020:30</td>\n",
       "      <td>Tennis</td>\n",
       "      <td>wimbledon</td>\n",
       "      <td>[51.419528, -0.220417]</td>\n",
       "    </tr>\n",
       "    <tr>\n",
       "      <th>1126</th>\n",
       "      <td>05-Aug</td>\n",
       "      <td>12:0020:30</td>\n",
       "      <td>Tennis</td>\n",
       "      <td>wimbledon</td>\n",
       "      <td>[51.419528, -0.220417]</td>\n",
       "    </tr>\n",
       "    <tr>\n",
       "      <th>1127</th>\n",
       "      <td>05-Aug</td>\n",
       "      <td>12:0020:30</td>\n",
       "      <td>Tennis</td>\n",
       "      <td>wimbledon</td>\n",
       "      <td>[51.419528, -0.220417]</td>\n",
       "    </tr>\n",
       "  </tbody>\n",
       "</table>\n",
       "<p>1128 rows × 5 columns</p>\n",
       "</div>"
      ],
      "text/plain": [
       "        date         time      event         venue               venue_loc\n",
       "0     03-Aug  10:0013:45  Athletics  olympic park   [51.54343, -0.016627]\n",
       "1     03-Aug  10:0013:45  Athletics  olympic park   [51.54343, -0.016627]\n",
       "2     03-Aug  10:0013:45  Athletics  olympic park   [51.54343, -0.016627]\n",
       "3     03-Aug  10:0013:45  Athletics  olympic park   [51.54343, -0.016627]\n",
       "4     03-Aug  10:0013:45  Athletics  olympic park   [51.54343, -0.016627]\n",
       "...      ...          ...        ...           ...                     ...\n",
       "1123  05-Aug  12:0020:30     Tennis     wimbledon  [51.419528, -0.220417]\n",
       "1124  05-Aug  12:0020:30     Tennis     wimbledon  [51.419528, -0.220417]\n",
       "1125  05-Aug  12:0020:30     Tennis     wimbledon  [51.419528, -0.220417]\n",
       "1126  05-Aug  12:0020:30     Tennis     wimbledon  [51.419528, -0.220417]\n",
       "1127  05-Aug  12:0020:30     Tennis     wimbledon  [51.419528, -0.220417]\n",
       "\n",
       "[1128 rows x 5 columns]"
      ]
     },
     "execution_count": 6,
     "metadata": {
      "tags": []
     },
     "output_type": "execute_result"
    }
   ],
   "source": [
    "df_events['venue_cleaned'] = df_events['venue_cleaned'].apply(lambda x: x[0])\n",
    "df_events.drop('venue',axis=1,inplace=True)\n",
    "df_events['venue_loc'] = df_events['venue_cleaned'].apply(lambda x: lat_lon_modified[x])\n",
    "df_events.rename({'venue_cleaned': 'venue'}, axis=1)"
   ]
  },
  {
   "cell_type": "markdown",
   "metadata": {
    "colab_type": "text",
    "id": "ydWnQsVxs2BR"
   },
   "source": [
    "#Cal aerial distance given lat lon"
   ]
  },
  {
   "cell_type": "code",
   "execution_count": null,
   "metadata": {
    "colab": {
     "base_uri": "https://localhost:8080/",
     "height": 54
    },
    "colab_type": "code",
    "executionInfo": {
     "elapsed": 335,
     "status": "ok",
     "timestamp": 1595125265802,
     "user": {
      "displayName": "Xu Han",
      "photoUrl": "https://lh3.googleusercontent.com/a-/AOh14GhnaeWxWjTZU6jRiU5WxUCfOe9oYT4iCl8N64zT=s64",
      "userId": "00026251251072489171"
     },
     "user_tz": 240
    },
    "id": "wdSqBluOD2_K",
    "outputId": "5e8cc612-c707-4cc1-9b4a-de7f85ccbb7f"
   },
   "outputs": [
    {
     "data": {
      "application/vnd.google.colaboratory.intrinsic": {
       "type": "string"
      },
      "text/plain": [
       "'\\nlat1 = 51.419528\\nlon1 = -0.220417\\nlat2 = 51.513592\\nlon2 = -0.077236\\naerialDist(lat1,lon1,lat2,lon2)\\n'"
      ]
     },
     "execution_count": 3,
     "metadata": {
      "tags": []
     },
     "output_type": "execute_result"
    }
   ],
   "source": [
    "import math\n",
    "\n",
    "def aerialDist(lat1,lon1,lat2,lon2):\n",
    "\n",
    "  r = 6371e3\n",
    "  theta1 = lat1 * math.pi/180\n",
    "  theta2 = lat2 * math.pi/180\n",
    "\n",
    "  delta = (lon2 - lon1) * math.pi/180\n",
    "  d = math.acos(math.sin(theta1) * math.sin(theta2)  + math.cos(theta1) * math.cos(theta2) * math.cos(delta)) * r\n",
    "  \n",
    "  return round(d/1000,2)\n",
    "\n",
    "'''\n",
    "lat1 = 51.419528\n",
    "lon1 = -0.220417\n",
    "lat2 = 51.513592\n",
    "lon2 = -0.077236\n",
    "aerialDist(lat1,lon1,lat2,lon2)\n",
    "'''"
   ]
  },
  {
   "cell_type": "code",
   "execution_count": null,
   "metadata": {
    "colab": {
     "base_uri": "https://localhost:8080/",
     "height": 34
    },
    "colab_type": "code",
    "executionInfo": {
     "elapsed": 237,
     "status": "ok",
     "timestamp": 1594882766064,
     "user": {
      "displayName": "Darshan Solanki",
      "photoUrl": "",
      "userId": "08453583935790106968"
     },
     "user_tz": 240
    },
    "id": "yn7_CB3ZWacs",
    "outputId": "9b59ddab-fc4c-4618-b7cd-287e4b31f608"
   },
   "outputs": [
    {
     "name": "stdout",
     "output_type": "stream",
     "text": [
      "0\n"
     ]
    }
   ],
   "source": [
    "#Sanity Check\n",
    "'''\n",
    "count = 0\n",
    "for v in df_events['venue_cleaned']:\n",
    "  if(len(v) == 0):\n",
    "    count +=1\n",
    "\n",
    "print(count)\n",
    "'''"
   ]
  },
  {
   "cell_type": "code",
   "execution_count": null,
   "metadata": {
    "colab": {},
    "colab_type": "code",
    "id": "AiQfNaXu7PQE"
   },
   "outputs": [],
   "source": [
    "cities_df = pd.read_csv('/content/drive/My Drive/Datathon/foursquare/cities.csv',index_col=0)  \n",
    "checkin_df = pd.read_csv('/content/drive/My Drive/Datathon/foursquare/checkin.csv',index_col=0)  \n",
    "venues_df = pd.read_csv('/content/drive/My Drive/Datathon/foursquare/venues.csv',index_col=0)  \n",
    "\n",
    "checkin_df.reset_index(inplace=True,drop=True)\n",
    "venues_df.reset_index(inplace=True,drop=True)\n",
    "cities_df.reset_index(inplace=True,drop=True)"
   ]
  },
  {
   "cell_type": "code",
   "execution_count": null,
   "metadata": {
    "colab": {
     "base_uri": "https://localhost:8080/",
     "height": 419
    },
    "colab_type": "code",
    "executionInfo": {
     "elapsed": 304,
     "status": "ok",
     "timestamp": 1595021849871,
     "user": {
      "displayName": "Xu Han",
      "photoUrl": "https://lh3.googleusercontent.com/a-/AOh14GhnaeWxWjTZU6jRiU5WxUCfOe9oYT4iCl8N64zT=s64",
      "userId": "00026251251072489171"
     },
     "user_tz": 240
    },
    "id": "Lm42N5m47cuY",
    "outputId": "de0952de-6f3b-46d8-da6e-7074f921ec34"
   },
   "outputs": [
    {
     "data": {
      "text/html": [
       "<div>\n",
       "<style scoped>\n",
       "    .dataframe tbody tr th:only-of-type {\n",
       "        vertical-align: middle;\n",
       "    }\n",
       "\n",
       "    .dataframe tbody tr th {\n",
       "        vertical-align: top;\n",
       "    }\n",
       "\n",
       "    .dataframe thead th {\n",
       "        text-align: right;\n",
       "    }\n",
       "</style>\n",
       "<table border=\"1\" class=\"dataframe\">\n",
       "  <thead>\n",
       "    <tr style=\"text-align: right;\">\n",
       "      <th></th>\n",
       "      <th>User ID</th>\n",
       "      <th>Venue ID</th>\n",
       "      <th>UTC time</th>\n",
       "      <th>Timezone offset</th>\n",
       "    </tr>\n",
       "  </thead>\n",
       "  <tbody>\n",
       "    <tr>\n",
       "      <th>0</th>\n",
       "      <td>262915</td>\n",
       "      <td>4aec9f4bf964a52091c921e3</td>\n",
       "      <td>Tue Apr 03 18:00:39 +0000 2012</td>\n",
       "      <td>60</td>\n",
       "    </tr>\n",
       "    <tr>\n",
       "      <th>1</th>\n",
       "      <td>180959</td>\n",
       "      <td>4d655c81072a6ea89d8cfc4d</td>\n",
       "      <td>Tue Apr 03 18:00:52 +0000 2012</td>\n",
       "      <td>60</td>\n",
       "    </tr>\n",
       "    <tr>\n",
       "      <th>2</th>\n",
       "      <td>153974</td>\n",
       "      <td>4f60cb95e4b0f16f2908764c</td>\n",
       "      <td>Tue Apr 03 18:01:19 +0000 2012</td>\n",
       "      <td>60</td>\n",
       "    </tr>\n",
       "    <tr>\n",
       "      <th>3</th>\n",
       "      <td>113201</td>\n",
       "      <td>4f1d528ee4b01d7c607b9b1a</td>\n",
       "      <td>Tue Apr 03 18:01:22 +0000 2012</td>\n",
       "      <td>60</td>\n",
       "    </tr>\n",
       "    <tr>\n",
       "      <th>4</th>\n",
       "      <td>20337</td>\n",
       "      <td>4d1281140ad2f04d46b8ac54</td>\n",
       "      <td>Tue Apr 03 18:01:46 +0000 2012</td>\n",
       "      <td>60</td>\n",
       "    </tr>\n",
       "    <tr>\n",
       "      <th>...</th>\n",
       "      <td>...</td>\n",
       "      <td>...</td>\n",
       "      <td>...</td>\n",
       "      <td>...</td>\n",
       "    </tr>\n",
       "    <tr>\n",
       "      <th>332467</th>\n",
       "      <td>239333</td>\n",
       "      <td>4ac518c8f964a5207ca520e3</td>\n",
       "      <td>Mon Sep 16 22:39:26 +0000 2013</td>\n",
       "      <td>60</td>\n",
       "    </tr>\n",
       "    <tr>\n",
       "      <th>332468</th>\n",
       "      <td>1715</td>\n",
       "      <td>4d765034f5e4b1f788c90187</td>\n",
       "      <td>Mon Sep 16 22:41:55 +0000 2013</td>\n",
       "      <td>60</td>\n",
       "    </tr>\n",
       "    <tr>\n",
       "      <th>332469</th>\n",
       "      <td>189920</td>\n",
       "      <td>4b6476c7f964a5204ab52ae3</td>\n",
       "      <td>Mon Sep 16 22:59:26 +0000 2013</td>\n",
       "      <td>60</td>\n",
       "    </tr>\n",
       "    <tr>\n",
       "      <th>332470</th>\n",
       "      <td>2262</td>\n",
       "      <td>4e077b19b0fbba5eee1c6b3e</td>\n",
       "      <td>Mon Sep 16 23:09:07 +0000 2013</td>\n",
       "      <td>60</td>\n",
       "    </tr>\n",
       "    <tr>\n",
       "      <th>332471</th>\n",
       "      <td>105662</td>\n",
       "      <td>51a386e5498e1123aa4ddb97</td>\n",
       "      <td>Mon Sep 16 23:14:24 +0000 2013</td>\n",
       "      <td>60</td>\n",
       "    </tr>\n",
       "  </tbody>\n",
       "</table>\n",
       "<p>332472 rows × 4 columns</p>\n",
       "</div>"
      ],
      "text/plain": [
       "        User ID  ... Timezone offset\n",
       "0        262915  ...              60\n",
       "1        180959  ...              60\n",
       "2        153974  ...              60\n",
       "3        113201  ...              60\n",
       "4         20337  ...              60\n",
       "...         ...  ...             ...\n",
       "332467   239333  ...              60\n",
       "332468     1715  ...              60\n",
       "332469   189920  ...              60\n",
       "332470     2262  ...              60\n",
       "332471   105662  ...              60\n",
       "\n",
       "[332472 rows x 4 columns]"
      ]
     },
     "execution_count": 46,
     "metadata": {
      "tags": []
     },
     "output_type": "execute_result"
    }
   ],
   "source": [
    "checkin_df"
   ]
  },
  {
   "cell_type": "code",
   "execution_count": null,
   "metadata": {
    "colab": {
     "base_uri": "https://localhost:8080/",
     "height": 419
    },
    "colab_type": "code",
    "executionInfo": {
     "elapsed": 310,
     "status": "ok",
     "timestamp": 1595021852298,
     "user": {
      "displayName": "Xu Han",
      "photoUrl": "https://lh3.googleusercontent.com/a-/AOh14GhnaeWxWjTZU6jRiU5WxUCfOe9oYT4iCl8N64zT=s64",
      "userId": "00026251251072489171"
     },
     "user_tz": 240
    },
    "id": "OByrtmCr7qIr",
    "outputId": "ce5cd031-2ee3-48a2-c0df-64eb5ff0838d"
   },
   "outputs": [
    {
     "data": {
      "text/html": [
       "<div>\n",
       "<style scoped>\n",
       "    .dataframe tbody tr th:only-of-type {\n",
       "        vertical-align: middle;\n",
       "    }\n",
       "\n",
       "    .dataframe tbody tr th {\n",
       "        vertical-align: top;\n",
       "    }\n",
       "\n",
       "    .dataframe thead th {\n",
       "        text-align: right;\n",
       "    }\n",
       "</style>\n",
       "<table border=\"1\" class=\"dataframe\">\n",
       "  <thead>\n",
       "    <tr style=\"text-align: right;\">\n",
       "      <th></th>\n",
       "      <th>Venue ID</th>\n",
       "      <th>Latitude</th>\n",
       "      <th>Longitude</th>\n",
       "      <th>Category</th>\n",
       "    </tr>\n",
       "  </thead>\n",
       "  <tbody>\n",
       "    <tr>\n",
       "      <th>0</th>\n",
       "      <td>4a5f9446f964a520e0bf1fe3</td>\n",
       "      <td>51.494770</td>\n",
       "      <td>-0.182719</td>\n",
       "      <td>Burger Joint</td>\n",
       "    </tr>\n",
       "    <tr>\n",
       "      <th>1</th>\n",
       "      <td>4aa37fb3f964a520f64320e3</td>\n",
       "      <td>55.948431</td>\n",
       "      <td>-3.199811</td>\n",
       "      <td>Castle</td>\n",
       "    </tr>\n",
       "    <tr>\n",
       "      <th>2</th>\n",
       "      <td>4abcec53f964a520b98720e3</td>\n",
       "      <td>51.508207</td>\n",
       "      <td>-0.131414</td>\n",
       "      <td>Hotel</td>\n",
       "    </tr>\n",
       "    <tr>\n",
       "      <th>3</th>\n",
       "      <td>4abdc1c7f964a5206d8b20e3</td>\n",
       "      <td>51.523150</td>\n",
       "      <td>-0.105242</td>\n",
       "      <td>Pub</td>\n",
       "    </tr>\n",
       "    <tr>\n",
       "      <th>4</th>\n",
       "      <td>4abe4502f964a520558c20e3</td>\n",
       "      <td>51.501303</td>\n",
       "      <td>-0.142103</td>\n",
       "      <td>Castle</td>\n",
       "    </tr>\n",
       "    <tr>\n",
       "      <th>...</th>\n",
       "      <td>...</td>\n",
       "      <td>...</td>\n",
       "      <td>...</td>\n",
       "      <td>...</td>\n",
       "    </tr>\n",
       "    <tr>\n",
       "      <th>54273</th>\n",
       "      <td>523669fa11d2b2640ef1670c</td>\n",
       "      <td>51.525826</td>\n",
       "      <td>-0.036618</td>\n",
       "      <td>Residential Building (Apartment / Condo)</td>\n",
       "    </tr>\n",
       "    <tr>\n",
       "      <th>54274</th>\n",
       "      <td>5236d0fa11d2e5a555d6c4ce</td>\n",
       "      <td>55.929577</td>\n",
       "      <td>-3.073117</td>\n",
       "      <td>College Classroom</td>\n",
       "    </tr>\n",
       "    <tr>\n",
       "      <th>54275</th>\n",
       "      <td>5236d48f11d2e41336d26ae6</td>\n",
       "      <td>53.524639</td>\n",
       "      <td>-2.400224</td>\n",
       "      <td>Post Office</td>\n",
       "    </tr>\n",
       "    <tr>\n",
       "      <th>54276</th>\n",
       "      <td>5236dbd611d268062f714465</td>\n",
       "      <td>52.583584</td>\n",
       "      <td>-2.070657</td>\n",
       "      <td>Building</td>\n",
       "    </tr>\n",
       "    <tr>\n",
       "      <th>54277</th>\n",
       "      <td>5236dd6f11d21bedf9ff5327</td>\n",
       "      <td>51.485942</td>\n",
       "      <td>-0.122315</td>\n",
       "      <td>Farmers Market</td>\n",
       "    </tr>\n",
       "  </tbody>\n",
       "</table>\n",
       "<p>54278 rows × 4 columns</p>\n",
       "</div>"
      ],
      "text/plain": [
       "                       Venue ID  ...                                  Category\n",
       "0      4a5f9446f964a520e0bf1fe3  ...                              Burger Joint\n",
       "1      4aa37fb3f964a520f64320e3  ...                                    Castle\n",
       "2      4abcec53f964a520b98720e3  ...                                     Hotel\n",
       "3      4abdc1c7f964a5206d8b20e3  ...                                       Pub\n",
       "4      4abe4502f964a520558c20e3  ...                                    Castle\n",
       "...                         ...  ...                                       ...\n",
       "54273  523669fa11d2b2640ef1670c  ...  Residential Building (Apartment / Condo)\n",
       "54274  5236d0fa11d2e5a555d6c4ce  ...                         College Classroom\n",
       "54275  5236d48f11d2e41336d26ae6  ...                               Post Office\n",
       "54276  5236dbd611d268062f714465  ...                                  Building\n",
       "54277  5236dd6f11d21bedf9ff5327  ...                            Farmers Market\n",
       "\n",
       "[54278 rows x 4 columns]"
      ]
     },
     "execution_count": 47,
     "metadata": {
      "tags": []
     },
     "output_type": "execute_result"
    }
   ],
   "source": [
    "venues_df"
   ]
  },
  {
   "cell_type": "code",
   "execution_count": null,
   "metadata": {
    "colab": {
     "base_uri": "https://localhost:8080/",
     "height": 328
    },
    "colab_type": "code",
    "executionInfo": {
     "elapsed": 359,
     "status": "ok",
     "timestamp": 1595014962341,
     "user": {
      "displayName": "Xu Han",
      "photoUrl": "https://lh3.googleusercontent.com/a-/AOh14GhnaeWxWjTZU6jRiU5WxUCfOe9oYT4iCl8N64zT=s64",
      "userId": "00026251251072489171"
     },
     "user_tz": 240
    },
    "id": "pkMCiXeBkltq",
    "outputId": "41ce773b-61eb-4cd5-d78a-4ae5c811537a"
   },
   "outputs": [
    {
     "data": {
      "text/html": [
       "<div>\n",
       "<style scoped>\n",
       "    .dataframe tbody tr th:only-of-type {\n",
       "        vertical-align: middle;\n",
       "    }\n",
       "\n",
       "    .dataframe tbody tr th {\n",
       "        vertical-align: top;\n",
       "    }\n",
       "\n",
       "    .dataframe thead th {\n",
       "        text-align: right;\n",
       "    }\n",
       "</style>\n",
       "<table border=\"1\" class=\"dataframe\">\n",
       "  <thead>\n",
       "    <tr style=\"text-align: right;\">\n",
       "      <th></th>\n",
       "      <th>City name</th>\n",
       "      <th>Latitude</th>\n",
       "      <th>Longitude</th>\n",
       "      <th>City type</th>\n",
       "    </tr>\n",
       "  </thead>\n",
       "  <tbody>\n",
       "    <tr>\n",
       "      <th>0</th>\n",
       "      <td>Fawley</td>\n",
       "      <td>50.816700</td>\n",
       "      <td>-1.333295</td>\n",
       "      <td>Other</td>\n",
       "    </tr>\n",
       "    <tr>\n",
       "      <th>1</th>\n",
       "      <td>Sheffield</td>\n",
       "      <td>53.374041</td>\n",
       "      <td>-1.462995</td>\n",
       "      <td>Other</td>\n",
       "    </tr>\n",
       "    <tr>\n",
       "      <th>2</th>\n",
       "      <td>Birmingham</td>\n",
       "      <td>52.492752</td>\n",
       "      <td>-1.863342</td>\n",
       "      <td>Other</td>\n",
       "    </tr>\n",
       "    <tr>\n",
       "      <th>3</th>\n",
       "      <td>London</td>\n",
       "      <td>51.487911</td>\n",
       "      <td>-0.178002</td>\n",
       "      <td>National and provincial capital</td>\n",
       "    </tr>\n",
       "    <tr>\n",
       "      <th>4</th>\n",
       "      <td>Edinburgh</td>\n",
       "      <td>55.924002</td>\n",
       "      <td>-3.249998</td>\n",
       "      <td>Provincial capital</td>\n",
       "    </tr>\n",
       "    <tr>\n",
       "      <th>5</th>\n",
       "      <td>Glasgow</td>\n",
       "      <td>55.862811</td>\n",
       "      <td>-4.269941</td>\n",
       "      <td>Other</td>\n",
       "    </tr>\n",
       "    <tr>\n",
       "      <th>6</th>\n",
       "      <td>Leeds</td>\n",
       "      <td>53.808705</td>\n",
       "      <td>-1.497528</td>\n",
       "      <td>Other</td>\n",
       "    </tr>\n",
       "    <tr>\n",
       "      <th>7</th>\n",
       "      <td>Manchester</td>\n",
       "      <td>53.479665</td>\n",
       "      <td>-2.261781</td>\n",
       "      <td>Other</td>\n",
       "    </tr>\n",
       "    <tr>\n",
       "      <th>8</th>\n",
       "      <td>Liverpool</td>\n",
       "      <td>53.423001</td>\n",
       "      <td>-2.970998</td>\n",
       "      <td>Other</td>\n",
       "    </tr>\n",
       "  </tbody>\n",
       "</table>\n",
       "</div>"
      ],
      "text/plain": [
       "    City name   Latitude  Longitude                        City type\n",
       "0      Fawley  50.816700  -1.333295                            Other\n",
       "1   Sheffield  53.374041  -1.462995                            Other\n",
       "2  Birmingham  52.492752  -1.863342                            Other\n",
       "3      London  51.487911  -0.178002  National and provincial capital\n",
       "4   Edinburgh  55.924002  -3.249998               Provincial capital\n",
       "5     Glasgow  55.862811  -4.269941                            Other\n",
       "6       Leeds  53.808705  -1.497528                            Other\n",
       "7  Manchester  53.479665  -2.261781                            Other\n",
       "8   Liverpool  53.423001  -2.970998                            Other"
      ]
     },
     "execution_count": 22,
     "metadata": {
      "tags": []
     },
     "output_type": "execute_result"
    }
   ],
   "source": [
    "cities_df"
   ]
  },
  {
   "cell_type": "code",
   "execution_count": null,
   "metadata": {
    "colab": {},
    "colab_type": "code",
    "id": "eMjRRdDf7ztM"
   },
   "outputs": [],
   "source": [
    "combine_check_venue_df = checkin_df.merge(venues_df,on=['Venue ID'],how='inner')"
   ]
  },
  {
   "cell_type": "code",
   "execution_count": null,
   "metadata": {
    "colab": {
     "base_uri": "https://localhost:8080/",
     "height": 238
    },
    "colab_type": "code",
    "executionInfo": {
     "elapsed": 373,
     "status": "ok",
     "timestamp": 1595014995268,
     "user": {
      "displayName": "Xu Han",
      "photoUrl": "https://lh3.googleusercontent.com/a-/AOh14GhnaeWxWjTZU6jRiU5WxUCfOe9oYT4iCl8N64zT=s64",
      "userId": "00026251251072489171"
     },
     "user_tz": 240
    },
    "id": "agC2Pi8R9zRx",
    "outputId": "486e31ea-8cb0-4ce7-e5e1-f17cc6e075f5"
   },
   "outputs": [
    {
     "data": {
      "text/html": [
       "<div>\n",
       "<style scoped>\n",
       "    .dataframe tbody tr th:only-of-type {\n",
       "        vertical-align: middle;\n",
       "    }\n",
       "\n",
       "    .dataframe tbody tr th {\n",
       "        vertical-align: top;\n",
       "    }\n",
       "\n",
       "    .dataframe thead th {\n",
       "        text-align: right;\n",
       "    }\n",
       "</style>\n",
       "<table border=\"1\" class=\"dataframe\">\n",
       "  <thead>\n",
       "    <tr style=\"text-align: right;\">\n",
       "      <th></th>\n",
       "      <th>User ID</th>\n",
       "      <th>Venue ID</th>\n",
       "      <th>UTC time</th>\n",
       "      <th>Timezone offset</th>\n",
       "      <th>Latitude</th>\n",
       "      <th>Longitude</th>\n",
       "      <th>Category</th>\n",
       "    </tr>\n",
       "  </thead>\n",
       "  <tbody>\n",
       "    <tr>\n",
       "      <th>0</th>\n",
       "      <td>262915</td>\n",
       "      <td>4aec9f4bf964a52091c921e3</td>\n",
       "      <td>Tue Apr 03 18:00:39 +0000 2012</td>\n",
       "      <td>60</td>\n",
       "      <td>51.498044</td>\n",
       "      <td>-0.090546</td>\n",
       "      <td>Pub</td>\n",
       "    </tr>\n",
       "    <tr>\n",
       "      <th>1</th>\n",
       "      <td>129494</td>\n",
       "      <td>4aec9f4bf964a52091c921e3</td>\n",
       "      <td>Sun Apr 08 18:18:30 +0000 2012</td>\n",
       "      <td>60</td>\n",
       "      <td>51.498044</td>\n",
       "      <td>-0.090546</td>\n",
       "      <td>Pub</td>\n",
       "    </tr>\n",
       "    <tr>\n",
       "      <th>2</th>\n",
       "      <td>262915</td>\n",
       "      <td>4aec9f4bf964a52091c921e3</td>\n",
       "      <td>Tue Apr 10 18:16:59 +0000 2012</td>\n",
       "      <td>60</td>\n",
       "      <td>51.498044</td>\n",
       "      <td>-0.090546</td>\n",
       "      <td>Pub</td>\n",
       "    </tr>\n",
       "    <tr>\n",
       "      <th>3</th>\n",
       "      <td>129494</td>\n",
       "      <td>4aec9f4bf964a52091c921e3</td>\n",
       "      <td>Wed Apr 11 20:56:49 +0000 2012</td>\n",
       "      <td>60</td>\n",
       "      <td>51.498044</td>\n",
       "      <td>-0.090546</td>\n",
       "      <td>Pub</td>\n",
       "    </tr>\n",
       "    <tr>\n",
       "      <th>4</th>\n",
       "      <td>129494</td>\n",
       "      <td>4aec9f4bf964a52091c921e3</td>\n",
       "      <td>Sat Apr 14 20:29:13 +0000 2012</td>\n",
       "      <td>60</td>\n",
       "      <td>51.498044</td>\n",
       "      <td>-0.090546</td>\n",
       "      <td>Pub</td>\n",
       "    </tr>\n",
       "  </tbody>\n",
       "</table>\n",
       "</div>"
      ],
      "text/plain": [
       "   User ID                  Venue ID  ... Longitude  Category\n",
       "0   262915  4aec9f4bf964a52091c921e3  ... -0.090546       Pub\n",
       "1   129494  4aec9f4bf964a52091c921e3  ... -0.090546       Pub\n",
       "2   262915  4aec9f4bf964a52091c921e3  ... -0.090546       Pub\n",
       "3   129494  4aec9f4bf964a52091c921e3  ... -0.090546       Pub\n",
       "4   129494  4aec9f4bf964a52091c921e3  ... -0.090546       Pub\n",
       "\n",
       "[5 rows x 7 columns]"
      ]
     },
     "execution_count": 24,
     "metadata": {
      "tags": []
     },
     "output_type": "execute_result"
    }
   ],
   "source": [
    "combine_check_venue_df.head(5)"
   ]
  },
  {
   "cell_type": "markdown",
   "metadata": {
    "colab_type": "text",
    "id": "Un0sVsuQquM2"
   },
   "source": [
    "##Using Cities.csv map check-in events as well as olympic events to the City is belonged"
   ]
  },
  {
   "cell_type": "code",
   "execution_count": null,
   "metadata": {
    "colab": {
     "base_uri": "https://localhost:8080/",
     "height": 162
    },
    "colab_type": "code",
    "executionInfo": {
     "elapsed": 101455,
     "status": "ok",
     "timestamp": 1595086165312,
     "user": {
      "displayName": "Xu Han",
      "photoUrl": "https://lh3.googleusercontent.com/a-/AOh14GhnaeWxWjTZU6jRiU5WxUCfOe9oYT4iCl8N64zT=s64",
      "userId": "00026251251072489171"
     },
     "user_tz": 240
    },
    "id": "ymS4kA8o90z5",
    "outputId": "07b2ec8b-7d97-41c0-c23b-e8aa0a0fba1f"
   },
   "outputs": [
    {
     "name": "stderr",
     "output_type": "stream",
     "text": [
      "/usr/local/lib/python3.6/dist-packages/ipykernel_launcher.py:29: SettingWithCopyWarning: \n",
      "A value is trying to be set on a copy of a slice from a DataFrame.\n",
      "Try using .loc[row_indexer,col_indexer] = value instead\n",
      "\n",
      "See the caveats in the documentation: https://pandas.pydata.org/pandas-docs/stable/user_guide/indexing.html#returning-a-view-versus-a-copy\n"
     ]
    }
   ],
   "source": [
    "def getCityNames(lat1,lon1):\n",
    "\n",
    "  min_ = float('inf')\n",
    "  for i in range(len(cities_df)):\n",
    "    lat2,lon2 = cities_df['Latitude'].iloc[i],cities_df['Longitude'].iloc[i]\n",
    "    dist = aerialDist(lat1,lon1,lat2,lon2)\n",
    "    if(dist < min_):\n",
    "      min_ = dist\n",
    "      city = cities_df['City name'].iloc[i]\n",
    "\n",
    "  return city\n",
    "\n",
    "\n",
    "cities = []\n",
    "\n",
    "for i in range(len(combine_check_venue_df)):\n",
    "  lat1,lon1 = combine_check_venue_df['Latitude'].iloc[i],combine_check_venue_df['Longitude'].iloc[i]\n",
    "  cities.append(getCityNames(lat1,lon1))\n",
    "\n",
    "combine_check_venue_df['City'] = cities\n",
    "\n",
    "events_cities = []\n",
    "\n",
    "for i in range(len(df_events)):\n",
    "  loc = df_events['venue_loc'].iloc[i]\n",
    "  lat1,lon1 = loc[0],loc[1]\n",
    "  events_cities.append(getCityNames(lat1,lon1))\n",
    "\n",
    "df_events['City'] = events_cities"
   ]
  },
  {
   "cell_type": "code",
   "execution_count": null,
   "metadata": {
    "colab": {
     "base_uri": "https://localhost:8080/",
     "height": 606
    },
    "colab_type": "code",
    "executionInfo": {
     "elapsed": 412,
     "status": "ok",
     "timestamp": 1595022316488,
     "user": {
      "displayName": "Xu Han",
      "photoUrl": "https://lh3.googleusercontent.com/a-/AOh14GhnaeWxWjTZU6jRiU5WxUCfOe9oYT4iCl8N64zT=s64",
      "userId": "00026251251072489171"
     },
     "user_tz": 240
    },
    "id": "Zg-6jWV198oU",
    "outputId": "696d6f59-2176-4e4b-b9e2-7246d15595d5"
   },
   "outputs": [
    {
     "data": {
      "text/html": [
       "<div>\n",
       "<style scoped>\n",
       "    .dataframe tbody tr th:only-of-type {\n",
       "        vertical-align: middle;\n",
       "    }\n",
       "\n",
       "    .dataframe tbody tr th {\n",
       "        vertical-align: top;\n",
       "    }\n",
       "\n",
       "    .dataframe thead th {\n",
       "        text-align: right;\n",
       "    }\n",
       "</style>\n",
       "<table border=\"1\" class=\"dataframe\">\n",
       "  <thead>\n",
       "    <tr style=\"text-align: right;\">\n",
       "      <th></th>\n",
       "      <th>User ID</th>\n",
       "      <th>Venue ID</th>\n",
       "      <th>UTC time</th>\n",
       "      <th>Timezone offset</th>\n",
       "      <th>Latitude</th>\n",
       "      <th>Longitude</th>\n",
       "      <th>Category</th>\n",
       "      <th>City</th>\n",
       "    </tr>\n",
       "  </thead>\n",
       "  <tbody>\n",
       "    <tr>\n",
       "      <th>0</th>\n",
       "      <td>262915</td>\n",
       "      <td>4aec9f4bf964a52091c921e3</td>\n",
       "      <td>Tue Apr 03 18:00:39 +0000 2012</td>\n",
       "      <td>60</td>\n",
       "      <td>51.498044</td>\n",
       "      <td>-0.090546</td>\n",
       "      <td>Pub</td>\n",
       "      <td>London</td>\n",
       "    </tr>\n",
       "    <tr>\n",
       "      <th>1</th>\n",
       "      <td>129494</td>\n",
       "      <td>4aec9f4bf964a52091c921e3</td>\n",
       "      <td>Sun Apr 08 18:18:30 +0000 2012</td>\n",
       "      <td>60</td>\n",
       "      <td>51.498044</td>\n",
       "      <td>-0.090546</td>\n",
       "      <td>Pub</td>\n",
       "      <td>London</td>\n",
       "    </tr>\n",
       "    <tr>\n",
       "      <th>2</th>\n",
       "      <td>262915</td>\n",
       "      <td>4aec9f4bf964a52091c921e3</td>\n",
       "      <td>Tue Apr 10 18:16:59 +0000 2012</td>\n",
       "      <td>60</td>\n",
       "      <td>51.498044</td>\n",
       "      <td>-0.090546</td>\n",
       "      <td>Pub</td>\n",
       "      <td>London</td>\n",
       "    </tr>\n",
       "    <tr>\n",
       "      <th>3</th>\n",
       "      <td>129494</td>\n",
       "      <td>4aec9f4bf964a52091c921e3</td>\n",
       "      <td>Wed Apr 11 20:56:49 +0000 2012</td>\n",
       "      <td>60</td>\n",
       "      <td>51.498044</td>\n",
       "      <td>-0.090546</td>\n",
       "      <td>Pub</td>\n",
       "      <td>London</td>\n",
       "    </tr>\n",
       "    <tr>\n",
       "      <th>4</th>\n",
       "      <td>129494</td>\n",
       "      <td>4aec9f4bf964a52091c921e3</td>\n",
       "      <td>Sat Apr 14 20:29:13 +0000 2012</td>\n",
       "      <td>60</td>\n",
       "      <td>51.498044</td>\n",
       "      <td>-0.090546</td>\n",
       "      <td>Pub</td>\n",
       "      <td>London</td>\n",
       "    </tr>\n",
       "    <tr>\n",
       "      <th>...</th>\n",
       "      <td>...</td>\n",
       "      <td>...</td>\n",
       "      <td>...</td>\n",
       "      <td>...</td>\n",
       "      <td>...</td>\n",
       "      <td>...</td>\n",
       "      <td>...</td>\n",
       "      <td>...</td>\n",
       "    </tr>\n",
       "    <tr>\n",
       "      <th>332467</th>\n",
       "      <td>86643</td>\n",
       "      <td>4c0299c4f56c2d7fa6a01b66</td>\n",
       "      <td>Mon Sep 16 19:13:00 +0000 2013</td>\n",
       "      <td>60</td>\n",
       "      <td>55.862862</td>\n",
       "      <td>-4.428649</td>\n",
       "      <td>Hotel</td>\n",
       "      <td>Glasgow</td>\n",
       "    </tr>\n",
       "    <tr>\n",
       "      <th>332468</th>\n",
       "      <td>228024</td>\n",
       "      <td>521d9f8811d23b3cba9efd79</td>\n",
       "      <td>Mon Sep 16 19:29:00 +0000 2013</td>\n",
       "      <td>60</td>\n",
       "      <td>51.490877</td>\n",
       "      <td>-0.182205</td>\n",
       "      <td>Office</td>\n",
       "      <td>London</td>\n",
       "    </tr>\n",
       "    <tr>\n",
       "      <th>332469</th>\n",
       "      <td>158850</td>\n",
       "      <td>4d20624ed7b0b1f77e59149f</td>\n",
       "      <td>Mon Sep 16 21:15:26 +0000 2013</td>\n",
       "      <td>60</td>\n",
       "      <td>53.827573</td>\n",
       "      <td>-1.730742</td>\n",
       "      <td>Home (private)</td>\n",
       "      <td>Leeds</td>\n",
       "    </tr>\n",
       "    <tr>\n",
       "      <th>332470</th>\n",
       "      <td>105662</td>\n",
       "      <td>4b87b83cf964a5209dc831e3</td>\n",
       "      <td>Mon Sep 16 22:32:12 +0000 2013</td>\n",
       "      <td>60</td>\n",
       "      <td>53.402537</td>\n",
       "      <td>-2.977469</td>\n",
       "      <td>Chinese Restaurant</td>\n",
       "      <td>Liverpool</td>\n",
       "    </tr>\n",
       "    <tr>\n",
       "      <th>332471</th>\n",
       "      <td>105662</td>\n",
       "      <td>51a386e5498e1123aa4ddb97</td>\n",
       "      <td>Mon Sep 16 23:14:24 +0000 2013</td>\n",
       "      <td>60</td>\n",
       "      <td>53.408472</td>\n",
       "      <td>-2.981847</td>\n",
       "      <td>Chinese Restaurant</td>\n",
       "      <td>Liverpool</td>\n",
       "    </tr>\n",
       "  </tbody>\n",
       "</table>\n",
       "<p>332472 rows × 8 columns</p>\n",
       "</div>"
      ],
      "text/plain": [
       "        User ID                  Venue ID  ...            Category       City\n",
       "0        262915  4aec9f4bf964a52091c921e3  ...                 Pub     London\n",
       "1        129494  4aec9f4bf964a52091c921e3  ...                 Pub     London\n",
       "2        262915  4aec9f4bf964a52091c921e3  ...                 Pub     London\n",
       "3        129494  4aec9f4bf964a52091c921e3  ...                 Pub     London\n",
       "4        129494  4aec9f4bf964a52091c921e3  ...                 Pub     London\n",
       "...         ...                       ...  ...                 ...        ...\n",
       "332467    86643  4c0299c4f56c2d7fa6a01b66  ...               Hotel    Glasgow\n",
       "332468   228024  521d9f8811d23b3cba9efd79  ...              Office     London\n",
       "332469   158850  4d20624ed7b0b1f77e59149f  ...      Home (private)      Leeds\n",
       "332470   105662  4b87b83cf964a5209dc831e3  ...  Chinese Restaurant  Liverpool\n",
       "332471   105662  51a386e5498e1123aa4ddb97  ...  Chinese Restaurant  Liverpool\n",
       "\n",
       "[332472 rows x 8 columns]"
      ]
     },
     "execution_count": 55,
     "metadata": {
      "tags": []
     },
     "output_type": "execute_result"
    }
   ],
   "source": [
    "combine_check_venue_df"
   ]
  },
  {
   "cell_type": "code",
   "execution_count": null,
   "metadata": {
    "colab": {
     "base_uri": "https://localhost:8080/",
     "height": 204
    },
    "colab_type": "code",
    "executionInfo": {
     "elapsed": 477,
     "status": "ok",
     "timestamp": 1595021521333,
     "user": {
      "displayName": "Xu Han",
      "photoUrl": "https://lh3.googleusercontent.com/a-/AOh14GhnaeWxWjTZU6jRiU5WxUCfOe9oYT4iCl8N64zT=s64",
      "userId": "00026251251072489171"
     },
     "user_tz": 240
    },
    "id": "c2ajlZ4ICON_",
    "outputId": "347e9dae-c7ae-4ff5-a48a-a64f7c9f6733"
   },
   "outputs": [
    {
     "data": {
      "text/html": [
       "<div>\n",
       "<style scoped>\n",
       "    .dataframe tbody tr th:only-of-type {\n",
       "        vertical-align: middle;\n",
       "    }\n",
       "\n",
       "    .dataframe tbody tr th {\n",
       "        vertical-align: top;\n",
       "    }\n",
       "\n",
       "    .dataframe thead th {\n",
       "        text-align: right;\n",
       "    }\n",
       "</style>\n",
       "<table border=\"1\" class=\"dataframe\">\n",
       "  <thead>\n",
       "    <tr style=\"text-align: right;\">\n",
       "      <th></th>\n",
       "      <th>date</th>\n",
       "      <th>time</th>\n",
       "      <th>event</th>\n",
       "      <th>venue_cleaned</th>\n",
       "      <th>venue_loc</th>\n",
       "      <th>City</th>\n",
       "    </tr>\n",
       "  </thead>\n",
       "  <tbody>\n",
       "    <tr>\n",
       "      <th>0</th>\n",
       "      <td>03-Aug</td>\n",
       "      <td>10:0013:45</td>\n",
       "      <td>Athletics</td>\n",
       "      <td>olympic park</td>\n",
       "      <td>[51.54343, -0.016627]</td>\n",
       "      <td>London</td>\n",
       "    </tr>\n",
       "    <tr>\n",
       "      <th>1</th>\n",
       "      <td>03-Aug</td>\n",
       "      <td>10:0013:45</td>\n",
       "      <td>Athletics</td>\n",
       "      <td>olympic park</td>\n",
       "      <td>[51.54343, -0.016627]</td>\n",
       "      <td>London</td>\n",
       "    </tr>\n",
       "    <tr>\n",
       "      <th>2</th>\n",
       "      <td>03-Aug</td>\n",
       "      <td>10:0013:45</td>\n",
       "      <td>Athletics</td>\n",
       "      <td>olympic park</td>\n",
       "      <td>[51.54343, -0.016627]</td>\n",
       "      <td>London</td>\n",
       "    </tr>\n",
       "    <tr>\n",
       "      <th>3</th>\n",
       "      <td>03-Aug</td>\n",
       "      <td>10:0013:45</td>\n",
       "      <td>Athletics</td>\n",
       "      <td>olympic park</td>\n",
       "      <td>[51.54343, -0.016627]</td>\n",
       "      <td>London</td>\n",
       "    </tr>\n",
       "    <tr>\n",
       "      <th>4</th>\n",
       "      <td>03-Aug</td>\n",
       "      <td>10:0013:45</td>\n",
       "      <td>Athletics</td>\n",
       "      <td>olympic park</td>\n",
       "      <td>[51.54343, -0.016627]</td>\n",
       "      <td>London</td>\n",
       "    </tr>\n",
       "  </tbody>\n",
       "</table>\n",
       "</div>"
      ],
      "text/plain": [
       "     date         time      event venue_cleaned              venue_loc    City\n",
       "0  03-Aug  10:0013:45  Athletics  olympic park  [51.54343, -0.016627]  London\n",
       "1  03-Aug  10:0013:45  Athletics  olympic park  [51.54343, -0.016627]  London\n",
       "2  03-Aug  10:0013:45  Athletics  olympic park  [51.54343, -0.016627]  London\n",
       "3  03-Aug  10:0013:45  Athletics  olympic park  [51.54343, -0.016627]  London\n",
       "4  03-Aug  10:0013:45  Athletics  olympic park  [51.54343, -0.016627]  London"
      ]
     },
     "execution_count": 37,
     "metadata": {
      "tags": []
     },
     "output_type": "execute_result"
    }
   ],
   "source": [
    "df_events.head(5)"
   ]
  },
  {
   "cell_type": "code",
   "execution_count": null,
   "metadata": {
    "colab": {
     "base_uri": "https://localhost:8080/",
     "height": 195
    },
    "colab_type": "code",
    "executionInfo": {
     "elapsed": 1222,
     "status": "ok",
     "timestamp": 1594937355989,
     "user": {
      "displayName": "Darshan Solanki",
      "photoUrl": "",
      "userId": "08453583935790106968"
     },
     "user_tz": 240
    },
    "id": "-Cmyi76j_9Gh",
    "outputId": "90e992a1-d59a-4a39-c7e4-3d1b0eaf8c7b"
   },
   "outputs": [
    {
     "data": {
      "text/html": [
       "<div>\n",
       "<style scoped>\n",
       "    .dataframe tbody tr th:only-of-type {\n",
       "        vertical-align: middle;\n",
       "    }\n",
       "\n",
       "    .dataframe tbody tr th {\n",
       "        vertical-align: top;\n",
       "    }\n",
       "\n",
       "    .dataframe thead th {\n",
       "        text-align: right;\n",
       "    }\n",
       "</style>\n",
       "<table border=\"1\" class=\"dataframe\">\n",
       "  <thead>\n",
       "    <tr style=\"text-align: right;\">\n",
       "      <th></th>\n",
       "      <th>City name</th>\n",
       "      <th>Latitude</th>\n",
       "      <th>Longitude</th>\n",
       "      <th>City type</th>\n",
       "    </tr>\n",
       "  </thead>\n",
       "  <tbody>\n",
       "    <tr>\n",
       "      <th>0</th>\n",
       "      <td>Fawley</td>\n",
       "      <td>50.816700</td>\n",
       "      <td>-1.333295</td>\n",
       "      <td>Other</td>\n",
       "    </tr>\n",
       "    <tr>\n",
       "      <th>1</th>\n",
       "      <td>Sheffield</td>\n",
       "      <td>53.374041</td>\n",
       "      <td>-1.462995</td>\n",
       "      <td>Other</td>\n",
       "    </tr>\n",
       "    <tr>\n",
       "      <th>2</th>\n",
       "      <td>Birmingham</td>\n",
       "      <td>52.492752</td>\n",
       "      <td>-1.863342</td>\n",
       "      <td>Other</td>\n",
       "    </tr>\n",
       "    <tr>\n",
       "      <th>3</th>\n",
       "      <td>London</td>\n",
       "      <td>51.487911</td>\n",
       "      <td>-0.178002</td>\n",
       "      <td>National and provincial capital</td>\n",
       "    </tr>\n",
       "    <tr>\n",
       "      <th>4</th>\n",
       "      <td>Edinburgh</td>\n",
       "      <td>55.924002</td>\n",
       "      <td>-3.249998</td>\n",
       "      <td>Provincial capital</td>\n",
       "    </tr>\n",
       "  </tbody>\n",
       "</table>\n",
       "</div>"
      ],
      "text/plain": [
       "    City name   Latitude  Longitude                        City type\n",
       "0      Fawley  50.816700  -1.333295                            Other\n",
       "1   Sheffield  53.374041  -1.462995                            Other\n",
       "2  Birmingham  52.492752  -1.863342                            Other\n",
       "3      London  51.487911  -0.178002  National and provincial capital\n",
       "4   Edinburgh  55.924002  -3.249998               Provincial capital"
      ]
     },
     "execution_count": 218,
     "metadata": {
      "tags": []
     },
     "output_type": "execute_result"
    }
   ],
   "source": [
    "cities_df.head(5)"
   ]
  },
  {
   "cell_type": "code",
   "execution_count": null,
   "metadata": {
    "colab": {},
    "colab_type": "code",
    "id": "qUSmENh2bTAj"
   },
   "outputs": [],
   "source": [
    "from datetime import datetime\n",
    "from datetime import timezone\n",
    "\n",
    "def getDateTimeStamp(d,filter_,format):\n",
    "\n",
    "  try:\n",
    "    tokens = d.lower().replace('+0000','').split()\n",
    "    day,lst = tokens[0], [tokens[1],tokens[2], tokens[-1],tokens[-2]]\n",
    "    written_date = ' '.join(lst)\n",
    "\n",
    "  except Exception as e:\n",
    "      written_date = d\n",
    "    \n",
    "  dt = datetime.strptime(written_date, format)\n",
    "  timestamp = dt.replace(tzinfo=timezone.utc).timestamp()\n",
    "\n",
    "  if(filter_ == 'timestamp'):\n",
    "    return timestamp\n",
    "\n",
    "  return dt\n",
    "\n"
   ]
  },
  {
   "cell_type": "markdown",
   "metadata": {
    "colab_type": "text",
    "id": "CdvwP9btpJ_3"
   },
   "source": [
    "##Same thing - Cleaning for df_events (London Citadel )"
   ]
  },
  {
   "cell_type": "code",
   "execution_count": null,
   "metadata": {
    "colab": {
     "base_uri": "https://localhost:8080/",
     "height": 1000
    },
    "colab_type": "code",
    "executionInfo": {
     "elapsed": 682,
     "status": "ok",
     "timestamp": 1595086166019,
     "user": {
      "displayName": "Xu Han",
      "photoUrl": "https://lh3.googleusercontent.com/a-/AOh14GhnaeWxWjTZU6jRiU5WxUCfOe9oYT4iCl8N64zT=s64",
      "userId": "00026251251072489171"
     },
     "user_tz": 240
    },
    "id": "u1r-kw54djyx",
    "outputId": "effb1d19-d915-415b-ace6-4687f3f97c25"
   },
   "outputs": [
    {
     "name": "stderr",
     "output_type": "stream",
     "text": [
      "/usr/local/lib/python3.6/dist-packages/ipykernel_launcher.py:8: SettingWithCopyWarning: \n",
      "A value is trying to be set on a copy of a slice from a DataFrame.\n",
      "Try using .loc[row_indexer,col_indexer] = value instead\n",
      "\n",
      "See the caveats in the documentation: https://pandas.pydata.org/pandas-docs/stable/user_guide/indexing.html#returning-a-view-versus-a-copy\n",
      "  \n",
      "/usr/local/lib/python3.6/dist-packages/ipykernel_launcher.py:9: SettingWithCopyWarning: \n",
      "A value is trying to be set on a copy of a slice from a DataFrame.\n",
      "Try using .loc[row_indexer,col_indexer] = value instead\n",
      "\n",
      "See the caveats in the documentation: https://pandas.pydata.org/pandas-docs/stable/user_guide/indexing.html#returning-a-view-versus-a-copy\n",
      "  if __name__ == '__main__':\n",
      "/usr/local/lib/python3.6/dist-packages/ipykernel_launcher.py:10: SettingWithCopyWarning: \n",
      "A value is trying to be set on a copy of a slice from a DataFrame.\n",
      "Try using .loc[row_indexer,col_indexer] = value instead\n",
      "\n",
      "See the caveats in the documentation: https://pandas.pydata.org/pandas-docs/stable/user_guide/indexing.html#returning-a-view-versus-a-copy\n",
      "  # Remove the CWD from sys.path while we load stuff.\n",
      "/usr/local/lib/python3.6/dist-packages/ipykernel_launcher.py:11: SettingWithCopyWarning: \n",
      "A value is trying to be set on a copy of a slice from a DataFrame.\n",
      "Try using .loc[row_indexer,col_indexer] = value instead\n",
      "\n",
      "See the caveats in the documentation: https://pandas.pydata.org/pandas-docs/stable/user_guide/indexing.html#returning-a-view-versus-a-copy\n",
      "  # This is added back by InteractiveShellApp.init_path()\n",
      "/usr/local/lib/python3.6/dist-packages/ipykernel_launcher.py:14: SettingWithCopyWarning: \n",
      "A value is trying to be set on a copy of a slice from a DataFrame.\n",
      "Try using .loc[row_indexer,col_indexer] = value instead\n",
      "\n",
      "See the caveats in the documentation: https://pandas.pydata.org/pandas-docs/stable/user_guide/indexing.html#returning-a-view-versus-a-copy\n",
      "  \n",
      "/usr/local/lib/python3.6/dist-packages/ipykernel_launcher.py:15: SettingWithCopyWarning: \n",
      "A value is trying to be set on a copy of a slice from a DataFrame.\n",
      "Try using .loc[row_indexer,col_indexer] = value instead\n",
      "\n",
      "See the caveats in the documentation: https://pandas.pydata.org/pandas-docs/stable/user_guide/indexing.html#returning-a-view-versus-a-copy\n",
      "  from ipykernel import kernelapp as app\n",
      "/usr/local/lib/python3.6/dist-packages/ipykernel_launcher.py:19: SettingWithCopyWarning: \n",
      "A value is trying to be set on a copy of a slice from a DataFrame.\n",
      "Try using .loc[row_indexer,col_indexer] = value instead\n",
      "\n",
      "See the caveats in the documentation: https://pandas.pydata.org/pandas-docs/stable/user_guide/indexing.html#returning-a-view-versus-a-copy\n",
      "/usr/local/lib/python3.6/dist-packages/ipykernel_launcher.py:20: SettingWithCopyWarning: \n",
      "A value is trying to be set on a copy of a slice from a DataFrame.\n",
      "Try using .loc[row_indexer,col_indexer] = value instead\n",
      "\n",
      "See the caveats in the documentation: https://pandas.pydata.org/pandas-docs/stable/user_guide/indexing.html#returning-a-view-versus-a-copy\n",
      "/usr/local/lib/python3.6/dist-packages/ipykernel_launcher.py:22: SettingWithCopyWarning: \n",
      "A value is trying to be set on a copy of a slice from a DataFrame.\n",
      "Try using .loc[row_indexer,col_indexer] = value instead\n",
      "\n",
      "See the caveats in the documentation: https://pandas.pydata.org/pandas-docs/stable/user_guide/indexing.html#returning-a-view-versus-a-copy\n",
      "/usr/local/lib/python3.6/dist-packages/ipykernel_launcher.py:23: SettingWithCopyWarning: \n",
      "A value is trying to be set on a copy of a slice from a DataFrame.\n",
      "Try using .loc[row_indexer,col_indexer] = value instead\n",
      "\n",
      "See the caveats in the documentation: https://pandas.pydata.org/pandas-docs/stable/user_guide/indexing.html#returning-a-view-versus-a-copy\n",
      "/usr/local/lib/python3.6/dist-packages/pandas/core/frame.py:3997: SettingWithCopyWarning: \n",
      "A value is trying to be set on a copy of a slice from a DataFrame\n",
      "\n",
      "See the caveats in the documentation: https://pandas.pydata.org/pandas-docs/stable/user_guide/indexing.html#returning-a-view-versus-a-copy\n",
      "  errors=errors,\n"
     ]
    }
   ],
   "source": [
    "import re\n",
    "\n",
    "\n",
    "def transformation():\n",
    "\n",
    "  #Cleaning date and time, combining them to convert to datetime and timestamp as separate columns\n",
    "  \n",
    "  df_events['time'] = df_events['time'].apply(lambda x: re.sub('\\x96',' ',x))\n",
    "  df_events['start_time'] = df_events['time'].apply(lambda x: re.split('-|\\s',x)[0]+':00')\n",
    "  df_events['end_time'] = df_events['time'].apply(lambda x: re.split('-|\\s',x)[1]+':00')\n",
    "  df_events['date'] = df_events['date'] + '-2012'\n",
    "\n",
    "\n",
    "  df_events['start_datetime'] = df_events['date'] + ' ' + df_events['start_time']\n",
    "  df_events['end_datetime'] = df_events['date'] + ' ' + df_events['end_time']\n",
    "\n",
    "  format = '%d-%b-%Y %H:%M:%S'\n",
    "\n",
    "  df_events['start_timestamp'] = df_events['start_datetime'].apply(lambda x: getDateTimeStamp(x.lower(),'timestamp',format))\n",
    "  df_events['start_datetime'] = df_events['start_datetime'].apply(lambda x: getDateTimeStamp(x.lower(),'date',format))\n",
    "\n",
    "  df_events['end_timestamp'] = df_events['end_datetime'].apply(lambda x: getDateTimeStamp(x.lower(),'timestamp',format))\n",
    "  df_events['end_datetime'] = df_events['end_datetime'].apply(lambda x: getDateTimeStamp(x.lower(),'date',format))\n",
    "\n",
    "  #Dropping existing irrelevant column\n",
    "  df_events.drop(['date','time','start_time','end_time'],axis=1,inplace=True)\n",
    "\n",
    "\n",
    "transformation()\n",
    "\n"
   ]
  },
  {
   "cell_type": "code",
   "execution_count": null,
   "metadata": {
    "colab": {
     "base_uri": "https://localhost:8080/",
     "height": 195
    },
    "colab_type": "code",
    "executionInfo": {
     "elapsed": 756,
     "status": "ok",
     "timestamp": 1594937368902,
     "user": {
      "displayName": "Darshan Solanki",
      "photoUrl": "",
      "userId": "08453583935790106968"
     },
     "user_tz": 240
    },
    "id": "vufQf9Exn6vz",
    "outputId": "f8ba9a3f-8c74-4951-c2a7-b18c888b9d6c"
   },
   "outputs": [
    {
     "data": {
      "text/html": [
       "<div>\n",
       "<style scoped>\n",
       "    .dataframe tbody tr th:only-of-type {\n",
       "        vertical-align: middle;\n",
       "    }\n",
       "\n",
       "    .dataframe tbody tr th {\n",
       "        vertical-align: top;\n",
       "    }\n",
       "\n",
       "    .dataframe thead th {\n",
       "        text-align: right;\n",
       "    }\n",
       "</style>\n",
       "<table border=\"1\" class=\"dataframe\">\n",
       "  <thead>\n",
       "    <tr style=\"text-align: right;\">\n",
       "      <th></th>\n",
       "      <th>event</th>\n",
       "      <th>venue_cleaned</th>\n",
       "      <th>venue_loc</th>\n",
       "      <th>City</th>\n",
       "      <th>start_datetime</th>\n",
       "      <th>end_datetime</th>\n",
       "      <th>start_timestamp</th>\n",
       "      <th>end_timestamp</th>\n",
       "    </tr>\n",
       "  </thead>\n",
       "  <tbody>\n",
       "    <tr>\n",
       "      <th>0</th>\n",
       "      <td>Athletics</td>\n",
       "      <td>olympic park</td>\n",
       "      <td>[51.54343, -0.016627]</td>\n",
       "      <td>London</td>\n",
       "      <td>2012-08-03 10:00:00</td>\n",
       "      <td>2012-08-03 13:45:00</td>\n",
       "      <td>1.343988e+09</td>\n",
       "      <td>1.344002e+09</td>\n",
       "    </tr>\n",
       "    <tr>\n",
       "      <th>1</th>\n",
       "      <td>Athletics</td>\n",
       "      <td>olympic park</td>\n",
       "      <td>[51.54343, -0.016627]</td>\n",
       "      <td>London</td>\n",
       "      <td>2012-08-03 10:00:00</td>\n",
       "      <td>2012-08-03 13:45:00</td>\n",
       "      <td>1.343988e+09</td>\n",
       "      <td>1.344002e+09</td>\n",
       "    </tr>\n",
       "    <tr>\n",
       "      <th>2</th>\n",
       "      <td>Athletics</td>\n",
       "      <td>olympic park</td>\n",
       "      <td>[51.54343, -0.016627]</td>\n",
       "      <td>London</td>\n",
       "      <td>2012-08-03 10:00:00</td>\n",
       "      <td>2012-08-03 13:45:00</td>\n",
       "      <td>1.343988e+09</td>\n",
       "      <td>1.344002e+09</td>\n",
       "    </tr>\n",
       "    <tr>\n",
       "      <th>3</th>\n",
       "      <td>Athletics</td>\n",
       "      <td>olympic park</td>\n",
       "      <td>[51.54343, -0.016627]</td>\n",
       "      <td>London</td>\n",
       "      <td>2012-08-03 10:00:00</td>\n",
       "      <td>2012-08-03 13:45:00</td>\n",
       "      <td>1.343988e+09</td>\n",
       "      <td>1.344002e+09</td>\n",
       "    </tr>\n",
       "    <tr>\n",
       "      <th>4</th>\n",
       "      <td>Athletics</td>\n",
       "      <td>olympic park</td>\n",
       "      <td>[51.54343, -0.016627]</td>\n",
       "      <td>London</td>\n",
       "      <td>2012-08-03 10:00:00</td>\n",
       "      <td>2012-08-03 13:45:00</td>\n",
       "      <td>1.343988e+09</td>\n",
       "      <td>1.344002e+09</td>\n",
       "    </tr>\n",
       "  </tbody>\n",
       "</table>\n",
       "</div>"
      ],
      "text/plain": [
       "       event venue_cleaned  ... start_timestamp end_timestamp\n",
       "0  Athletics  olympic park  ...    1.343988e+09  1.344002e+09\n",
       "1  Athletics  olympic park  ...    1.343988e+09  1.344002e+09\n",
       "2  Athletics  olympic park  ...    1.343988e+09  1.344002e+09\n",
       "3  Athletics  olympic park  ...    1.343988e+09  1.344002e+09\n",
       "4  Athletics  olympic park  ...    1.343988e+09  1.344002e+09\n",
       "\n",
       "[5 rows x 8 columns]"
      ]
     },
     "execution_count": 221,
     "metadata": {
      "tags": []
     },
     "output_type": "execute_result"
    }
   ],
   "source": [
    "df_events.head(5)"
   ]
  },
  {
   "cell_type": "markdown",
   "metadata": {
    "colab_type": "text",
    "id": "skTQg-lRrcUq"
   },
   "source": [
    "#Cleaning and making string object of combined_df to datetime and also calculate the timestamp for furture scope"
   ]
  },
  {
   "cell_type": "code",
   "execution_count": null,
   "metadata": {
    "colab": {},
    "colab_type": "code",
    "id": "HLato_LiovhQ"
   },
   "outputs": [],
   "source": [
    "format = '%b %d %Y %H:%M:%S'\n",
    "combine_check_venue_df['TimeStamp'] = combine_check_venue_df['UTC time'].apply(lambda x: getDateTimeStamp(x,'timestamp',format))\n",
    "combine_check_venue_df['Date'] = combine_check_venue_df['UTC time'].apply(lambda x: getDateTimeStamp(x,'date',format))"
   ]
  },
  {
   "cell_type": "code",
   "execution_count": null,
   "metadata": {
    "colab": {
     "base_uri": "https://localhost:8080/",
     "height": 601
    },
    "colab_type": "code",
    "executionInfo": {
     "elapsed": 648,
     "status": "ok",
     "timestamp": 1595022423202,
     "user": {
      "displayName": "Xu Han",
      "photoUrl": "https://lh3.googleusercontent.com/a-/AOh14GhnaeWxWjTZU6jRiU5WxUCfOe9oYT4iCl8N64zT=s64",
      "userId": "00026251251072489171"
     },
     "user_tz": 240
    },
    "id": "XXyLzvZ0r54X",
    "outputId": "d7d6eb08-d07f-46ea-857a-5a1b2465c331"
   },
   "outputs": [
    {
     "data": {
      "text/html": [
       "<div>\n",
       "<style scoped>\n",
       "    .dataframe tbody tr th:only-of-type {\n",
       "        vertical-align: middle;\n",
       "    }\n",
       "\n",
       "    .dataframe tbody tr th {\n",
       "        vertical-align: top;\n",
       "    }\n",
       "\n",
       "    .dataframe thead th {\n",
       "        text-align: right;\n",
       "    }\n",
       "</style>\n",
       "<table border=\"1\" class=\"dataframe\">\n",
       "  <thead>\n",
       "    <tr style=\"text-align: right;\">\n",
       "      <th></th>\n",
       "      <th>User ID</th>\n",
       "      <th>Venue ID</th>\n",
       "      <th>UTC time</th>\n",
       "      <th>Timezone offset</th>\n",
       "      <th>Latitude</th>\n",
       "      <th>Longitude</th>\n",
       "      <th>Category</th>\n",
       "      <th>City</th>\n",
       "      <th>TimeStamp</th>\n",
       "      <th>Date</th>\n",
       "    </tr>\n",
       "  </thead>\n",
       "  <tbody>\n",
       "    <tr>\n",
       "      <th>0</th>\n",
       "      <td>262915</td>\n",
       "      <td>4aec9f4bf964a52091c921e3</td>\n",
       "      <td>Tue Apr 03 18:00:39 +0000 2012</td>\n",
       "      <td>60</td>\n",
       "      <td>51.498044</td>\n",
       "      <td>-0.090546</td>\n",
       "      <td>Pub</td>\n",
       "      <td>London</td>\n",
       "      <td>1.333476e+09</td>\n",
       "      <td>2012-04-03 18:00:39</td>\n",
       "    </tr>\n",
       "    <tr>\n",
       "      <th>1</th>\n",
       "      <td>129494</td>\n",
       "      <td>4aec9f4bf964a52091c921e3</td>\n",
       "      <td>Sun Apr 08 18:18:30 +0000 2012</td>\n",
       "      <td>60</td>\n",
       "      <td>51.498044</td>\n",
       "      <td>-0.090546</td>\n",
       "      <td>Pub</td>\n",
       "      <td>London</td>\n",
       "      <td>1.333909e+09</td>\n",
       "      <td>2012-04-08 18:18:30</td>\n",
       "    </tr>\n",
       "    <tr>\n",
       "      <th>2</th>\n",
       "      <td>262915</td>\n",
       "      <td>4aec9f4bf964a52091c921e3</td>\n",
       "      <td>Tue Apr 10 18:16:59 +0000 2012</td>\n",
       "      <td>60</td>\n",
       "      <td>51.498044</td>\n",
       "      <td>-0.090546</td>\n",
       "      <td>Pub</td>\n",
       "      <td>London</td>\n",
       "      <td>1.334082e+09</td>\n",
       "      <td>2012-04-10 18:16:59</td>\n",
       "    </tr>\n",
       "    <tr>\n",
       "      <th>3</th>\n",
       "      <td>129494</td>\n",
       "      <td>4aec9f4bf964a52091c921e3</td>\n",
       "      <td>Wed Apr 11 20:56:49 +0000 2012</td>\n",
       "      <td>60</td>\n",
       "      <td>51.498044</td>\n",
       "      <td>-0.090546</td>\n",
       "      <td>Pub</td>\n",
       "      <td>London</td>\n",
       "      <td>1.334178e+09</td>\n",
       "      <td>2012-04-11 20:56:49</td>\n",
       "    </tr>\n",
       "    <tr>\n",
       "      <th>4</th>\n",
       "      <td>129494</td>\n",
       "      <td>4aec9f4bf964a52091c921e3</td>\n",
       "      <td>Sat Apr 14 20:29:13 +0000 2012</td>\n",
       "      <td>60</td>\n",
       "      <td>51.498044</td>\n",
       "      <td>-0.090546</td>\n",
       "      <td>Pub</td>\n",
       "      <td>London</td>\n",
       "      <td>1.334435e+09</td>\n",
       "      <td>2012-04-14 20:29:13</td>\n",
       "    </tr>\n",
       "  </tbody>\n",
       "</table>\n",
       "</div>"
      ],
      "text/plain": [
       "   User ID                  Venue ID  ...     TimeStamp                Date\n",
       "0   262915  4aec9f4bf964a52091c921e3  ...  1.333476e+09 2012-04-03 18:00:39\n",
       "1   129494  4aec9f4bf964a52091c921e3  ...  1.333909e+09 2012-04-08 18:18:30\n",
       "2   262915  4aec9f4bf964a52091c921e3  ...  1.334082e+09 2012-04-10 18:16:59\n",
       "3   129494  4aec9f4bf964a52091c921e3  ...  1.334178e+09 2012-04-11 20:56:49\n",
       "4   129494  4aec9f4bf964a52091c921e3  ...  1.334435e+09 2012-04-14 20:29:13\n",
       "\n",
       "[5 rows x 10 columns]"
      ]
     },
     "execution_count": 59,
     "metadata": {
      "tags": []
     },
     "output_type": "execute_result"
    }
   ],
   "source": [
    "combine_check_venue_df.head(5)"
   ]
  },
  {
   "cell_type": "markdown",
   "metadata": {
    "colab_type": "text",
    "id": "D-2-FGdcp650"
   },
   "source": [
    "##Given event Location and City compute nearby checked in places"
   ]
  },
  {
   "cell_type": "code",
   "execution_count": null,
   "metadata": {
    "colab": {},
    "colab_type": "code",
    "id": "z1MYtDuAEITB"
   },
   "outputs": [],
   "source": [
    "def getNearbyPlaces(lat1,lon1,city):\n",
    "\n",
    "  proximity = 3\n",
    "  sub_df = combine_check_venue_df[combine_check_venue_df['City'] == city]\n",
    "  get_places = []\n",
    "\n",
    "  for i in range(len(sub_df)):\n",
    "    lat2,lon2 = sub_df['Latitude'].iloc[i],sub_df['Longitude'].iloc[i]\n",
    "\n",
    "    #print(aerialDist(lat1,lon1,lat2,lon2))\n",
    "    if(aerialDist(lat1,lon1,lat2,lon2) <= proximity):\n",
    "      get_places.append(sub_df.iloc[i])\n",
    "\n",
    "  return get_places\n",
    "\n",
    "get_places_df = pd.DataFrame(getNearbyPlaces(51.54343, -0.016627,'London'),columns = combine_check_venue_df.columns)\n"
   ]
  },
  {
   "cell_type": "code",
   "execution_count": null,
   "metadata": {
    "colab": {
     "base_uri": "https://localhost:8080/",
     "height": 34
    },
    "colab_type": "code",
    "executionInfo": {
     "elapsed": 318,
     "status": "ok",
     "timestamp": 1595022536165,
     "user": {
      "displayName": "Xu Han",
      "photoUrl": "https://lh3.googleusercontent.com/a-/AOh14GhnaeWxWjTZU6jRiU5WxUCfOe9oYT4iCl8N64zT=s64",
      "userId": "00026251251072489171"
     },
     "user_tz": 240
    },
    "id": "fzReIscVrUB9",
    "outputId": "991f4667-e12b-4835-ee29-30d1fc747e80"
   },
   "outputs": [
    {
     "data": {
      "text/plain": [
       "6060"
      ]
     },
     "execution_count": 61,
     "metadata": {
      "tags": []
     },
     "output_type": "execute_result"
    }
   ],
   "source": [
    "len(get_places_df)"
   ]
  },
  {
   "cell_type": "code",
   "execution_count": null,
   "metadata": {
    "colab": {},
    "colab_type": "code",
    "id": "qOJvAIteWYAA"
   },
   "outputs": [],
   "source": [
    "import matplotlib.pyplot as plt\n",
    "import seaborn as sns\n",
    "\n",
    "target = get_places_df['Category'].value_counts().reset_index().rename(columns={'index':'Category','Category':'Check-in'})\n",
    "target_df = target.iloc[0:15]"
   ]
  },
  {
   "cell_type": "code",
   "execution_count": null,
   "metadata": {
    "colab": {
     "base_uri": "https://localhost:8080/",
     "height": 296
    },
    "colab_type": "code",
    "executionInfo": {
     "elapsed": 1101,
     "status": "ok",
     "timestamp": 1594949367154,
     "user": {
      "displayName": "Darshan Solanki",
      "photoUrl": "",
      "userId": "08453583935790106968"
     },
     "user_tz": 240
    },
    "id": "mLzRlYHJXkDG",
    "outputId": "af079db7-26ad-4f09-d466-4f926a2ed99e"
   },
   "outputs": [
    {
     "data": {
      "text/plain": [
       "Text(0.5, 0, 'totalCount')"
      ]
     },
     "execution_count": 242,
     "metadata": {
      "tags": []
     },
     "output_type": "execute_result"
    },
    {
     "data": {
      "image/png": "[encoded data removed]",
      "text/plain": [
       "<Figure size 432x288 with 1 Axes>"
      ]
     },
     "metadata": {
      "needs_background": "light",
      "tags": []
     },
     "output_type": "display_data"
    }
   ],
   "source": [
    "ax = sns.barplot(x='Check-in', y='Category', data=target_df)\n",
    "ax.set_xlabel('totalCount')"
   ]
  },
  {
   "cell_type": "code",
   "execution_count": null,
   "metadata": {
    "colab": {
     "base_uri": "https://localhost:8080/",
     "height": 34
    },
    "colab_type": "code",
    "executionInfo": {
     "elapsed": 767,
     "status": "ok",
     "timestamp": 1594949630164,
     "user": {
      "displayName": "Darshan Solanki",
      "photoUrl": "",
      "userId": "08453583935790106968"
     },
     "user_tz": 240
    },
    "id": "w6b41sNjYham",
    "outputId": "ac0c23fb-c6f0-4648-8911-d752e2320dec"
   },
   "outputs": [
    {
     "data": {
      "text/plain": [
       "1344001500.0"
      ]
     },
     "execution_count": 247,
     "metadata": {
      "tags": []
     },
     "output_type": "execute_result"
    }
   ],
   "source": [
    "df_events['end_timestamp'].iloc[0]"
   ]
  },
  {
   "cell_type": "code",
   "execution_count": null,
   "metadata": {
    "colab": {
     "base_uri": "https://localhost:8080/",
     "height": 346
    },
    "colab_type": "code",
    "executionInfo": {
     "elapsed": 974,
     "status": "ok",
     "timestamp": 1594951632381,
     "user": {
      "displayName": "Darshan Solanki",
      "photoUrl": "",
      "userId": "08453583935790106968"
     },
     "user_tz": 240
    },
    "id": "2OP2kHusZMPk",
    "outputId": "3b6ce71a-2cde-4370-ecf4-ea0ef2f5a537"
   },
   "outputs": [
    {
     "data": {
      "text/plain": [
       "Text(0.5, 0, 'totalCount')"
      ]
     },
     "execution_count": 282,
     "metadata": {
      "tags": []
     },
     "output_type": "execute_result"
    },
    {
     "name": "stderr",
     "output_type": "stream",
     "text": [
      "/usr/local/lib/python3.6/dist-packages/matplotlib/backends/backend_agg.py:214: RuntimeWarning: Glyph 26 missing from current font.\n",
      "  font.set_text(s, 0.0, flags=flags)\n",
      "/usr/local/lib/python3.6/dist-packages/matplotlib/backends/backend_agg.py:183: RuntimeWarning: Glyph 26 missing from current font.\n",
      "  font.set_text(s, 0, flags=flags)\n"
     ]
    },
    {
     "data": {
      "image/png": "[encoded data removed]",
      "text/plain": [
       "<Figure size 432x288 with 1 Axes>"
      ]
     },
     "metadata": {
      "needs_background": "light",
      "tags": []
     },
     "output_type": "display_data"
    }
   ],
   "source": [
    "masks = (1343988000.0 - 3600*24*28 <= combine_check_venue_df['TimeStamp']) &  (combine_check_venue_df['TimeStamp'] <= 1344001500.0 + 3600*24*31)\n",
    "df_timezone = combine_check_venue_df[masks]\n",
    "target = df_timezone['Category'].value_counts().reset_index().rename(columns={'index':'Category','Category':'Check-in'})\n",
    "target_df = target.iloc[0:20]\n",
    "ax = sns.barplot(x='Check-in', y='Category', data=target_df)\n",
    "ax.set_xlabel('totalCount')"
   ]
  },
  {
   "cell_type": "code",
   "execution_count": null,
   "metadata": {
    "colab": {
     "base_uri": "https://localhost:8080/",
     "height": 34
    },
    "colab_type": "code",
    "executionInfo": {
     "elapsed": 378,
     "status": "ok",
     "timestamp": 1594951673222,
     "user": {
      "displayName": "Darshan Solanki",
      "photoUrl": "",
      "userId": "08453583935790106968"
     },
     "user_tz": 240
    },
    "id": "CMZE6Ni8hsEG",
    "outputId": "2193482a-c1c0-4f1a-ff4d-01a24976215f"
   },
   "outputs": [
    {
     "data": {
      "text/plain": [
       "17520"
      ]
     },
     "execution_count": 285,
     "metadata": {
      "tags": []
     },
     "output_type": "execute_result"
    }
   ],
   "source": [
    "target_df['Check-in'].sum()"
   ]
  },
  {
   "cell_type": "code",
   "execution_count": null,
   "metadata": {
    "colab": {},
    "colab_type": "code",
    "id": "VEIPfpUhd8OL"
   },
   "outputs": [],
   "source": [
    "get_places_df.sort_values(by='TimeStamp',inplace=True)"
   ]
  },
  {
   "cell_type": "code",
   "execution_count": null,
   "metadata": {
    "colab": {
     "base_uri": "https://localhost:8080/",
     "height": 195
    },
    "colab_type": "code",
    "executionInfo": {
     "elapsed": 702,
     "status": "ok",
     "timestamp": 1594950300336,
     "user": {
      "displayName": "Darshan Solanki",
      "photoUrl": "",
      "userId": "08453583935790106968"
     },
     "user_tz": 240
    },
    "id": "fK-x_vzvaEaY",
    "outputId": "262977ea-4cff-4ca6-ca25-e5a31cee6569"
   },
   "outputs": [
    {
     "data": {
      "text/html": [
       "<div>\n",
       "<style scoped>\n",
       "    .dataframe tbody tr th:only-of-type {\n",
       "        vertical-align: middle;\n",
       "    }\n",
       "\n",
       "    .dataframe tbody tr th {\n",
       "        vertical-align: top;\n",
       "    }\n",
       "\n",
       "    .dataframe thead th {\n",
       "        text-align: right;\n",
       "    }\n",
       "</style>\n",
       "<table border=\"1\" class=\"dataframe\">\n",
       "  <thead>\n",
       "    <tr style=\"text-align: right;\">\n",
       "      <th></th>\n",
       "      <th>event</th>\n",
       "      <th>venue_cleaned</th>\n",
       "      <th>venue_loc</th>\n",
       "      <th>City</th>\n",
       "      <th>start_datetime</th>\n",
       "      <th>end_datetime</th>\n",
       "      <th>start_timestamp</th>\n",
       "      <th>end_timestamp</th>\n",
       "    </tr>\n",
       "  </thead>\n",
       "  <tbody>\n",
       "    <tr>\n",
       "      <th>0</th>\n",
       "      <td>Athletics</td>\n",
       "      <td>olympic park</td>\n",
       "      <td>[51.54343, -0.016627]</td>\n",
       "      <td>London</td>\n",
       "      <td>2012-08-03 10:00:00</td>\n",
       "      <td>2012-08-03 13:45:00</td>\n",
       "      <td>1.343988e+09</td>\n",
       "      <td>1.344002e+09</td>\n",
       "    </tr>\n",
       "    <tr>\n",
       "      <th>1</th>\n",
       "      <td>Athletics</td>\n",
       "      <td>olympic park</td>\n",
       "      <td>[51.54343, -0.016627]</td>\n",
       "      <td>London</td>\n",
       "      <td>2012-08-03 10:00:00</td>\n",
       "      <td>2012-08-03 13:45:00</td>\n",
       "      <td>1.343988e+09</td>\n",
       "      <td>1.344002e+09</td>\n",
       "    </tr>\n",
       "    <tr>\n",
       "      <th>2</th>\n",
       "      <td>Athletics</td>\n",
       "      <td>olympic park</td>\n",
       "      <td>[51.54343, -0.016627]</td>\n",
       "      <td>London</td>\n",
       "      <td>2012-08-03 10:00:00</td>\n",
       "      <td>2012-08-03 13:45:00</td>\n",
       "      <td>1.343988e+09</td>\n",
       "      <td>1.344002e+09</td>\n",
       "    </tr>\n",
       "    <tr>\n",
       "      <th>3</th>\n",
       "      <td>Athletics</td>\n",
       "      <td>olympic park</td>\n",
       "      <td>[51.54343, -0.016627]</td>\n",
       "      <td>London</td>\n",
       "      <td>2012-08-03 10:00:00</td>\n",
       "      <td>2012-08-03 13:45:00</td>\n",
       "      <td>1.343988e+09</td>\n",
       "      <td>1.344002e+09</td>\n",
       "    </tr>\n",
       "    <tr>\n",
       "      <th>4</th>\n",
       "      <td>Athletics</td>\n",
       "      <td>olympic park</td>\n",
       "      <td>[51.54343, -0.016627]</td>\n",
       "      <td>London</td>\n",
       "      <td>2012-08-03 10:00:00</td>\n",
       "      <td>2012-08-03 13:45:00</td>\n",
       "      <td>1.343988e+09</td>\n",
       "      <td>1.344002e+09</td>\n",
       "    </tr>\n",
       "  </tbody>\n",
       "</table>\n",
       "</div>"
      ],
      "text/plain": [
       "       event venue_cleaned  ... start_timestamp end_timestamp\n",
       "0  Athletics  olympic park  ...    1.343988e+09  1.344002e+09\n",
       "1  Athletics  olympic park  ...    1.343988e+09  1.344002e+09\n",
       "2  Athletics  olympic park  ...    1.343988e+09  1.344002e+09\n",
       "3  Athletics  olympic park  ...    1.343988e+09  1.344002e+09\n",
       "4  Athletics  olympic park  ...    1.343988e+09  1.344002e+09\n",
       "\n",
       "[5 rows x 8 columns]"
      ]
     },
     "execution_count": 263,
     "metadata": {
      "tags": []
     },
     "output_type": "execute_result"
    }
   ],
   "source": [
    "df_events.head(5)"
   ]
  },
  {
   "cell_type": "code",
   "execution_count": null,
   "metadata": {
    "colab": {
     "base_uri": "https://localhost:8080/",
     "height": 346
    },
    "colab_type": "code",
    "executionInfo": {
     "elapsed": 1065,
     "status": "ok",
     "timestamp": 1594955823227,
     "user": {
      "displayName": "Darshan Solanki",
      "photoUrl": "",
      "userId": "08453583935790106968"
     },
     "user_tz": 240
    },
    "id": "371YCEC3bdoE",
    "outputId": "87b989e8-2a88-4427-edd4-1eea4a160346"
   },
   "outputs": [
    {
     "data": {
      "text/plain": [
       "Text(0.5, 0, 'totalCount')"
      ]
     },
     "execution_count": 305,
     "metadata": {
      "tags": []
     },
     "output_type": "execute_result"
    },
    {
     "name": "stderr",
     "output_type": "stream",
     "text": [
      "/usr/local/lib/python3.6/dist-packages/matplotlib/backends/backend_agg.py:214: RuntimeWarning: Glyph 26 missing from current font.\n",
      "  font.set_text(s, 0.0, flags=flags)\n",
      "/usr/local/lib/python3.6/dist-packages/matplotlib/backends/backend_agg.py:183: RuntimeWarning: Glyph 26 missing from current font.\n",
      "  font.set_text(s, 0, flags=flags)\n"
     ]
    },
    {
     "data": {
      "image/png": "[encoded data removed]",
      "text/plain": [
       "<Figure size 432x288 with 1 Axes>"
      ]
     },
     "metadata": {
      "needs_background": "light",
      "tags": []
     },
     "output_type": "display_data"
    }
   ],
   "source": [
    "masks = (1343988000.0 - 3600*24*21 <= combine_check_venue_df['TimeStamp']) &  (combine_check_venue_df['TimeStamp'] <= 1344001500.0 + 3600*24*31) & (combine_check_venue_df['City'] == 'London')\n",
    "df_timezone = combine_check_venue_df[masks]\n",
    "target = combine_check_venue_df['Category'].value_counts().reset_index().rename(columns={'index':'Category','Category':'Check-in'})\n",
    "target_df1 = target.iloc[0:20]\n",
    "ax = sns.barplot(x='Check-in', y='Category', data=target_df1)\n",
    "ax.set_xlabel('totalCount')"
   ]
  },
  {
   "cell_type": "code",
   "execution_count": null,
   "metadata": {
    "colab": {
     "base_uri": "https://localhost:8080/",
     "height": 1000
    },
    "colab_type": "code",
    "executionInfo": {
     "elapsed": 459,
     "status": "ok",
     "timestamp": 1594955836296,
     "user": {
      "displayName": "Darshan Solanki",
      "photoUrl": "",
      "userId": "08453583935790106968"
     },
     "user_tz": 240
    },
    "id": "JaKHcPPsgN70",
    "outputId": "6f7fe78d-5c9f-4b11-e983-226d5708055e"
   },
   "outputs": [
    {
     "data": {
      "text/plain": [
       "array(['Train Station', 'Home (private)', 'Pub', 'Office', 'Coffee Shop',\n",
       "       'Grocery Store', 'Hotel', 'Bar', 'Mall', 'Neighborhood', 'Gym',\n",
       "       'Subway', 'Caf\\x1a\\x1a', 'Park', 'Building', 'Road', 'Bus Station',\n",
       "       'Bus Line', 'Plaza', 'Soccer Stadium', 'Department Store',\n",
       "       'Movie Theater', 'Airport', 'Fast Food Restaurant', 'Restaurant',\n",
       "       'Italian Restaurant', 'Sandwich Place',\n",
       "       'Residential Building (Apartment / Condo)', 'Gay Bar',\n",
       "       'Other Great Outdoors', 'Clothing Store', 'University', 'Platform',\n",
       "       'Hospital', 'Airport Terminal', 'Music Venue',\n",
       "       'Gym / Fitness Center', 'Electronics Store', 'Church', 'Theater',\n",
       "       'Light Rail', 'Monument / Landmark', 'General Entertainment',\n",
       "       'Event Space', 'Miscellaneous Shop', 'College Academic Building',\n",
       "       'Bridge', 'Nightclub', 'Stadium', 'Art Gallery', 'Pizza Place',\n",
       "       'Indian Restaurant', 'Tech Startup', 'Chinese Restaurant',\n",
       "       'Coworking Space', 'History Museum', 'Cocktail Bar', 'Gastropub',\n",
       "       'Burger Joint', 'Multiplex', 'Portuguese Restaurant',\n",
       "       'Convention Center', 'American Restaurant', 'City',\n",
       "       'French Restaurant', 'Bank', 'Government Building',\n",
       "       'Convenience Store', 'Bakery', 'Salon / Barbershop', 'Castle',\n",
       "       'College Library', 'General College & University',\n",
       "       'Gas Station / Garage', 'Sushi Restaurant', 'Boat or Ferry',\n",
       "       'Train', 'Furniture / Home Store', 'College Residence Hall',\n",
       "       'Museum', 'General Travel', 'Garden', 'Breakfast Spot',\n",
       "       'Performing Arts Venue', 'Lounge', 'Automotive Shop',\n",
       "       'Sporting Goods Shop', 'Tea Room', 'Bookstore', 'Medical Center',\n",
       "       'Mexican Restaurant', 'Historic Site', 'Farmers Market',\n",
       "       \"Doctor's Office\", 'Art Museum', 'Hardware Store', 'Rest Area',\n",
       "       'Student Center', 'School', 'Post Office', 'Drugstore / Pharmacy',\n",
       "       'Airport Lounge', 'Harbor / Marina', 'Steakhouse',\n",
       "       'Thai Restaurant', 'Deli / Bodega', 'Fried Chicken Joint',\n",
       "       'Concert Hall', 'Library', 'Factory', 'Scenic Lookout',\n",
       "       'Toy / Game Store', 'Wine Bar', 'Market', 'Japanese Restaurant',\n",
       "       'High School', 'Flea Market', 'Middle Eastern Restaurant', 'Diner',\n",
       "       'Ramen /  Noodle House', 'Asian Restaurant', 'College Gym',\n",
       "       'City Hall', 'Parking', 'Cosmetics Shop', 'Airport Gate',\n",
       "       'Seafood Restaurant', 'Hotel Bar', 'Candy Store', 'Pier',\n",
       "       'College Administrative Building', 'Music Store', 'Pool',\n",
       "       'Rock Club', 'Hostel', 'Science Museum',\n",
       "       'College Science Building', 'Housing Development',\n",
       "       \"Dentist's Office\", 'Boutique', 'Golf Course', 'Soccer Field',\n",
       "       'Dessert Shop', 'Food & Drink Shop', 'Gym Pool',\n",
       "       'Community College', 'Capitol Building', 'Bowling Alley',\n",
       "       'Fish & Chips Shop', 'Casino', 'Pet Store', 'Ice Cream Shop',\n",
       "       'Brewery', 'Tapas Restaurant', 'Jewelry Store',\n",
       "       'Mediterranean Restaurant', 'Courthouse', 'Food Court',\n",
       "       'Playground', 'Beer Garden', 'Lake', 'College Classroom',\n",
       "       \"Women's Store\", \"Men's Store\", 'Cricket Ground',\n",
       "       'College Arts Building', 'Zoo', 'Shoe Store', 'Moving Target',\n",
       "       'Burrito Place', 'Spa / Massage', 'Professional & Other Places',\n",
       "       'Gift Shop', 'Car Dealership', 'BBQ Joint', 'Sports Bar',\n",
       "       'Paper / Office Supplies Store', 'Indie Movie Theater',\n",
       "       'Video Game Store', 'Other Nightlife', 'Cupcake Shop',\n",
       "       'Turkish Restaurant', 'Vietnamese Restaurant',\n",
       "       'Arts & Crafts Store', 'Outdoors & Recreation', 'Flower Shop',\n",
       "       'Racetrack', 'Malaysian Restaurant', 'Dim Sum Restaurant',\n",
       "       'Meeting Room', 'Vegetarian / Vegan Restaurant', 'Field',\n",
       "       'Martial Arts Dojo', 'Spanish Restaurant', 'Yoga Studio',\n",
       "       'Design Studio', 'Dog Run', 'Tennis Court', 'Record Shop',\n",
       "       'Cemetery', 'Plane', 'Food', 'Garden Center', 'Sculpture Garden',\n",
       "       'Travel Lounge', 'Juice Bar', 'Korean Restaurant',\n",
       "       'College Engineering Building', 'Theme Park', 'Newsstand',\n",
       "       'Liquor Store', 'Arcade', 'Shop & Service', 'Bike Shop',\n",
       "       'Hiking Trail', 'Conference Room', 'Bagel Shop', 'Food Truck',\n",
       "       'Brazilian Restaurant', 'Police Station', 'Butcher',\n",
       "       'Bed & Breakfast', 'Embassy / Consulate', 'Athletic & Sport',\n",
       "       'Greek Restaurant', 'Accessories Store', 'Opera House',\n",
       "       'Comedy Club', 'Beach', 'College Cafeteria', 'Tanning Salon',\n",
       "       'River', 'Thrift / Vintage Store', 'College & University',\n",
       "       'Donut Shop', 'College Auditorium', 'College Technology Building',\n",
       "       'Salad Place', 'Optical Shop', 'Latin American Restaurant',\n",
       "       'Mosque', 'Rental Car Location', 'Farm', 'Medical School', 'Fair',\n",
       "       'Mobile Phone Shop', 'Elementary School', 'Non-Profit',\n",
       "       'Snack Place', 'Wine Shop', 'Health Food Store',\n",
       "       'Athletics & Sports', 'Dance Studio', 'Motel', 'Jazz Club',\n",
       "       'Argentinian Restaurant', 'Australian Restaurant', 'Strip Club',\n",
       "       'Lingerie Store', 'Nursery School', 'Trade School', 'Whisky Bar',\n",
       "       'Spiritual Center', 'Car Wash', 'Caribbean Restaurant', 'Tennis',\n",
       "       'Eastern European Restaurant', 'Laundry Service', 'Fire Station',\n",
       "       'Tattoo Parlor', 'Emergency Room', 'College Lab', 'Hobby Shop',\n",
       "       'Falafel Restaurant', 'Track Stadium', 'College Quad',\n",
       "       'Campaign Office', 'College Math Building', 'Gaming Cafe',\n",
       "       'Assisted Living', 'German Restaurant', 'Taxi', 'College Theater',\n",
       "       'Karaoke Bar', 'Speakeasy', 'Gourmet Shop', 'Moroccan Restaurant',\n",
       "       'Temple', 'New American Restaurant', 'Military Base', 'Winery',\n",
       "       'Hookah Bar', 'Nail Salon', 'Skate Park', 'Pool Hall', 'Dive Bar',\n",
       "       'Cafeteria', 'Planetarium', 'Fraternity House', 'Law School',\n",
       "       'Veterinarian', 'Taco Place', 'Arts & Entertainment',\n",
       "       'Hot Dog Joint', 'Aquarium', 'Caf\\x1a', 'Radio Station', 'Stables',\n",
       "       'Track', 'Basketball Stadium', 'African Restaurant', 'Campground',\n",
       "       'Skating Rink', 'Camera Store', 'Kids Store',\n",
       "       'South American Restaurant', 'Recycling Facility', 'Ski Area',\n",
       "       'Bike Rental / Bike Share', 'Storage Facility', 'Antique Shop',\n",
       "       'Molecular Gastronomy Restaurant', 'Smoke Shop', 'Public Art',\n",
       "       'Soup Place', 'Animal Shelter', 'Internet Cafe',\n",
       "       'Football Stadium', 'Cuban Restaurant',\n",
       "       'College Communications Building', 'Frozen Yogurt', 'Fish Market',\n",
       "       'Travel & Transport', 'Video Store', 'Travel Agency',\n",
       "       'Real Estate Office', 'Cheese Shop', 'Photography Lab',\n",
       "       'Synagogue', 'Voting Booth', 'Mountain', 'Middle School',\n",
       "       'Peruvian Restaurant', 'Dumpling Restaurant',\n",
       "       'Scandinavian Restaurant', 'Bridal Shop', 'Auditorium',\n",
       "       'Indie Theater', 'Airport Food Court', 'Hot Spring',\n",
       "       'Sorority House', 'Ferry', 'Financial or Legal Service',\n",
       "       'Wings Joint', 'Resort', 'College Rec Center', 'Hockey Arena',\n",
       "       'College Hockey Rink', 'Island', 'Water Park', 'Surf Spot',\n",
       "       'Lighthouse', 'Roof Deck', 'Paella Restaurant', 'Board Shop',\n",
       "       'Baseball Field', 'Distillery', 'Cajun / Creole Restaurant',\n",
       "       'Indonesian Restaurant', 'Hotel Pool', 'Airport Tram',\n",
       "       'Hockey Field', 'Nightlife Spot', 'Theme Park Ride / Attraction',\n",
       "       'Funeral Home', 'Arepa Restaurant', 'Basketball Court',\n",
       "       'Climbing Gym', 'Piano Bar', 'College History Building',\n",
       "       'College Track', 'Pet Service', 'College Stadium',\n",
       "       'Rock Climbing Spot', 'College Football Field',\n",
       "       'Tourist Information Center', 'Boarding House',\n",
       "       'Mac & Cheese Joint', 'Shrine', 'College Soccer Field',\n",
       "       'Southern / Soul Food Restaurant', 'Ethiopian Restaurant',\n",
       "       'Residence', 'Well', 'Gluten-free Restaurant', 'Tailor Shop',\n",
       "       'Motorcycle Shop', 'Vineyard', 'Mongolian Restaurant',\n",
       "       'College Bookstore', 'Afghan Restaurant', 'Baseball Stadium',\n",
       "       'College Tennis Court', 'Swiss Restaurant', 'Ski Lodge',\n",
       "       'Credit Union', 'Paintball Field', 'Laboratory', 'Sake Bar',\n",
       "       'College Baseball Diamond', 'Yogurt', 'Volleyball Court',\n",
       "       'Filipino Restaurant', 'Apres Ski Bar'], dtype=object)"
      ]
     },
     "execution_count": 307,
     "metadata": {
      "tags": []
     },
     "output_type": "execute_result"
    }
   ],
   "source": [
    "target['Category'].unique()"
   ]
  },
  {
   "cell_type": "code",
   "execution_count": null,
   "metadata": {
    "colab": {
     "base_uri": "https://localhost:8080/",
     "height": 402
    },
    "colab_type": "code",
    "executionInfo": {
     "elapsed": 767,
     "status": "ok",
     "timestamp": 1594951969502,
     "user": {
      "displayName": "Darshan Solanki",
      "photoUrl": "",
      "userId": "08453583935790106968"
     },
     "user_tz": 240
    },
    "id": "jq2RRxkdinkk",
    "outputId": "59a1c69f-daf6-415d-81cd-9a4d1f09281b"
   },
   "outputs": [
    {
     "data": {
      "text/html": [
       "<div>\n",
       "<style scoped>\n",
       "    .dataframe tbody tr th:only-of-type {\n",
       "        vertical-align: middle;\n",
       "    }\n",
       "\n",
       "    .dataframe tbody tr th {\n",
       "        vertical-align: top;\n",
       "    }\n",
       "\n",
       "    .dataframe thead th {\n",
       "        text-align: right;\n",
       "    }\n",
       "</style>\n",
       "<table border=\"1\" class=\"dataframe\">\n",
       "  <thead>\n",
       "    <tr style=\"text-align: right;\">\n",
       "      <th></th>\n",
       "      <th>User ID</th>\n",
       "      <th>Venue ID</th>\n",
       "      <th>UTC time</th>\n",
       "      <th>Timezone offset</th>\n",
       "      <th>Latitude</th>\n",
       "      <th>Longitude</th>\n",
       "      <th>Category</th>\n",
       "      <th>City</th>\n",
       "      <th>TimeStamp</th>\n",
       "      <th>Date</th>\n",
       "    </tr>\n",
       "  </thead>\n",
       "  <tbody>\n",
       "    <tr>\n",
       "      <th>0</th>\n",
       "      <td>262915</td>\n",
       "      <td>4aec9f4bf964a52091c921e3</td>\n",
       "      <td>Tue Apr 03 18:00:39 +0000 2012</td>\n",
       "      <td>60</td>\n",
       "      <td>51.498044</td>\n",
       "      <td>-0.090546</td>\n",
       "      <td>Pub</td>\n",
       "      <td>London</td>\n",
       "      <td>1.333476e+09</td>\n",
       "      <td>2012-04-03 18:00:39</td>\n",
       "    </tr>\n",
       "    <tr>\n",
       "      <th>1</th>\n",
       "      <td>129494</td>\n",
       "      <td>4aec9f4bf964a52091c921e3</td>\n",
       "      <td>Sun Apr 08 18:18:30 +0000 2012</td>\n",
       "      <td>60</td>\n",
       "      <td>51.498044</td>\n",
       "      <td>-0.090546</td>\n",
       "      <td>Pub</td>\n",
       "      <td>London</td>\n",
       "      <td>1.333909e+09</td>\n",
       "      <td>2012-04-08 18:18:30</td>\n",
       "    </tr>\n",
       "    <tr>\n",
       "      <th>2</th>\n",
       "      <td>262915</td>\n",
       "      <td>4aec9f4bf964a52091c921e3</td>\n",
       "      <td>Tue Apr 10 18:16:59 +0000 2012</td>\n",
       "      <td>60</td>\n",
       "      <td>51.498044</td>\n",
       "      <td>-0.090546</td>\n",
       "      <td>Pub</td>\n",
       "      <td>London</td>\n",
       "      <td>1.334082e+09</td>\n",
       "      <td>2012-04-10 18:16:59</td>\n",
       "    </tr>\n",
       "    <tr>\n",
       "      <th>3</th>\n",
       "      <td>129494</td>\n",
       "      <td>4aec9f4bf964a52091c921e3</td>\n",
       "      <td>Wed Apr 11 20:56:49 +0000 2012</td>\n",
       "      <td>60</td>\n",
       "      <td>51.498044</td>\n",
       "      <td>-0.090546</td>\n",
       "      <td>Pub</td>\n",
       "      <td>London</td>\n",
       "      <td>1.334178e+09</td>\n",
       "      <td>2012-04-11 20:56:49</td>\n",
       "    </tr>\n",
       "    <tr>\n",
       "      <th>4</th>\n",
       "      <td>129494</td>\n",
       "      <td>4aec9f4bf964a52091c921e3</td>\n",
       "      <td>Sat Apr 14 20:29:13 +0000 2012</td>\n",
       "      <td>60</td>\n",
       "      <td>51.498044</td>\n",
       "      <td>-0.090546</td>\n",
       "      <td>Pub</td>\n",
       "      <td>London</td>\n",
       "      <td>1.334435e+09</td>\n",
       "      <td>2012-04-14 20:29:13</td>\n",
       "    </tr>\n",
       "    <tr>\n",
       "      <th>...</th>\n",
       "      <td>...</td>\n",
       "      <td>...</td>\n",
       "      <td>...</td>\n",
       "      <td>...</td>\n",
       "      <td>...</td>\n",
       "      <td>...</td>\n",
       "      <td>...</td>\n",
       "      <td>...</td>\n",
       "      <td>...</td>\n",
       "      <td>...</td>\n",
       "    </tr>\n",
       "    <tr>\n",
       "      <th>332467</th>\n",
       "      <td>86643</td>\n",
       "      <td>4c0299c4f56c2d7fa6a01b66</td>\n",
       "      <td>Mon Sep 16 19:13:00 +0000 2013</td>\n",
       "      <td>60</td>\n",
       "      <td>55.862862</td>\n",
       "      <td>-4.428649</td>\n",
       "      <td>Hotel</td>\n",
       "      <td>Glasgow</td>\n",
       "      <td>1.379359e+09</td>\n",
       "      <td>2013-09-16 19:13:00</td>\n",
       "    </tr>\n",
       "    <tr>\n",
       "      <th>332468</th>\n",
       "      <td>228024</td>\n",
       "      <td>521d9f8811d23b3cba9efd79</td>\n",
       "      <td>Mon Sep 16 19:29:00 +0000 2013</td>\n",
       "      <td>60</td>\n",
       "      <td>51.490877</td>\n",
       "      <td>-0.182205</td>\n",
       "      <td>Office</td>\n",
       "      <td>London</td>\n",
       "      <td>1.379360e+09</td>\n",
       "      <td>2013-09-16 19:29:00</td>\n",
       "    </tr>\n",
       "    <tr>\n",
       "      <th>332469</th>\n",
       "      <td>158850</td>\n",
       "      <td>4d20624ed7b0b1f77e59149f</td>\n",
       "      <td>Mon Sep 16 21:15:26 +0000 2013</td>\n",
       "      <td>60</td>\n",
       "      <td>53.827573</td>\n",
       "      <td>-1.730742</td>\n",
       "      <td>Home (private)</td>\n",
       "      <td>Leeds</td>\n",
       "      <td>1.379366e+09</td>\n",
       "      <td>2013-09-16 21:15:26</td>\n",
       "    </tr>\n",
       "    <tr>\n",
       "      <th>332470</th>\n",
       "      <td>105662</td>\n",
       "      <td>4b87b83cf964a5209dc831e3</td>\n",
       "      <td>Mon Sep 16 22:32:12 +0000 2013</td>\n",
       "      <td>60</td>\n",
       "      <td>53.402537</td>\n",
       "      <td>-2.977469</td>\n",
       "      <td>Chinese Restaurant</td>\n",
       "      <td>Liverpool</td>\n",
       "      <td>1.379371e+09</td>\n",
       "      <td>2013-09-16 22:32:12</td>\n",
       "    </tr>\n",
       "    <tr>\n",
       "      <th>332471</th>\n",
       "      <td>105662</td>\n",
       "      <td>51a386e5498e1123aa4ddb97</td>\n",
       "      <td>Mon Sep 16 23:14:24 +0000 2013</td>\n",
       "      <td>60</td>\n",
       "      <td>53.408472</td>\n",
       "      <td>-2.981847</td>\n",
       "      <td>Chinese Restaurant</td>\n",
       "      <td>Liverpool</td>\n",
       "      <td>1.379373e+09</td>\n",
       "      <td>2013-09-16 23:14:24</td>\n",
       "    </tr>\n",
       "  </tbody>\n",
       "</table>\n",
       "<p>332472 rows × 10 columns</p>\n",
       "</div>"
      ],
      "text/plain": [
       "        User ID                  Venue ID  ...     TimeStamp                Date\n",
       "0        262915  4aec9f4bf964a52091c921e3  ...  1.333476e+09 2012-04-03 18:00:39\n",
       "1        129494  4aec9f4bf964a52091c921e3  ...  1.333909e+09 2012-04-08 18:18:30\n",
       "2        262915  4aec9f4bf964a52091c921e3  ...  1.334082e+09 2012-04-10 18:16:59\n",
       "3        129494  4aec9f4bf964a52091c921e3  ...  1.334178e+09 2012-04-11 20:56:49\n",
       "4        129494  4aec9f4bf964a52091c921e3  ...  1.334435e+09 2012-04-14 20:29:13\n",
       "...         ...                       ...  ...           ...                 ...\n",
       "332467    86643  4c0299c4f56c2d7fa6a01b66  ...  1.379359e+09 2013-09-16 19:13:00\n",
       "332468   228024  521d9f8811d23b3cba9efd79  ...  1.379360e+09 2013-09-16 19:29:00\n",
       "332469   158850  4d20624ed7b0b1f77e59149f  ...  1.379366e+09 2013-09-16 21:15:26\n",
       "332470   105662  4b87b83cf964a5209dc831e3  ...  1.379371e+09 2013-09-16 22:32:12\n",
       "332471   105662  51a386e5498e1123aa4ddb97  ...  1.379373e+09 2013-09-16 23:14:24\n",
       "\n",
       "[332472 rows x 10 columns]"
      ]
     },
     "execution_count": 291,
     "metadata": {
      "tags": []
     },
     "output_type": "execute_result"
    }
   ],
   "source": [
    "combine_check_venue_df"
   ]
  },
  {
   "cell_type": "code",
   "execution_count": null,
   "metadata": {
    "colab": {},
    "colab_type": "code",
    "id": "EitImM8Jp8kU"
   },
   "outputs": [],
   "source": [
    "target = combine_check_venue_df['Category'].value_counts().reset_index().rename(columns={'index':'Category','Category':'Check-in'})\n",
    "target_df = target.iloc[0:20]"
   ]
  },
  {
   "cell_type": "code",
   "execution_count": null,
   "metadata": {
    "colab": {
     "base_uri": "https://localhost:8080/",
     "height": 639
    },
    "colab_type": "code",
    "executionInfo": {
     "elapsed": 366,
     "status": "ok",
     "timestamp": 1594953977748,
     "user": {
      "displayName": "Darshan Solanki",
      "photoUrl": "",
      "userId": "08453583935790106968"
     },
     "user_tz": 240
    },
    "id": "tdZOcaY2p96Z",
    "outputId": "98d77643-3774-4de4-8d79-3c445b856b14"
   },
   "outputs": [
    {
     "data": {
      "text/html": [
       "<div>\n",
       "<style scoped>\n",
       "    .dataframe tbody tr th:only-of-type {\n",
       "        vertical-align: middle;\n",
       "    }\n",
       "\n",
       "    .dataframe tbody tr th {\n",
       "        vertical-align: top;\n",
       "    }\n",
       "\n",
       "    .dataframe thead th {\n",
       "        text-align: right;\n",
       "    }\n",
       "</style>\n",
       "<table border=\"1\" class=\"dataframe\">\n",
       "  <thead>\n",
       "    <tr style=\"text-align: right;\">\n",
       "      <th></th>\n",
       "      <th>Category</th>\n",
       "      <th>Check-in</th>\n",
       "    </tr>\n",
       "  </thead>\n",
       "  <tbody>\n",
       "    <tr>\n",
       "      <th>0</th>\n",
       "      <td>Train Station</td>\n",
       "      <td>31186</td>\n",
       "    </tr>\n",
       "    <tr>\n",
       "      <th>1</th>\n",
       "      <td>Home (private)</td>\n",
       "      <td>17282</td>\n",
       "    </tr>\n",
       "    <tr>\n",
       "      <th>2</th>\n",
       "      <td>Pub</td>\n",
       "      <td>16745</td>\n",
       "    </tr>\n",
       "    <tr>\n",
       "      <th>3</th>\n",
       "      <td>Office</td>\n",
       "      <td>14821</td>\n",
       "    </tr>\n",
       "    <tr>\n",
       "      <th>4</th>\n",
       "      <td>Coffee Shop</td>\n",
       "      <td>12379</td>\n",
       "    </tr>\n",
       "    <tr>\n",
       "      <th>5</th>\n",
       "      <td>Grocery Store</td>\n",
       "      <td>9117</td>\n",
       "    </tr>\n",
       "    <tr>\n",
       "      <th>6</th>\n",
       "      <td>Hotel</td>\n",
       "      <td>9036</td>\n",
       "    </tr>\n",
       "    <tr>\n",
       "      <th>7</th>\n",
       "      <td>Bar</td>\n",
       "      <td>7494</td>\n",
       "    </tr>\n",
       "    <tr>\n",
       "      <th>8</th>\n",
       "      <td>Mall</td>\n",
       "      <td>6567</td>\n",
       "    </tr>\n",
       "    <tr>\n",
       "      <th>9</th>\n",
       "      <td>Neighborhood</td>\n",
       "      <td>6182</td>\n",
       "    </tr>\n",
       "    <tr>\n",
       "      <th>10</th>\n",
       "      <td>Gym</td>\n",
       "      <td>6029</td>\n",
       "    </tr>\n",
       "    <tr>\n",
       "      <th>11</th>\n",
       "      <td>Subway</td>\n",
       "      <td>5951</td>\n",
       "    </tr>\n",
       "    <tr>\n",
       "      <th>12</th>\n",
       "      <td>Caf\u001a\u001a</td>\n",
       "      <td>5318</td>\n",
       "    </tr>\n",
       "    <tr>\n",
       "      <th>13</th>\n",
       "      <td>Park</td>\n",
       "      <td>5140</td>\n",
       "    </tr>\n",
       "    <tr>\n",
       "      <th>14</th>\n",
       "      <td>Building</td>\n",
       "      <td>4405</td>\n",
       "    </tr>\n",
       "    <tr>\n",
       "      <th>15</th>\n",
       "      <td>Road</td>\n",
       "      <td>4306</td>\n",
       "    </tr>\n",
       "    <tr>\n",
       "      <th>16</th>\n",
       "      <td>Bus Station</td>\n",
       "      <td>3793</td>\n",
       "    </tr>\n",
       "    <tr>\n",
       "      <th>17</th>\n",
       "      <td>Bus Line</td>\n",
       "      <td>3670</td>\n",
       "    </tr>\n",
       "    <tr>\n",
       "      <th>18</th>\n",
       "      <td>Plaza</td>\n",
       "      <td>3643</td>\n",
       "    </tr>\n",
       "    <tr>\n",
       "      <th>19</th>\n",
       "      <td>Soccer Stadium</td>\n",
       "      <td>3267</td>\n",
       "    </tr>\n",
       "  </tbody>\n",
       "</table>\n",
       "</div>"
      ],
      "text/plain": [
       "          Category  Check-in\n",
       "0    Train Station     31186\n",
       "1   Home (private)     17282\n",
       "2              Pub     16745\n",
       "3           Office     14821\n",
       "4      Coffee Shop     12379\n",
       "5    Grocery Store      9117\n",
       "6            Hotel      9036\n",
       "7              Bar      7494\n",
       "8             Mall      6567\n",
       "9     Neighborhood      6182\n",
       "10             Gym      6029\n",
       "11          Subway      5951\n",
       "12           Caf\u001a\u001a      5318\n",
       "13            Park      5140\n",
       "14        Building      4405\n",
       "15            Road      4306\n",
       "16     Bus Station      3793\n",
       "17        Bus Line      3670\n",
       "18           Plaza      3643\n",
       "19  Soccer Stadium      3267"
      ]
     },
     "execution_count": 297,
     "metadata": {
      "tags": []
     },
     "output_type": "execute_result"
    }
   ],
   "source": [
    "target_df"
   ]
  },
  {
   "cell_type": "code",
   "execution_count": null,
   "metadata": {
    "colab": {},
    "colab_type": "code",
    "id": "0FP9-q8cqkvG"
   },
   "outputs": [],
   "source": []
  },
  {
   "cell_type": "markdown",
   "metadata": {
    "colab_type": "text",
    "id": "6vWGCT3gtsMS"
   },
   "source": [
    "# Total London Check-in (New file)\n",
    "\n",
    "> Indented block\n",
    "\n",
    "> Indented block\n",
    "\n",
    "\n",
    "\n"
   ]
  },
  {
   "cell_type": "code",
   "execution_count": null,
   "metadata": {
    "colab": {},
    "colab_type": "code",
    "id": "qWUTCVEftso6"
   },
   "outputs": [],
   "source": [
    "Total_London_Checkin = pd.read_csv('/content/drive/My Drive/Datathon (1)/Total_London_Checkin.csv',index_col=0)  "
   ]
  },
  {
   "cell_type": "code",
   "execution_count": null,
   "metadata": {
    "colab": {},
    "colab_type": "code",
    "id": "LilcxcaBe9jG"
   },
   "outputs": [],
   "source": [
    "def getMainCategory(sub):\n",
    "  for main, sub_list in heirarchy_cat.items():\n",
    "    if sub in sub_list or sub == main:\n",
    "      return main\n",
    "    elif sub == \"Cafe\" or sub == \"Malaysian Restaurant\" or sub == \"Ramen /  Noodle House\" or sub == \"Frozen Yogurt\" or sub == \"Yogurt\":\n",
    "      return \"Food\"\n",
    "    elif sub == \"Tennis\" or sub == \"Athletic & Sport\":\n",
    "      return \"Event\"\n",
    "    elif sub == \"Ferry\" or sub == \"Subway\" or sub == \"Light Rail\":\n",
    "      return \"Travel & Transport\"\n",
    "    elif sub == \"Car Dealership\" or sub == \"Drugstore / Pharmacy\" or sub == \"Mall\":\n",
    "      return \"Shop & Service\"\n",
    "    elif sub == \"Hiking Trail\":\n",
    "      return \"Outdoors & Recreation\"\n",
    "    elif sub == \"Spa / Massage\" or sub == \"Gas Station / Garage\":\n",
    "      return \"Shop & Service\"\n",
    "    elif \"stadium\" in sub.lower() or \"pool\" in sub.lower() or \"scenic lookout\" in sub.lower() or \"event space\" in sub.lower() or \"sporting event\" in sub.lower():\n",
    "      return \"Event\"\n",
    "  return sub"
   ]
  },
  {
   "cell_type": "markdown",
   "metadata": {
    "colab_type": "text",
    "id": "Hye-osgzjHH1"
   },
   "source": [
    "## Extract category hierarchy"
   ]
  },
  {
   "cell_type": "code",
   "execution_count": null,
   "metadata": {
    "colab": {},
    "colab_type": "code",
    "id": "3fNWFigXjCW0"
   },
   "outputs": [],
   "source": [
    "import requests\n",
    "import json"
   ]
  },
  {
   "cell_type": "code",
   "execution_count": null,
   "metadata": {
    "colab": {},
    "colab_type": "code",
    "id": "o0H0pMoQjK7b"
   },
   "outputs": [],
   "source": [
    "res = requests.get(\"https://api.foursquare.com/v2/venues/categories?client_id=HEBZ22QEMCKN3URO3JYLLKB4DKJA211IDVRHPBGKEGJMZG0X&client_secret=LEFXVWWSEJO1UE2ZTMEL5CBQQ5VZOZGWSIJBPHFJ4PTJBGMH&v=20200717\").text"
   ]
  },
  {
   "cell_type": "code",
   "execution_count": null,
   "metadata": {
    "colab": {},
    "colab_type": "code",
    "id": "eDE0Tj9bjQle"
   },
   "outputs": [],
   "source": [
    "res = json.loads(res)\n",
    "\n",
    "heirarchy_cat = {}\n",
    "\n",
    "def dfs(heirarchy_cat,name,json_):\n",
    "\n",
    "  if(json_ == []):\n",
    "    return\n",
    "\n",
    "  for j in range(len(json_)):\n",
    "    heirarchy_cat[name].append(json_[j]['name'])\n",
    "    dfs(heirarchy_cat,name,json_[j]['categories'])\n",
    "\n",
    "\n",
    "\n",
    "for i in range(len(res['response']['categories'])):\n",
    "  json_ = res['response']['categories'][i]['categories']\n",
    "  name = res['response']['categories'][i]['name']\n",
    "  heirarchy_cat[name] = []\n",
    "  dfs(heirarchy_cat,name,json_)"
   ]
  },
  {
   "cell_type": "markdown",
   "metadata": {
    "colab_type": "text",
    "id": "3iiTf3bWjarc"
   },
   "source": [
    "## Get Neighbors Util Function"
   ]
  },
  {
   "cell_type": "code",
   "execution_count": null,
   "metadata": {
    "colab": {},
    "colab_type": "code",
    "id": "pbYbAnqL29h1"
   },
   "outputs": [],
   "source": [
    "venue_location_df = Total_London_Checkin[['Venue ID', 'Latitude', 'Longitude', 'Category']].drop_duplicates().reset_index(drop=True)\n",
    "venue_location_df.loc[venue_location_df['Category']==\"Caf\\x1a\\x1a\", \"Category\"] = \"Cafe\"\n",
    "venue_location_df.loc[venue_location_df['Category']==\"Caf\\x1a\", \"Category\"] = \"Cafe\""
   ]
  },
  {
   "cell_type": "code",
   "execution_count": null,
   "metadata": {
    "colab": {},
    "colab_type": "code",
    "id": "Pg-zMo78qXTX"
   },
   "outputs": [],
   "source": [
    "venue_location_df['MainCategory'] = venue_location_df['Category'].apply(getMainCategory)"
   ]
  },
  {
   "cell_type": "code",
   "execution_count": null,
   "metadata": {
    "colab": {},
    "colab_type": "code",
    "id": "M4_O-I1JhLOq"
   },
   "outputs": [],
   "source": [
    "venue_mainCategory_list = venue_location_df['MainCategory'].unique()"
   ]
  },
  {
   "cell_type": "code",
   "execution_count": null,
   "metadata": {
    "colab": {},
    "colab_type": "code",
    "id": "C_WKMWXAcLvd"
   },
   "outputs": [],
   "source": [
    "def getVenueNeighbors(venue_id, venue_location_df, radius = 0.5, vtype = None):\n",
    "  df = venue_location_df[venue_location_df['Venue ID']==venue_id]\n",
    "  lat_v, lon_v = df['Latitude'].values[0], df['Longitude'].values[0]\n",
    "  nearbyPlaces = []\n",
    "  if vtype is not None:\n",
    "    venuedf = venue_location_df[venue_location_df['Category']==vtype].reset_index(drop=True)\n",
    "  else: \n",
    "    venuedf = venue_location_df\n",
    "  \n",
    "  count = 0\n",
    "  for i in range(len(venuedf)):\n",
    "    lat_p, lon_p = venuedf['Latitude'].iloc[i], venuedf['Longitude'].iloc[i]\n",
    "    if lat_p == lat_v and lon_p == lon_v:\n",
    "      count += 1\n",
    "      continue\n",
    "    if (aerialDist(lat_p, lon_p, lat_v, lon_v) <= radius):\n",
    "      nearbyPlaces.append(venuedf.iloc[i])\n",
    "\n",
    "  return len(nearbyPlaces) + count, pd.DataFrame(nearbyPlaces).reset_index(drop=True)"
   ]
  },
  {
   "cell_type": "markdown",
   "metadata": {
    "colab_type": "text",
    "id": "Swy0MgT8jqbU"
   },
   "source": [
    "## Near Place Entropy"
   ]
  },
  {
   "cell_type": "code",
   "execution_count": null,
   "metadata": {
    "colab": {},
    "colab_type": "code",
    "id": "eRVRYvFohVWr"
   },
   "outputs": [],
   "source": [
    "def near_place_entropy(venue_id):\n",
    "  terms = []\n",
    "  for cat in venue_mainCategory_list:\n",
    "    term1 = getVenueNeighbors(venue_id, venue_location_df, vtype=cat)[0]\n",
    "    term2 = getVenueNeighbors(venue_id, venue_location_df)[0]\n",
    "    # smooth log when the number is 0\n",
    "    if term1 == 0:\n",
    "      term1 = 0.5\n",
    "    term = (term1/term2) * np.log(term1/term2)\n",
    "    terms.append(term)\n",
    "  near_place_entropy = - np.sum(terms)\n",
    "  return near_place_entropy"
   ]
  },
  {
   "cell_type": "code",
   "execution_count": null,
   "metadata": {
    "colab": {},
    "colab_type": "code",
    "id": "nII1BCvh_Dg1"
   },
   "outputs": [],
   "source": [
    "select_venue_location_df = venue_location_df.loc[venue_location_df['Venue ID'].isin(venue_id_list)].reset_index(drop=True)"
   ]
  },
  {
   "cell_type": "code",
   "execution_count": null,
   "metadata": {
    "colab": {
     "base_uri": "https://localhost:8080/",
     "height": 419
    },
    "colab_type": "code",
    "executionInfo": {
     "elapsed": 321,
     "status": "ok",
     "timestamp": 1595127171203,
     "user": {
      "displayName": "Xu Han",
      "photoUrl": "https://lh3.googleusercontent.com/a-/AOh14GhnaeWxWjTZU6jRiU5WxUCfOe9oYT4iCl8N64zT=s64",
      "userId": "00026251251072489171"
     },
     "user_tz": 240
    },
    "id": "r_mfUeTB_P2-",
    "outputId": "e7aedc03-ddc4-4458-e168-5f1d096d1dd4"
   },
   "outputs": [
    {
     "data": {
      "text/html": [
       "<div>\n",
       "<style scoped>\n",
       "    .dataframe tbody tr th:only-of-type {\n",
       "        vertical-align: middle;\n",
       "    }\n",
       "\n",
       "    .dataframe tbody tr th {\n",
       "        vertical-align: top;\n",
       "    }\n",
       "\n",
       "    .dataframe thead th {\n",
       "        text-align: right;\n",
       "    }\n",
       "</style>\n",
       "<table border=\"1\" class=\"dataframe\">\n",
       "  <thead>\n",
       "    <tr style=\"text-align: right;\">\n",
       "      <th></th>\n",
       "      <th>Venue ID</th>\n",
       "      <th>Latitude</th>\n",
       "      <th>Longitude</th>\n",
       "      <th>Category</th>\n",
       "      <th>MainCategory</th>\n",
       "    </tr>\n",
       "  </thead>\n",
       "  <tbody>\n",
       "    <tr>\n",
       "      <th>0</th>\n",
       "      <td>4c18fe2d6a21c9b670d6c997</td>\n",
       "      <td>51.470664</td>\n",
       "      <td>-0.457907</td>\n",
       "      <td>Airport Terminal</td>\n",
       "      <td>Travel &amp; Transport</td>\n",
       "    </tr>\n",
       "    <tr>\n",
       "      <th>1</th>\n",
       "      <td>4ac518cef964a520f5a520e3</td>\n",
       "      <td>51.513684</td>\n",
       "      <td>-0.099435</td>\n",
       "      <td>Church</td>\n",
       "      <td>Professional &amp; Other Places</td>\n",
       "    </tr>\n",
       "    <tr>\n",
       "      <th>2</th>\n",
       "      <td>4badfc5af964a5202e783be3</td>\n",
       "      <td>51.516835</td>\n",
       "      <td>-0.404166</td>\n",
       "      <td>Coffee Shop</td>\n",
       "      <td>Food</td>\n",
       "    </tr>\n",
       "    <tr>\n",
       "      <th>3</th>\n",
       "      <td>4b409606f964a52025b925e3</td>\n",
       "      <td>51.536139</td>\n",
       "      <td>-0.103168</td>\n",
       "      <td>Park</td>\n",
       "      <td>Outdoors &amp; Recreation</td>\n",
       "    </tr>\n",
       "    <tr>\n",
       "      <th>4</th>\n",
       "      <td>4ac518d1f964a520e0a620e3</td>\n",
       "      <td>51.508182</td>\n",
       "      <td>-0.087547</td>\n",
       "      <td>Bridge</td>\n",
       "      <td>Outdoors &amp; Recreation</td>\n",
       "    </tr>\n",
       "    <tr>\n",
       "      <th>...</th>\n",
       "      <td>...</td>\n",
       "      <td>...</td>\n",
       "      <td>...</td>\n",
       "      <td>...</td>\n",
       "      <td>...</td>\n",
       "    </tr>\n",
       "    <tr>\n",
       "      <th>450</th>\n",
       "      <td>5016c71ee4b080ff6c6ce632</td>\n",
       "      <td>51.508184</td>\n",
       "      <td>0.031885</td>\n",
       "      <td>Athletic &amp; Sport</td>\n",
       "      <td>Event</td>\n",
       "    </tr>\n",
       "    <tr>\n",
       "      <th>451</th>\n",
       "      <td>4b21f6a4f964a5209c4224e3</td>\n",
       "      <td>51.474968</td>\n",
       "      <td>-0.336843</td>\n",
       "      <td>Train Station</td>\n",
       "      <td>Travel &amp; Transport</td>\n",
       "    </tr>\n",
       "    <tr>\n",
       "      <th>452</th>\n",
       "      <td>501bbb6829a66b254e2b3df8</td>\n",
       "      <td>51.511707</td>\n",
       "      <td>-0.122008</td>\n",
       "      <td>General Entertainment</td>\n",
       "      <td>Arts &amp; Entertainment</td>\n",
       "    </tr>\n",
       "    <tr>\n",
       "      <th>453</th>\n",
       "      <td>4c8b6cf33dc2a1cd22f6b532</td>\n",
       "      <td>51.517118</td>\n",
       "      <td>-0.209806</td>\n",
       "      <td>Fish &amp; Chips Shop</td>\n",
       "      <td>Food</td>\n",
       "    </tr>\n",
       "    <tr>\n",
       "      <th>454</th>\n",
       "      <td>50276e08e4b0dd4acca8b390</td>\n",
       "      <td>51.510587</td>\n",
       "      <td>-0.099017</td>\n",
       "      <td>Stadium</td>\n",
       "      <td>Arts &amp; Entertainment</td>\n",
       "    </tr>\n",
       "  </tbody>\n",
       "</table>\n",
       "<p>455 rows × 5 columns</p>\n",
       "</div>"
      ],
      "text/plain": [
       "                     Venue ID  ...                 MainCategory\n",
       "0    4c18fe2d6a21c9b670d6c997  ...           Travel & Transport\n",
       "1    4ac518cef964a520f5a520e3  ...  Professional & Other Places\n",
       "2    4badfc5af964a5202e783be3  ...                         Food\n",
       "3    4b409606f964a52025b925e3  ...        Outdoors & Recreation\n",
       "4    4ac518d1f964a520e0a620e3  ...        Outdoors & Recreation\n",
       "..                        ...  ...                          ...\n",
       "450  5016c71ee4b080ff6c6ce632  ...                        Event\n",
       "451  4b21f6a4f964a5209c4224e3  ...           Travel & Transport\n",
       "452  501bbb6829a66b254e2b3df8  ...         Arts & Entertainment\n",
       "453  4c8b6cf33dc2a1cd22f6b532  ...                         Food\n",
       "454  50276e08e4b0dd4acca8b390  ...         Arts & Entertainment\n",
       "\n",
       "[455 rows x 5 columns]"
      ]
     },
     "execution_count": 28,
     "metadata": {
      "tags": []
     },
     "output_type": "execute_result"
    }
   ],
   "source": [
    "select_venue_location_df"
   ]
  },
  {
   "cell_type": "code",
   "execution_count": null,
   "metadata": {
    "colab": {},
    "colab_type": "code",
    "id": "F_XCYh6Wkx83"
   },
   "outputs": [],
   "source": [
    "select_venue_location_df['NearPlaceEntropy'] = select_venue_location_df['Venue ID'].apply(near_place_entropy)"
   ]
  },
  {
   "cell_type": "code",
   "execution_count": null,
   "metadata": {
    "colab": {},
    "colab_type": "code",
    "id": "HWDMAQln5YE_"
   },
   "outputs": [],
   "source": [
    "select_venue_location_df.to_csv(\"select_venue_location_df.csv\")"
   ]
  },
  {
   "cell_type": "markdown",
   "metadata": {
    "colab_type": "text",
    "id": "Zz-7M6Xqjx_j"
   },
   "source": [
    "## Jensen Coefficient"
   ]
  },
  {
   "cell_type": "code",
   "execution_count": null,
   "metadata": {
    "colab": {
     "base_uri": "https://localhost:8080/",
     "height": 221
    },
    "colab_type": "code",
    "executionInfo": {
     "elapsed": 287,
     "status": "ok",
     "timestamp": 1595092649310,
     "user": {
      "displayName": "Xu Han",
      "photoUrl": "https://lh3.googleusercontent.com/a-/AOh14GhnaeWxWjTZU6jRiU5WxUCfOe9oYT4iCl8N64zT=s64",
      "userId": "00026251251072489171"
     },
     "user_tz": 240
    },
    "id": "KyAQ7bwonCIV",
    "outputId": "feb4d044-8057-461a-a723-64864ed05aff"
   },
   "outputs": [
    {
     "data": {
      "text/plain": [
       "Pub                     1640\n",
       "Office                  1427\n",
       "Cafe                     957\n",
       "Coffee Shop              864\n",
       "Home (private)           800\n",
       "                        ... \n",
       "Swiss Restaurant           1\n",
       "Basketball Stadium         1\n",
       "College Tennis Court       1\n",
       "Island                     1\n",
       "Mongolian Restaurant       1\n",
       "Name: Category, Length: 403, dtype: int64"
      ]
     },
     "execution_count": 125,
     "metadata": {
      "tags": []
     },
     "output_type": "execute_result"
    }
   ],
   "source": [
    "subCategoryDist = venue_location_df['Category'].value_counts()\n",
    "subCategoryDist"
   ]
  },
  {
   "cell_type": "code",
   "execution_count": null,
   "metadata": {
    "colab": {
     "base_uri": "https://localhost:8080/",
     "height": 34
    },
    "colab_type": "code",
    "executionInfo": {
     "elapsed": 280,
     "status": "ok",
     "timestamp": 1595088558650,
     "user": {
      "displayName": "Xu Han",
      "photoUrl": "https://lh3.googleusercontent.com/a-/AOh14GhnaeWxWjTZU6jRiU5WxUCfOe9oYT4iCl8N64zT=s64",
      "userId": "00026251251072489171"
     },
     "user_tz": 240
    },
    "id": "OqMAicemnIu9",
    "outputId": "e4856170-5ab5-4523-9869-e270f39fb975"
   },
   "outputs": [
    {
     "data": {
      "text/plain": [
       "318"
      ]
     },
     "execution_count": 82,
     "metadata": {
      "tags": []
     },
     "output_type": "execute_result"
    }
   ],
   "source": [
    "np.sum(venue_location_df['Category'].value_counts() > 5)"
   ]
  },
  {
   "cell_type": "code",
   "execution_count": null,
   "metadata": {
    "colab": {
     "base_uri": "https://localhost:8080/",
     "height": 51
    },
    "colab_type": "code",
    "executionInfo": {
     "elapsed": 621,
     "status": "ok",
     "timestamp": 1595088846124,
     "user": {
      "displayName": "Xu Han",
      "photoUrl": "https://lh3.googleusercontent.com/a-/AOh14GhnaeWxWjTZU6jRiU5WxUCfOe9oYT4iCl8N64zT=s64",
      "userId": "00026251251072489171"
     },
     "user_tz": 240
    },
    "id": "mbLJpfnfsOHR",
    "outputId": "1e9dd8bd-0a78-4738-d313-0dee1fd71f3a"
   },
   "outputs": [
    {
     "name": "stdout",
     "output_type": "stream",
     "text": [
      "Fish & Chips Shop\n",
      "Fish Market\n"
     ]
    }
   ],
   "source": [
    "for i in subCategoryDist.index:\n",
    "  if \"fish\" in i.lower():\n",
    "    print(i)"
   ]
  },
  {
   "cell_type": "code",
   "execution_count": null,
   "metadata": {
    "colab": {
     "base_uri": "https://localhost:8080/",
     "height": 34
    },
    "colab_type": "code",
    "executionInfo": {
     "elapsed": 330,
     "status": "ok",
     "timestamp": 1595097254899,
     "user": {
      "displayName": "Xu Han",
      "photoUrl": "https://lh3.googleusercontent.com/a-/AOh14GhnaeWxWjTZU6jRiU5WxUCfOe9oYT4iCl8N64zT=s64",
      "userId": "00026251251072489171"
     },
     "user_tz": 240
    },
    "id": "kAbHCDa1NE5I",
    "outputId": "9a0bc12e-566b-4817-fe5f-549b19fcdb94"
   },
   "outputs": [
    {
     "data": {
      "text/plain": [
       "True"
      ]
     },
     "execution_count": 167,
     "metadata": {
      "tags": []
     },
     "output_type": "execute_result"
    }
   ],
   "source": [
    "\"Wine Shop\" in subCategoryDist.index"
   ]
  },
  {
   "cell_type": "code",
   "execution_count": null,
   "metadata": {
    "colab": {},
    "colab_type": "code",
    "id": "wUcy5ol1tIOx"
   },
   "outputs": [],
   "source": [
    "tp = \"Fish & Chips Shop\"\n",
    "tv = \"Wine Shop\""
   ]
  },
  {
   "cell_type": "code",
   "execution_count": null,
   "metadata": {
    "colab": {},
    "colab_type": "code",
    "id": "UvKn2q90vPxk"
   },
   "outputs": [],
   "source": [
    "def JensenCoefficient(tp, tv, venue_location_df, venue_id_list):\n",
    "  N = len(venue_location_df)\n",
    "  \n",
    "  N_tp = len(venue_location_df[venue_location_df['Category']==tp])\n",
    "  N_tv = len(venue_location_df[venue_location_df['Category']==tv])\n",
    "  #print(N_tp)\n",
    "  if N_tp == 0:\n",
    "    N_tp = 1\n",
    "  \n",
    "  #print(N_tv)\n",
    "  if N_tv == 0:\n",
    "    N_tv = 1\n",
    "\n",
    "  tot = 0\n",
    "  for venue_id in venue_id_list:\n",
    "    nominator = getVenueNeighbors(venue_id=venue_id, venue_location_df = venue_location_df, vtype = tv, radius=0.5)[0]\n",
    "    denominator = getVenueNeighbors(venue_id=venue_id, venue_location_df = venue_location_df, radius=0.5)[0] - getVenueNeighbors(venue_id=venue_id, venue_location_df = venue_location_df, vtype = tp,radius=0.5)[0]\n",
    "    if denominator == 0:\n",
    "      denominator = 1\n",
    "    term = nominator / denominator\n",
    "    tot += term\n",
    "  j_coff = tot * (N - N_tp) / (N_tp * N_tv)\n",
    "\n",
    "  return j_coff"
   ]
  },
  {
   "cell_type": "code",
   "execution_count": null,
   "metadata": {
    "colab": {
     "base_uri": "https://localhost:8080/",
     "height": 34
    },
    "colab_type": "code",
    "executionInfo": {
     "elapsed": 503,
     "status": "ok",
     "timestamp": 1595098190397,
     "user": {
      "displayName": "Xu Han",
      "photoUrl": "https://lh3.googleusercontent.com/a-/AOh14GhnaeWxWjTZU6jRiU5WxUCfOe9oYT4iCl8N64zT=s64",
      "userId": "00026251251072489171"
     },
     "user_tz": 240
    },
    "id": "OUFNNeaBQsbW",
    "outputId": "ba89b114-f299-4d9b-a558-47eb27eb6c06"
   },
   "outputs": [
    {
     "data": {
      "text/plain": [
       "2.1707836190788092"
      ]
     },
     "execution_count": 173,
     "metadata": {
      "tags": []
     },
     "output_type": "execute_result"
    }
   ],
   "source": [
    "k_tp_tv "
   ]
  },
  {
   "cell_type": "markdown",
   "metadata": {
    "colab_type": "text",
    "id": "XTQ_L3_h1VX5"
   },
   "source": [
    "## Jensen Quality"
   ]
  },
  {
   "cell_type": "code",
   "execution_count": null,
   "metadata": {
    "colab": {},
    "colab_type": "code",
    "id": "WdjYj8iJ1W3-"
   },
   "outputs": [],
   "source": []
  },
  {
   "cell_type": "markdown",
   "metadata": {
    "colab_type": "text",
    "id": "-6USHhgqCbE9"
   },
   "source": [
    "# London Olympics Check-in (New file)"
   ]
  },
  {
   "cell_type": "code",
   "execution_count": null,
   "metadata": {
    "colab": {},
    "colab_type": "code",
    "id": "x6IwVqkjCeEB"
   },
   "outputs": [],
   "source": [
    "London_Olympic_Checkin = pd.read_csv('/content/drive/My Drive/Datathon (1)/London_Olympics_Checkin.csv',index_col=0)  "
   ]
  },
  {
   "cell_type": "code",
   "execution_count": null,
   "metadata": {
    "colab": {},
    "colab_type": "code",
    "id": "GQO4UgcfWtLk"
   },
   "outputs": [],
   "source": [
    "len"
   ]
  },
  {
   "cell_type": "code",
   "execution_count": null,
   "metadata": {
    "colab": {},
    "colab_type": "code",
    "id": "jNRwhPNVDQL9"
   },
   "outputs": [],
   "source": [
    "venue_id_list = London_Olympic_Checkin.groupby(['Venue ID']).count()['User ID'].index[(London_Olympic_Checkin.groupby(['Venue ID']).count()['User ID'].values >= 3)]"
   ]
  },
  {
   "cell_type": "code",
   "execution_count": null,
   "metadata": {
    "colab": {
     "base_uri": "https://localhost:8080/",
     "height": 34
    },
    "colab_type": "code",
    "executionInfo": {
     "elapsed": 373,
     "status": "ok",
     "timestamp": 1595127097444,
     "user": {
      "displayName": "Xu Han",
      "photoUrl": "https://lh3.googleusercontent.com/a-/AOh14GhnaeWxWjTZU6jRiU5WxUCfOe9oYT4iCl8N64zT=s64",
      "userId": "00026251251072489171"
     },
     "user_tz": 240
    },
    "id": "yDgJryZ7WuU1",
    "outputId": "7c2f4679-1f82-45c0-f171-f7dcb42002c9"
   },
   "outputs": [
    {
     "data": {
      "text/plain": [
       "455"
      ]
     },
     "execution_count": 26,
     "metadata": {
      "tags": []
     },
     "output_type": "execute_result"
    }
   ],
   "source": [
    "len(venue_id_list)"
   ]
  },
  {
   "cell_type": "code",
   "execution_count": null,
   "metadata": {
    "colab": {
     "base_uri": "https://localhost:8080/",
     "height": 34
    },
    "colab_type": "code",
    "executionInfo": {
     "elapsed": 401,
     "status": "ok",
     "timestamp": 1595095535181,
     "user": {
      "displayName": "Xu Han",
      "photoUrl": "https://lh3.googleusercontent.com/a-/AOh14GhnaeWxWjTZU6jRiU5WxUCfOe9oYT4iCl8N64zT=s64",
      "userId": "00026251251072489171"
     },
     "user_tz": 240
    },
    "id": "TQui2bRuD6km",
    "outputId": "dde5cd69-1b2a-42ff-c421-c5de292d2863"
   },
   "outputs": [
    {
     "data": {
      "text/plain": [
       "0.0"
      ]
     },
     "execution_count": 144,
     "metadata": {
      "tags": []
     },
     "output_type": "execute_result"
    }
   ],
   "source": [
    "k_tp_tv"
   ]
  },
  {
   "cell_type": "code",
   "execution_count": null,
   "metadata": {
    "colab": {
     "base_uri": "https://localhost:8080/",
     "height": 419
    },
    "colab_type": "code",
    "executionInfo": {
     "elapsed": 336,
     "status": "ok",
     "timestamp": 1595098977092,
     "user": {
      "displayName": "Xu Han",
      "photoUrl": "https://lh3.googleusercontent.com/a-/AOh14GhnaeWxWjTZU6jRiU5WxUCfOe9oYT4iCl8N64zT=s64",
      "userId": "00026251251072489171"
     },
     "user_tz": 240
    },
    "id": "hbUDYVolGkxl",
    "outputId": "a1059f64-46e8-4b49-8660-d91cf27092a0"
   },
   "outputs": [
    {
     "data": {
      "text/html": [
       "<div>\n",
       "<style scoped>\n",
       "    .dataframe tbody tr th:only-of-type {\n",
       "        vertical-align: middle;\n",
       "    }\n",
       "\n",
       "    .dataframe tbody tr th {\n",
       "        vertical-align: top;\n",
       "    }\n",
       "\n",
       "    .dataframe thead th {\n",
       "        text-align: right;\n",
       "    }\n",
       "</style>\n",
       "<table border=\"1\" class=\"dataframe\">\n",
       "  <thead>\n",
       "    <tr style=\"text-align: right;\">\n",
       "      <th></th>\n",
       "      <th>Venue ID</th>\n",
       "      <th>Latitude</th>\n",
       "      <th>Longitude</th>\n",
       "      <th>Category</th>\n",
       "      <th>MainCategory</th>\n",
       "    </tr>\n",
       "  </thead>\n",
       "  <tbody>\n",
       "    <tr>\n",
       "      <th>15</th>\n",
       "      <td>4c18fe2d6a21c9b670d6c997</td>\n",
       "      <td>51.470664</td>\n",
       "      <td>-0.457907</td>\n",
       "      <td>Airport Terminal</td>\n",
       "      <td>Travel &amp; Transport</td>\n",
       "    </tr>\n",
       "    <tr>\n",
       "      <th>29</th>\n",
       "      <td>4ac518cef964a520f5a520e3</td>\n",
       "      <td>51.513684</td>\n",
       "      <td>-0.099435</td>\n",
       "      <td>Church</td>\n",
       "      <td>Professional &amp; Other Places</td>\n",
       "    </tr>\n",
       "    <tr>\n",
       "      <th>64</th>\n",
       "      <td>4acbc300f964a52058c520e3</td>\n",
       "      <td>51.528437</td>\n",
       "      <td>-0.134025</td>\n",
       "      <td>Train Station</td>\n",
       "      <td>Travel &amp; Transport</td>\n",
       "    </tr>\n",
       "    <tr>\n",
       "      <th>72</th>\n",
       "      <td>4ac518ecf964a52078ac20e3</td>\n",
       "      <td>51.512762</td>\n",
       "      <td>-0.140097</td>\n",
       "      <td>Toy / Game Store</td>\n",
       "      <td>Shop &amp; Service</td>\n",
       "    </tr>\n",
       "    <tr>\n",
       "      <th>85</th>\n",
       "      <td>4af33684f964a520c7eb21e3</td>\n",
       "      <td>51.530773</td>\n",
       "      <td>-0.123382</td>\n",
       "      <td>Train Station</td>\n",
       "      <td>Travel &amp; Transport</td>\n",
       "    </tr>\n",
       "    <tr>\n",
       "      <th>...</th>\n",
       "      <td>...</td>\n",
       "      <td>...</td>\n",
       "      <td>...</td>\n",
       "      <td>...</td>\n",
       "      <td>...</td>\n",
       "    </tr>\n",
       "    <tr>\n",
       "      <th>16306</th>\n",
       "      <td>50115ec3e4b09cb7de674867</td>\n",
       "      <td>51.512345</td>\n",
       "      <td>-0.111429</td>\n",
       "      <td>Event Space</td>\n",
       "      <td>Event</td>\n",
       "    </tr>\n",
       "    <tr>\n",
       "      <th>16350</th>\n",
       "      <td>50198ec3e4b004b505363fd0</td>\n",
       "      <td>51.531915</td>\n",
       "      <td>-0.167796</td>\n",
       "      <td>Residential Building (Apartment / Condo)</td>\n",
       "      <td>Residence</td>\n",
       "    </tr>\n",
       "    <tr>\n",
       "      <th>16360</th>\n",
       "      <td>4f8d7b30754abf3657ab5b6d</td>\n",
       "      <td>51.504145</td>\n",
       "      <td>-0.134324</td>\n",
       "      <td>Stadium</td>\n",
       "      <td>Arts &amp; Entertainment</td>\n",
       "    </tr>\n",
       "    <tr>\n",
       "      <th>16496</th>\n",
       "      <td>501e66f8e4b0d9ad7afe6c9a</td>\n",
       "      <td>51.496684</td>\n",
       "      <td>-0.210465</td>\n",
       "      <td>Bar</td>\n",
       "      <td>Nightlife Spot</td>\n",
       "    </tr>\n",
       "    <tr>\n",
       "      <th>16547</th>\n",
       "      <td>5023f780e4b090dce1684aa7</td>\n",
       "      <td>51.513167</td>\n",
       "      <td>-0.177345</td>\n",
       "      <td>Residential Building (Apartment / Condo)</td>\n",
       "      <td>Residence</td>\n",
       "    </tr>\n",
       "  </tbody>\n",
       "</table>\n",
       "<p>191 rows × 5 columns</p>\n",
       "</div>"
      ],
      "text/plain": [
       "                       Venue ID  ...                 MainCategory\n",
       "15     4c18fe2d6a21c9b670d6c997  ...           Travel & Transport\n",
       "29     4ac518cef964a520f5a520e3  ...  Professional & Other Places\n",
       "64     4acbc300f964a52058c520e3  ...           Travel & Transport\n",
       "72     4ac518ecf964a52078ac20e3  ...               Shop & Service\n",
       "85     4af33684f964a520c7eb21e3  ...           Travel & Transport\n",
       "...                         ...  ...                          ...\n",
       "16306  50115ec3e4b09cb7de674867  ...                        Event\n",
       "16350  50198ec3e4b004b505363fd0  ...                    Residence\n",
       "16360  4f8d7b30754abf3657ab5b6d  ...         Arts & Entertainment\n",
       "16496  501e66f8e4b0d9ad7afe6c9a  ...               Nightlife Spot\n",
       "16547  5023f780e4b090dce1684aa7  ...                    Residence\n",
       "\n",
       "[191 rows x 5 columns]"
      ]
     },
     "execution_count": 177,
     "metadata": {
      "tags": []
     },
     "output_type": "execute_result"
    }
   ],
   "source": [
    "venue_location_df.loc[venue_location_df['Venue ID'].isin(venue_id_list)]"
   ]
  },
  {
   "cell_type": "code",
   "execution_count": null,
   "metadata": {
    "colab": {
     "base_uri": "https://localhost:8080/",
     "height": 34
    },
    "colab_type": "code",
    "executionInfo": {
     "elapsed": 348,
     "status": "ok",
     "timestamp": 1595099012410,
     "user": {
      "displayName": "Xu Han",
      "photoUrl": "https://lh3.googleusercontent.com/a-/AOh14GhnaeWxWjTZU6jRiU5WxUCfOe9oYT4iCl8N64zT=s64",
      "userId": "00026251251072489171"
     },
     "user_tz": 240
    },
    "id": "SOD2Un6lTG0G",
    "outputId": "25c0cd39-bf0c-4df6-bec3-3b579334e31c"
   },
   "outputs": [
    {
     "data": {
      "text/plain": [
       "74"
      ]
     },
     "execution_count": 179,
     "metadata": {
      "tags": []
     },
     "output_type": "execute_result"
    }
   ],
   "source": [
    "venue_location_df.loc[venue_location_df['Venue ID'].isin(venue_id_list)]['Category'].nunique()"
   ]
  },
  {
   "cell_type": "code",
   "execution_count": null,
   "metadata": {
    "colab": {},
    "colab_type": "code",
    "id": "SQvum4DcTzxN"
   },
   "outputs": [],
   "source": [
    "mask = venue_location_df.loc[venue_location_df['Venue ID'].isin(venue_id_list)]['Category'].value_counts().values > 0"
   ]
  },
  {
   "cell_type": "code",
   "execution_count": null,
   "metadata": {
    "colab": {
     "base_uri": "https://localhost:8080/",
     "height": 34
    },
    "colab_type": "code",
    "executionInfo": {
     "elapsed": 334,
     "status": "ok",
     "timestamp": 1595099098606,
     "user": {
      "displayName": "Xu Han",
      "photoUrl": "https://lh3.googleusercontent.com/a-/AOh14GhnaeWxWjTZU6jRiU5WxUCfOe9oYT4iCl8N64zT=s64",
      "userId": "00026251251072489171"
     },
     "user_tz": 240
    },
    "id": "TqjvXGVgT4tv",
    "outputId": "e224ae2c-ec4e-449b-9237-7aed805a61de"
   },
   "outputs": [
    {
     "data": {
      "text/plain": [
       "74"
      ]
     },
     "execution_count": 183,
     "metadata": {
      "tags": []
     },
     "output_type": "execute_result"
    }
   ],
   "source": [
    "len(mask)"
   ]
  },
  {
   "cell_type": "code",
   "execution_count": null,
   "metadata": {
    "colab": {},
    "colab_type": "code",
    "id": "V022I_SWUIRt"
   },
   "outputs": [],
   "source": [
    "subCat_list = venue_location_df.loc[venue_location_df['Venue ID'].isin(venue_id_list)]['Category'].value_counts().index[mask]"
   ]
  },
  {
   "cell_type": "code",
   "execution_count": null,
   "metadata": {
    "colab": {
     "base_uri": "https://localhost:8080/",
     "height": 340
    },
    "colab_type": "code",
    "executionInfo": {
     "elapsed": 383,
     "status": "ok",
     "timestamp": 1595099691273,
     "user": {
      "displayName": "Xu Han",
      "photoUrl": "https://lh3.googleusercontent.com/a-/AOh14GhnaeWxWjTZU6jRiU5WxUCfOe9oYT4iCl8N64zT=s64",
      "userId": "00026251251072489171"
     },
     "user_tz": 240
    },
    "id": "VkmU-1CjWUwU",
    "outputId": "663c509a-7cf9-4c6c-ddcb-5410d9839b70"
   },
   "outputs": [
    {
     "data": {
      "text/plain": [
       "Index(['Train Station', 'Park', 'Subway', 'Stadium', 'Neighborhood',\n",
       "       'Home (private)', 'General Entertainment', 'Plaza', 'Event Space',\n",
       "       'Monument / Landmark', 'Residential Building (Apartment / Condo)',\n",
       "       'Platform', 'Gym', 'History Museum', 'Airport Terminal', 'Art Gallery',\n",
       "       'Soccer Stadium', 'Market', 'Hotel', 'Electronics Store',\n",
       "       'Other Great Outdoors', 'Art Museum', 'Fast Food Restaurant', 'Pool',\n",
       "       'Bus Station', 'Sporting Goods Shop', 'Castle', 'Theater',\n",
       "       'Coffee Shop', 'Bar', 'Church', 'Road', 'Flea Market', 'Garden', 'Mall',\n",
       "       'Music Venue', 'Office', 'General Travel', 'Department Store',\n",
       "       'Movie Theater', 'Tennis', 'Clothing Store', 'Performing Arts Venue',\n",
       "       'Stables', 'Basketball Stadium', 'Racetrack', 'Tech Startup',\n",
       "       'College Gym', 'Athletic & Sport', 'Fair', 'Mobile Phone Shop',\n",
       "       'Toy / Game Store', 'Building', 'Theme Park', 'Boat or Ferry',\n",
       "       'Concert Hall', 'Light Rail', 'College Residence Hall', 'Bridge',\n",
       "       'Track Stadium', 'City', 'Airport', 'American Restaurant', 'Cafe',\n",
       "       'Housing Development', 'Grocery Store', 'Convention Center', 'Bus Line',\n",
       "       'Candy Store', 'Voting Booth', 'Hospital', 'Science Museum', 'Zoo',\n",
       "       'Pub'],\n",
       "      dtype='object')"
      ]
     },
     "execution_count": 198,
     "metadata": {
      "tags": []
     },
     "output_type": "execute_result"
    }
   ],
   "source": [
    "subCat_list"
   ]
  },
  {
   "cell_type": "code",
   "execution_count": null,
   "metadata": {
    "colab": {
     "base_uri": "https://localhost:8080/",
     "height": 34
    },
    "colab_type": "code",
    "executionInfo": {
     "elapsed": 320,
     "status": "ok",
     "timestamp": 1595099693798,
     "user": {
      "displayName": "Xu Han",
      "photoUrl": "https://lh3.googleusercontent.com/a-/AOh14GhnaeWxWjTZU6jRiU5WxUCfOe9oYT4iCl8N64zT=s64",
      "userId": "00026251251072489171"
     },
     "user_tz": 240
    },
    "id": "uPwn4q19WOHF",
    "outputId": "b4769da8-8917-4723-a28b-9fe126906cc3"
   },
   "outputs": [
    {
     "data": {
      "text/plain": [
       "74"
      ]
     },
     "execution_count": 199,
     "metadata": {
      "tags": []
     },
     "output_type": "execute_result"
    }
   ],
   "source": [
    "len(subCat_list)"
   ]
  },
  {
   "cell_type": "code",
   "execution_count": null,
   "metadata": {
    "colab": {},
    "colab_type": "code",
    "id": "0ZAxpTmCVUEs"
   },
   "outputs": [],
   "source": [
    "tp_list = subCat_list\n",
    "tv_list = subCat_list"
   ]
  },
  {
   "cell_type": "code",
   "execution_count": null,
   "metadata": {
    "colab": {},
    "colab_type": "code",
    "id": "ScTHirOlUQwf"
   },
   "outputs": [],
   "source": [
    "# def getJensonTable(tp_list, tv_list, venue_location_df, venue_id_list):\n",
    "#   for tp in tp_list:\n",
    "#     for tv in tv_list:\n",
    "#       j_coff = JensenCoefficient(tp, tv, venue_location_df, venue_id_list)\n",
    "#       [tp, tv, j_coff]"
   ]
  },
  {
   "cell_type": "code",
   "execution_count": null,
   "metadata": {
    "colab": {
     "base_uri": "https://localhost:8080/",
     "height": 426
    },
    "colab_type": "code",
    "executionInfo": {
     "elapsed": 1427787,
     "status": "error",
     "timestamp": 1595101337386,
     "user": {
      "displayName": "Xu Han",
      "photoUrl": "https://lh3.googleusercontent.com/a-/AOh14GhnaeWxWjTZU6jRiU5WxUCfOe9oYT4iCl8N64zT=s64",
      "userId": "00026251251072489171"
     },
     "user_tz": 240
    },
    "id": "2NOKOGKJVw6B",
    "outputId": "b600e2c6-1262-49cc-9081-6066a4a97b0a"
   },
   "outputs": [],
   "source": [
    "jtable = []\n",
    "for tp in tp_list:\n",
    "  for tv in tv_list:\n",
    "    if tp == tv:\n",
    "      continue\n",
    "    else:\n",
    "      j_coff = JensenCoefficient(tp, tv, venue_location_df, venue_id_list)\n",
    "      jtable.append([tp, tv, j_coff])"
   ]
  },
  {
   "cell_type": "code",
   "execution_count": null,
   "metadata": {
    "colab": {
     "base_uri": "https://localhost:8080/",
     "height": 68
    },
    "colab_type": "code",
    "executionInfo": {
     "elapsed": 374,
     "status": "ok",
     "timestamp": 1595101343073,
     "user": {
      "displayName": "Xu Han",
      "photoUrl": "https://lh3.googleusercontent.com/a-/AOh14GhnaeWxWjTZU6jRiU5WxUCfOe9oYT4iCl8N64zT=s64",
      "userId": "00026251251072489171"
     },
     "user_tz": 240
    },
    "id": "sNUm59JTXJLx",
    "outputId": "d5e736fc-fc70-4833-9476-d5d382aec476"
   },
   "outputs": [
    {
     "data": {
      "text/plain": [
       "[['Train Station', 'Park', 0.6901505813068656],\n",
       " ['Train Station', 'Subway', 0.8199155483801417],\n",
       " ['Train Station', 'Stadium', 5.14562026841566]]"
      ]
     },
     "execution_count": 206,
     "metadata": {
      "tags": []
     },
     "output_type": "execute_result"
    }
   ],
   "source": [
    "jtable"
   ]
  }
 ],
 "metadata": {
  "colab": {
   "collapsed_sections": [],
   "name": "Hannah Copy of Location_Handler.ipynb",
   "provenance": [
    {
     "file_id": "1HC6n7XagJyCotfhcN64WzGVVnGDsKtlw",
     "timestamp": 1595010446340
    }
   ],
   "toc_visible": true
  },
  "kernelspec": {
   "display_name": "Python 3",
   "language": "python",
   "name": "python3"
  },
  "language_info": {
   "codemirror_mode": {
    "name": "ipython",
    "version": 3
   },
   "file_extension": ".py",
   "mimetype": "text/x-python",
   "name": "python",
   "nbconvert_exporter": "python",
   "pygments_lexer": "ipython3",
   "version": "3.6.3"
  }
 },
 "nbformat": 4,
 "nbformat_minor": 1
}
