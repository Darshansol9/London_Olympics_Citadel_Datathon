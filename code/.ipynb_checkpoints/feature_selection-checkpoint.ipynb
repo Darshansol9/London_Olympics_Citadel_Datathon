{
 "cells": [
  {
   "cell_type": "markdown",
   "metadata": {
    "colab_type": "text",
    "id": "LkKx3OUHuMTD"
   },
   "source": [
    "## Feature Selection"
   ]
  },
  {
   "cell_type": "code",
   "execution_count": 162,
   "metadata": {
    "colab": {},
    "colab_type": "code",
    "executionInfo": {
     "elapsed": 443,
     "status": "ok",
     "timestamp": 1595176358670,
     "user": {
      "displayName": "Shizhuo Duan",
      "photoUrl": "",
      "userId": "01138831068342321117"
     },
     "user_tz": 240
    },
    "id": "_3aEpKz8lGEX"
   },
   "outputs": [],
   "source": [
    "import pandas as pd\n",
    "import numpy as np\n",
    "import matplotlib\n",
    "import matplotlib.pyplot as plt\n",
    "import seaborn as sns\n",
    "import statsmodels.api as sm\n",
    "%matplotlib inline"
   ]
  },
  {
   "cell_type": "code",
   "execution_count": 163,
   "metadata": {
    "colab": {
     "base_uri": "https://localhost:8080/",
     "height": 195
    },
    "colab_type": "code",
    "executionInfo": {
     "elapsed": 495,
     "status": "ok",
     "timestamp": 1595176359392,
     "user": {
      "displayName": "Shizhuo Duan",
      "photoUrl": "",
      "userId": "01138831068342321117"
     },
     "user_tz": 240
    },
    "id": "38PxX5PdlR5A",
    "outputId": "0fe02e96-d552-4afb-b661-f8f9986c398c"
   },
   "outputs": [
    {
     "data": {
      "text/html": [
       "<div>\n",
       "<style scoped>\n",
       "    .dataframe tbody tr th:only-of-type {\n",
       "        vertical-align: middle;\n",
       "    }\n",
       "\n",
       "    .dataframe tbody tr th {\n",
       "        vertical-align: top;\n",
       "    }\n",
       "\n",
       "    .dataframe thead th {\n",
       "        text-align: right;\n",
       "    }\n",
       "</style>\n",
       "<table border=\"1\" class=\"dataframe\">\n",
       "  <thead>\n",
       "    <tr style=\"text-align: right;\">\n",
       "      <th></th>\n",
       "      <th>VenueID</th>\n",
       "      <th>CheckinBefore</th>\n",
       "      <th>CheckinAfter</th>\n",
       "      <th>NearPlaceEntropy</th>\n",
       "      <th>OlympicDistance</th>\n",
       "      <th>NearestStationDistance</th>\n",
       "      <th>StationPagerank</th>\n",
       "    </tr>\n",
       "  </thead>\n",
       "  <tbody>\n",
       "    <tr>\n",
       "      <th>0</th>\n",
       "      <td>4abe4502f964a520558c20e3</td>\n",
       "      <td>33</td>\n",
       "      <td>31</td>\n",
       "      <td>0.238129</td>\n",
       "      <td>1.160000</td>\n",
       "      <td>0.56</td>\n",
       "      <td>0.004480</td>\n",
       "    </tr>\n",
       "    <tr>\n",
       "      <th>1</th>\n",
       "      <td>4abf8c03f964a520079120e3</td>\n",
       "      <td>57</td>\n",
       "      <td>24</td>\n",
       "      <td>0.115433</td>\n",
       "      <td>1.850000</td>\n",
       "      <td>0.30</td>\n",
       "      <td>0.002550</td>\n",
       "    </tr>\n",
       "    <tr>\n",
       "      <th>2</th>\n",
       "      <td>4ac51183f964a52048a020e3</td>\n",
       "      <td>6</td>\n",
       "      <td>6</td>\n",
       "      <td>1.133732</td>\n",
       "      <td>2.730000</td>\n",
       "      <td>0.95</td>\n",
       "      <td>0.002845</td>\n",
       "    </tr>\n",
       "    <tr>\n",
       "      <th>3</th>\n",
       "      <td>4ac51183f964a52049a020e3</td>\n",
       "      <td>2</td>\n",
       "      <td>6</td>\n",
       "      <td>0.256612</td>\n",
       "      <td>2.113333</td>\n",
       "      <td>0.43</td>\n",
       "      <td>0.002632</td>\n",
       "    </tr>\n",
       "    <tr>\n",
       "      <th>4</th>\n",
       "      <td>4ac518b4f964a52072a020e3</td>\n",
       "      <td>4</td>\n",
       "      <td>4</td>\n",
       "      <td>0.171440</td>\n",
       "      <td>1.256667</td>\n",
       "      <td>0.32</td>\n",
       "      <td>0.002410</td>\n",
       "    </tr>\n",
       "  </tbody>\n",
       "</table>\n",
       "</div>"
      ],
      "text/plain": [
       "                    VenueID  ...  StationPagerank\n",
       "0  4abe4502f964a520558c20e3  ...         0.004480\n",
       "1  4abf8c03f964a520079120e3  ...         0.002550\n",
       "2  4ac51183f964a52048a020e3  ...         0.002845\n",
       "3  4ac51183f964a52049a020e3  ...         0.002632\n",
       "4  4ac518b4f964a52072a020e3  ...         0.002410\n",
       "\n",
       "[5 rows x 7 columns]"
      ]
     },
     "execution_count": 163,
     "metadata": {
      "tags": []
     },
     "output_type": "execute_result"
    }
   ],
   "source": [
    "data_df = pd.read_csv('/content/drive/My Drive/Datathon/processed_data/final_data.csv').drop(columns=['Unnamed: 0'], axis=1)\n",
    "data_df.head()"
   ]
  },
  {
   "cell_type": "code",
   "execution_count": 164,
   "metadata": {
    "colab": {
     "base_uri": "https://localhost:8080/",
     "height": 35
    },
    "colab_type": "code",
    "executionInfo": {
     "elapsed": 369,
     "status": "ok",
     "timestamp": 1595176359926,
     "user": {
      "displayName": "Shizhuo Duan",
      "photoUrl": "",
      "userId": "01138831068342321117"
     },
     "user_tz": 240
    },
    "id": "Ckj2tPw_otD4",
    "outputId": "f9fe2877-2cb6-4fac-c1a2-64d68767dd69"
   },
   "outputs": [
    {
     "data": {
      "text/plain": [
       "359"
      ]
     },
     "execution_count": 164,
     "metadata": {
      "tags": []
     },
     "output_type": "execute_result"
    }
   ],
   "source": [
    "len(data_df)"
   ]
  },
  {
   "cell_type": "code",
   "execution_count": 165,
   "metadata": {
    "colab": {
     "base_uri": "https://localhost:8080/",
     "height": 195
    },
    "colab_type": "code",
    "executionInfo": {
     "elapsed": 431,
     "status": "ok",
     "timestamp": 1595176360834,
     "user": {
      "displayName": "Shizhuo Duan",
      "photoUrl": "",
      "userId": "01138831068342321117"
     },
     "user_tz": 240
    },
    "id": "voh7fb41rZDy",
    "outputId": "26750d51-ef25-4035-b675-045764cf9c26"
   },
   "outputs": [
    {
     "data": {
      "text/html": [
       "<div>\n",
       "<style scoped>\n",
       "    .dataframe tbody tr th:only-of-type {\n",
       "        vertical-align: middle;\n",
       "    }\n",
       "\n",
       "    .dataframe tbody tr th {\n",
       "        vertical-align: top;\n",
       "    }\n",
       "\n",
       "    .dataframe thead th {\n",
       "        text-align: right;\n",
       "    }\n",
       "</style>\n",
       "<table border=\"1\" class=\"dataframe\">\n",
       "  <thead>\n",
       "    <tr style=\"text-align: right;\">\n",
       "      <th></th>\n",
       "      <th>VenueID</th>\n",
       "      <th>CheckinBefore</th>\n",
       "      <th>CheckinAfter</th>\n",
       "      <th>NearPlaceEntropy</th>\n",
       "      <th>OlympicDistance</th>\n",
       "      <th>NearestStationDistance</th>\n",
       "      <th>StationPagerank</th>\n",
       "      <th>StationConnectivity</th>\n",
       "    </tr>\n",
       "  </thead>\n",
       "  <tbody>\n",
       "    <tr>\n",
       "      <th>0</th>\n",
       "      <td>4abe4502f964a520558c20e3</td>\n",
       "      <td>33</td>\n",
       "      <td>31</td>\n",
       "      <td>0.238129</td>\n",
       "      <td>1.160000</td>\n",
       "      <td>0.56</td>\n",
       "      <td>0.004480</td>\n",
       "      <td>0.007999</td>\n",
       "    </tr>\n",
       "    <tr>\n",
       "      <th>1</th>\n",
       "      <td>4abf8c03f964a520079120e3</td>\n",
       "      <td>57</td>\n",
       "      <td>24</td>\n",
       "      <td>0.115433</td>\n",
       "      <td>1.850000</td>\n",
       "      <td>0.30</td>\n",
       "      <td>0.002550</td>\n",
       "      <td>0.008502</td>\n",
       "    </tr>\n",
       "    <tr>\n",
       "      <th>2</th>\n",
       "      <td>4ac51183f964a52048a020e3</td>\n",
       "      <td>6</td>\n",
       "      <td>6</td>\n",
       "      <td>1.133732</td>\n",
       "      <td>2.730000</td>\n",
       "      <td>0.95</td>\n",
       "      <td>0.002845</td>\n",
       "      <td>0.002994</td>\n",
       "    </tr>\n",
       "    <tr>\n",
       "      <th>3</th>\n",
       "      <td>4ac51183f964a52049a020e3</td>\n",
       "      <td>2</td>\n",
       "      <td>6</td>\n",
       "      <td>0.256612</td>\n",
       "      <td>2.113333</td>\n",
       "      <td>0.43</td>\n",
       "      <td>0.002632</td>\n",
       "      <td>0.006120</td>\n",
       "    </tr>\n",
       "    <tr>\n",
       "      <th>4</th>\n",
       "      <td>4ac518b4f964a52072a020e3</td>\n",
       "      <td>4</td>\n",
       "      <td>4</td>\n",
       "      <td>0.171440</td>\n",
       "      <td>1.256667</td>\n",
       "      <td>0.32</td>\n",
       "      <td>0.002410</td>\n",
       "      <td>0.007530</td>\n",
       "    </tr>\n",
       "  </tbody>\n",
       "</table>\n",
       "</div>"
      ],
      "text/plain": [
       "                    VenueID  ...  StationConnectivity\n",
       "0  4abe4502f964a520558c20e3  ...             0.007999\n",
       "1  4abf8c03f964a520079120e3  ...             0.008502\n",
       "2  4ac51183f964a52048a020e3  ...             0.002994\n",
       "3  4ac51183f964a52049a020e3  ...             0.006120\n",
       "4  4ac518b4f964a52072a020e3  ...             0.007530\n",
       "\n",
       "[5 rows x 8 columns]"
      ]
     },
     "execution_count": 165,
     "metadata": {
      "tags": []
     },
     "output_type": "execute_result"
    }
   ],
   "source": [
    "data_df['StationConnectivity'] = data_df['StationPagerank'] / data_df['NearestStationDistance']\n",
    "data_df.head()"
   ]
  },
  {
   "cell_type": "code",
   "execution_count": 166,
   "metadata": {
    "colab": {
     "base_uri": "https://localhost:8080/",
     "height": 195
    },
    "colab_type": "code",
    "executionInfo": {
     "elapsed": 403,
     "status": "ok",
     "timestamp": 1595176361933,
     "user": {
      "displayName": "Shizhuo Duan",
      "photoUrl": "",
      "userId": "01138831068342321117"
     },
     "user_tz": 240
    },
    "id": "3PzXYrCenfN8",
    "outputId": "7b97d57e-a1c4-4e5f-af7e-d2537fa524dd"
   },
   "outputs": [
    {
     "data": {
      "text/html": [
       "<div>\n",
       "<style scoped>\n",
       "    .dataframe tbody tr th:only-of-type {\n",
       "        vertical-align: middle;\n",
       "    }\n",
       "\n",
       "    .dataframe tbody tr th {\n",
       "        vertical-align: top;\n",
       "    }\n",
       "\n",
       "    .dataframe thead th {\n",
       "        text-align: right;\n",
       "    }\n",
       "</style>\n",
       "<table border=\"1\" class=\"dataframe\">\n",
       "  <thead>\n",
       "    <tr style=\"text-align: right;\">\n",
       "      <th></th>\n",
       "      <th>Venue ID</th>\n",
       "      <th>Latitude</th>\n",
       "      <th>Longitude</th>\n",
       "      <th>Category</th>\n",
       "      <th>MainCategory</th>\n",
       "    </tr>\n",
       "  </thead>\n",
       "  <tbody>\n",
       "    <tr>\n",
       "      <th>0</th>\n",
       "      <td>4aec9f4bf964a52091c921e3</td>\n",
       "      <td>51.498044</td>\n",
       "      <td>-0.090546</td>\n",
       "      <td>Pub</td>\n",
       "      <td>Nightlife Spot</td>\n",
       "    </tr>\n",
       "    <tr>\n",
       "      <th>1</th>\n",
       "      <td>4b9024ccf964a5204a7833e3</td>\n",
       "      <td>51.514978</td>\n",
       "      <td>-0.302248</td>\n",
       "      <td>Restaurant</td>\n",
       "      <td>Food</td>\n",
       "    </tr>\n",
       "    <tr>\n",
       "      <th>2</th>\n",
       "      <td>4bd9dff02a3a0f4726a7a8b6</td>\n",
       "      <td>51.516956</td>\n",
       "      <td>-0.070255</td>\n",
       "      <td>Indian Restaurant</td>\n",
       "      <td>Food</td>\n",
       "    </tr>\n",
       "    <tr>\n",
       "      <th>3</th>\n",
       "      <td>4b044900f964a520e05222e3</td>\n",
       "      <td>51.507220</td>\n",
       "      <td>-0.221701</td>\n",
       "      <td>Portuguese Restaurant</td>\n",
       "      <td>Food</td>\n",
       "    </tr>\n",
       "    <tr>\n",
       "      <th>4</th>\n",
       "      <td>4f6880ce6b74aa26bb61f7ac</td>\n",
       "      <td>51.522703</td>\n",
       "      <td>-0.085487</td>\n",
       "      <td>Coworking Space</td>\n",
       "      <td>Professional &amp; Other Places</td>\n",
       "    </tr>\n",
       "  </tbody>\n",
       "</table>\n",
       "</div>"
      ],
      "text/plain": [
       "                   Venue ID  ...                 MainCategory\n",
       "0  4aec9f4bf964a52091c921e3  ...               Nightlife Spot\n",
       "1  4b9024ccf964a5204a7833e3  ...                         Food\n",
       "2  4bd9dff02a3a0f4726a7a8b6  ...                         Food\n",
       "3  4b044900f964a520e05222e3  ...                         Food\n",
       "4  4f6880ce6b74aa26bb61f7ac  ...  Professional & Other Places\n",
       "\n",
       "[5 rows x 5 columns]"
      ]
     },
     "execution_count": 166,
     "metadata": {
      "tags": []
     },
     "output_type": "execute_result"
    }
   ],
   "source": [
    "venue_df = pd.read_csv('/content/drive/My Drive/Datathon/processed_data/venue_main_category.csv')\n",
    "venue_df.head()"
   ]
  },
  {
   "cell_type": "code",
   "execution_count": 167,
   "metadata": {
    "colab": {
     "base_uri": "https://localhost:8080/",
     "height": 90
    },
    "colab_type": "code",
    "executionInfo": {
     "elapsed": 572,
     "status": "ok",
     "timestamp": 1595176363192,
     "user": {
      "displayName": "Shizhuo Duan",
      "photoUrl": "",
      "userId": "01138831068342321117"
     },
     "user_tz": 240
    },
    "id": "adBMmyuhqHuI",
    "outputId": "b2c3af70-84ad-4c56-9bdf-cac2d37c5025"
   },
   "outputs": [
    {
     "data": {
      "text/plain": [
       "array(['Nightlife Spot', 'Food', 'Professional & Other Places',\n",
       "       'Arts & Entertainment', 'Shop & Service', 'Residence',\n",
       "       'Travel & Transport', 'Outdoors & Recreation', 'Event',\n",
       "       'College & University'], dtype=object)"
      ]
     },
     "execution_count": 167,
     "metadata": {
      "tags": []
     },
     "output_type": "execute_result"
    }
   ],
   "source": [
    "venue_df['MainCategory'].unique()"
   ]
  },
  {
   "cell_type": "code",
   "execution_count": 168,
   "metadata": {
    "colab": {
     "base_uri": "https://localhost:8080/",
     "height": 195
    },
    "colab_type": "code",
    "executionInfo": {
     "elapsed": 518,
     "status": "ok",
     "timestamp": 1595176365857,
     "user": {
      "displayName": "Shizhuo Duan",
      "photoUrl": "",
      "userId": "01138831068342321117"
     },
     "user_tz": 240
    },
    "id": "KFVOA_RQnpzc",
    "outputId": "d849b0b0-a945-4576-f917-31a84a2d26b7"
   },
   "outputs": [
    {
     "data": {
      "text/html": [
       "<div>\n",
       "<style scoped>\n",
       "    .dataframe tbody tr th:only-of-type {\n",
       "        vertical-align: middle;\n",
       "    }\n",
       "\n",
       "    .dataframe tbody tr th {\n",
       "        vertical-align: top;\n",
       "    }\n",
       "\n",
       "    .dataframe thead th {\n",
       "        text-align: right;\n",
       "    }\n",
       "</style>\n",
       "<table border=\"1\" class=\"dataframe\">\n",
       "  <thead>\n",
       "    <tr style=\"text-align: right;\">\n",
       "      <th></th>\n",
       "      <th>Venue ID</th>\n",
       "      <th>Latitude</th>\n",
       "      <th>Longitude</th>\n",
       "      <th>Category</th>\n",
       "      <th>MainCategory</th>\n",
       "    </tr>\n",
       "  </thead>\n",
       "  <tbody>\n",
       "    <tr>\n",
       "      <th>0</th>\n",
       "      <td>4aec9f4bf964a52091c921e3</td>\n",
       "      <td>51.498044</td>\n",
       "      <td>-0.090546</td>\n",
       "      <td>Pub</td>\n",
       "      <td>Nightlife Spot</td>\n",
       "    </tr>\n",
       "    <tr>\n",
       "      <th>1</th>\n",
       "      <td>4b9024ccf964a5204a7833e3</td>\n",
       "      <td>51.514978</td>\n",
       "      <td>-0.302248</td>\n",
       "      <td>Restaurant</td>\n",
       "      <td>Food</td>\n",
       "    </tr>\n",
       "    <tr>\n",
       "      <th>2</th>\n",
       "      <td>4bd9dff02a3a0f4726a7a8b6</td>\n",
       "      <td>51.516956</td>\n",
       "      <td>-0.070255</td>\n",
       "      <td>Indian Restaurant</td>\n",
       "      <td>Food</td>\n",
       "    </tr>\n",
       "    <tr>\n",
       "      <th>3</th>\n",
       "      <td>4b044900f964a520e05222e3</td>\n",
       "      <td>51.507220</td>\n",
       "      <td>-0.221701</td>\n",
       "      <td>Portuguese Restaurant</td>\n",
       "      <td>Food</td>\n",
       "    </tr>\n",
       "    <tr>\n",
       "      <th>4</th>\n",
       "      <td>4f6880ce6b74aa26bb61f7ac</td>\n",
       "      <td>51.522703</td>\n",
       "      <td>-0.085487</td>\n",
       "      <td>Coworking Space</td>\n",
       "      <td>Professional &amp; Other Places</td>\n",
       "    </tr>\n",
       "  </tbody>\n",
       "</table>\n",
       "</div>"
      ],
      "text/plain": [
       "                   Venue ID  ...                 MainCategory\n",
       "0  4aec9f4bf964a52091c921e3  ...               Nightlife Spot\n",
       "1  4b9024ccf964a5204a7833e3  ...                         Food\n",
       "2  4bd9dff02a3a0f4726a7a8b6  ...                         Food\n",
       "3  4b044900f964a520e05222e3  ...                         Food\n",
       "4  4f6880ce6b74aa26bb61f7ac  ...  Professional & Other Places\n",
       "\n",
       "[5 rows x 5 columns]"
      ]
     },
     "execution_count": 168,
     "metadata": {
      "tags": []
     },
     "output_type": "execute_result"
    }
   ],
   "source": [
    "# food_df = venue_df[venue_df['MainCategory'] == 'Travel & Transport']\n",
    "food_df = venue_df\n",
    "food_df.head()"
   ]
  },
  {
   "cell_type": "code",
   "execution_count": 169,
   "metadata": {
    "colab": {},
    "colab_type": "code",
    "executionInfo": {
     "elapsed": 464,
     "status": "ok",
     "timestamp": 1595176367105,
     "user": {
      "displayName": "Shizhuo Duan",
      "photoUrl": "",
      "userId": "01138831068342321117"
     },
     "user_tz": 240
    },
    "id": "q9RkaJsGnpqP"
   },
   "outputs": [],
   "source": [
    "assert len(food_df) == len(food_df['Venue ID'].unique())"
   ]
  },
  {
   "cell_type": "code",
   "execution_count": 170,
   "metadata": {
    "colab": {
     "base_uri": "https://localhost:8080/",
     "height": 195
    },
    "colab_type": "code",
    "executionInfo": {
     "elapsed": 555,
     "status": "ok",
     "timestamp": 1595176369129,
     "user": {
      "displayName": "Shizhuo Duan",
      "photoUrl": "",
      "userId": "01138831068342321117"
     },
     "user_tz": 240
    },
    "id": "RDmy1kAOoXQo",
    "outputId": "188a8aa5-2fdd-4e23-e55b-9b251b38bd5e"
   },
   "outputs": [
    {
     "data": {
      "text/html": [
       "<div>\n",
       "<style scoped>\n",
       "    .dataframe tbody tr th:only-of-type {\n",
       "        vertical-align: middle;\n",
       "    }\n",
       "\n",
       "    .dataframe tbody tr th {\n",
       "        vertical-align: top;\n",
       "    }\n",
       "\n",
       "    .dataframe thead th {\n",
       "        text-align: right;\n",
       "    }\n",
       "</style>\n",
       "<table border=\"1\" class=\"dataframe\">\n",
       "  <thead>\n",
       "    <tr style=\"text-align: right;\">\n",
       "      <th></th>\n",
       "      <th>Latitude</th>\n",
       "      <th>Longitude</th>\n",
       "      <th>Category</th>\n",
       "      <th>MainCategory</th>\n",
       "      <th>VenueID</th>\n",
       "    </tr>\n",
       "  </thead>\n",
       "  <tbody>\n",
       "    <tr>\n",
       "      <th>0</th>\n",
       "      <td>51.498044</td>\n",
       "      <td>-0.090546</td>\n",
       "      <td>Pub</td>\n",
       "      <td>Nightlife Spot</td>\n",
       "      <td>4aec9f4bf964a52091c921e3</td>\n",
       "    </tr>\n",
       "    <tr>\n",
       "      <th>1</th>\n",
       "      <td>51.514978</td>\n",
       "      <td>-0.302248</td>\n",
       "      <td>Restaurant</td>\n",
       "      <td>Food</td>\n",
       "      <td>4b9024ccf964a5204a7833e3</td>\n",
       "    </tr>\n",
       "    <tr>\n",
       "      <th>2</th>\n",
       "      <td>51.516956</td>\n",
       "      <td>-0.070255</td>\n",
       "      <td>Indian Restaurant</td>\n",
       "      <td>Food</td>\n",
       "      <td>4bd9dff02a3a0f4726a7a8b6</td>\n",
       "    </tr>\n",
       "    <tr>\n",
       "      <th>3</th>\n",
       "      <td>51.507220</td>\n",
       "      <td>-0.221701</td>\n",
       "      <td>Portuguese Restaurant</td>\n",
       "      <td>Food</td>\n",
       "      <td>4b044900f964a520e05222e3</td>\n",
       "    </tr>\n",
       "    <tr>\n",
       "      <th>4</th>\n",
       "      <td>51.522703</td>\n",
       "      <td>-0.085487</td>\n",
       "      <td>Coworking Space</td>\n",
       "      <td>Professional &amp; Other Places</td>\n",
       "      <td>4f6880ce6b74aa26bb61f7ac</td>\n",
       "    </tr>\n",
       "  </tbody>\n",
       "</table>\n",
       "</div>"
      ],
      "text/plain": [
       "    Latitude  Longitude  ...                 MainCategory                   VenueID\n",
       "0  51.498044  -0.090546  ...               Nightlife Spot  4aec9f4bf964a52091c921e3\n",
       "1  51.514978  -0.302248  ...                         Food  4b9024ccf964a5204a7833e3\n",
       "2  51.516956  -0.070255  ...                         Food  4bd9dff02a3a0f4726a7a8b6\n",
       "3  51.507220  -0.221701  ...                         Food  4b044900f964a520e05222e3\n",
       "4  51.522703  -0.085487  ...  Professional & Other Places  4f6880ce6b74aa26bb61f7ac\n",
       "\n",
       "[5 rows x 5 columns]"
      ]
     },
     "execution_count": 170,
     "metadata": {
      "tags": []
     },
     "output_type": "execute_result"
    }
   ],
   "source": [
    "food_df['VenueID'] = food_df['Venue ID']\n",
    "adj_food_df = food_df.drop(['Venue ID'], axis=1)\n",
    "adj_food_df.head()"
   ]
  },
  {
   "cell_type": "code",
   "execution_count": 171,
   "metadata": {
    "colab": {
     "base_uri": "https://localhost:8080/",
     "height": 299
    },
    "colab_type": "code",
    "executionInfo": {
     "elapsed": 415,
     "status": "ok",
     "timestamp": 1595176371122,
     "user": {
      "displayName": "Shizhuo Duan",
      "photoUrl": "",
      "userId": "01138831068342321117"
     },
     "user_tz": 240
    },
    "id": "WI8T0RUpnvh3",
    "outputId": "f27e910e-337c-4cc7-fcc0-01d8a37a7938"
   },
   "outputs": [
    {
     "data": {
      "text/html": [
       "<div>\n",
       "<style scoped>\n",
       "    .dataframe tbody tr th:only-of-type {\n",
       "        vertical-align: middle;\n",
       "    }\n",
       "\n",
       "    .dataframe tbody tr th {\n",
       "        vertical-align: top;\n",
       "    }\n",
       "\n",
       "    .dataframe thead th {\n",
       "        text-align: right;\n",
       "    }\n",
       "</style>\n",
       "<table border=\"1\" class=\"dataframe\">\n",
       "  <thead>\n",
       "    <tr style=\"text-align: right;\">\n",
       "      <th></th>\n",
       "      <th>VenueID</th>\n",
       "      <th>CheckinBefore</th>\n",
       "      <th>CheckinAfter</th>\n",
       "      <th>NearPlaceEntropy</th>\n",
       "      <th>OlympicDistance</th>\n",
       "      <th>NearestStationDistance</th>\n",
       "      <th>StationPagerank</th>\n",
       "      <th>StationConnectivity</th>\n",
       "      <th>Latitude</th>\n",
       "      <th>Longitude</th>\n",
       "      <th>Category</th>\n",
       "      <th>MainCategory</th>\n",
       "    </tr>\n",
       "  </thead>\n",
       "  <tbody>\n",
       "    <tr>\n",
       "      <th>0</th>\n",
       "      <td>4abe4502f964a520558c20e3</td>\n",
       "      <td>33</td>\n",
       "      <td>31</td>\n",
       "      <td>0.238129</td>\n",
       "      <td>1.160000</td>\n",
       "      <td>0.56</td>\n",
       "      <td>0.004480</td>\n",
       "      <td>0.007999</td>\n",
       "      <td>51.501303</td>\n",
       "      <td>-0.142103</td>\n",
       "      <td>Castle</td>\n",
       "      <td>Outdoors &amp; Recreation</td>\n",
       "    </tr>\n",
       "    <tr>\n",
       "      <th>1</th>\n",
       "      <td>4abf8c03f964a520079120e3</td>\n",
       "      <td>57</td>\n",
       "      <td>24</td>\n",
       "      <td>0.115433</td>\n",
       "      <td>1.850000</td>\n",
       "      <td>0.30</td>\n",
       "      <td>0.002550</td>\n",
       "      <td>0.008502</td>\n",
       "      <td>51.499166</td>\n",
       "      <td>-0.162885</td>\n",
       "      <td>Department Store</td>\n",
       "      <td>Shop &amp; Service</td>\n",
       "    </tr>\n",
       "    <tr>\n",
       "      <th>2</th>\n",
       "      <td>4ac51183f964a52048a020e3</td>\n",
       "      <td>6</td>\n",
       "      <td>6</td>\n",
       "      <td>1.133732</td>\n",
       "      <td>2.730000</td>\n",
       "      <td>0.95</td>\n",
       "      <td>0.002845</td>\n",
       "      <td>0.002994</td>\n",
       "      <td>51.535645</td>\n",
       "      <td>-0.155740</td>\n",
       "      <td>Zoo</td>\n",
       "      <td>Arts &amp; Entertainment</td>\n",
       "    </tr>\n",
       "    <tr>\n",
       "      <th>3</th>\n",
       "      <td>4ac51183f964a52049a020e3</td>\n",
       "      <td>2</td>\n",
       "      <td>6</td>\n",
       "      <td>0.256612</td>\n",
       "      <td>2.113333</td>\n",
       "      <td>0.43</td>\n",
       "      <td>0.002632</td>\n",
       "      <td>0.006120</td>\n",
       "      <td>51.491043</td>\n",
       "      <td>-0.127888</td>\n",
       "      <td>Art Museum</td>\n",
       "      <td>Arts &amp; Entertainment</td>\n",
       "    </tr>\n",
       "    <tr>\n",
       "      <th>4</th>\n",
       "      <td>4ac518b4f964a52072a020e3</td>\n",
       "      <td>4</td>\n",
       "      <td>4</td>\n",
       "      <td>0.171440</td>\n",
       "      <td>1.256667</td>\n",
       "      <td>0.32</td>\n",
       "      <td>0.002410</td>\n",
       "      <td>0.007530</td>\n",
       "      <td>51.505323</td>\n",
       "      <td>-0.150719</td>\n",
       "      <td>Hotel</td>\n",
       "      <td>Travel &amp; Transport</td>\n",
       "    </tr>\n",
       "  </tbody>\n",
       "</table>\n",
       "</div>"
      ],
      "text/plain": [
       "                    VenueID  ...           MainCategory\n",
       "0  4abe4502f964a520558c20e3  ...  Outdoors & Recreation\n",
       "1  4abf8c03f964a520079120e3  ...         Shop & Service\n",
       "2  4ac51183f964a52048a020e3  ...   Arts & Entertainment\n",
       "3  4ac51183f964a52049a020e3  ...   Arts & Entertainment\n",
       "4  4ac518b4f964a52072a020e3  ...     Travel & Transport\n",
       "\n",
       "[5 rows x 12 columns]"
      ]
     },
     "execution_count": 171,
     "metadata": {
      "tags": []
     },
     "output_type": "execute_result"
    }
   ],
   "source": [
    "food_data = pd.merge(data_df, adj_food_df, how='inner', on='VenueID')\n",
    "food_data.head()"
   ]
  },
  {
   "cell_type": "code",
   "execution_count": 172,
   "metadata": {
    "colab": {
     "base_uri": "https://localhost:8080/",
     "height": 35
    },
    "colab_type": "code",
    "executionInfo": {
     "elapsed": 395,
     "status": "ok",
     "timestamp": 1595176373114,
     "user": {
      "displayName": "Shizhuo Duan",
      "photoUrl": "",
      "userId": "01138831068342321117"
     },
     "user_tz": 240
    },
    "id": "C700TXEGoMnp",
    "outputId": "e9c62502-a976-499c-973f-68073ae34d08"
   },
   "outputs": [
    {
     "data": {
      "text/plain": [
       "359"
      ]
     },
     "execution_count": 172,
     "metadata": {
      "tags": []
     },
     "output_type": "execute_result"
    }
   ],
   "source": [
    "len(food_data)"
   ]
  },
  {
   "cell_type": "code",
   "execution_count": 173,
   "metadata": {
    "colab": {
     "base_uri": "https://localhost:8080/",
     "height": 195
    },
    "colab_type": "code",
    "executionInfo": {
     "elapsed": 535,
     "status": "ok",
     "timestamp": 1595176376311,
     "user": {
      "displayName": "Shizhuo Duan",
      "photoUrl": "",
      "userId": "01138831068342321117"
     },
     "user_tz": 240
    },
    "id": "_OnI-3YhozaK",
    "outputId": "d5119ecf-9b3b-4b0e-e15a-1b786f2102f5"
   },
   "outputs": [
    {
     "data": {
      "text/html": [
       "<div>\n",
       "<style scoped>\n",
       "    .dataframe tbody tr th:only-of-type {\n",
       "        vertical-align: middle;\n",
       "    }\n",
       "\n",
       "    .dataframe tbody tr th {\n",
       "        vertical-align: top;\n",
       "    }\n",
       "\n",
       "    .dataframe thead th {\n",
       "        text-align: right;\n",
       "    }\n",
       "</style>\n",
       "<table border=\"1\" class=\"dataframe\">\n",
       "  <thead>\n",
       "    <tr style=\"text-align: right;\">\n",
       "      <th></th>\n",
       "      <th>VenueID</th>\n",
       "      <th>CheckinBefore</th>\n",
       "      <th>CheckinAfter</th>\n",
       "      <th>NearPlaceEntropy</th>\n",
       "      <th>OlympicDistance</th>\n",
       "      <th>StationConnectivity</th>\n",
       "    </tr>\n",
       "  </thead>\n",
       "  <tbody>\n",
       "    <tr>\n",
       "      <th>0</th>\n",
       "      <td>4abe4502f964a520558c20e3</td>\n",
       "      <td>33</td>\n",
       "      <td>31</td>\n",
       "      <td>0.238129</td>\n",
       "      <td>1.160000</td>\n",
       "      <td>0.007999</td>\n",
       "    </tr>\n",
       "    <tr>\n",
       "      <th>1</th>\n",
       "      <td>4abf8c03f964a520079120e3</td>\n",
       "      <td>57</td>\n",
       "      <td>24</td>\n",
       "      <td>0.115433</td>\n",
       "      <td>1.850000</td>\n",
       "      <td>0.008502</td>\n",
       "    </tr>\n",
       "    <tr>\n",
       "      <th>2</th>\n",
       "      <td>4ac51183f964a52048a020e3</td>\n",
       "      <td>6</td>\n",
       "      <td>6</td>\n",
       "      <td>1.133732</td>\n",
       "      <td>2.730000</td>\n",
       "      <td>0.002994</td>\n",
       "    </tr>\n",
       "    <tr>\n",
       "      <th>3</th>\n",
       "      <td>4ac51183f964a52049a020e3</td>\n",
       "      <td>2</td>\n",
       "      <td>6</td>\n",
       "      <td>0.256612</td>\n",
       "      <td>2.113333</td>\n",
       "      <td>0.006120</td>\n",
       "    </tr>\n",
       "    <tr>\n",
       "      <th>4</th>\n",
       "      <td>4ac518b4f964a52072a020e3</td>\n",
       "      <td>4</td>\n",
       "      <td>4</td>\n",
       "      <td>0.171440</td>\n",
       "      <td>1.256667</td>\n",
       "      <td>0.007530</td>\n",
       "    </tr>\n",
       "  </tbody>\n",
       "</table>\n",
       "</div>"
      ],
      "text/plain": [
       "                    VenueID  ...  StationConnectivity\n",
       "0  4abe4502f964a520558c20e3  ...             0.007999\n",
       "1  4abf8c03f964a520079120e3  ...             0.008502\n",
       "2  4ac51183f964a52048a020e3  ...             0.002994\n",
       "3  4ac51183f964a52049a020e3  ...             0.006120\n",
       "4  4ac518b4f964a52072a020e3  ...             0.007530\n",
       "\n",
       "[5 rows x 6 columns]"
      ]
     },
     "execution_count": 173,
     "metadata": {
      "tags": []
     },
     "output_type": "execute_result"
    }
   ],
   "source": [
    "food_features = food_data[['VenueID', 'CheckinBefore', 'CheckinAfter', 'NearPlaceEntropy', 'OlympicDistance', 'StationConnectivity']]\n",
    "food_features.head()"
   ]
  },
  {
   "cell_type": "code",
   "execution_count": 220,
   "metadata": {
    "colab": {
     "base_uri": "https://localhost:8080/",
     "height": 195
    },
    "colab_type": "code",
    "executionInfo": {
     "elapsed": 484,
     "status": "ok",
     "timestamp": 1595178594227,
     "user": {
      "displayName": "Shizhuo Duan",
      "photoUrl": "",
      "userId": "01138831068342321117"
     },
     "user_tz": 240
    },
    "id": "xvi2PY8tlVpB",
    "outputId": "fe21430d-5f70-4f99-f430-5e4e393ef1bb"
   },
   "outputs": [
    {
     "data": {
      "text/html": [
       "<div>\n",
       "<style scoped>\n",
       "    .dataframe tbody tr th:only-of-type {\n",
       "        vertical-align: middle;\n",
       "    }\n",
       "\n",
       "    .dataframe tbody tr th {\n",
       "        vertical-align: top;\n",
       "    }\n",
       "\n",
       "    .dataframe thead th {\n",
       "        text-align: right;\n",
       "    }\n",
       "</style>\n",
       "<table border=\"1\" class=\"dataframe\">\n",
       "  <thead>\n",
       "    <tr style=\"text-align: right;\">\n",
       "      <th></th>\n",
       "      <th>VenueID</th>\n",
       "      <th>CheckinBefore</th>\n",
       "      <th>CheckinAfter</th>\n",
       "      <th>NearPlaceEntropy</th>\n",
       "      <th>OlympicDistance</th>\n",
       "      <th>StationConnectivity</th>\n",
       "    </tr>\n",
       "  </thead>\n",
       "  <tbody>\n",
       "    <tr>\n",
       "      <th>0</th>\n",
       "      <td>4abe4502f964a520558c20e3</td>\n",
       "      <td>33</td>\n",
       "      <td>31</td>\n",
       "      <td>0.058079</td>\n",
       "      <td>0.010458</td>\n",
       "      <td>0.013366</td>\n",
       "    </tr>\n",
       "    <tr>\n",
       "      <th>1</th>\n",
       "      <td>4abf8c03f964a520079120e3</td>\n",
       "      <td>57</td>\n",
       "      <td>24</td>\n",
       "      <td>0.022272</td>\n",
       "      <td>0.055556</td>\n",
       "      <td>0.014225</td>\n",
       "    </tr>\n",
       "    <tr>\n",
       "      <th>2</th>\n",
       "      <td>4ac51183f964a52048a020e3</td>\n",
       "      <td>6</td>\n",
       "      <td>6</td>\n",
       "      <td>0.319445</td>\n",
       "      <td>0.113072</td>\n",
       "      <td>0.004811</td>\n",
       "    </tr>\n",
       "    <tr>\n",
       "      <th>3</th>\n",
       "      <td>4ac51183f964a52049a020e3</td>\n",
       "      <td>2</td>\n",
       "      <td>6</td>\n",
       "      <td>0.063473</td>\n",
       "      <td>0.072767</td>\n",
       "      <td>0.010154</td>\n",
       "    </tr>\n",
       "    <tr>\n",
       "      <th>4</th>\n",
       "      <td>4ac518b4f964a52072a020e3</td>\n",
       "      <td>4</td>\n",
       "      <td>4</td>\n",
       "      <td>0.038617</td>\n",
       "      <td>0.016776</td>\n",
       "      <td>0.012564</td>\n",
       "    </tr>\n",
       "  </tbody>\n",
       "</table>\n",
       "</div>"
      ],
      "text/plain": [
       "                    VenueID  ...  StationConnectivity\n",
       "0  4abe4502f964a520558c20e3  ...             0.013366\n",
       "1  4abf8c03f964a520079120e3  ...             0.014225\n",
       "2  4ac51183f964a52048a020e3  ...             0.004811\n",
       "3  4ac51183f964a52049a020e3  ...             0.010154\n",
       "4  4ac518b4f964a52072a020e3  ...             0.012564\n",
       "\n",
       "[5 rows x 6 columns]"
      ]
     },
     "execution_count": 220,
     "metadata": {
      "tags": []
     },
     "output_type": "execute_result"
    }
   ],
   "source": [
    "def normalize(df):\n",
    "    result = df.copy()\n",
    "    for feature_name in df.columns[3:]:\n",
    "        max_value = df[feature_name].max()\n",
    "        min_value = df[feature_name].min()\n",
    "        result[feature_name] = (df[feature_name] - min_value) / (max_value - min_value)\n",
    "    return result\n",
    "\n",
    "norm_df = normalize(food_features)\n",
    "norm_df.head()"
   ]
  },
  {
   "cell_type": "code",
   "execution_count": 222,
   "metadata": {
    "colab": {
     "base_uri": "https://localhost:8080/",
     "height": 394
    },
    "colab_type": "code",
    "executionInfo": {
     "elapsed": 545,
     "status": "ok",
     "timestamp": 1595178608861,
     "user": {
      "displayName": "Shizhuo Duan",
      "photoUrl": "",
      "userId": "01138831068342321117"
     },
     "user_tz": 240
    },
    "id": "15T14oH0mJwF",
    "outputId": "8aa15327-ece3-42ed-9693-40c7cec895a3"
   },
   "outputs": [
    {
     "name": "stderr",
     "output_type": "stream",
     "text": [
      "/usr/local/lib/python3.6/dist-packages/ipykernel_launcher.py:2: SettingWithCopyWarning: \n",
      "A value is trying to be set on a copy of a slice from a DataFrame.\n",
      "Try using .loc[row_indexer,col_indexer] = value instead\n",
      "\n",
      "See the caveats in the documentation: https://pandas.pydata.org/pandas-docs/stable/user_guide/indexing.html#returning-a-view-versus-a-copy\n",
      "  \n"
     ]
    },
    {
     "data": {
      "text/plain": [
       "<matplotlib.axes._subplots.AxesSubplot at 0x7f935d0bd438>"
      ]
     },
     "execution_count": 222,
     "metadata": {
      "tags": []
     },
     "output_type": "execute_result"
    },
    {
     "data": {
      "image/png": "[encoded data removed]",
      "text/plain": [
       "<Figure size 432x288 with 1 Axes>"
      ]
     },
     "metadata": {
      "needs_background": "light",
      "tags": []
     },
     "output_type": "display_data"
    }
   ],
   "source": [
    "X = norm_df[norm_df.columns[3:]]\n",
    "X['Target'] = (norm_df['CheckinAfter'] > norm_df['CheckinBefore']).astype(int)\n",
    "y = X['Target']\n",
    "y.hist()"
   ]
  },
  {
   "cell_type": "code",
   "execution_count": 177,
   "metadata": {
    "colab": {
     "base_uri": "https://localhost:8080/",
     "height": 195
    },
    "colab_type": "code",
    "executionInfo": {
     "elapsed": 328,
     "status": "ok",
     "timestamp": 1595176394683,
     "user": {
      "displayName": "Shizhuo Duan",
      "photoUrl": "",
      "userId": "01138831068342321117"
     },
     "user_tz": 240
    },
    "id": "faiVMKaRm1oc",
    "outputId": "b3ed84df-df13-4256-d85b-a23ddf3f2342"
   },
   "outputs": [
    {
     "data": {
      "text/html": [
       "<div>\n",
       "<style scoped>\n",
       "    .dataframe tbody tr th:only-of-type {\n",
       "        vertical-align: middle;\n",
       "    }\n",
       "\n",
       "    .dataframe tbody tr th {\n",
       "        vertical-align: top;\n",
       "    }\n",
       "\n",
       "    .dataframe thead th {\n",
       "        text-align: right;\n",
       "    }\n",
       "</style>\n",
       "<table border=\"1\" class=\"dataframe\">\n",
       "  <thead>\n",
       "    <tr style=\"text-align: right;\">\n",
       "      <th></th>\n",
       "      <th>NearPlaceEntropy</th>\n",
       "      <th>OlympicDistance</th>\n",
       "      <th>StationConnectivity</th>\n",
       "      <th>Target</th>\n",
       "    </tr>\n",
       "  </thead>\n",
       "  <tbody>\n",
       "    <tr>\n",
       "      <th>0</th>\n",
       "      <td>0.058079</td>\n",
       "      <td>0.010458</td>\n",
       "      <td>0.013366</td>\n",
       "      <td>0</td>\n",
       "    </tr>\n",
       "    <tr>\n",
       "      <th>1</th>\n",
       "      <td>0.022272</td>\n",
       "      <td>0.055556</td>\n",
       "      <td>0.014225</td>\n",
       "      <td>0</td>\n",
       "    </tr>\n",
       "    <tr>\n",
       "      <th>2</th>\n",
       "      <td>0.319445</td>\n",
       "      <td>0.113072</td>\n",
       "      <td>0.004811</td>\n",
       "      <td>0</td>\n",
       "    </tr>\n",
       "    <tr>\n",
       "      <th>3</th>\n",
       "      <td>0.063473</td>\n",
       "      <td>0.072767</td>\n",
       "      <td>0.010154</td>\n",
       "      <td>1</td>\n",
       "    </tr>\n",
       "    <tr>\n",
       "      <th>4</th>\n",
       "      <td>0.038617</td>\n",
       "      <td>0.016776</td>\n",
       "      <td>0.012564</td>\n",
       "      <td>0</td>\n",
       "    </tr>\n",
       "  </tbody>\n",
       "</table>\n",
       "</div>"
      ],
      "text/plain": [
       "   NearPlaceEntropy  OlympicDistance  StationConnectivity  Target\n",
       "0          0.058079         0.010458             0.013366       0\n",
       "1          0.022272         0.055556             0.014225       0\n",
       "2          0.319445         0.113072             0.004811       0\n",
       "3          0.063473         0.072767             0.010154       1\n",
       "4          0.038617         0.016776             0.012564       0"
      ]
     },
     "execution_count": 177,
     "metadata": {
      "tags": []
     },
     "output_type": "execute_result"
    }
   ],
   "source": [
    "# X.drop(['StationPagerank', 'NearestStationDistance'], axis=1, inplace=True)\n",
    "X.head()"
   ]
  },
  {
   "cell_type": "code",
   "execution_count": 178,
   "metadata": {
    "colab": {
     "base_uri": "https://localhost:8080/",
     "height": 127
    },
    "colab_type": "code",
    "executionInfo": {
     "elapsed": 360,
     "status": "ok",
     "timestamp": 1595176404280,
     "user": {
      "displayName": "Shizhuo Duan",
      "photoUrl": "",
      "userId": "01138831068342321117"
     },
     "user_tz": 240
    },
    "id": "O6JQNK-b7Dwb",
    "outputId": "74c4506e-bde5-47fa-c115-81d5437ff83d"
   },
   "outputs": [
    {
     "data": {
      "text/plain": [
       "0    0\n",
       "1    0\n",
       "2    0\n",
       "3    1\n",
       "4    0\n",
       "Name: Target, dtype: int64"
      ]
     },
     "execution_count": 178,
     "metadata": {
      "tags": []
     },
     "output_type": "execute_result"
    }
   ],
   "source": [
    "y.head()"
   ]
  },
  {
   "cell_type": "code",
   "execution_count": 179,
   "metadata": {
    "colab": {},
    "colab_type": "code",
    "executionInfo": {
     "elapsed": 328,
     "status": "ok",
     "timestamp": 1595176407914,
     "user": {
      "displayName": "Shizhuo Duan",
      "photoUrl": "",
      "userId": "01138831068342321117"
     },
     "user_tz": 240
    },
    "id": "CSIK7cH76nud"
   },
   "outputs": [],
   "source": [
    "from sklearn.model_selection import train_test_split\n",
    "\n",
    "X_train, X_test, y_train, y_test = train_test_split(X, y, test_size=0.25)"
   ]
  },
  {
   "cell_type": "code",
   "execution_count": 180,
   "metadata": {
    "colab": {
     "base_uri": "https://localhost:8080/",
     "height": 195
    },
    "colab_type": "code",
    "executionInfo": {
     "elapsed": 452,
     "status": "ok",
     "timestamp": 1595176408864,
     "user": {
      "displayName": "Shizhuo Duan",
      "photoUrl": "",
      "userId": "01138831068342321117"
     },
     "user_tz": 240
    },
    "id": "fEiApkKj61CD",
    "outputId": "a4376b63-7762-461e-8050-3ee7cf1bef32"
   },
   "outputs": [
    {
     "data": {
      "text/html": [
       "<div>\n",
       "<style scoped>\n",
       "    .dataframe tbody tr th:only-of-type {\n",
       "        vertical-align: middle;\n",
       "    }\n",
       "\n",
       "    .dataframe tbody tr th {\n",
       "        vertical-align: top;\n",
       "    }\n",
       "\n",
       "    .dataframe thead th {\n",
       "        text-align: right;\n",
       "    }\n",
       "</style>\n",
       "<table border=\"1\" class=\"dataframe\">\n",
       "  <thead>\n",
       "    <tr style=\"text-align: right;\">\n",
       "      <th></th>\n",
       "      <th>NearPlaceEntropy</th>\n",
       "      <th>OlympicDistance</th>\n",
       "      <th>StationConnectivity</th>\n",
       "      <th>Target</th>\n",
       "    </tr>\n",
       "  </thead>\n",
       "  <tbody>\n",
       "    <tr>\n",
       "      <th>197</th>\n",
       "      <td>0.198358</td>\n",
       "      <td>0.499346</td>\n",
       "      <td>0.005026</td>\n",
       "      <td>0</td>\n",
       "    </tr>\n",
       "    <tr>\n",
       "      <th>260</th>\n",
       "      <td>0.062893</td>\n",
       "      <td>0.006972</td>\n",
       "      <td>0.017555</td>\n",
       "      <td>0</td>\n",
       "    </tr>\n",
       "    <tr>\n",
       "      <th>272</th>\n",
       "      <td>0.231481</td>\n",
       "      <td>0.786710</td>\n",
       "      <td>0.003251</td>\n",
       "      <td>0</td>\n",
       "    </tr>\n",
       "    <tr>\n",
       "      <th>258</th>\n",
       "      <td>0.031759</td>\n",
       "      <td>0.121786</td>\n",
       "      <td>0.119607</td>\n",
       "      <td>1</td>\n",
       "    </tr>\n",
       "    <tr>\n",
       "      <th>161</th>\n",
       "      <td>0.029899</td>\n",
       "      <td>0.162309</td>\n",
       "      <td>0.018402</td>\n",
       "      <td>0</td>\n",
       "    </tr>\n",
       "  </tbody>\n",
       "</table>\n",
       "</div>"
      ],
      "text/plain": [
       "     NearPlaceEntropy  OlympicDistance  StationConnectivity  Target\n",
       "197          0.198358         0.499346             0.005026       0\n",
       "260          0.062893         0.006972             0.017555       0\n",
       "272          0.231481         0.786710             0.003251       0\n",
       "258          0.031759         0.121786             0.119607       1\n",
       "161          0.029899         0.162309             0.018402       0"
      ]
     },
     "execution_count": 180,
     "metadata": {
      "tags": []
     },
     "output_type": "execute_result"
    }
   ],
   "source": [
    "X_train.head()"
   ]
  },
  {
   "cell_type": "code",
   "execution_count": 160,
   "metadata": {
    "colab": {
     "base_uri": "https://localhost:8080/",
     "height": 127
    },
    "colab_type": "code",
    "executionInfo": {
     "elapsed": 413,
     "status": "ok",
     "timestamp": 1595176353260,
     "user": {
      "displayName": "Shizhuo Duan",
      "photoUrl": "",
      "userId": "01138831068342321117"
     },
     "user_tz": 240
    },
    "id": "lPmOMZV462X2",
    "outputId": "5b88e328-2ed6-46e7-bdfe-3caa92d791f9"
   },
   "outputs": [
    {
     "data": {
      "text/plain": [
       "171    1\n",
       "183    1\n",
       "167    0\n",
       "10     0\n",
       "337    0\n",
       "Name: Target, dtype: int64"
      ]
     },
     "execution_count": 160,
     "metadata": {
      "tags": []
     },
     "output_type": "execute_result"
    }
   ],
   "source": [
    "y_train.head()"
   ]
  },
  {
   "cell_type": "code",
   "execution_count": 181,
   "metadata": {
    "colab": {
     "base_uri": "https://localhost:8080/",
     "height": 596
    },
    "colab_type": "code",
    "executionInfo": {
     "elapsed": 723,
     "status": "ok",
     "timestamp": 1595176418011,
     "user": {
      "displayName": "Shizhuo Duan",
      "photoUrl": "",
      "userId": "01138831068342321117"
     },
     "user_tz": 240
    },
    "id": "Z1OKfi3el1lv",
    "outputId": "25c14b26-99cc-4a5f-9c93-d7635eca72b6"
   },
   "outputs": [
    {
     "data": {
      "image/png": "[encoded data removed]",
      "text/plain": [
       "<Figure size 864x720 with 2 Axes>"
      ]
     },
     "metadata": {
      "needs_background": "light",
      "tags": []
     },
     "output_type": "display_data"
    }
   ],
   "source": [
    "# Pearson Correlation\n",
    "plt.figure(figsize=(12,10))\n",
    "corr = X_train.corr()\n",
    "sns.heatmap(corr, annot=True, cmap=plt.cm.Reds)\n",
    "plt.show()"
   ]
  },
  {
   "cell_type": "code",
   "execution_count": 182,
   "metadata": {
    "colab": {
     "base_uri": "https://localhost:8080/",
     "height": 35
    },
    "colab_type": "code",
    "executionInfo": {
     "elapsed": 357,
     "status": "ok",
     "timestamp": 1595176442238,
     "user": {
      "displayName": "Shizhuo Duan",
      "photoUrl": "",
      "userId": "01138831068342321117"
     },
     "user_tz": 240
    },
    "id": "Z95pqTY8nvNP",
    "outputId": "595c95cb-70ab-4967-d484-0290dd0df8bf"
   },
   "outputs": [
    {
     "name": "stdout",
     "output_type": "stream",
     "text": [
      "Index(['NearPlaceEntropy', 'OlympicDistance', 'StationConnectivity', 'Target'], dtype='object')\n"
     ]
    }
   ],
   "source": [
    "print(X_train.columns)"
   ]
  },
  {
   "cell_type": "code",
   "execution_count": 183,
   "metadata": {
    "colab": {
     "base_uri": "https://localhost:8080/",
     "height": 238
    },
    "colab_type": "code",
    "executionInfo": {
     "elapsed": 374,
     "status": "ok",
     "timestamp": 1595176463185,
     "user": {
      "displayName": "Shizhuo Duan",
      "photoUrl": "",
      "userId": "01138831068342321117"
     },
     "user_tz": 240
    },
    "id": "h_5C1xoWmTRc",
    "outputId": "53bb18e0-1fdb-4ad1-ea7f-2d4a3f52ccd5"
   },
   "outputs": [
    {
     "name": "stdout",
     "output_type": "stream",
     "text": [
      "                  NearPlaceEntropy  OlympicDistance\n",
      "NearPlaceEntropy          1.000000         0.382804\n",
      "OlympicDistance           0.382804         1.000000\n",
      "\n",
      "                     NearPlaceEntropy  StationConnectivity\n",
      "NearPlaceEntropy             1.000000            -0.097234\n",
      "StationConnectivity         -0.097234             1.000000\n",
      "\n",
      "                     OlympicDistance  StationConnectivity\n",
      "OlympicDistance              1.00000             -0.13059\n",
      "StationConnectivity         -0.13059              1.00000\n",
      "\n"
     ]
    }
   ],
   "source": [
    "for i in range(len(X_train.columns) - 1):\n",
    "  for j in range(i + 1, len(X_train.columns) - 1):\n",
    "    feature1 = X_train.columns[i]\n",
    "    feature2 = X_train.columns[j]\n",
    "    print(X_train[[feature1, feature2]].corr())\n",
    "    print()"
   ]
  },
  {
   "cell_type": "markdown",
   "metadata": {
    "colab_type": "text",
    "id": "W1Kvqm8quPrq"
   },
   "source": [
    "## Training Models"
   ]
  },
  {
   "cell_type": "code",
   "execution_count": 185,
   "metadata": {
    "colab": {},
    "colab_type": "code",
    "executionInfo": {
     "elapsed": 657,
     "status": "ok",
     "timestamp": 1595176570369,
     "user": {
      "displayName": "Shizhuo Duan",
      "photoUrl": "",
      "userId": "01138831068342321117"
     },
     "user_tz": 240
    },
    "id": "C7jjwKntypto"
   },
   "outputs": [],
   "source": [
    "from sklearn.linear_model import LogisticRegression\n",
    "from sklearn.model_selection import cross_val_predict, GridSearchCV\n",
    "from sklearn.metrics import precision_score, recall_score, roc_auc_score, roc_curve\n",
    "from sklearn.ensemble import RandomForestClassifier, GradientBoostingClassifier, AdaBoostClassifier, VotingClassifier\n",
    "from sklearn.svm import SVC\n",
    "from sklearn.naive_bayes import GaussianNB\n",
    "from matplotlib import pyplot"
   ]
  },
  {
   "cell_type": "code",
   "execution_count": 184,
   "metadata": {
    "colab": {
     "base_uri": "https://localhost:8080/",
     "height": 195
    },
    "colab_type": "code",
    "executionInfo": {
     "elapsed": 447,
     "status": "ok",
     "timestamp": 1595176491629,
     "user": {
      "displayName": "Shizhuo Duan",
      "photoUrl": "",
      "userId": "01138831068342321117"
     },
     "user_tz": 240
    },
    "id": "bWiycDVfuRy3",
    "outputId": "d8c890ae-87f7-4d4c-e058-f6057f730c93"
   },
   "outputs": [
    {
     "data": {
      "text/html": [
       "<div>\n",
       "<style scoped>\n",
       "    .dataframe tbody tr th:only-of-type {\n",
       "        vertical-align: middle;\n",
       "    }\n",
       "\n",
       "    .dataframe tbody tr th {\n",
       "        vertical-align: top;\n",
       "    }\n",
       "\n",
       "    .dataframe thead th {\n",
       "        text-align: right;\n",
       "    }\n",
       "</style>\n",
       "<table border=\"1\" class=\"dataframe\">\n",
       "  <thead>\n",
       "    <tr style=\"text-align: right;\">\n",
       "      <th></th>\n",
       "      <th>NearPlaceEntropy</th>\n",
       "      <th>OlympicDistance</th>\n",
       "      <th>StationConnectivity</th>\n",
       "    </tr>\n",
       "  </thead>\n",
       "  <tbody>\n",
       "    <tr>\n",
       "      <th>197</th>\n",
       "      <td>0.198358</td>\n",
       "      <td>0.499346</td>\n",
       "      <td>0.005026</td>\n",
       "    </tr>\n",
       "    <tr>\n",
       "      <th>260</th>\n",
       "      <td>0.062893</td>\n",
       "      <td>0.006972</td>\n",
       "      <td>0.017555</td>\n",
       "    </tr>\n",
       "    <tr>\n",
       "      <th>272</th>\n",
       "      <td>0.231481</td>\n",
       "      <td>0.786710</td>\n",
       "      <td>0.003251</td>\n",
       "    </tr>\n",
       "    <tr>\n",
       "      <th>258</th>\n",
       "      <td>0.031759</td>\n",
       "      <td>0.121786</td>\n",
       "      <td>0.119607</td>\n",
       "    </tr>\n",
       "    <tr>\n",
       "      <th>161</th>\n",
       "      <td>0.029899</td>\n",
       "      <td>0.162309</td>\n",
       "      <td>0.018402</td>\n",
       "    </tr>\n",
       "  </tbody>\n",
       "</table>\n",
       "</div>"
      ],
      "text/plain": [
       "     NearPlaceEntropy  OlympicDistance  StationConnectivity\n",
       "197          0.198358         0.499346             0.005026\n",
       "260          0.062893         0.006972             0.017555\n",
       "272          0.231481         0.786710             0.003251\n",
       "258          0.031759         0.121786             0.119607\n",
       "161          0.029899         0.162309             0.018402"
      ]
     },
     "execution_count": 184,
     "metadata": {
      "tags": []
     },
     "output_type": "execute_result"
    }
   ],
   "source": [
    "X_train = X_train.drop(['Target'], axis=1)\n",
    "X_train.head()"
   ]
  },
  {
   "cell_type": "code",
   "execution_count": 129,
   "metadata": {
    "colab": {},
    "colab_type": "code",
    "executionInfo": {
     "elapsed": 380,
     "status": "ok",
     "timestamp": 1595175263461,
     "user": {
      "displayName": "Shizhuo Duan",
      "photoUrl": "",
      "userId": "01138831068342321117"
     },
     "user_tz": 240
    },
    "id": "8cDeAQeYq4wr"
   },
   "outputs": [],
   "source": [
    "# X.drop(['OlympicDistance'], axis=1)"
   ]
  },
  {
   "cell_type": "code",
   "execution_count": 130,
   "metadata": {
    "colab": {
     "base_uri": "https://localhost:8080/",
     "height": 195
    },
    "colab_type": "code",
    "executionInfo": {
     "elapsed": 331,
     "status": "ok",
     "timestamp": 1595175264173,
     "user": {
      "displayName": "Shizhuo Duan",
      "photoUrl": "",
      "userId": "01138831068342321117"
     },
     "user_tz": 240
    },
    "id": "YKVi-VrCtt5q",
    "outputId": "eafccaff-fbce-445c-89aa-ff8a92603053"
   },
   "outputs": [
    {
     "data": {
      "text/html": [
       "<div>\n",
       "<style scoped>\n",
       "    .dataframe tbody tr th:only-of-type {\n",
       "        vertical-align: middle;\n",
       "    }\n",
       "\n",
       "    .dataframe tbody tr th {\n",
       "        vertical-align: top;\n",
       "    }\n",
       "\n",
       "    .dataframe thead th {\n",
       "        text-align: right;\n",
       "    }\n",
       "</style>\n",
       "<table border=\"1\" class=\"dataframe\">\n",
       "  <thead>\n",
       "    <tr style=\"text-align: right;\">\n",
       "      <th></th>\n",
       "      <th>NearPlaceEntropy</th>\n",
       "      <th>OlympicDistance</th>\n",
       "      <th>StationConnectivity</th>\n",
       "    </tr>\n",
       "  </thead>\n",
       "  <tbody>\n",
       "    <tr>\n",
       "      <th>0</th>\n",
       "      <td>0.058079</td>\n",
       "      <td>0.010458</td>\n",
       "      <td>0.013366</td>\n",
       "    </tr>\n",
       "    <tr>\n",
       "      <th>1</th>\n",
       "      <td>0.022272</td>\n",
       "      <td>0.055556</td>\n",
       "      <td>0.014225</td>\n",
       "    </tr>\n",
       "    <tr>\n",
       "      <th>2</th>\n",
       "      <td>0.319445</td>\n",
       "      <td>0.113072</td>\n",
       "      <td>0.004811</td>\n",
       "    </tr>\n",
       "    <tr>\n",
       "      <th>3</th>\n",
       "      <td>0.063473</td>\n",
       "      <td>0.072767</td>\n",
       "      <td>0.010154</td>\n",
       "    </tr>\n",
       "    <tr>\n",
       "      <th>4</th>\n",
       "      <td>0.038617</td>\n",
       "      <td>0.016776</td>\n",
       "      <td>0.012564</td>\n",
       "    </tr>\n",
       "  </tbody>\n",
       "</table>\n",
       "</div>"
      ],
      "text/plain": [
       "   NearPlaceEntropy  OlympicDistance  StationConnectivity\n",
       "0          0.058079         0.010458             0.013366\n",
       "1          0.022272         0.055556             0.014225\n",
       "2          0.319445         0.113072             0.004811\n",
       "3          0.063473         0.072767             0.010154\n",
       "4          0.038617         0.016776             0.012564"
      ]
     },
     "execution_count": 130,
     "metadata": {
      "tags": []
     },
     "output_type": "execute_result"
    }
   ],
   "source": [
    "X.head()"
   ]
  },
  {
   "cell_type": "code",
   "execution_count": 197,
   "metadata": {
    "colab": {
     "base_uri": "https://localhost:8080/",
     "height": 287
    },
    "colab_type": "code",
    "executionInfo": {
     "elapsed": 498,
     "status": "ok",
     "timestamp": 1595176869605,
     "user": {
      "displayName": "Shizhuo Duan",
      "photoUrl": "",
      "userId": "01138831068342321117"
     },
     "user_tz": 240
    },
    "id": "w9YnyvUV8waY",
    "outputId": "f9c0edf4-e9a2-4a10-8227-e1c3a3880bf6"
   },
   "outputs": [
    {
     "name": "stderr",
     "output_type": "stream",
     "text": [
      "/usr/local/lib/python3.6/dist-packages/pandas/core/frame.py:3997: SettingWithCopyWarning: \n",
      "A value is trying to be set on a copy of a slice from a DataFrame\n",
      "\n",
      "See the caveats in the documentation: https://pandas.pydata.org/pandas-docs/stable/user_guide/indexing.html#returning-a-view-versus-a-copy\n",
      "  errors=errors,\n"
     ]
    },
    {
     "data": {
      "text/html": [
       "<div>\n",
       "<style scoped>\n",
       "    .dataframe tbody tr th:only-of-type {\n",
       "        vertical-align: middle;\n",
       "    }\n",
       "\n",
       "    .dataframe tbody tr th {\n",
       "        vertical-align: top;\n",
       "    }\n",
       "\n",
       "    .dataframe thead th {\n",
       "        text-align: right;\n",
       "    }\n",
       "</style>\n",
       "<table border=\"1\" class=\"dataframe\">\n",
       "  <thead>\n",
       "    <tr style=\"text-align: right;\">\n",
       "      <th></th>\n",
       "      <th>NearPlaceEntropy</th>\n",
       "      <th>OlympicDistance</th>\n",
       "      <th>StationConnectivity</th>\n",
       "    </tr>\n",
       "  </thead>\n",
       "  <tbody>\n",
       "    <tr>\n",
       "      <th>206</th>\n",
       "      <td>0.075113</td>\n",
       "      <td>0.514815</td>\n",
       "      <td>0.004912</td>\n",
       "    </tr>\n",
       "    <tr>\n",
       "      <th>58</th>\n",
       "      <td>0.044070</td>\n",
       "      <td>0.076035</td>\n",
       "      <td>0.046363</td>\n",
       "    </tr>\n",
       "    <tr>\n",
       "      <th>118</th>\n",
       "      <td>0.013578</td>\n",
       "      <td>0.038998</td>\n",
       "      <td>0.030487</td>\n",
       "    </tr>\n",
       "    <tr>\n",
       "      <th>340</th>\n",
       "      <td>0.066598</td>\n",
       "      <td>0.173856</td>\n",
       "      <td>0.065110</td>\n",
       "    </tr>\n",
       "    <tr>\n",
       "      <th>226</th>\n",
       "      <td>0.192890</td>\n",
       "      <td>0.395425</td>\n",
       "      <td>0.000277</td>\n",
       "    </tr>\n",
       "  </tbody>\n",
       "</table>\n",
       "</div>"
      ],
      "text/plain": [
       "     NearPlaceEntropy  OlympicDistance  StationConnectivity\n",
       "206          0.075113         0.514815             0.004912\n",
       "58           0.044070         0.076035             0.046363\n",
       "118          0.013578         0.038998             0.030487\n",
       "340          0.066598         0.173856             0.065110\n",
       "226          0.192890         0.395425             0.000277"
      ]
     },
     "execution_count": 197,
     "metadata": {
      "tags": []
     },
     "output_type": "execute_result"
    }
   ],
   "source": [
    "X_test.drop(['Target'], axis=1, inplace=True)\n",
    "X_test.head()"
   ]
  },
  {
   "cell_type": "markdown",
   "metadata": {
    "colab_type": "text",
    "id": "tE_vJerX1jJE"
   },
   "source": [
    "## Logistic Regression"
   ]
  },
  {
   "cell_type": "code",
   "execution_count": 198,
   "metadata": {
    "colab": {},
    "colab_type": "code",
    "executionInfo": {
     "elapsed": 358,
     "status": "ok",
     "timestamp": 1595176872312,
     "user": {
      "displayName": "Shizhuo Duan",
      "photoUrl": "",
      "userId": "01138831068342321117"
     },
     "user_tz": 240
    },
    "id": "x6lK9un1nZP6"
   },
   "outputs": [],
   "source": [
    "log_params = {\n",
    "    'penalty': ['l2'],\n",
    "    'C': [0.25, 0.5, 0.75, 1, 1.25, 1.5]\n",
    "}\n",
    "\n",
    "logistic_clf = GridSearchCV(LogisticRegression(), log_params, scoring='roc_auc', n_jobs=-1, cv=3)"
   ]
  },
  {
   "cell_type": "code",
   "execution_count": 188,
   "metadata": {
    "colab": {
     "base_uri": "https://localhost:8080/",
     "height": 109
    },
    "colab_type": "code",
    "executionInfo": {
     "elapsed": 957,
     "status": "ok",
     "timestamp": 1595176633391,
     "user": {
      "displayName": "Shizhuo Duan",
      "photoUrl": "",
      "userId": "01138831068342321117"
     },
     "user_tz": 240
    },
    "id": "Mj2pyDiWzr8w",
    "outputId": "1e12f5a2-9e73-4b0a-b410-1a1b4a0ba73b"
   },
   "outputs": [
    {
     "name": "stdout",
     "output_type": "stream",
     "text": [
      "With OlympicDistance\n",
      "Precision: 0.25\n",
      "Recall: 0.017241379310344827\n",
      "AUC: 0.4890128465179175\n",
      "{'C': 1.5, 'penalty': 'l2'}\n"
     ]
    }
   ],
   "source": [
    "logistic_clf.fit(X_train, y_train)\n",
    "pred = cross_val_predict(logistic_clf, X_train, y_train, cv=3)\n",
    "print('With OlympicDistance')\n",
    "print('Precision:', precision_score(y_train, pred))\n",
    "print('Recall:', recall_score(y_train, pred))\n",
    "print('AUC:', roc_auc_score(y_train, pred))\n",
    "print(logistic_clf.best_params_)"
   ]
  },
  {
   "cell_type": "code",
   "execution_count": 199,
   "metadata": {
    "colab": {
     "base_uri": "https://localhost:8080/",
     "height": 316
    },
    "colab_type": "code",
    "executionInfo": {
     "elapsed": 548,
     "status": "ok",
     "timestamp": 1595176876963,
     "user": {
      "displayName": "Shizhuo Duan",
      "photoUrl": "",
      "userId": "01138831068342321117"
     },
     "user_tz": 240
    },
    "id": "G2_f4VLC4OGl",
    "outputId": "49083a0f-27ec-4353-e7fb-641e357a0b15"
   },
   "outputs": [
    {
     "name": "stdout",
     "output_type": "stream",
     "text": [
      "No Skill: ROC AUC=0.500\n",
      "Logistic: ROC AUC=0.594\n"
     ]
    },
    {
     "data": {
      "image/png": "[encoded data removed]",
      "text/plain": [
       "<Figure size 432x288 with 1 Axes>"
      ]
     },
     "metadata": {
      "needs_background": "light",
      "tags": []
     },
     "output_type": "display_data"
    }
   ],
   "source": [
    "ns_probs = [0 for _ in range(len(y_test))]\n",
    "final_log = LogisticRegression(C=1.5, penalty='l2')\n",
    "final_log.fit(X_train, y_train)\n",
    "lr_probs = final_log.predict_proba(X_test)\n",
    "lr_probs = lr_probs[:, 1]\n",
    "\n",
    "# calcualte scores\n",
    "ns_auc = roc_auc_score(y_test, ns_probs)\n",
    "lr_auc = roc_auc_score(y_test, lr_probs)\n",
    "# calculate scores\n",
    "ns_auc = roc_auc_score(y_test, ns_probs)\n",
    "lr_auc = roc_auc_score(y_test, lr_probs)\n",
    "# summarize scores\n",
    "print('No Skill: ROC AUC=%.3f' % (ns_auc))\n",
    "print('Logistic: ROC AUC=%.3f' % (lr_auc))\n",
    "# calculate roc curves\n",
    "ns_fpr, ns_tpr, _ = roc_curve(y_test, ns_probs)\n",
    "lr_fpr, lr_tpr, _ = roc_curve(y_test, lr_probs)\n",
    "# plot the roc curve for the model\n",
    "pyplot.plot(ns_fpr, ns_tpr, linestyle='--', label='No Skill')\n",
    "pyplot.plot(lr_fpr, lr_tpr, marker='.', label='Logistic')\n",
    "# axis labels\n",
    "pyplot.xlabel('False Positive Rate')\n",
    "pyplot.ylabel('True Positive Rate')\n",
    "# show the legend\n",
    "pyplot.legend()\n",
    "# show the plot\n",
    "pyplot.show()"
   ]
  },
  {
   "cell_type": "markdown",
   "metadata": {
    "colab_type": "text",
    "id": "wgK3sv3B1m-k"
   },
   "source": [
    "## Random Forest"
   ]
  },
  {
   "cell_type": "code",
   "execution_count": 134,
   "metadata": {
    "colab": {},
    "colab_type": "code",
    "executionInfo": {
     "elapsed": 363,
     "status": "ok",
     "timestamp": 1595175281677,
     "user": {
      "displayName": "Shizhuo Duan",
      "photoUrl": "",
      "userId": "01138831068342321117"
     },
     "user_tz": 240
    },
    "id": "CDJYL7XFvnyT"
   },
   "outputs": [],
   "source": [
    "rf_params = {\n",
    "    'n_estimators': [100, 150, 200],\n",
    "    'criterion': ['gini', 'entropy'],\n",
    "    'max_depth': [100, 150, 200]\n",
    "}\n",
    "\n",
    "rf_clf = GridSearchCV(RandomForestClassifier(), rf_params, scoring='roc_auc', n_jobs=-1, cv=3)"
   ]
  },
  {
   "cell_type": "code",
   "execution_count": 200,
   "metadata": {
    "colab": {
     "base_uri": "https://localhost:8080/",
     "height": 109
    },
    "colab_type": "code",
    "executionInfo": {
     "elapsed": 41854,
     "status": "ok",
     "timestamp": 1595176971727,
     "user": {
      "displayName": "Shizhuo Duan",
      "photoUrl": "",
      "userId": "01138831068342321117"
     },
     "user_tz": 240
    },
    "id": "YfKRnzfV2lWH",
    "outputId": "ab56617c-6922-4ade-e4e6-f0b9fd37612e"
   },
   "outputs": [
    {
     "name": "stdout",
     "output_type": "stream",
     "text": [
      "With OlympicDistance\n",
      "Precision: 0.4666666666666667\n",
      "Recall: 0.4224137931034483\n",
      "AUC: 0.5282003606040118\n",
      "{'criterion': 'entropy', 'max_depth': 200, 'n_estimators': 100}\n"
     ]
    }
   ],
   "source": [
    "rf_clf.fit(X_train, y_train)\n",
    "rf_pred = cross_val_predict(rf_clf, X_train, y_train, cv=3)\n",
    "\n",
    "print('With OlympicDistance')\n",
    "print('Precision:', precision_score(y_train, rf_pred))\n",
    "print('Recall:', recall_score(y_train, rf_pred))\n",
    "print('AUC:', roc_auc_score(y_train, rf_pred))\n",
    "print(rf_clf.best_params_)"
   ]
  },
  {
   "cell_type": "code",
   "execution_count": 202,
   "metadata": {
    "colab": {
     "base_uri": "https://localhost:8080/",
     "height": 316
    },
    "colab_type": "code",
    "executionInfo": {
     "elapsed": 672,
     "status": "ok",
     "timestamp": 1595177060017,
     "user": {
      "displayName": "Shizhuo Duan",
      "photoUrl": "",
      "userId": "01138831068342321117"
     },
     "user_tz": 240
    },
    "id": "JpRM2eYO5RGs",
    "outputId": "6820a216-a284-4cb3-a159-ea9db567c2be"
   },
   "outputs": [
    {
     "name": "stdout",
     "output_type": "stream",
     "text": [
      "No Skill: ROC AUC=0.500\n",
      "Logistic: ROC AUC=0.613\n"
     ]
    },
    {
     "data": {
      "image/png": "[encoded data removed]",
      "text/plain": [
       "<Figure size 432x288 with 1 Axes>"
      ]
     },
     "metadata": {
      "needs_background": "light",
      "tags": []
     },
     "output_type": "display_data"
    }
   ],
   "source": [
    "ns_probs = [0 for _ in range(len(y_test))]\n",
    "final_rf = RandomForestClassifier(criterion='gini', max_depth=200, n_estimators=100)\n",
    "final_rf.fit(X_train, y_train)\n",
    "rf_probs = final_rf.predict_proba(X_test)\n",
    "rf_probs = rf_probs[:, 1]\n",
    "\n",
    "# calcualte scores\n",
    "ns_auc = roc_auc_score(y_test, ns_probs)\n",
    "rf_auc = roc_auc_score(y_test, rf_probs)\n",
    "# summarize scores\n",
    "print('No Skill: ROC AUC=%.3f' % (ns_auc))\n",
    "print('Logistic: ROC AUC=%.3f' % (rf_auc))\n",
    "# calculate roc curves\n",
    "ns_fpr, ns_tpr, _ = roc_curve(y_test, ns_probs)\n",
    "rf_fpr, rf_tpr, _ = roc_curve(y_test, rf_probs)\n",
    "# plot the roc curve for the model\n",
    "pyplot.plot(ns_fpr, ns_tpr, linestyle='--', label='No Skill')\n",
    "pyplot.plot(rf_fpr, rf_tpr, marker='.', label='Random Forest')\n",
    "# axis labels\n",
    "pyplot.xlabel('False Positive Rate')\n",
    "pyplot.ylabel('True Positive Rate')\n",
    "# show the legend\n",
    "pyplot.legend()\n",
    "# show the plot\n",
    "pyplot.show()"
   ]
  },
  {
   "cell_type": "markdown",
   "metadata": {
    "colab_type": "text",
    "id": "BqueQbup22-M"
   },
   "source": [
    "## SVM"
   ]
  },
  {
   "cell_type": "code",
   "execution_count": 203,
   "metadata": {
    "colab": {},
    "colab_type": "code",
    "executionInfo": {
     "elapsed": 379,
     "status": "ok",
     "timestamp": 1595177076326,
     "user": {
      "displayName": "Shizhuo Duan",
      "photoUrl": "",
      "userId": "01138831068342321117"
     },
     "user_tz": 240
    },
    "id": "e4wxM03KwrdK"
   },
   "outputs": [],
   "source": [
    "svm_params = {\n",
    "    'C': [0.25, 0.5, 0.75, 1, 1.25, 1.5],\n",
    "    'kernel': ['linear', 'rbf', 'sigmoid'],\n",
    "}\n",
    "\n",
    "svm_clf = GridSearchCV(SVC(), svm_params, scoring='roc_auc', n_jobs=-1, cv=3)"
   ]
  },
  {
   "cell_type": "code",
   "execution_count": 204,
   "metadata": {
    "colab": {
     "base_uri": "https://localhost:8080/",
     "height": 109
    },
    "colab_type": "code",
    "executionInfo": {
     "elapsed": 1058,
     "status": "ok",
     "timestamp": 1595177093524,
     "user": {
      "displayName": "Shizhuo Duan",
      "photoUrl": "",
      "userId": "01138831068342321117"
     },
     "user_tz": 240
    },
    "id": "0HG5xXJHxFKQ",
    "outputId": "e0f63724-d02f-4445-d17c-0026d3813832"
   },
   "outputs": [
    {
     "name": "stdout",
     "output_type": "stream",
     "text": [
      "With OlympicDistance\n",
      "Precision: 0.5492957746478874\n",
      "Recall: 0.33620689655172414\n",
      "AUC: 0.5635282848771692\n",
      "{'C': 0.75, 'kernel': 'linear'}\n"
     ]
    }
   ],
   "source": [
    "svm_clf.fit(X_train, y_train)\n",
    "svm_pred = cross_val_predict(SVC(), X_train, y_train, cv=3)\n",
    "\n",
    "print('With OlympicDistance')\n",
    "print('Precision:', precision_score(y_train, svm_pred))\n",
    "print('Recall:', recall_score(y_train, svm_pred))\n",
    "print('AUC:', roc_auc_score(y_train, svm_pred))\n",
    "print(svm_clf.best_params_)"
   ]
  },
  {
   "cell_type": "code",
   "execution_count": 211,
   "metadata": {
    "colab": {
     "base_uri": "https://localhost:8080/",
     "height": 316
    },
    "colab_type": "code",
    "executionInfo": {
     "elapsed": 741,
     "status": "ok",
     "timestamp": 1595177234079,
     "user": {
      "displayName": "Shizhuo Duan",
      "photoUrl": "",
      "userId": "01138831068342321117"
     },
     "user_tz": 240
    },
    "id": "KePhkDfE9waG",
    "outputId": "276750e9-0358-4c35-b29d-73546d0a5118"
   },
   "outputs": [
    {
     "name": "stdout",
     "output_type": "stream",
     "text": [
      "No Skill: ROC AUC=0.500\n",
      "SVM: ROC AUC=0.614\n"
     ]
    },
    {
     "data": {
      "image/png": "[encoded data removed]",
      "text/plain": [
       "<Figure size 432x288 with 1 Axes>"
      ]
     },
     "metadata": {
      "needs_background": "light",
      "tags": []
     },
     "output_type": "display_data"
    }
   ],
   "source": [
    "ns_probs = [0 for _ in range(len(y_test))]\n",
    "final_svm = SVC(C=0.75, kernel='linear', probability=True)\n",
    "final_svm.fit(X_train, y_train)\n",
    "svm_probs = final_svm.predict_proba(X_test)\n",
    "svm_probs = svm_probs[:, 1]\n",
    "\n",
    "# calcualte scores\n",
    "ns_auc = roc_auc_score(y_test, ns_probs)\n",
    "svm_auc = roc_auc_score(y_test, svm_probs)\n",
    "# summarize scores\n",
    "print('No Skill: ROC AUC=%.3f' % (ns_auc))\n",
    "print('SVM: ROC AUC=%.3f' % (svm_auc))\n",
    "# calculate roc curves\n",
    "ns_fpr, ns_tpr, _ = roc_curve(y_test, ns_probs)\n",
    "svm_fpr, svm_tpr, _ = roc_curve(y_test, svm_probs)\n",
    "# plot the roc curve for the model\n",
    "pyplot.plot(ns_fpr, ns_tpr, linestyle='--', label='No Skill')\n",
    "pyplot.plot(svm_fpr, svm_tpr, marker='.', label='SVM')\n",
    "# axis labels\n",
    "pyplot.xlabel('False Positive Rate')\n",
    "pyplot.ylabel('True Positive Rate')\n",
    "# show the legend\n",
    "pyplot.legend()\n",
    "# show the plot\n",
    "pyplot.show()"
   ]
  },
  {
   "cell_type": "markdown",
   "metadata": {
    "colab_type": "text",
    "id": "SYenfZ_--Jk6"
   },
   "source": [
    "## Gradient Boosted Tree"
   ]
  },
  {
   "cell_type": "code",
   "execution_count": 40,
   "metadata": {
    "colab": {},
    "colab_type": "code",
    "executionInfo": {
     "elapsed": 370,
     "status": "ok",
     "timestamp": 1595173518992,
     "user": {
      "displayName": "Shizhuo Duan",
      "photoUrl": "",
      "userId": "01138831068342321117"
     },
     "user_tz": 240
    },
    "id": "VB3MEfrN4SN-"
   },
   "outputs": [],
   "source": [
    "grad_boost_params = {\n",
    "    'learning_rate': [0.25, 0.05, 0.75, 0.1],\n",
    "    'n_estimators': [100, 200, 300, 400],\n",
    "    'criterion': ['friedman_mse', 'mse', 'mae']\n",
    "}\n",
    "\n",
    "grad_boost_clf = GridSearchCV(GradientBoostingClassifier(), grad_boost_params, scoring='roc_auc', n_jobs=-1, cv=3)"
   ]
  },
  {
   "cell_type": "code",
   "execution_count": 41,
   "metadata": {
    "colab": {
     "base_uri": "https://localhost:8080/",
     "height": 90
    },
    "colab_type": "code",
    "executionInfo": {
     "elapsed": 109974,
     "status": "ok",
     "timestamp": 1595173629671,
     "user": {
      "displayName": "Shizhuo Duan",
      "photoUrl": "",
      "userId": "01138831068342321117"
     },
     "user_tz": 240
    },
    "id": "BIQi0J--4fkA",
    "outputId": "ace97daa-69f7-460d-d5f6-eb96a5b19ff6"
   },
   "outputs": [
    {
     "name": "stdout",
     "output_type": "stream",
     "text": [
      "Precision: 0.47794117647058826\n",
      "Recall: 0.42483660130718953\n",
      "AUC: 0.5400882035662161\n",
      "{'criterion': 'mse', 'learning_rate': 0.05, 'n_estimators': 100}\n"
     ]
    }
   ],
   "source": [
    "grad_boost_clf.fit(X, y)\n",
    "grad_boost_pred = cross_val_predict(grad_boost_clf, X, y, cv=3)\n",
    "\n",
    "print('Precision:', precision_score(y, grad_boost_pred))\n",
    "print('Recall:', recall_score(y, grad_boost_pred))\n",
    "print('AUC:', roc_auc_score(y, grad_boost_pred))\n",
    "print(grad_boost_clf.best_params_)"
   ]
  },
  {
   "cell_type": "code",
   "execution_count": 42,
   "metadata": {
    "colab": {
     "base_uri": "https://localhost:8080/",
     "height": 90
    },
    "colab_type": "code",
    "executionInfo": {
     "elapsed": 561,
     "status": "ok",
     "timestamp": 1595173647377,
     "user": {
      "displayName": "Shizhuo Duan",
      "photoUrl": "",
      "userId": "01138831068342321117"
     },
     "user_tz": 240
    },
    "id": "lXGVvxJbwg6i",
    "outputId": "a0535218-2d11-4ed4-ec3d-3225e6e018ed"
   },
   "outputs": [
    {
     "name": "stdout",
     "output_type": "stream",
     "text": [
      "Precision: 0.488\n",
      "Recall: 0.39869281045751637\n",
      "AUC: 0.5440065994035155\n",
      "{'criterion': 'mse', 'learning_rate': 0.05, 'n_estimators': 100}\n"
     ]
    }
   ],
   "source": [
    "grad_boost_pred = cross_val_predict(GradientBoostingClassifier(), X, y, cv=3)\n",
    "\n",
    "print('Precision:', precision_score(y, grad_boost_pred))\n",
    "print('Recall:', recall_score(y, grad_boost_pred))\n",
    "print('AUC:', roc_auc_score(y, grad_boost_pred))\n",
    "print(grad_boost_clf.best_params_)"
   ]
  },
  {
   "cell_type": "markdown",
   "metadata": {
    "colab_type": "text",
    "id": "XckyaYcO_HmW"
   },
   "source": [
    "Ada-Boosted Tree"
   ]
  },
  {
   "cell_type": "code",
   "execution_count": 114,
   "metadata": {
    "colab": {},
    "colab_type": "code",
    "executionInfo": {
     "elapsed": 845,
     "status": "ok",
     "timestamp": 1595144657805,
     "user": {
      "displayName": "Shizhuo Duan",
      "photoUrl": "",
      "userId": "01138831068342321117"
     },
     "user_tz": 240
    },
    "id": "KnRIPjIv_HPh"
   },
   "outputs": [],
   "source": [
    "# {'criterion': 'entropy', 'max_depth': 100, 'n_estimators': 150}\n",
    "# {'C': 0.75, 'gamma': 'scale', 'kernel': 'rbf'}\n",
    "ada_boost_params = {\n",
    "    'base_estimator': [RandomForestClassifier(criterion='entropy', max_depth=100, n_estimators=150),\n",
    "                       SVC(C=0.75, gamma='scale', kernel='rbf')],\n",
    "    'n_estimators': [50, 100, 150, 200]\n",
    "}\n",
    "\n",
    "ada_boost_clf = GridSearchCV(AdaBoostClassifier(), ada_boost_params, scoring='roc_auc', n_jobs=-1, cv=3)"
   ]
  },
  {
   "cell_type": "code",
   "execution_count": 115,
   "metadata": {
    "colab": {
     "base_uri": "https://localhost:8080/",
     "height": 219
    },
    "colab_type": "code",
    "executionInfo": {
     "elapsed": 11551,
     "status": "ok",
     "timestamp": 1595144670599,
     "user": {
      "displayName": "Shizhuo Duan",
      "photoUrl": "",
      "userId": "01138831068342321117"
     },
     "user_tz": 240
    },
    "id": "TIp8Ffxf_EKN",
    "outputId": "d97773bc-99ea-4981-c746-1bd3e732626d"
   },
   "outputs": [
    {
     "name": "stdout",
     "output_type": "stream",
     "text": [
      "Precision: 0.5042735042735043\n",
      "Recall: 0.38562091503267976\n",
      "AUC: 0.5520337584872136\n",
      "{'base_estimator': RandomForestClassifier(bootstrap=True, ccp_alpha=0.0, class_weight=None,\n",
      "                       criterion='entropy', max_depth=100, max_features='auto',\n",
      "                       max_leaf_nodes=None, max_samples=None,\n",
      "                       min_impurity_decrease=0.0, min_impurity_split=None,\n",
      "                       min_samples_leaf=1, min_samples_split=2,\n",
      "                       min_weight_fraction_leaf=0.0, n_estimators=150,\n",
      "                       n_jobs=None, oob_score=False, random_state=None,\n",
      "                       verbose=0, warm_start=False), 'n_estimators': 50}\n"
     ]
    }
   ],
   "source": [
    "ada_boost_clf.fit(X, y)\n",
    "ada_boost_pred = cross_val_predict(ada_boost_clf, X, y, cv=3)\n",
    "\n",
    "print('Precision:', precision_score(y, ada_boost_pred))\n",
    "print('Recall:', recall_score(y, ada_boost_pred))\n",
    "print('AUC:', roc_auc_score(y, ada_boost_pred))\n",
    "print(ada_boost_clf.best_params_)"
   ]
  },
  {
   "cell_type": "code",
   "execution_count": 44,
   "metadata": {
    "colab": {
     "base_uri": "https://localhost:8080/",
     "height": 72
    },
    "colab_type": "code",
    "executionInfo": {
     "elapsed": 938,
     "status": "ok",
     "timestamp": 1595173700177,
     "user": {
      "displayName": "Shizhuo Duan",
      "photoUrl": "",
      "userId": "01138831068342321117"
     },
     "user_tz": 240
    },
    "id": "6hc9nVeBwogR",
    "outputId": "c246b89f-7481-4e1f-b277-aa57c5becbd3"
   },
   "outputs": [
    {
     "name": "stdout",
     "output_type": "stream",
     "text": [
      "Precision: 0.5178571428571429\n",
      "Recall: 0.3790849673202614\n",
      "AUC: 0.5584745224950821\n"
     ]
    }
   ],
   "source": [
    "ada_boost_pred = cross_val_predict(AdaBoostClassifier(base_estimator=RandomForestClassifier()), X, y, cv=3)\n",
    "\n",
    "print('Precision:', precision_score(y, ada_boost_pred))\n",
    "print('Recall:', recall_score(y, ada_boost_pred))\n",
    "print('AUC:', roc_auc_score(y, ada_boost_pred))\n",
    "# print(ada_boost_clf.best_params_)"
   ]
  },
  {
   "cell_type": "markdown",
   "metadata": {
    "colab_type": "text",
    "id": "Y0zAF3MgCMNl"
   },
   "source": [
    "## Voting Classifier"
   ]
  },
  {
   "cell_type": "code",
   "execution_count": null,
   "metadata": {
    "colab": {},
    "colab_type": "code",
    "id": "YF7p-uU7Ad3j"
   },
   "outputs": [],
   "source": [
    "voting_classifier_clf = VotingClassifier(estimators=[\n",
    "                                                     ('svm', svm_clf), ('lr', logistic_clf), ('rf', rf_clf),\n",
    "], voting='hard')\n",
    "\n",
    "voting_classifier_clf.fit(X_train, y_train)\n",
    "voting_pred = cross_val_predict(voting_classifier_clf, X_train, y_train, cv=3)\n",
    "print('Precision:', precision_score(y_train, voting_pred))\n",
    "print('Recall:', recall_score(y_train, voting_pred))\n",
    "print('AUC:', roc_auc_score(y_train, voting_pred))"
   ]
  },
  {
   "cell_type": "code",
   "execution_count": 213,
   "metadata": {
    "colab": {
     "base_uri": "https://localhost:8080/",
     "height": 316
    },
    "colab_type": "code",
    "executionInfo": {
     "elapsed": 690,
     "status": "ok",
     "timestamp": 1595177515847,
     "user": {
      "displayName": "Shizhuo Duan",
      "photoUrl": "",
      "userId": "01138831068342321117"
     },
     "user_tz": 240
    },
    "id": "Pld67kaJCp7u",
    "outputId": "4b6ad848-3410-400e-c330-425af86b7699"
   },
   "outputs": [
    {
     "name": "stdout",
     "output_type": "stream",
     "text": [
      "No Skill: ROC AUC=0.500\n",
      "Voting: ROC AUC=0.626\n"
     ]
    },
    {
     "data": {
      "image/png": "[encoded data removed]",
      "text/plain": [
       "<Figure size 432x288 with 1 Axes>"
      ]
     },
     "metadata": {
      "needs_background": "light",
      "tags": []
     },
     "output_type": "display_data"
    }
   ],
   "source": [
    "ns_probs = [0 for _ in range(len(y_test))]\n",
    "\n",
    "svm_clf = SVC(C=0.75, kernel='linear', probability=True)\n",
    "logistic_clf = LogisticRegression(C=1.5, penalty='l2')\n",
    "rf_clf = RandomForestClassifier(criterion='gini', max_depth=200, n_estimators=100)\n",
    "\n",
    "voting = VotingClassifier(estimators=[\n",
    "  ('svm', svm_clf), ('lr', logistic_clf), ('rf', rf_clf),\n",
    "], voting='soft')\n",
    "voting.fit(X_train, y_train)\n",
    "voting_probs = voting.predict_proba(X_test)\n",
    "voting_probs = voting_probs[:, 1]\n",
    "\n",
    "# calcualte scores\n",
    "ns_auc = roc_auc_score(y_test, ns_probs)\n",
    "voting_auc = roc_auc_score(y_test, voting_probs)\n",
    "# summarize scores\n",
    "print('No Skill: ROC AUC=%.3f' % (ns_auc))\n",
    "print('Voting: ROC AUC=%.3f' % (voting_auc))\n",
    "# calculate roc curves\n",
    "ns_fpr, ns_tpr, _ = roc_curve(y_test, ns_probs)\n",
    "voting_fpr, voting_tpr, _ = roc_curve(y_test, voting_probs)\n",
    "# plot the roc curve for the model\n",
    "pyplot.plot(ns_fpr, ns_tpr, linestyle='--', label='No Skill')\n",
    "pyplot.plot(voting_fpr, voting_tpr, marker='.', label='Voting Classifier')\n",
    "# axis labels\n",
    "pyplot.xlabel('False Positive Rate')\n",
    "pyplot.ylabel('True Positive Rate')\n",
    "# show the legend\n",
    "pyplot.legend()\n",
    "# show the plot\n",
    "pyplot.show()"
   ]
  },
  {
   "cell_type": "code",
   "execution_count": 223,
   "metadata": {
    "colab": {
     "base_uri": "https://localhost:8080/",
     "height": 295
    },
    "colab_type": "code",
    "executionInfo": {
     "elapsed": 754,
     "status": "ok",
     "timestamp": 1595178910343,
     "user": {
      "displayName": "Shizhuo Duan",
      "photoUrl": "",
      "userId": "01138831068342321117"
     },
     "user_tz": 240
    },
    "id": "r9jelcaK_TgD",
    "outputId": "7d84c87b-192c-450e-ea9a-9b578a707b1b"
   },
   "outputs": [
    {
     "data": {
      "image/png": "[encoded data removed]",
      "text/plain": [
       "<Figure size 432x288 with 1 Axes>"
      ]
     },
     "metadata": {
      "needs_background": "light",
      "tags": []
     },
     "output_type": "display_data"
    }
   ],
   "source": [
    "pyplot.plot(ns_fpr, ns_tpr, linestyle='--', label='No Skill')\n",
    "pyplot.plot(voting_fpr, voting_tpr, marker='.', label='Voting Classifier')\n",
    "pyplot.plot(lr_fpr, lr_tpr, marker='x', label='Logistic Regression')\n",
    "pyplot.plot(rf_fpr, rf_tpr, marker='o', label='Random Forest')\n",
    "pyplot.plot(svm_fpr, svm_tpr, marker='^', label='SVM')\n",
    "# axis labels\n",
    "pyplot.xlabel('False Positive Rate')\n",
    "pyplot.ylabel('True Positive Rate')\n",
    "pyplot.title('AUC Scores')\n",
    "# show the legend\n",
    "pyplot.legend()\n",
    "# show the plot\n",
    "pyplot.show()"
   ]
  },
  {
   "cell_type": "code",
   "execution_count": 235,
   "metadata": {
    "colab": {
     "base_uri": "https://localhost:8080/",
     "height": 146
    },
    "colab_type": "code",
    "executionInfo": {
     "elapsed": 529,
     "status": "ok",
     "timestamp": 1595179372490,
     "user": {
      "displayName": "Shizhuo Duan",
      "photoUrl": "",
      "userId": "01138831068342321117"
     },
     "user_tz": 240
    },
    "id": "ugI0A1gaCfjw",
    "outputId": "1954348c-8d0b-4819-f447-3d17447c36cf"
   },
   "outputs": [
    {
     "name": "stdout",
     "output_type": "stream",
     "text": [
      "====== Test AUC Scores ======\n",
      "No Skill: \t\t0.500\n",
      "-----------------------------\n",
      "SVM: \t\t\t0.614\n",
      "Random Forest: \t\t0.613\n",
      "Logistic: \t\t0.594\n",
      "Voting: \t\t0.626\n"
     ]
    }
   ],
   "source": [
    "print(\"====== Test AUC Scores ======\")\n",
    "print('No Skill: \\t\\t%.3f' % (ns_auc))\n",
    "print(\"-----------------------------\")\n",
    "print('SVM: \\t\\t\\t%.3f' % (svm_auc))\n",
    "print('Random Forest: \\t\\t%.3f' % (rf_auc))\n",
    "print('Logistic: \\t\\t%.3f' % (lr_auc))\n",
    "print('Voting: \\t\\t%.3f' % (voting_auc))"
   ]
  },
  {
   "cell_type": "code",
   "execution_count": 236,
   "metadata": {
    "colab": {
     "base_uri": "https://localhost:8080/",
     "height": 164
    },
    "colab_type": "code",
    "executionInfo": {
     "elapsed": 705,
     "status": "ok",
     "timestamp": 1595186027904,
     "user": {
      "displayName": "Shizhuo Duan",
      "photoUrl": "",
      "userId": "01138831068342321117"
     },
     "user_tz": 240
    },
    "id": "nu4xW0C7Fgpf",
    "outputId": "9c7c832e-bfd8-4930-94b8-1c81c51ea5c7"
   },
   "outputs": [
    {
     "data": {
      "text/plain": [
       "ExtraTreesClassifier(bootstrap=False, ccp_alpha=0.0, class_weight=None,\n",
       "                     criterion='gini', max_depth=None, max_features='auto',\n",
       "                     max_leaf_nodes=None, max_samples=None,\n",
       "                     min_impurity_decrease=0.0, min_impurity_split=None,\n",
       "                     min_samples_leaf=1, min_samples_split=2,\n",
       "                     min_weight_fraction_leaf=0.0, n_estimators=250,\n",
       "                     n_jobs=None, oob_score=False, random_state=0, verbose=0,\n",
       "                     warm_start=False)"
      ]
     },
     "execution_count": 236,
     "metadata": {
      "tags": []
     },
     "output_type": "execute_result"
    }
   ],
   "source": [
    "from sklearn.ensemble import ExtraTreesClassifier\n",
    "\n",
    "forest = ExtraTreesClassifier(n_estimators=250,\n",
    "                              random_state=0)\n",
    "\n",
    "forest.fit(X_train, y_train)"
   ]
  },
  {
   "cell_type": "code",
   "execution_count": 249,
   "metadata": {
    "colab": {
     "base_uri": "https://localhost:8080/",
     "height": 474
    },
    "colab_type": "code",
    "executionInfo": {
     "elapsed": 630,
     "status": "ok",
     "timestamp": 1595186555093,
     "user": {
      "displayName": "Shizhuo Duan",
      "photoUrl": "",
      "userId": "01138831068342321117"
     },
     "user_tz": 240
    },
    "id": "0hmcrfSkfxo-",
    "outputId": "9f001b63-345c-4165-b5d0-3ff52f69764f"
   },
   "outputs": [
    {
     "data": {
      "text/plain": [
       "<matplotlib.axes._subplots.AxesSubplot at 0x7f935b67e1d0>"
      ]
     },
     "execution_count": 249,
     "metadata": {
      "tags": []
     },
     "output_type": "execute_result"
    },
    {
     "data": {
      "image/png": "[encoded data removed]",
      "text/plain": [
       "<Figure size 432x432 with 1 Axes>"
      ]
     },
     "metadata": {
      "needs_background": "light",
      "tags": []
     },
     "output_type": "display_data"
    }
   ],
   "source": [
    "feats = {} # a dict to hold feature_name: feature_importance\n",
    "for feature, importance in zip(X_train.columns, final_rf.feature_importances_):\n",
    "    feats[feature] = importance #add the name/value pair \n",
    "\n",
    "importances = pd.DataFrame.from_dict(feats, orient='index').rename(columns={0: 'Gini-importance'})\n",
    "importances.sort_values(by='Gini-importance', ascending=False).plot(kind='bar', color='red', rot=45, figsize=(6,6), title='Feature Importance')\n"
   ]
  },
  {
   "cell_type": "code",
   "execution_count": null,
   "metadata": {
    "colab": {},
    "colab_type": "code",
    "id": "cLUak6SBf0re"
   },
   "outputs": [],
   "source": []
  }
 ],
 "metadata": {
  "colab": {
   "authorship_tag": "ABX9TyPJi/tYR8nNNiZZ5ZAvszGQ",
   "collapsed_sections": [
    "SYenfZ_--Jk6"
   ],
   "name": "feature_selection.ipynb",
   "provenance": []
  },
  "kernelspec": {
   "display_name": "Python 3",
   "language": "python",
   "name": "python3"
  },
  "language_info": {
   "codemirror_mode": {
    "name": "ipython",
    "version": 3
   },
   "file_extension": ".py",
   "mimetype": "text/x-python",
   "name": "python",
   "nbconvert_exporter": "python",
   "pygments_lexer": "ipython3",
   "version": "3.6.3"
  }
 },
 "nbformat": 4,
 "nbformat_minor": 1
}
